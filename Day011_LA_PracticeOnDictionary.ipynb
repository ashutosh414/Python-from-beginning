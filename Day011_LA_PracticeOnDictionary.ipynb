{
 "cells": [
  {
   "cell_type": "code",
   "execution_count": 10,
   "metadata": {},
   "outputs": [
    {
     "name": "stdout",
     "output_type": "stream",
     "text": [
      "NOT Valid Parentasis\n"
     ]
    }
   ],
   "source": [
    "data='[]((((})))){}'\n",
    "flag=1\n",
    "my_dict=my_dict = {')':'(',']':'[','}':'{'}\n",
    "\n",
    "stack=[]\n",
    "\n",
    "for element in data:\n",
    "    if element in my_dict.values():\n",
    "        stack.append(element)\n",
    "        \n",
    "    elif element in my_dict and stack:\n",
    "\n",
    "        if my_dict[element]!=stack[-1]:\n",
    "            flag=0\n",
    "            break\n",
    "        stack.pop()\n",
    "    else:\n",
    "        flag=0\n",
    "        break\n",
    "\n",
    "if flag and not stack:\n",
    "    print('Valid Parentasis')\n",
    "else:\n",
    "    print('NOT Valid Parentasis')"
   ]
  },
  {
   "cell_type": "code",
   "execution_count": 14,
   "metadata": {},
   "outputs": [
    {
     "name": "stdout",
     "output_type": "stream",
     "text": [
      "MCCCXLV\n"
     ]
    }
   ],
   "source": [
    "# https://leetcode.com/problems/integer-to-roman/description/\n",
    "# 12. Integer to Roman\n",
    "class Solution:\n",
    "    def intToRoman(self, num: int) -> str:\n",
    "        r_map = {1:'I', 4:'IV', 5:'V', 9:'IX', 10:'X', 40:'XL', 50:'L', 90:'XC', 100:'C', 400:'CD', 500:'D', 900:'CM', 1000:'M'}\n",
    "        pairs = list(r_map.items())\n",
    "        i=1\n",
    "        s=''\n",
    "        while(num>0):\n",
    "            n,c=pairs[-1*i]\n",
    "            if num>=n:\n",
    "                num-=n\n",
    "                s+=c\n",
    "            else:\n",
    "                i+=1\n",
    "        return s\n",
    "s=Solution()\n",
    "print(s.intToRoman(1345))"
   ]
  },
  {
   "cell_type": "markdown",
   "metadata": {},
   "source": [
    "<pre>\n",
    "<h3>\n",
    "Dictionary comprehension is a concise way to create dictionaries in Python using a single line of code.\n",
    "It follows a similar syntax to list comprehension but instead of creating lists, it creates dictionaries.\n",
    "</h3>\n",
    "<h1>{key_expression: value_expression for item in iterable}\n",
    "</h1>\n",
    "<h3>\n",
    "# key_expression: Expression for the key.\n",
    "# value_expression: Expression for the value.\n",
    "# iterable: Any iterable (like a list, tuple, or range) that we loop over.\n",
    "</h3>\n",
    "</pre>"
   ]
  },
  {
   "cell_type": "code",
   "execution_count": 17,
   "metadata": {},
   "outputs": [
    {
     "name": "stdout",
     "output_type": "stream",
     "text": [
      "{2: 4, 4: 16, 6: 36, 8: 64}\n"
     ]
    }
   ],
   "source": [
    "squares = {x: x**2 for x in range(1, 10) if x%2==0}\n",
    "print(squares)"
   ]
  }
 ],
 "metadata": {
  "kernelspec": {
   "display_name": "Python 3",
   "language": "python",
   "name": "python3"
  },
  "language_info": {
   "codemirror_mode": {
    "name": "ipython",
    "version": 3
   },
   "file_extension": ".py",
   "mimetype": "text/x-python",
   "name": "python",
   "nbconvert_exporter": "python",
   "pygments_lexer": "ipython3",
   "version": "3.13.1"
  }
 },
 "nbformat": 4,
 "nbformat_minor": 2
}
