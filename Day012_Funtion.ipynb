{
 "cells": [
  {
   "cell_type": "code",
   "execution_count": 1,
   "metadata": {},
   "outputs": [
    {
     "name": "stdout",
     "output_type": "stream",
     "text": [
      "hey Ashutosh\n",
      "hey Hari\n"
     ]
    }
   ],
   "source": [
    "def uservalue(data): #parameter /formal argument\n",
    "    print(f'hey {data}')\n",
    "uservalue('Ashutosh') # Argument / Formal Parameter\n",
    "uservalue('Hari')\n"
   ]
  },
  {
   "cell_type": "code",
   "execution_count": 4,
   "metadata": {},
   "outputs": [
    {
     "name": "stdout",
     "output_type": "stream",
     "text": [
      "1502524818832\n",
      "Funtion inside 1502524818832 600\n",
      "Funtion inside 1502524818704 601\n",
      "Funtion inside 1502524818832 600\n"
     ]
    }
   ],
   "source": [
    "def func(num):\n",
    "    print('Funtion inside',id(num),num)\n",
    "    num1=num+1\n",
    "    print('Funtion inside',id(num1),num1)\n",
    "    num1=num\n",
    "    print('Funtion inside',id(num1),num1)\n",
    "\n",
    "num=600\n",
    "print(id(num))\n",
    "func(num)"
   ]
  },
  {
   "cell_type": "markdown",
   "metadata": {},
   "source": [
    "Type of Argument Passing\n"
   ]
  },
  {
   "cell_type": "code",
   "execution_count": 7,
   "metadata": {},
   "outputs": [
    {
     "name": "stdout",
     "output_type": "stream",
     "text": [
      "x : 10 , y : 20 , z : 30\n"
     ]
    }
   ],
   "source": [
    "# Position argument\n",
    "def func(x,y,z):\n",
    "    print(f'x : {x} , y : {y} , z : {z}')\n",
    "    \n",
    "func(10,20,30)\n",
    "#there should same arguent passing as the same parameter are present in the funtion\n",
    "#Position argument :- Based on the position the value will be passed to the varibale of the funtion\n",
    "#   Ex. in above example 10 will be passed to x,\n",
    "#  20 will be assign to y and\n",
    "#  30 will be for z"
   ]
  },
  {
   "cell_type": "code",
   "execution_count": 12,
   "metadata": {},
   "outputs": [
    {
     "name": "stdout",
     "output_type": "stream",
     "text": [
      "x : 20 , y : 30 , z : 10\n",
      "x : 10 , y : 30 , z : 20\n"
     ]
    }
   ],
   "source": [
    "# Keyword Argument\n",
    "def func(x,y,z):\n",
    "    print(f'x : {x} , y : {y} , z : {z}')\n",
    "    \n",
    "func(z=10,x=20,y=30) # Keyword Argument\n",
    "func(10,z=20,y=30) # Position argument with keyword Argument \n",
    "#there should same arguent passing as the same parameter are present in the funtion\n",
    "# keyword Argument -> in this will be define that which argument value/variable should be given to which parameter variable."
   ]
  },
  {
   "cell_type": "code",
   "execution_count": 13,
   "metadata": {},
   "outputs": [
    {
     "name": "stdout",
     "output_type": "stream",
     "text": [
      "x : 20 , y : 30 , z : abc\n",
      "x : 20 , y : 30 , z : xyz\n"
     ]
    }
   ],
   "source": [
    "# Default Argument\n",
    "def func(x,y,z='abc'):\n",
    "    print(f'x : {x} , y : {y} , z : {z}')\n",
    "    \n",
    "func(20,30) #default argument\n",
    "func(20,30,'xyz')"
   ]
  },
  {
   "cell_type": "code",
   "execution_count": 20,
   "metadata": {},
   "outputs": [
    {
     "name": "stdout",
     "output_type": "stream",
     "text": [
      "2 prime\n",
      "3 prime\n",
      "4 Not prime\n",
      "5 prime\n",
      "6 Not prime\n",
      "7 prime\n",
      "8 Not prime\n",
      "9 Not prime\n"
     ]
    }
   ],
   "source": [
    "def prime(x):\n",
    "    flag=0\n",
    "    for i in range(2,x):\n",
    "        if x%i==0:\n",
    "            flag=1\n",
    "            break\n",
    "    if not flag:\n",
    "        print(x,'prime')\n",
    "    else:\n",
    "        print(x,'Not prime')\n",
    "\n",
    "for i in range(2,10):\n",
    "    y=i\n",
    "    prime(y)"
   ]
  },
  {
   "cell_type": "code",
   "execution_count": 43,
   "metadata": {},
   "outputs": [
    {
     "name": "stdout",
     "output_type": "stream",
     "text": [
      "20 value of y \n"
     ]
    }
   ],
   "source": [
    "#return value\n",
    "\n",
    "def func(x):\n",
    "    x=x+10\n",
    "    return x\n",
    "\n",
    "y=func(10)\n",
    "print(y,'value of y ')"
   ]
  },
  {
   "cell_type": "code",
   "execution_count": 40,
   "metadata": {},
   "outputs": [
    {
     "name": "stdout",
     "output_type": "stream",
     "text": [
      "153 Armstrong Number\n",
      "370 Armstrong Number\n",
      "371 Armstrong Number\n",
      "407 Armstrong Number\n"
     ]
    }
   ],
   "source": [
    "def armstrong(num1):\n",
    "    num=num1\n",
    "    sum=0\n",
    "    while(num>0):\n",
    "        sum=sum+(num%10)**3\n",
    "        num//=10\n",
    "    # print(sum,num1)\n",
    "    return sum\n",
    "\n",
    "\n",
    "\n",
    "# num=123\n",
    "for i in range(100,1000):\n",
    "    output=armstrong(i)\n",
    "    if output==i :\n",
    "        print(i,'Armstrong Number')\n",
    "    # else:\n",
    "    #     print('Not armstrong Number')"
   ]
  },
  {
   "cell_type": "code",
   "execution_count": null,
   "metadata": {},
   "outputs": [],
   "source": [
    "# first class funtion vs High order funtion"
   ]
  },
  {
   "cell_type": "code",
   "execution_count": null,
   "metadata": {},
   "outputs": [],
   "source": []
  }
 ],
 "metadata": {
  "kernelspec": {
   "display_name": "Python 3",
   "language": "python",
   "name": "python3"
  },
  "language_info": {
   "codemirror_mode": {
    "name": "ipython",
    "version": 3
   },
   "file_extension": ".py",
   "mimetype": "text/x-python",
   "name": "python",
   "nbconvert_exporter": "python",
   "pygments_lexer": "ipython3",
   "version": "3.13.1"
  }
 },
 "nbformat": 4,
 "nbformat_minor": 2
}
