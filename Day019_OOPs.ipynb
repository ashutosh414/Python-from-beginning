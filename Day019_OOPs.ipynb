{
 "cells": [
  {
   "cell_type": "code",
   "execution_count": 3,
   "metadata": {},
   "outputs": [
    {
     "name": "stdout",
     "output_type": "stream",
     "text": [
      "Current date and time: 2025-02-07 17:10:15.571763\n"
     ]
    }
   ],
   "source": [
    "import datetime\n",
    "\n",
    "# Get current date and time\n",
    "current_datetime = datetime.datetime.now()\n",
    "\n",
    "print(\"Current date and time:\", current_datetime)"
   ]
  },
  {
   "cell_type": "markdown",
   "metadata": {},
   "source": [
    "Current date and time: 2025-02-07 17:10:15.571763"
   ]
  },
  {
   "cell_type": "markdown",
   "metadata": {},
   "source": [
    "<pre>\n",
    "<h2>Attributes</h2>\n",
    "<h4>Attributes are variables that holds data about the object.\n",
    "They are defined inside the class, and represent the property and state of an object.\n",
    "EX.\n",
    "self.name = name\n",
    "</h4>\n",
    "\n",
    "<h2>Method</h2>\n",
    "<h4>Methods are funtions defiend inside the class, that operates on the object attributes.\n",
    "They define the behaviour of an object.\n",
    "</h4>\n",
    "</pre>"
   ]
  },
  {
   "cell_type": "code",
   "execution_count": 7,
   "metadata": {},
   "outputs": [
    {
     "name": "stdout",
     "output_type": "stream",
     "text": [
      "12\n",
      "8\n",
      "20\n",
      "12\n"
     ]
    }
   ],
   "source": [
    "class Calculator():\n",
    "    def addi(self,num1,num2):\n",
    "        return num1 + num2\n",
    "    def subs(self,num1,num2):\n",
    "        return num1 - num2\n",
    "    def mult(self,num1,num2):\n",
    "        return num1 * num2\n",
    "    def divi(self,num1,num2):\n",
    "        if num2 != 0:\n",
    "            return num1 + num2\n",
    "        else:\n",
    "            return \"The Denominator is Zero!!\"\n",
    "\n",
    "c=Calculator()\n",
    "a=10\n",
    "b=2\n",
    "print(c.addi(a,b))\n",
    "print(c.subs(a,b))\n",
    "print(c.mult(a,b))\n",
    "print(c.divi(a,b))"
   ]
  },
  {
   "cell_type": "code",
   "execution_count": 8,
   "metadata": {},
   "outputs": [
    {
     "name": "stdout",
     "output_type": "stream",
     "text": [
      "1100\n",
      "900\n",
      "900\n",
      "1000\n",
      "1000\n"
     ]
    }
   ],
   "source": [
    "class bankAccount():\n",
    "    def __init__(self,name,balance):\n",
    "        self.name=name\n",
    "        self.balance=balance\n",
    "\n",
    "    def deposit(self,amount):\n",
    "        self.balance+=amount\n",
    "        return self.balance\n",
    "    \n",
    "    def withdraw(self,amount):\n",
    "        if self.balance >= amount:\n",
    "            self.balance-=amount\n",
    "            return self.balance\n",
    "        else:\n",
    "            return \"Insufficient Balance\"\n",
    "    \n",
    "    def checkBalance(self):\n",
    "        return self.balance\n",
    "\n",
    "b_a_c=bankAccount(\"Sachin\",1000)\n",
    "print(b_a_c.deposit(100))\n",
    "print(b_a_c.withdraw(200))\n",
    "print(b_a_c.checkBalance())\n",
    "print(b_a_c.deposit(100))\n",
    "print(b_a_c.checkBalance())\n"
   ]
  },
  {
   "cell_type": "code",
   "execution_count": 9,
   "metadata": {},
   "outputs": [
    {
     "name": "stdout",
     "output_type": "stream",
     "text": [
      "Name -> Ashutosh\n",
      "Age -> 20\n",
      "Marks -> 20\n",
      "Result ->  Fail\n"
     ]
    }
   ],
   "source": [
    "class Student():\n",
    "    def __init__(self,name,age,marks):\n",
    "        self.name=name\n",
    "        self.age=age\n",
    "        self.marks=marks\n",
    "    \n",
    "    def student_details(self):\n",
    "        print(f'Name -> {self.name}')\n",
    "        print(f'Age -> {self.age}')\n",
    "        print(f'Marks -> {self.marks}')\n",
    "    \n",
    "    def student_result(self):\n",
    "        if self.marks>=40:\n",
    "            return \"Pass\"\n",
    "        else:\n",
    "            return \"Fail\"\n",
    "\n",
    "s=Student('Ashutosh',20,20)\n",
    "s.student_details()\n",
    "print(\"Result -> \",s.student_result())\n"
   ]
  }
 ],
 "metadata": {
  "kernelspec": {
   "display_name": "Python 3",
   "language": "python",
   "name": "python3"
  },
  "language_info": {
   "codemirror_mode": {
    "name": "ipython",
    "version": 3
   },
   "file_extension": ".py",
   "mimetype": "text/x-python",
   "name": "python",
   "nbconvert_exporter": "python",
   "pygments_lexer": "ipython3",
   "version": "3.13.1"
  }
 },
 "nbformat": 4,
 "nbformat_minor": 2
}
