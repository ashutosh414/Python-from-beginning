{
 "cells": [
  {
   "cell_type": "code",
   "execution_count": 2,
   "metadata": {},
   "outputs": [
    {
     "name": "stdout",
     "output_type": "stream",
     "text": [
      "[4, 5, 5, 7, 8, 23]\n"
     ]
    }
   ],
   "source": [
    "# 4. Write a Python program to sort a list in ascending order without sort functions\n",
    "number=[4,23,7,5,8,5]\n",
    "li=len(number)\n",
    "pointer1=number[0]\n",
    "for i in range(li):\n",
    "    for j in range(i,li):\n",
    "        if number[i]>number[j]:\n",
    "            number[j],number[i]=number[i],number[j]\n",
    "print(number)"
   ]
  },
  {
   "cell_type": "code",
   "execution_count": 7,
   "metadata": {},
   "outputs": [
    {
     "ename": "TypeError",
     "evalue": "list indices must be integers or slices, not tuple",
     "output_type": "error",
     "traceback": [
      "\u001b[1;31m---------------------------------------------------------------------------\u001b[0m",
      "\u001b[1;31mTypeError\u001b[0m                                 Traceback (most recent call last)",
      "Cell \u001b[1;32mIn[7], line 2\u001b[0m\n\u001b[0;32m      1\u001b[0m numbers \u001b[38;5;241m=\u001b[39m [\u001b[38;5;241m1\u001b[39m, \u001b[38;5;241m2\u001b[39m, \u001b[38;5;241m2\u001b[39m, \u001b[38;5;241m3\u001b[39m, \u001b[38;5;241m4\u001b[39m, \u001b[38;5;241m4\u001b[39m, \u001b[38;5;241m5\u001b[39m]\n\u001b[1;32m----> 2\u001b[0m \u001b[38;5;28mprint\u001b[39m(\u001b[43mnumbers\u001b[49m\u001b[43m[\u001b[49m\u001b[38;5;241;43m-\u001b[39;49m\u001b[38;5;241;43m1\u001b[39;49m\u001b[38;5;241;43m*\u001b[39;49m\u001b[38;5;28;43mlen\u001b[39;49m\u001b[43m(\u001b[49m\u001b[43mnumbers\u001b[49m\u001b[43m)\u001b[49m\u001b[43m,\u001b[49m\u001b[38;5;241;43m-\u001b[39;49m\u001b[38;5;241;43m2\u001b[39;49m\u001b[43m,\u001b[49m\u001b[38;5;241;43m1\u001b[39;49m\u001b[43m]\u001b[49m)\n",
      "\u001b[1;31mTypeError\u001b[0m: list indices must be integers or slices, not tuple"
     ]
    }
   ],
   "source": [
    "numbers = [1, 2, 2, 3, 4, 4, 5]\n",
    "print(numbers[-1*len(numbers),-2,1])"
   ]
  },
  {
   "cell_type": "code",
   "execution_count": 8,
   "metadata": {},
   "outputs": [
    {
     "data": {
      "text/plain": [
       "[1, 2, 2, 3, 5, 7, 4, 4, 5]"
      ]
     },
     "execution_count": 8,
     "metadata": {},
     "output_type": "execute_result"
    }
   ],
   "source": [
    "numbers = [1, 2, 2, 3,5,7, 4, 4, 5]\n",
    "numbers[2:].remove(3)\n",
    "numbers"
   ]
  },
  {
   "cell_type": "code",
   "execution_count": null,
   "metadata": {},
   "outputs": [
    {
     "ename": "KeyboardInterrupt",
     "evalue": "",
     "output_type": "error",
     "traceback": [
      "\u001b[1;31m---------------------------------------------------------------------------\u001b[0m",
      "\u001b[1;31mKeyboardInterrupt\u001b[0m                         Traceback (most recent call last)",
      "Cell \u001b[1;32mIn[9], line 6\u001b[0m\n\u001b[0;32m      4\u001b[0m li\u001b[38;5;241m=\u001b[39m\u001b[38;5;28mlen\u001b[39m(numbers)\n\u001b[0;32m      5\u001b[0m i\u001b[38;5;241m=\u001b[39m\u001b[38;5;241m-\u001b[39m\u001b[38;5;241m1\u001b[39m\n\u001b[1;32m----> 6\u001b[0m \u001b[38;5;28;01mwhile\u001b[39;00m(\u001b[38;5;241m1\u001b[39m):\n\u001b[0;32m      7\u001b[0m     \u001b[38;5;28;01mif\u001b[39;00m \u001b[38;5;28mlen\u001b[39m(numbers)\u001b[38;5;241m==\u001b[39m\u001b[38;5;28mlen\u001b[39m(\u001b[38;5;28mset\u001b[39m(numbers)):\n\u001b[0;32m      8\u001b[0m         \u001b[38;5;28;01mbreak\u001b[39;00m\n",
      "\u001b[1;31mKeyboardInterrupt\u001b[0m: "
     ]
    }
   ],
   "source": [
    "# 5. Write a Python program to remove duplicates from a list while maintaining the order of elements. \n",
    "\n",
    "numbers = [1, 2, 2, 3, 4, 4, 5]\n",
    "li=len(numbers)\n",
    "i=0\n",
    "while(1):\n",
    "    if len(numbers)==len(set(numbers)):\n",
    "        break\n",
    "    if numbers[i]==numbers[i+1]:\n",
    "        numbers.pop(i)\n",
    "print(numbers)\n"
   ]
  },
  {
   "cell_type": "code",
   "execution_count": 12,
   "metadata": {},
   "outputs": [
    {
     "name": "stdout",
     "output_type": "stream",
     "text": [
      "[(1, 5), (2, 4), (3, 3)]\n"
     ]
    }
   ],
   "source": [
    "# 6. Write a Python program to find all pairs of numbers in a list that add up to a specific target sum. \n",
    "# a. numbers = [1, 2, 3, 4, 3, 5, 6] target_sum = 6 \n",
    "# b. Pairs that add up to 6: [(3, 3), (2, 4), (1, 5)] \n",
    "numbers = [1, 2, 3, 4, 3, 5, 6]\n",
    "target_sum = 6\n",
    "output=[]\n",
    "for i in range(0,len(numbers)):\n",
    "    for j in range(i,len(numbers)):\n",
    "        if target_sum==numbers[i]+numbers[j]:\n",
    "            answer=(numbers[i],numbers[j])\n",
    "            if answer not in output:\n",
    "                output.append(answer)\n",
    "print(output)\n"
   ]
  },
  {
   "cell_type": "code",
   "execution_count": 13,
   "metadata": {},
   "outputs": [
    {
     "name": "stdout",
     "output_type": "stream",
     "text": [
      "[1, 2, 3, 4, 5, 6, 7, 8]\n"
     ]
    }
   ],
   "source": [
    "# 7. Write a Python program to flatten a nested list (list within lists) into a single list. \n",
    "# a. nested_list = [1, [2, 3], [4, [5, 6], 7], 8] \n",
    "# b. Flattened list: [1, 2, 3, 4, 5, 6, 7, 8] \n",
    "def flatten(nested_list):\n",
    "    flattened = []\n",
    "    for item in nested_list:\n",
    "        if isinstance(item, list):\n",
    "            flattened += flatten(item)  # Using concatenation instead of extend\n",
    "        else:\n",
    "            flattened.append(item)\n",
    "    return flattened\n",
    "\n",
    "# Test case\n",
    "nested_list = [1, [2, 3], [4, [5, 6], 7], 8]\n",
    "flattened_list = flatten(nested_list)\n",
    "print(flattened_list)\n"
   ]
  },
  {
   "cell_type": "code",
   "execution_count": 19,
   "metadata": {},
   "outputs": [
    {
     "name": "stdout",
     "output_type": "stream",
     "text": [
      "Sum excluding the largest and smallest element: 9\n"
     ]
    }
   ],
   "source": [
    "# 8. Write a Python program to find the sum of the elements in a list, excluding the largest and smallest element.\n",
    "#  Don’t use max or min functions \n",
    "# a. numbers = [1, 2, 3, 4, 5] \n",
    "# b. Sum excluding the largest and smallest element: 9 \n",
    "numbers = [1, 2, 3, 4, 5] \n",
    "total=0\n",
    "for ele in numbers:\n",
    "    total=total+ele\n",
    "minVal=numbers[0]\n",
    "for i in numbers:\n",
    "    if minVal>i:\n",
    "        minVal=i\n",
    "maxVal=numbers[0]\n",
    "for i in numbers:\n",
    "    if maxVal<i:\n",
    "        maxVal=i\n",
    "print('Sum excluding the largest and smallest element:',total-minVal-maxVal)"
   ]
  },
  {
   "cell_type": "code",
   "execution_count": 24,
   "metadata": {},
   "outputs": [
    {
     "name": "stdout",
     "output_type": "stream",
     "text": [
      "True\n"
     ]
    }
   ],
   "source": [
    "# 9. Write a Python program to check if a list is a palindrome (reads the same backward as forward)\n",
    "#  using two pointer approach \n",
    "# a. numbers = [1, 2, 3, 2, 1] \n",
    "# b. True \n",
    "numbers = [1, 2, 3, 2, 1] \n",
    "i,j=0,len(numbers)-1\n",
    "output=True\n",
    "while(i<j):\n",
    "    if numbers[i]==numbers[j]:\n",
    "        i+=1\n",
    "        j-=1\n",
    "    else:\n",
    "        output=False\n",
    "        break\n",
    "print(output)"
   ]
  },
  {
   "cell_type": "code",
   "execution_count": 27,
   "metadata": {},
   "outputs": [
    {
     "name": "stdout",
     "output_type": "stream",
     "text": [
      "[1, 2, 3, 4, 5, 6]\n"
     ]
    }
   ],
   "source": [
    "# 10. Write a function to remove duplicate elements from a list. \n",
    "# a. numbers = [1, 2, 3, 2, 4, 5, 1, 6] \n",
    "# b. [1, 2, 3, 4, 5, 6] \n",
    "numbers = [1, 2, 3, 2, 4, 5, 1, 6] \n",
    "myset=set()\n",
    "num=[]\n",
    "for i in numbers:\n",
    "    if i not in myset:\n",
    "        myset.add(i)\n",
    "        num.append(i)\n",
    "print(num)"
   ]
  },
  {
   "cell_type": "code",
   "execution_count": 28,
   "metadata": {},
   "outputs": [
    {
     "name": "stdout",
     "output_type": "stream",
     "text": [
      "Result :  [3, 4, 5]\n"
     ]
    }
   ],
   "source": [
    "# 11. Find Common Elements in Two Lists \n",
    "# a. list1 = [1, 2, 3, 4, 5] \n",
    "# b. list2 = [3, 4, 5, 6, 7] \n",
    "# c. Result: [3, 4, 5] \n",
    "\n",
    "list1 = [1, 2, 3, 4, 5] \n",
    "list2 = [3, 4, 5, 6, 7]\n",
    "result=[]\n",
    "for i in list1:\n",
    "    if i in list2:\n",
    "        result.append(i)\n",
    "print('Result : ',result)"
   ]
  },
  {
   "cell_type": "code",
   "execution_count": 29,
   "metadata": {},
   "outputs": [
    {
     "name": "stdout",
     "output_type": "stream",
     "text": [
      "strawberry\n"
     ]
    }
   ],
   "source": [
    "# 12. Find the Longest Word in a List \n",
    "# a. words = [\"apple\", \"banana\", \"strawberry\", \"kiwi\"] \n",
    "# b. Strawberry\n",
    "\n",
    "words = [\"apple\", \"banana\", \"strawberry\", \"kiwi\"]\n",
    "answer=words[0]\n",
    "\n",
    "for word in words:\n",
    "    if len(answer)<len(word):\n",
    "        answer=word\n",
    "print(answer)\n"
   ]
  },
  {
   "cell_type": "code",
   "execution_count": 30,
   "metadata": {},
   "outputs": [
    {
     "name": "stdout",
     "output_type": "stream",
     "text": [
      "number : 3 \n"
     ]
    }
   ],
   "source": [
    "# You are given a list of n-1 numbers in the range 1 to n.\n",
    "#  One number is missing from the sequence. Find the missing number. \n",
    "# a. numbers = [1, 2, 4, 5, 6] \n",
    "\n",
    "numbers = [1, 2, 4, 5, 6] \n",
    "for i in range(1,len(numbers)+1):\n",
    "    if i not in numbers:\n",
    "        print(f'number : {i} ')\n",
    "        break"
   ]
  },
  {
   "cell_type": "code",
   "execution_count": 31,
   "metadata": {},
   "outputs": [
    {
     "name": "stdout",
     "output_type": "stream",
     "text": [
      "1\n"
     ]
    }
   ],
   "source": [
    "# 15. Find the First Non-Repeating Element \n",
    "# Given a list of integers, find the first element that appears only once. \n",
    "# a. numbers = [4, 5, 1, 2, 0, 4, 5, 2] \n",
    "# b. Expected Output: 1 \n",
    "\n",
    "numbers = [4, 5, 1, 2, 0, 4, 5, 2] \n",
    "mydict={}\n",
    "for ele in numbers:\n",
    "    if ele in mydict:\n",
    "        mydict[ele]+=1\n",
    "    else:\n",
    "        mydict[ele]=1\n",
    "for key,val in mydict.items():\n",
    "    if val == 1:\n",
    "        print(key)\n",
    "        break"
   ]
  },
  {
   "cell_type": "code",
   "execution_count": 32,
   "metadata": {},
   "outputs": [
    {
     "name": "stdout",
     "output_type": "stream",
     "text": [
      "[1, 3, 12, 0, 0]\n"
     ]
    }
   ],
   "source": [
    "# 16. Move All Zeros to the End \n",
    "# Given a list of integers, move all zeros to the end while maintaining the relative order of non-zero elements.\n",
    "#  Don’t use any inbuilt functions \n",
    "# a. numbers = [0, 1, 0, 3, 12] \n",
    "# b. [1, 3, 12, 0, 0] \n",
    "numbers = [0, 1, 0, 3, 12] \n",
    "pt1=0\n",
    "pt2=0\n",
    "for i in range(len(numbers)):\n",
    "    if numbers[i]!=0:\n",
    "        numbers[pt1] = numbers[i]\n",
    "\n",
    "        if i != pt1:\n",
    "            numbers[i] = 0\n",
    "        pt1 += 1\n",
    "print(numbers)"
   ]
  },
  {
   "cell_type": "code",
   "execution_count": 35,
   "metadata": {},
   "outputs": [
    {
     "name": "stdout",
     "output_type": "stream",
     "text": [
      "[3, 6, 8]\n"
     ]
    }
   ],
   "source": [
    "# 17. Find Elements Greater Than Their Left Neighbor \n",
    "# a. numbers = [1, 3, 2, 6, 5, 8, 7] \n",
    "# b. [3, 6, 8] \n",
    "\n",
    "numbers = [1, 3, 2, 6, 5, 8, 7] \n",
    "left=numbers[0]\n",
    "output=[]\n",
    "for ele in numbers:\n",
    "    if left>ele:\n",
    "        output.append(left)\n",
    "    left=ele\n",
    "print(output)"
   ]
  },
  {
   "cell_type": "code",
   "execution_count": 37,
   "metadata": {},
   "outputs": [
    {
     "name": "stdout",
     "output_type": "stream",
     "text": [
      "[-4, -1, -1, 0, 1, 2]\n",
      "[(-1, -1, 2), (-1, 0, 1)]\n"
     ]
    }
   ],
   "source": [
    "\n",
    "# 18. Find Triplets That Sum to Zero \n",
    "# Given a list of numbers, find all unique triplets (a, b, c) such that a + b + c = 0. a. numbers = [-1, 0, 1, 2, -1, -4] \n",
    "# b. Expected Output: [(-1, -1, 2), (-1, 0, 1)]\n",
    "numbers = [-1, 0, 1, 2, -1, -4]\n",
    "numbers.sort()\n",
    "print(numbers)\n",
    "output=[]\n",
    "for i in range(len(numbers)):\n",
    "    if i > 0 and numbers[i] == numbers[i - 1]:\n",
    "        continue\n",
    "    left, right = i + 1, len(numbers) - 1\n",
    "    while(left<right):\n",
    "        triplesum=numbers[i]+numbers[left]+numbers[right]\n",
    "          \n",
    "        if triplesum==0:\n",
    "            output.append((numbers[i],numbers[left],numbers[right]))\n",
    "\n",
    "            while left<right and numbers[left]==numbers[left+1]:\n",
    "                left+=1\n",
    "            while left<right and numbers[right]==numbers[right-1]:\n",
    "                right-=1\n",
    "            left+=1\n",
    "            right-=1\n",
    "        elif triplesum>0:\n",
    "            right-=1\n",
    "        else:\n",
    "            left+=1\n",
    "print(output)\n",
    "        \n"
   ]
  },
  {
   "cell_type": "code",
   "execution_count": null,
   "metadata": {},
   "outputs": [],
   "source": [
    "\n",
    "\n",
    "\n",
    "\n"
   ]
  },
  {
   "cell_type": "code",
   "execution_count": 1,
   "metadata": {},
   "outputs": [
    {
     "name": "stdout",
     "output_type": "stream",
     "text": [
      "The maximum element is: 99\n"
     ]
    }
   ],
   "source": [
    "# 1. Write a Python program to find the maximum element in a list of numbers \n",
    "# without max functions numbers = [10, 20, 4, 45, 99] \n",
    "li=[10, 20, 4, 45, 99]\n",
    "maxvalue=li[0]\n",
    "for i in li:\n",
    "    if i>maxvalue:\n",
    "        maxvalue=i\n",
    "print(\"The maximum element is:\", maxvalue)"
   ]
  },
  {
   "cell_type": "code",
   "execution_count": 2,
   "metadata": {},
   "outputs": [
    {
     "name": "stdout",
     "output_type": "stream",
     "text": [
      "The sum of all elements is: 100\n"
     ]
    }
   ],
   "source": [
    "# 2. Write a Python program to sum all the elements in a list of numbers.\n",
    "# a. numbers = [10, 20, 30, 40] \n",
    "# b. The sum of all elements is: 100 \n",
    "numbers = [10, 20, 30, 40]\n",
    "sum=0\n",
    "for i in numbers:\n",
    "    sum+=i\n",
    "print(\"The sum of all elements is:\", sum)"
   ]
  },
  {
   "cell_type": "code",
   "execution_count": 39,
   "metadata": {},
   "outputs": [
    {
     "name": "stdout",
     "output_type": "stream",
     "text": [
      "[5, 4, 3, 2, 1]\n"
     ]
    }
   ],
   "source": [
    "#  3. Write a Python program to reverse a list without reverse or slicing operator\n",
    "# a. numbers = [1, 2, 3, 4, 5] \n",
    "# b. Reversed list: [5, 4, 3, 2, 1] \n",
    "numbers = [1, 2, 3, 4, 5]\n",
    "left,right=0,len(numbers)-1\n",
    "while left<right:\n",
    "    numbers[left],numbers[right]=numbers[right],numbers[left]\n",
    "    left+=1\n",
    "    right-=1\n",
    "print(numbers)\n",
    "    "
   ]
  }
 ],
 "metadata": {
  "kernelspec": {
   "display_name": "Python 3",
   "language": "python",
   "name": "python3"
  },
  "language_info": {
   "codemirror_mode": {
    "name": "ipython",
    "version": 3
   },
   "file_extension": ".py",
   "mimetype": "text/x-python",
   "name": "python",
   "nbconvert_exporter": "python",
   "pygments_lexer": "ipython3",
   "version": "3.13.1"
  }
 },
 "nbformat": 4,
 "nbformat_minor": 2
}
