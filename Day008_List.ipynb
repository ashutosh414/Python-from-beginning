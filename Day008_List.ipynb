{
 "cells": [
  {
   "cell_type": "code",
   "execution_count": 9,
   "metadata": {},
   "outputs": [
    {
     "name": "stdout",
     "output_type": "stream",
     "text": [
      "[0, 0, 0, 0, 0]\n",
      "[0, 0, 10, 0, 0]\n",
      "[0, 0, 10, 20, 0]\n",
      "[0, 0, 10, 20, 40]\n",
      "[60, 0, 10, 20, 40]\n",
      "[60, 7, 10, 20, 40]\n"
     ]
    }
   ],
   "source": [
    "mylist=[10,20,40,60,7]\n",
    "k=2\n",
    "length=len(mylist)\n",
    "newlist=[0]*length\n",
    "print(newlist)\n",
    "for i in range(0,length):\n",
    "    newlist[(i+k)%length]=mylist[i]\n",
    "    print(newlist)\n",
    "\n"
   ]
  },
  {
   "cell_type": "code",
   "execution_count": 13,
   "metadata": {},
   "outputs": [
    {
     "name": "stdout",
     "output_type": "stream",
     "text": [
      "[7, 10, 20, 40, 60]\n"
     ]
    }
   ],
   "source": [
    "mylist=[10,20,40,60,7]\n",
    "k=21\n",
    "k=k%len(mylist)\n",
    "newlist=[]\n",
    "for i in range(-1*k,len(mylist)-k):\n",
    "    newlist.append(mylist[i])\n",
    "print(newlist)"
   ]
  },
  {
   "cell_type": "code",
   "execution_count": 15,
   "metadata": {},
   "outputs": [
    {
     "name": "stdout",
     "output_type": "stream",
     "text": [
      "10\n"
     ]
    }
   ],
   "source": []
  }
 ],
 "metadata": {
  "kernelspec": {
   "display_name": "Python 3",
   "language": "python",
   "name": "python3"
  },
  "language_info": {
   "codemirror_mode": {
    "name": "ipython",
    "version": 3
   },
   "file_extension": ".py",
   "mimetype": "text/x-python",
   "name": "python",
   "nbconvert_exporter": "python",
   "pygments_lexer": "ipython3",
   "version": "3.13.1"
  }
 },
 "nbformat": 4,
 "nbformat_minor": 2
}
