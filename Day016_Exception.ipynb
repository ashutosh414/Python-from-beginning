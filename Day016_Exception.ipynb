{
 "cells": [
  {
   "cell_type": "markdown",
   "metadata": {},
   "source": [
    "Exception :- Unwanted condition, situation or event that leads to abnormal termination of the program.\n",
    "Exception Handling :- The process of responding to the occurrence of exceptions that occur during the execution of a program.\n",
    "Types of Exceptions :-\n",
    "1. Built-in Exceptions :- These exceptions are raised when the built-in functions fail in some way.\n",
    "2. User-defined Exceptions :- These exceptions are raised by the user's code.\n",
    "3. Exception Hierarchy :- All exceptions are derived from the base class 'BaseException'.\n",
    "4. Exception Handling Mechanism :- The 'try' block is used to enclose the code that might throw an exception. The 'except' block is used to handle the exception. The 'finally' block is used to execute the code that must run regardless of the result of the 'try' block.\n",
    "5. Raising Exceptions :- The 'raise' keyword is used to raise an exception.\n",
    "6. Custom Exceptions :- The user can create custom exceptions by creating a new class that inherits from the 'Exception' class.\n",
    "7. Assertions :- The 'assert' keyword is used to check if a condition is true. If the condition is false, the program raises an AssertionError exception.\n",
    "8. Exception Handling Best Practices :- The 'try' block should be as small as possible. The 'except' block should be specific and not too general. The 'finally' block should be used to clean up resources.\n",
    "9. Exception Handling in Python :- Python provides a robust exception handling mechanism that allows you to handle exceptions gracefully.\n",
    "10. Exception Handling in Python vs. Other Languages :- Python's exception handling mechanism is similar to that of other programming languages.\n",
    "11. Exception Handling in Python vs. Java :- Python's exception handling mechanism is similar to that of Java.\n"
   ]
  },
  {
   "cell_type": "markdown",
   "metadata": {},
   "source": [
    "Types of exceptions:\n",
    "1. SyntaxError\n",
    "2. IndentationError\n",
    "3. NameError\n",
    "4. TypeError\n",
    "5. ValueError\n",
    "6. ZeroDivisionError\n",
    "7. FileNotFoundError\n",
    "8. IOError\n",
    "9. ImportError\n",
    "10. KeyboardInterrupt\n",
    "11. EOFError\n",
    "12. AttributeError\n",
    "13. IndexError:- index out of range x=' Hello'   print(x[100])\n",
    "14. KeyError\n",
    "15. NotImplementedError\n",
    "16. RuntimeError\n",
    "17. MemoryError\n",
    "18. RecursionError\n",
    "19. SystemError\n",
    "20. OverflowError\n",
    "21. FloatingPointError\n",
    "22. ArithmeticError\n",
    "23. AssertionError\n",
    "24. LookupError\n",
    "25. ZeroDivisionError\n",
    "26. SystemExit\n",
    "27. KeyboardInterrupt\n",
    "28. GeneratorExit\n",
    "29. Exception\n",
    "30. BaseException\n",
    "31. StopIteration\n",
    "32. Warning\n",
    "33. UserWarning\n",
    "34. DeprecationWarning\n",
    "35. PendingDeprecationWarning\n",
    "36. SyntaxWarning\n",
    "37. RuntimeWarning\n",
    "38. FutureWarning\n",
    "39. ImportWarning\n",
    "40. UnicodeWarning\n",
    "41. BytesWarning\n",
    "42. ResourceWarning\n",
    "43. ConnectionError\n",
    "44. BlockingIOError\n",
    "45. BrokenPipeError\n"
   ]
  },
  {
   "cell_type": "code",
   "execution_count": 16,
   "metadata": {},
   "outputs": [
    {
     "name": "stdout",
     "output_type": "stream",
     "text": [
      "hello\n",
      "Error\n"
     ]
    }
   ],
   "source": [
    "try:\n",
    "    print(\"hello\")\n",
    "    z+10\n",
    "    print('Hey')\n",
    "except:\n",
    "    print('Error')"
   ]
  },
  {
   "cell_type": "code",
   "execution_count": 4,
   "metadata": {},
   "outputs": [
    {
     "name": "stdout",
     "output_type": "stream",
     "text": [
      "hello\n",
      "Variable is not defined name 'z' is not defined\n"
     ]
    }
   ],
   "source": [
    "try:\n",
    "    print(\"hello\")\n",
    "    z+10\n",
    "    print('Hey')\n",
    "except NameError as e:\n",
    "    print('Variable is not defined',e)"
   ]
  },
  {
   "cell_type": "code",
   "execution_count": 7,
   "metadata": {},
   "outputs": [
    {
     "name": "stdout",
     "output_type": "stream",
     "text": [
      "hello\n",
      "Index out of range-> string index out of range\n"
     ]
    }
   ],
   "source": [
    "try:\n",
    "    print(\"hello\")\n",
    "    s='hey'\n",
    "    print(s[10])\n",
    "    print('Hey')\n",
    "except IndexError as e:\n",
    "    print('Index out of range->',e)"
   ]
  },
  {
   "cell_type": "code",
   "execution_count": 13,
   "metadata": {},
   "outputs": [
    {
     "name": "stdout",
     "output_type": "stream",
     "text": [
      "hello\n",
      "Type of Error :-  name 'yy' is not defined\n"
     ]
    }
   ],
   "source": [
    "try:\n",
    "    print(\"hello\")\n",
    "    s='hey'\n",
    "    # the elow line is wrong yy is not defined give NameError\n",
    "    yy+5\n",
    "    print(s[10])\n",
    "    print('Hey')\n",
    "except (IndexError,NameError) as e:\n",
    "    print('Type of Error :- ',e)"
   ]
  },
  {
   "cell_type": "code",
   "execution_count": 14,
   "metadata": {},
   "outputs": [
    {
     "name": "stdout",
     "output_type": "stream",
     "text": [
      "hello\n",
      "Inner Error\n",
      "Hey\n"
     ]
    }
   ],
   "source": [
    "try:\n",
    "    print(\"hello\")\n",
    "    try:\n",
    "        s='hey'\n",
    "        s[100]\n",
    "        yy+5\n",
    "    except:\n",
    "        print('Inner Error')\n",
    "    print('Hey')\n",
    "except:\n",
    "    print('Outer Error')"
   ]
  },
  {
   "cell_type": "code",
   "execution_count": 17,
   "metadata": {},
   "outputs": [
    {
     "name": "stdout",
     "output_type": "stream",
     "text": [
      "hello\n",
      "Error\n"
     ]
    }
   ],
   "source": [
    "# if there is no error in the try block then else block will be executed\n",
    "try:\n",
    "    print(\"hello\")\n",
    "    z+10\n",
    "    print('Hey')\n",
    "except:\n",
    "    print('Error')\n",
    "else:\n",
    "    print('No Error')"
   ]
  },
  {
   "cell_type": "code",
   "execution_count": null,
   "metadata": {},
   "outputs": [],
   "source": [
    "# if there is no error in the try block then else block will be executed\n",
    "# finally block will be executed no matter what (run always if there is error or n error)\n",
    "try:\n",
    "    print(\"hello\")\n",
    "    z+10\n",
    "    print('Hey')\n",
    "except:\n",
    "    print('Error')\n",
    "finally:\n",
    "    print('Finally block will run all the time')  # this block will be executed no matter what"
   ]
  },
  {
   "cell_type": "code",
   "execution_count": 22,
   "metadata": {},
   "outputs": [
    {
     "name": "stdout",
     "output_type": "stream",
     "text": [
      "You are not eligible\n"
     ]
    }
   ],
   "source": [
    "#raise an error\n",
    "age=17\n",
    "try:\n",
    "    if age<18:\n",
    "        raise ValueError\n",
    "    else:\n",
    "        print('You are eligible')\n",
    "except ValueError:\n",
    "    print('You are not eligible')\n"
   ]
  },
  {
   "cell_type": "markdown",
   "metadata": {},
   "source": [
    "Homework\n",
    "assert statement\n",
    "what is generator and how it's different from normal funtion and it's return keyword\n"
   ]
  },
  {
   "cell_type": "markdown",
   "metadata": {},
   "source": [
    "why tuples are faster than list?\n",
    "    - Tuples are immutable  so they are fixed in size and faster than list\n",
    "    - List are mutable so they are slower than tuples\n",
    "    - Tuples are stored in a single block of memory so it is faster\n",
    "    - List are stored in two blocks of memory so it is slower"
   ]
  }
 ],
 "metadata": {
  "kernelspec": {
   "display_name": "Python 3",
   "language": "python",
   "name": "python3"
  },
  "language_info": {
   "codemirror_mode": {
    "name": "ipython",
    "version": 3
   },
   "file_extension": ".py",
   "mimetype": "text/x-python",
   "name": "python",
   "nbconvert_exporter": "python",
   "pygments_lexer": "ipython3",
   "version": "3.13.1"
  }
 },
 "nbformat": 4,
 "nbformat_minor": 2
}
