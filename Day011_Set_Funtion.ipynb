{
 "cells": [
  {
   "cell_type": "code",
   "execution_count": 1,
   "metadata": {},
   "outputs": [
    {
     "name": "stdout",
     "output_type": "stream",
     "text": [
      "set()\n"
     ]
    }
   ],
   "source": [
    "# lisr ,dicitonary, tuple, string ,numerical number\n",
    "# set\n",
    "# fatatype\n",
    "# unique element\n",
    "# no Index\n",
    "\n",
    "#empty set\n",
    "myset=set(())\n",
    "print(myset)"
   ]
  },
  {
   "cell_type": "code",
   "execution_count": 4,
   "metadata": {},
   "outputs": [
    {
     "name": "stdout",
     "output_type": "stream",
     "text": [
      "{20, 40, 10, 60, 30}\n"
     ]
    }
   ],
   "source": [
    "myset={10,20,40,10,30,20,60}\n",
    "print(myset)"
   ]
  },
  {
   "cell_type": "code",
   "execution_count": 5,
   "metadata": {},
   "outputs": [
    {
     "name": "stdout",
     "output_type": "stream",
     "text": [
      "{20, 500, 40, 10, 60, 30}\n"
     ]
    }
   ],
   "source": [
    "#add element in the set\n",
    "myset.add(500)\n",
    "print(myset)"
   ]
  },
  {
   "cell_type": "code",
   "execution_count": 6,
   "metadata": {},
   "outputs": [
    {
     "name": "stdout",
     "output_type": "stream",
     "text": [
      "{20, 40, 10, 60, 30}\n"
     ]
    },
    {
     "ename": "KeyError",
     "evalue": "500",
     "output_type": "error",
     "traceback": [
      "\u001b[1;31m---------------------------------------------------------------------------\u001b[0m",
      "\u001b[1;31mKeyError\u001b[0m                                  Traceback (most recent call last)",
      "Cell \u001b[1;32mIn[6], line 5\u001b[0m\n\u001b[0;32m      3\u001b[0m myset\u001b[38;5;241m.\u001b[39mremove(\u001b[38;5;241m500\u001b[39m)\n\u001b[0;32m      4\u001b[0m \u001b[38;5;28mprint\u001b[39m(myset)\n\u001b[1;32m----> 5\u001b[0m \u001b[43mmyset\u001b[49m\u001b[38;5;241;43m.\u001b[39;49m\u001b[43mremove\u001b[49m\u001b[43m(\u001b[49m\u001b[38;5;241;43m500\u001b[39;49m\u001b[43m)\u001b[49m\n\u001b[0;32m      6\u001b[0m \u001b[38;5;28mprint\u001b[39m(myset)\n",
      "\u001b[1;31mKeyError\u001b[0m: 500"
     ]
    }
   ],
   "source": [
    "#remove element from set\n",
    "\n",
    "myset.remove(500)\n",
    "print(myset)\n",
    "myset.remove(500)\n",
    "print(myset)\n"
   ]
  },
  {
   "cell_type": "code",
   "execution_count": 7,
   "metadata": {},
   "outputs": [
    {
     "name": "stdout",
     "output_type": "stream",
     "text": [
      "{20, 40, 10, 60, 30}\n"
     ]
    }
   ],
   "source": [
    "# discard(remove) element from the set\n",
    "myset.discard(500)\n",
    "print(myset)"
   ]
  },
  {
   "cell_type": "code",
   "execution_count": 9,
   "metadata": {},
   "outputs": [
    {
     "name": "stdout",
     "output_type": "stream",
     "text": [
      "{800, 20, 90, 900, 40, 10, 60, 30}\n"
     ]
    }
   ],
   "source": [
    "#update multiple data to set\n",
    "myset.update([10,20,60,40,90,900,800])\n",
    "print(myset)\n"
   ]
  },
  {
   "cell_type": "code",
   "execution_count": 10,
   "metadata": {},
   "outputs": [
    {
     "name": "stdout",
     "output_type": "stream",
     "text": [
      "800\n",
      "{20, 90, 900, 40, 10, 60, 30}\n"
     ]
    }
   ],
   "source": [
    "#remove element from set using pop()\n",
    "pop_ele=myset.pop()\n",
    "print(pop_ele)\n",
    "print(myset)\n"
   ]
  },
  {
   "cell_type": "code",
   "execution_count": 12,
   "metadata": {},
   "outputs": [
    {
     "name": "stdout",
     "output_type": "stream",
     "text": [
      "{1, 2, 3, 4, 5, 6}\n"
     ]
    }
   ],
   "source": [
    "# Unique value from 2 sets using union\n",
    "\n",
    "myset1={1,2,3}\n",
    "myset2={1,4,5,6}\n",
    "output_set=myset1.union(myset2)\n",
    "print(output_set)"
   ]
  },
  {
   "cell_type": "code",
   "execution_count": 13,
   "metadata": {},
   "outputs": [
    {
     "name": "stdout",
     "output_type": "stream",
     "text": [
      "{1}\n"
     ]
    }
   ],
   "source": [
    "# common value from 2 sets using intersection()\n",
    "\n",
    "myset1={1,2,3}\n",
    "myset2={1,4,5,6}\n",
    "output_set=myset1.intersection(myset2)\n",
    "print(output_set)"
   ]
  },
  {
   "cell_type": "code",
   "execution_count": null,
   "metadata": {},
   "outputs": [],
   "source": [
    "# common value from 2 sets using intersection() and update the value in set1\n",
    "\n",
    "myset1={1,2,3}\n",
    "myset2={1,4,5,6}\n",
    "myset1.intersection_update(myset2)\n",
    "print(myset1,myset2)\n"
   ]
  },
  {
   "cell_type": "code",
   "execution_count": 16,
   "metadata": {},
   "outputs": [
    {
     "name": "stdout",
     "output_type": "stream",
     "text": [
      "{2, 3}\n"
     ]
    }
   ],
   "source": [
    "# not common value from set 1 when compare 2 sets using difference()\n",
    "\n",
    "myset1={1,2,3}\n",
    "myset2={1,4,5,6}\n",
    "output_set=myset1.difference(myset2)\n",
    "print(output_set)"
   ]
  },
  {
   "cell_type": "code",
   "execution_count": 17,
   "metadata": {},
   "outputs": [
    {
     "name": "stdout",
     "output_type": "stream",
     "text": [
      "{2, 3} {1, 4, 5, 6}\n"
     ]
    }
   ],
   "source": [
    "# not common value from set 1 when compare 2 sets using difference() and update the value in set1\n",
    "\n",
    "myset1={1,2,3}\n",
    "myset2={1,4,5,6}\n",
    "myset1.difference_update(myset2)\n",
    "print(myset1,myset2)\n"
   ]
  },
  {
   "cell_type": "code",
   "execution_count": 33,
   "metadata": {},
   "outputs": [
    {
     "name": "stdout",
     "output_type": "stream",
     "text": [
      "True\n",
      "False\n",
      "True\n"
     ]
    }
   ],
   "source": [
    "# if all element of set1 present in set2 --return  --> True --else --> False\n",
    "# myset1.issubset(myset2)\n",
    "\n",
    "\n",
    "myset1={1,2,3}\n",
    "myset2={1,2,3,4,5,6,7,8,9}\n",
    "myset3={1,4,5,6}\n",
    "flag=myset1.issubset(myset2)\n",
    "print(flag)\n",
    "\n",
    "flag2=myset2.issubset(myset3)\n",
    "print(flag2)\n",
    "\n",
    "flag3=myset3.issubset(myset2)\n",
    "print(flag3)"
   ]
  },
  {
   "cell_type": "code",
   "execution_count": 32,
   "metadata": {},
   "outputs": [
    {
     "name": "stdout",
     "output_type": "stream",
     "text": [
      "False\n",
      "True\n",
      "False\n"
     ]
    }
   ],
   "source": [
    "# if all element of set2 is in set1 return True else False\n",
    "# myset1.issuperset(myset2)\n",
    "\n",
    "myset1={1,2,3}\n",
    "myset2={1,2,3,4,5,6,7,8,9}\n",
    "myset3={1,4,5,6}\n",
    "flag=myset1.issuperset(myset2)\n",
    "print(flag)\n",
    "\n",
    "flag2=myset2.issuperset(myset3)\n",
    "print(flag2)\n",
    "\n",
    "flag3=myset3.issuperset(myset2)\n",
    "print(flag3)"
   ]
  },
  {
   "cell_type": "code",
   "execution_count": 34,
   "metadata": {},
   "outputs": [
    {
     "name": "stdout",
     "output_type": "stream",
     "text": [
      "set()\n"
     ]
    }
   ],
   "source": [
    "# remove entire element of the set using clear()\n",
    "\n",
    "myset1={1,2,3}\n",
    "myset1.clear()\n",
    "print(myset1)"
   ]
  },
  {
   "cell_type": "code",
   "execution_count": 37,
   "metadata": {},
   "outputs": [
    {
     "data": {
      "text/plain": [
       "{3, 4, 5, 6, 7, 8, 9}"
      ]
     },
     "execution_count": 37,
     "metadata": {},
     "output_type": "execute_result"
    }
   ],
   "source": [
    "# element which is not present in either one of the set()\n",
    "myset1={1,2,3}\n",
    "myset2={1,2,4,5,6,7,8,9}\n",
    "\n",
    "myset1.symmetric_difference(myset2)"
   ]
  },
  {
   "cell_type": "markdown",
   "metadata": {},
   "source": [
    "<h1>Funtion</h1>"
   ]
  },
  {
   "cell_type": "code",
   "execution_count": null,
   "metadata": {},
   "outputs": [],
   "source": [
    "# functions\n",
    "# Block of code\n",
    "# We can use it for converting your code into smaller portion of code\n",
    "# help in reusabitlity \n",
    "# debugging"
   ]
  },
  {
   "cell_type": "code",
   "execution_count": 39,
   "metadata": {},
   "outputs": [
    {
     "name": "stdout",
     "output_type": "stream",
     "text": [
      "Hello Ashutosh\n"
     ]
    }
   ],
   "source": [
    "#void funtion\n",
    "\n",
    "def hello(name):\n",
    "    print('Hello',name)\n",
    "\n",
    "#call the funtion\n",
    "hello('Ashutosh')"
   ]
  },
  {
   "cell_type": "code",
   "execution_count": 45,
   "metadata": {},
   "outputs": [
    {
     "name": "stdout",
     "output_type": "stream",
     "text": [
      "Hello Ashutosh 20\n",
      "10\n"
     ]
    }
   ],
   "source": [
    "x=10\n",
    "\n",
    "def hello(name):\n",
    "    x=20 #local variable created\n",
    "    print('Hello',name,x)\n",
    "\n",
    "#call the funtion\n",
    "hello('Ashutosh')\n",
    "print(x)"
   ]
  },
  {
   "cell_type": "code",
   "execution_count": 48,
   "metadata": {},
   "outputs": [
    {
     "name": "stdout",
     "output_type": "stream",
     "text": [
      "x :  10\n",
      "Hello Ashutosh\n",
      "x :  abc\n",
      "x :  abc\n"
     ]
    }
   ],
   "source": [
    "x=10\n",
    "\n",
    "def hello(name):\n",
    "    global x \n",
    "    x='abc'\n",
    "    print('Hello',name)\n",
    "    print('x : ',x)\n",
    "    \n",
    "\n",
    "#call the funtion\n",
    "print('x : ',x)\n",
    "\n",
    "hello('Ashutosh')\n",
    "print('x : ',x)\n"
   ]
  },
  {
   "cell_type": "code",
   "execution_count": 55,
   "metadata": {},
   "outputs": [
    {
     "name": "stdout",
     "output_type": "stream",
     "text": [
      "Valid Parentasis\n"
     ]
    }
   ],
   "source": [
    "# Valid paranthesis useing list and dictionary\n",
    "\n",
    "data='[]((())){}'\n",
    "flag=1\n",
    "stack_list=[]\n",
    "for element in data:\n",
    "    if element in '([{':\n",
    "        stack_list.append(element)\n",
    "    elif (element ==']' and stack_list[-1]=='[') or (element =='}' and stack_list[-1]=='{') or (element ==')' and stack_list[-1]=='('):\n",
    "        stack_list.pop()\n",
    "    else:\n",
    "        flag=0\n",
    "        break\n",
    "if flag and not stack_list:\n",
    "    print('Valid Parentasis')\n",
    "else:\n",
    "    print('NOT Valid Parentasis')"
   ]
  },
  {
   "cell_type": "code",
   "execution_count": 61,
   "metadata": {},
   "outputs": [
    {
     "name": "stdout",
     "output_type": "stream",
     "text": [
      "NOT Valid Parentasis\n"
     ]
    }
   ],
   "source": [
    "data='[]((())){}('\n",
    "flag=1\n",
    "my_dict=my_dict = {')':'(',']':'[','}':'{'}\n",
    "\n",
    "stack=[]\n",
    "\n",
    "for element in data:\n",
    "    if element in my_dict.values():\n",
    "        stack.append(element)\n",
    "        \n",
    "    elif element in my_dict:\n",
    "\n",
    "        if my_dict[element]!=stack[-1]:\n",
    "            flag=0\n",
    "            break\n",
    "        stack.pop()\n",
    "\n",
    "if flag and not stack:\n",
    "    print('Valid Parentasis')\n",
    "else:\n",
    "    print('NOT Valid Parentasis')"
   ]
  },
  {
   "cell_type": "code",
   "execution_count": null,
   "metadata": {},
   "outputs": [],
   "source": []
  }
 ],
 "metadata": {
  "kernelspec": {
   "display_name": "Python 3",
   "language": "python",
   "name": "python3"
  },
  "language_info": {
   "codemirror_mode": {
    "name": "ipython",
    "version": 3
   },
   "file_extension": ".py",
   "mimetype": "text/x-python",
   "name": "python",
   "nbconvert_exporter": "python",
   "pygments_lexer": "ipython3",
   "version": "3.13.1"
  }
 },
 "nbformat": 4,
 "nbformat_minor": 2
}
