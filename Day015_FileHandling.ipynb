{
 "cells": [
  {
   "cell_type": "code",
   "execution_count": 30,
   "metadata": {},
   "outputs": [
    {
     "name": "stdout",
     "output_type": "stream",
     "text": [
      "Hello Ashutosh\n"
     ]
    }
   ],
   "source": [
    "fileobj=open('Day015_readfile.txt','r')\n",
    "fileobj_read=fileobj.read()\n",
    "print(fileobj_read)\n",
    "fileobj.close()\n",
    "\n",
    "#file Hello Ashutosh"
   ]
  },
  {
   "cell_type": "code",
   "execution_count": 31,
   "metadata": {},
   "outputs": [],
   "source": [
    "fileobj=open('Day015_readfile.txt','w')\n",
    "fileobj.write(\"I am a Student.\")\n",
    "\n",
    "fileobj.close()\n",
    "\n",
    "#file I am a Student."
   ]
  },
  {
   "cell_type": "code",
   "execution_count": 32,
   "metadata": {},
   "outputs": [
    {
     "name": "stdout",
     "output_type": "stream",
     "text": [
      "I am a Student.\n"
     ]
    }
   ],
   "source": [
    "fileobj=open('Day015_readfile.txt','r')\n",
    "fileobj_read=fileobj.read()\n",
    "print(fileobj_read)\n",
    "fileobj.close()\n",
    "\n",
    "#file I am a Student."
   ]
  },
  {
   "cell_type": "code",
   "execution_count": 33,
   "metadata": {},
   "outputs": [
    {
     "name": "stdout",
     "output_type": "stream",
     "text": [
      "I am a Student.\n"
     ]
    }
   ],
   "source": [
    "fileobj=open('Day015_readfile.txt','r+')\n",
    "fileobj_read=fileobj.read()\n",
    "fileobj.write('**')\n",
    "print(fileobj_read)\n",
    "fileobj.close()\n",
    "\n",
    "#file  I am a Student.**"
   ]
  },
  {
   "cell_type": "code",
   "execution_count": 35,
   "metadata": {},
   "outputs": [
    {
     "name": "stdout",
     "output_type": "stream",
     "text": [
      "am a Student.**\n"
     ]
    }
   ],
   "source": [
    "fileobj=open('Day015_readfile.txt','r+')\n",
    "\n",
    "fileobj.write('**')\n",
    "fileobj_read=fileobj.read()\n",
    "\n",
    "print(fileobj_read)\n",
    "fileobj.close()\n",
    "\n",
    "#file  **am a Student.**"
   ]
  },
  {
   "cell_type": "code",
   "execution_count": 36,
   "metadata": {},
   "outputs": [
    {
     "name": "stdout",
     "output_type": "stream",
     "text": [
      "\n"
     ]
    }
   ],
   "source": [
    "fileobj=open('Day015_readfile.txt','w+')\n",
    "\n",
    "fileobj_read=fileobj.read()\n",
    "fileobj.write('**')\n",
    "\n",
    "\n",
    "print(fileobj_read)\n",
    "fileobj.close()\n",
    "\n",
    "#file  **"
   ]
  },
  {
   "cell_type": "code",
   "execution_count": 37,
   "metadata": {},
   "outputs": [
    {
     "name": "stdout",
     "output_type": "stream",
     "text": [
      "1 : 0\n",
      "2 : 14\n",
      "\n"
     ]
    }
   ],
   "source": [
    "# find the cursor index using tell()\n",
    "\n",
    "fileobj=open('Day015_readfile.txt','w+')\n",
    "\n",
    "print(\"1 :\", fileobj.tell())\n",
    "\n",
    "fileobj_read=fileobj.read()\n",
    "fileobj.write('I am ashutosh.')\n",
    "print(\"2 :\", fileobj.tell())\n",
    "\n",
    "print(fileobj_read)\n",
    "fileobj.close()\n",
    "\n",
    "#file  I am ashutosh."
   ]
  },
  {
   "cell_type": "code",
   "execution_count": 38,
   "metadata": {},
   "outputs": [
    {
     "name": "stdout",
     "output_type": "stream",
     "text": [
      "1 : 0\n",
      "2 : 27\n",
      "first:  \n",
      "3rd time : 4\n",
      " ashutosh kumar mittal.\n"
     ]
    }
   ],
   "source": [
    "# find the cursor index using tell()\n",
    "\n",
    "fileobj=open('Day015_readfile.txt','w+')\n",
    "\n",
    "print(\"1 :\", fileobj.tell())\n",
    "\n",
    "fileobj_read=fileobj.read()\n",
    "fileobj.write('I am ashutosh kumar mittal.')\n",
    "print(\"2 :\", fileobj.tell())\n",
    "\n",
    "print('first: ',fileobj_read)\n",
    "\n",
    "# Change position of cursor\n",
    "fileobj.seek(4)\n",
    "print(\"3rd time :\", fileobj.tell())\n",
    "\n",
    "fileobj_read=fileobj.read()\n",
    "\n",
    "print(fileobj_read)\n",
    "fileobj.close()\n",
    "\n",
    "#file  I am ashutosh kumar mittal."
   ]
  },
  {
   "cell_type": "markdown",
   "metadata": {},
   "source": [
    "<pre>\n",
    "I am ashutosh kumar mittal.\n",
    "I am Student.\n",
    "I live in India.\n",
    "I am learning Swimming.\n",
    "I am a Excellent Student."
   ]
  },
  {
   "cell_type": "code",
   "execution_count": 49,
   "metadata": {},
   "outputs": [
    {
     "name": "stdout",
     "output_type": "stream",
     "text": [
      "I am ashutosh kumar mittal.\n",
      "I am Student.\n",
      "I live in India.\n",
      "I am learning Swimming.\n",
      "I am a Excellent Student.\n"
     ]
    }
   ],
   "source": [
    "# Read whole file using read()\n",
    "with open('Day015_readfile.txt','r') as f:\n",
    "    x=f.read()\n",
    "\n",
    "print(x)\n"
   ]
  },
  {
   "cell_type": "code",
   "execution_count": 57,
   "metadata": {},
   "outputs": [
    {
     "name": "stdout",
     "output_type": "stream",
     "text": [
      "I am ashutosh kumar mittal.\n",
      "\n",
      "I am Student.\n",
      "\n"
     ]
    }
   ],
   "source": [
    "with open('Day015_readfile.txt','r') as f:\n",
    "    print(f.readline())\n",
    "    print(f.readline())\n"
   ]
  },
  {
   "cell_type": "code",
   "execution_count": 46,
   "metadata": {},
   "outputs": [
    {
     "name": "stdout",
     "output_type": "stream",
     "text": [
      "I am ashutosh kumar mittal.\n",
      "\n",
      "I am Student.\n",
      "\n",
      "I live in India.\n",
      "\n",
      "I am learning Swimming.\n",
      "\n",
      "I am a Excellent Student.\n"
     ]
    }
   ],
   "source": [
    "with open('Day015_readfile.txt','r') as f:\n",
    "    for line in f:\n",
    "        print(line)\n"
   ]
  },
  {
   "cell_type": "code",
   "execution_count": 47,
   "metadata": {},
   "outputs": [
    {
     "name": "stdout",
     "output_type": "stream",
     "text": [
      "['I am ashutosh kumar mittal.\\n', 'I am Student.\\n', 'I live in India.\\n', 'I am learning Swimming.\\n', 'I am a Excellent Student.']\n"
     ]
    }
   ],
   "source": [
    "# get read file in list \n",
    "with open('Day015_readfile.txt','r') as f:\n",
    "    print(f.readlines())\n"
   ]
  },
  {
   "cell_type": "markdown",
   "metadata": {},
   "source": [
    "<pre>\n",
    "raj,10\n",
    "heena,20\n",
    "aman,30"
   ]
  },
  {
   "cell_type": "code",
   "execution_count": 54,
   "metadata": {},
   "outputs": [
    {
     "name": "stdout",
     "output_type": "stream",
     "text": [
      "['raj', '10'] <class 'str'>\n",
      "['heena', '20'] <class 'str'>\n",
      "['aman', '30'] <class 'str'>\n"
     ]
    }
   ],
   "source": [
    "# get read file and remove extra \\n(next line) using strip()\n",
    "with open('Day015_readfile.txt','r') as f:\n",
    "    for line in f:\n",
    "        print(line.strip().split(','), type(line))\n"
   ]
  },
  {
   "cell_type": "code",
   "execution_count": 59,
   "metadata": {},
   "outputs": [
    {
     "name": "stdout",
     "output_type": "stream",
     "text": [
      "Name : raj  Ages : 10\n",
      "Name : heena  Ages : 20\n",
      "Name : aman  Ages : 30\n"
     ]
    }
   ],
   "source": [
    "with open('Day015_readfile.txt','r') as f:\n",
    "    for line in f:\n",
    "        line=line.strip()\n",
    "        name,age=line.split(',')\n",
    "        print(f'Name : {name}  Ages : {age}')"
   ]
  },
  {
   "cell_type": "markdown",
   "metadata": {},
   "source": [
    "<pre>\n",
    "comma seperator value\n",
    "tab seperator value\n",
    "delimeter seperator value"
   ]
  },
  {
   "cell_type": "code",
   "execution_count": 66,
   "metadata": {},
   "outputs": [
    {
     "name": "stdout",
     "output_type": "stream",
     "text": [
      "Name : raj  Ages : 10\n",
      "Name : heena  Ages : 20\n",
      "Name : aman  Ages : 30\n"
     ]
    }
   ],
   "source": [
    "import csv\n",
    "\n",
    "fileobj=open('Day015_readfile.txt','r')\n",
    "fCsv=csv.reader(fileobj,delimiter='*')\n",
    "for line in fCsv:\n",
    "    name,age=line\n",
    "    print(f'Name : {name}  Ages : {age}')"
   ]
  },
  {
   "cell_type": "code",
   "execution_count": null,
   "metadata": {},
   "outputs": [],
   "source": []
  }
 ],
 "metadata": {
  "kernelspec": {
   "display_name": "Python 3",
   "language": "python",
   "name": "python3"
  },
  "language_info": {
   "codemirror_mode": {
    "name": "ipython",
    "version": 3
   },
   "file_extension": ".py",
   "mimetype": "text/x-python",
   "name": "python",
   "nbconvert_exporter": "python",
   "pygments_lexer": "ipython3",
   "version": "3.13.1"
  }
 },
 "nbformat": 4,
 "nbformat_minor": 2
}
