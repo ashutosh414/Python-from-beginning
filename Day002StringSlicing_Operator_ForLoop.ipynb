{
 "cells": [
  {
   "cell_type": "code",
   "execution_count": 1,
   "metadata": {},
   "outputs": [
    {
     "name": "stdout",
     "output_type": "stream",
     "text": [
      "jasthan\n"
     ]
    }
   ],
   "source": [
    "city='Rajasthan'\n",
    "print(city[2:])"
   ]
  },
  {
   "cell_type": "code",
   "execution_count": 2,
   "metadata": {},
   "outputs": [
    {
     "name": "stdout",
     "output_type": "stream",
     "text": [
      "Raja\n"
     ]
    }
   ],
   "source": [
    "city='Rajasthan'\n",
    "print(city[:4])"
   ]
  },
  {
   "cell_type": "code",
   "execution_count": 10,
   "metadata": {},
   "outputs": [
    {
     "name": "stdout",
     "output_type": "stream",
     "text": [
      "nahtsajar\n"
     ]
    }
   ],
   "source": [
    "num='rajasthan'\n",
    "print(num[::-1])"
   ]
  },
  {
   "cell_type": "code",
   "execution_count": 11,
   "metadata": {},
   "outputs": [
    {
     "name": "stdout",
     "output_type": "stream",
     "text": [
      "5.5\n",
      "5\n"
     ]
    }
   ],
   "source": [
    "print(11/2)\n",
    "print(11//2)"
   ]
  },
  {
   "cell_type": "markdown",
   "metadata": {},
   "source": [
    "<h3> Bitwise And</h3>\n",
    "\n",
    "<h4> number1 & number2 </h4>\n",
    "\n",
    "\n",
    "<h5>13      --> 1101</h5>\n",
    "<h5> 7       --> 0111</h5>\n",
    "<h5>13 & 7 --> 0101    --> 5</h5>"
   ]
  },
  {
   "cell_type": "code",
   "execution_count": 14,
   "metadata": {},
   "outputs": [
    {
     "name": "stdout",
     "output_type": "stream",
     "text": [
      "5\n"
     ]
    }
   ],
   "source": [
    "x=13\n",
    "y=7\n",
    "print(x&y)"
   ]
  },
  {
   "cell_type": "markdown",
   "metadata": {},
   "source": [
    "<h3> Bitwise Or</h3>\n",
    "\n",
    "<h4> number1 | number2 </h4>\n",
    "\n",
    "\n",
    "<h5>13      --> 1101</h5>\n",
    "<h5> 7       --> 0111</h5>\n",
    "<h5>13 & 7 --> 1111    --> 5</h5>"
   ]
  },
  {
   "cell_type": "code",
   "execution_count": 15,
   "metadata": {},
   "outputs": [
    {
     "name": "stdout",
     "output_type": "stream",
     "text": [
      "15\n"
     ]
    }
   ],
   "source": [
    "x=13\n",
    "y=7\n",
    "print(x|y)"
   ]
  },
  {
   "cell_type": "markdown",
   "metadata": {},
   "source": [
    "<h3> Bitwise Right Shift</h3>\n",
    "\n",
    "<h4> number // 2 ** bit </h4>\n",
    "\n",
    "</h4>OR</h4>\n",
    "\n",
    "</h4>number >> bit</h4>"
   ]
  },
  {
   "cell_type": "code",
   "execution_count": 12,
   "metadata": {},
   "outputs": [
    {
     "name": "stdout",
     "output_type": "stream",
     "text": [
      "6\n",
      "6\n"
     ]
    }
   ],
   "source": [
    "print(54>>3)\n",
    "print(54 // 2 ** 3)"
   ]
  },
  {
   "cell_type": "markdown",
   "metadata": {},
   "source": [
    "<h3> Bitwise Left Shift</h3>\n",
    "\n",
    "<h4> number * 2 ** bit </h4>\n",
    "\n",
    "</h4>OR</h4>\n",
    "\n",
    "</h4>number << bit</h4>"
   ]
  },
  {
   "cell_type": "code",
   "execution_count": 13,
   "metadata": {},
   "outputs": [
    {
     "name": "stdout",
     "output_type": "stream",
     "text": [
      "432\n",
      "432\n"
     ]
    }
   ],
   "source": [
    "print(54<<3)\n",
    "print(54 * 2 ** 3)"
   ]
  },
  {
   "cell_type": "markdown",
   "metadata": {},
   "source": [
    "<h2>LOOP</h2>"
   ]
  },
  {
   "cell_type": "code",
   "execution_count": 16,
   "metadata": {},
   "outputs": [
    {
     "name": "stdout",
     "output_type": "stream",
     "text": [
      "50\n",
      "49\n",
      "48\n",
      "47\n",
      "46\n",
      "45\n",
      "44\n",
      "43\n",
      "42\n",
      "41\n",
      "40\n",
      "39\n",
      "38\n",
      "37\n",
      "36\n",
      "35\n",
      "34\n",
      "33\n",
      "32\n",
      "31\n",
      "30\n",
      "29\n",
      "28\n",
      "27\n",
      "26\n",
      "25\n",
      "24\n",
      "23\n",
      "22\n",
      "21\n",
      "20\n",
      "19\n",
      "18\n",
      "17\n",
      "16\n",
      "15\n",
      "14\n",
      "13\n",
      "12\n",
      "11\n"
     ]
    }
   ],
   "source": [
    "# create a loop from 60 to 10\n",
    "\n",
    "for i in range(50,10,-1):\n",
    "    print(i)"
   ]
  },
  {
   "cell_type": "code",
   "execution_count": 17,
   "metadata": {},
   "outputs": [
    {
     "name": "stdout",
     "output_type": "stream",
     "text": [
      "55\n"
     ]
    }
   ],
   "source": [
    "#find total from 10 to 1\n",
    "sum=0\n",
    "for i in range(10,0,-1):\n",
    "    sum+=i\n",
    "print(sum)"
   ]
  },
  {
   "cell_type": "code",
   "execution_count": 1,
   "metadata": {},
   "outputs": [
    {
     "name": "stdout",
     "output_type": "stream",
     "text": [
      "3\n",
      "6\n",
      "9\n",
      "12\n"
     ]
    }
   ],
   "source": [
    "#make a loop from 1 to 13 and find the  number divisibale by 3\n",
    "\n",
    "for i in range(1,13):\n",
    "    if(i%3==0):\n",
    "        print(i)"
   ]
  },
  {
   "cell_type": "code",
   "execution_count": 7,
   "metadata": {},
   "outputs": [
    {
     "name": "stdout",
     "output_type": "stream",
     "text": [
      "even\n",
      "54   52   50   48   46   44   42   40   38   36   34   32   30   28   26   24   \n",
      "odd\n",
      "55   53   51   49   47   45   43   41   39   37   35   33   31   29   27   25   23   "
     ]
    }
   ],
   "source": [
    "# 55 to 22 and get all the even and odd numbers\n",
    "print('even')\n",
    "for i in range(55,22,-1):\n",
    "    if (i%2==0):\n",
    "        print(i,end='   ')\n",
    "\n",
    "print('\\nodd')\n",
    "for i in range(55,22,-1):\n",
    "    if (i%2!=0):\n",
    "        print(i,end='   ')"
   ]
  },
  {
   "cell_type": "code",
   "execution_count": 8,
   "metadata": {},
   "outputs": [
    {
     "name": "stdout",
     "output_type": "stream",
     "text": [
      "total Odd count = 17\n",
      "total Even count = 16\n"
     ]
    }
   ],
   "source": [
    "# 55 to 22 and get count the even and odd numbers\n",
    "countEven=0\n",
    "countOdd=0\n",
    "for i in range(55,22,-1):\n",
    "    if (i%2==0):\n",
    "        countEven+=1\n",
    "    if (i%2!=0):\n",
    "        countOdd+=1\n",
    "print(f'total Odd count = {countOdd}')\n",
    "print(f'total Even count = {countEven}')\n"
   ]
  }
 ],
 "metadata": {
  "kernelspec": {
   "display_name": "Python 3",
   "language": "python",
   "name": "python3"
  },
  "language_info": {
   "codemirror_mode": {
    "name": "ipython",
    "version": 3
   },
   "file_extension": ".py",
   "mimetype": "text/x-python",
   "name": "python",
   "nbconvert_exporter": "python",
   "pygments_lexer": "ipython3",
   "version": "3.13.1"
  }
 },
 "nbformat": 4,
 "nbformat_minor": 2
}
