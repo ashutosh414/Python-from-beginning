{
 "cells": [
  {
   "cell_type": "markdown",
   "metadata": {},
   "source": [
    "# Day 1"
   ]
  },
  {
   "cell_type": "code",
   "execution_count": null,
   "metadata": {},
   "outputs": [
    {
     "name": "stdout",
     "output_type": "stream",
     "text": [
      "65 \n",
      "66 67 \n",
      "67 68 69 \n"
     ]
    }
   ],
   "source": [
    "num=65\n",
    "for row in range(0,3):\n",
    "    for col in range(0,row+1):\n",
    "        print(col+row+65,end=' ')\n",
    "    print('')"
   ]
  },
  {
   "cell_type": "code",
   "execution_count": 16,
   "metadata": {},
   "outputs": [
    {
     "name": "stdout",
     "output_type": "stream",
     "text": [
      "65 \n",
      "66 67 \n",
      "68 69 70 \n"
     ]
    }
   ],
   "source": [
    "num=65\n",
    "for row in range(0,3):\n",
    "    for col in range(0,row+1):\n",
    "        print(num,end=' ')\n",
    "        num+=1\n",
    "    print('')"
   ]
  },
  {
   "cell_type": "code",
   "execution_count": 18,
   "metadata": {},
   "outputs": [
    {
     "name": "stdout",
     "output_type": "stream",
     "text": [
      "* * * * \n",
      "* * * \n",
      "* * \n",
      "* \n",
      "* * * * \n",
      "* * * \n",
      "* * \n",
      "* \n"
     ]
    }
   ],
   "source": [
    "n=4\n",
    "for i in range(0,n):\n",
    "    for j in range(0,n-i):\n",
    "        print('*',end=' ')\n",
    "    print('')\n",
    "\n",
    "n=4\n",
    "for i in range(0,n):\n",
    "    for j in range(i,n):\n",
    "        print('*',end=' ')\n",
    "    print('')"
   ]
  },
  {
   "cell_type": "code",
   "execution_count": 19,
   "metadata": {},
   "outputs": [
    {
     "name": "stdout",
     "output_type": "stream",
     "text": [
      "0 1 2 3 \n",
      "0 1 2 \n",
      "0 1 \n",
      "0 \n"
     ]
    }
   ],
   "source": [
    "n=4\n",
    "for i in range(0,n):\n",
    "    for j in range(0,n-i):\n",
    "        print(j,end=' ')\n",
    "    print('')"
   ]
  },
  {
   "cell_type": "code",
   "execution_count": 20,
   "metadata": {},
   "outputs": [
    {
     "name": "stdout",
     "output_type": "stream",
     "text": [
      "10 11 12 13 14 \n",
      "15 16 17 18 \n",
      "19 20 21 \n",
      "22 23 \n",
      "24 \n"
     ]
    }
   ],
   "source": [
    "n=5\n",
    "var=10\n",
    "for i in range(0,n):\n",
    "    for j in range(0,n-i):\n",
    "        print(var,end=' ')\n",
    "        var+=1\n",
    "    print('')"
   ]
  },
  {
   "cell_type": "code",
   "execution_count": 31,
   "metadata": {},
   "outputs": [
    {
     "name": "stdout",
     "output_type": "stream",
     "text": [
      "1 2 3 4 \n",
      "2 3 4 \n",
      "3 4 \n",
      "4 \n"
     ]
    }
   ],
   "source": [
    "n=4\n",
    "var=0\n",
    "for i in range(0,n):\n",
    "    for j in range(i,n):\n",
    "        print(j+1,end=' ')\n",
    "        var+=1\n",
    "    print('')"
   ]
  },
  {
   "cell_type": "code",
   "execution_count": null,
   "metadata": {},
   "outputs": [
    {
     "name": "stdout",
     "output_type": "stream",
     "text": [
      "1 2 3 4 \n",
      "2 3 4 \n",
      "3 4 \n",
      "4 \n"
     ]
    }
   ],
   "source": [
    "n=4\n",
    "for i in range(0,n):\n",
    "    var+=1\n",
    "    for j in range(i,n):\n",
    "        print(j+1,end=' ')\n",
    "        var+=1\n",
    "    \n",
    "    print('')"
   ]
  },
  {
   "cell_type": "code",
   "execution_count": 49,
   "metadata": {},
   "outputs": [
    {
     "name": "stdout",
     "output_type": "stream",
     "text": [
      "1 0 1 0 1 \n",
      "1 0 1 0 \n",
      "1 0 1 \n",
      "1 0 \n",
      "1 \n",
      "1 0 1 0 1 \n",
      "1 0 1 0 \n",
      "1 0 1 \n",
      "1 0 \n",
      "1 \n"
     ]
    }
   ],
   "source": [
    "n=5\n",
    "for i in range(0,n):\n",
    "    for j in range(0,n-i):\n",
    "        print('1',end=' ') if j%2==0 else print('0',end=' ')\n",
    "    print('')\n",
    "\n",
    "for i in range(0,n):\n",
    "    for j in range(0,n-i):\n",
    "        print((j+1)%2,end=' ')\n",
    "    print('')"
   ]
  },
  {
   "cell_type": "code",
   "execution_count": null,
   "metadata": {},
   "outputs": [
    {
     "name": "stdout",
     "output_type": "stream",
     "text": [
      "1 0 1 0 1 \n",
      "2 0 2 0 \n",
      "3 0 3 \n",
      "4 0 \n",
      "5 \n",
      "1 0 1 0 1 \n",
      "2 0 2 0 \n",
      "3 0 3 \n",
      "4 0 \n",
      "5 \n"
     ]
    }
   ],
   "source": [
    "val=0\n",
    "for i in range(0,n):\n",
    "    val+=1\n",
    "    for j in range(0,n-i):\n",
    "        print(val,end=' ') if j%2==0 else print('0',end=' ')\n",
    "    print('')\n",
    "\n",
    "for i in range(0,n):\n",
    "    for j in range(0,n-i):\n",
    "        print(i+1,end=' ') if j%2==0 else print('0',end=' ')\n",
    "    print('')"
   ]
  },
  {
   "cell_type": "code",
   "execution_count": 58,
   "metadata": {},
   "outputs": [
    {
     "name": "stdout",
     "output_type": "stream",
     "text": [
      "      * \n",
      "    * * \n",
      "  * * * \n",
      "* * * * \n"
     ]
    }
   ],
   "source": [
    "n=4\n",
    "for i in range(0,n):\n",
    "    for j in range(i,n-1):\n",
    "        print(' ',end=' ')\n",
    "    for k in range(0,i+1):\n",
    "        print('*',end=' ')\n",
    "    print('')"
   ]
  },
  {
   "cell_type": "code",
   "execution_count": 59,
   "metadata": {},
   "outputs": [
    {
     "name": "stdout",
     "output_type": "stream",
     "text": [
      "   * \n",
      "  * * \n",
      " * * * \n",
      "* * * * \n"
     ]
    }
   ],
   "source": [
    "n=4\n",
    "for i in range(0,n):\n",
    "    for j in range(i,n-1):\n",
    "        print(' ',end='')\n",
    "    for k in range(0,i+1):\n",
    "        print('*',end=' ')\n",
    "    print('')"
   ]
  },
  {
   "cell_type": "code",
   "execution_count": 64,
   "metadata": {},
   "outputs": [
    {
     "name": "stdout",
     "output_type": "stream",
     "text": [
      "* * * * * \n",
      "- * * * * \n",
      "- - * * * \n",
      "- - - * * \n",
      "- - - - * \n"
     ]
    }
   ],
   "source": [
    "n=5\n",
    "for i in range(0,n):\n",
    "    for j in range(0,i):\n",
    "        print('-',end=' ')\n",
    "    for k in range(i,n):\n",
    "        print('*',end=' ')\n",
    "    print('')"
   ]
  },
  {
   "cell_type": "code",
   "execution_count": 69,
   "metadata": {},
   "outputs": [
    {
     "name": "stdout",
     "output_type": "stream",
     "text": [
      "* * * * * \n",
      "- *     * \n",
      "- - *   * \n",
      "- - - * * \n",
      "- - - - * \n"
     ]
    }
   ],
   "source": [
    "n=5\n",
    "for i in range(0,n):\n",
    "    for j in range(0,i):\n",
    "        print('-',end=' ')\n",
    "    for k in range(i,n):\n",
    "        print('*',end=' ') if k==n-1 or i==0 or k==i else print(' ',end=' ')\n",
    "    print('')"
   ]
  },
  {
   "cell_type": "code",
   "execution_count": 70,
   "metadata": {},
   "outputs": [
    {
     "name": "stdout",
     "output_type": "stream",
     "text": [
      "* * * * *  \n",
      "*     *  \n",
      "*   *  \n",
      "* *  \n",
      "*  \n"
     ]
    }
   ],
   "source": [
    "for i in range(0,n):\n",
    "    for k in range(i,n):\n",
    "        print('*',end=' ') if k==n-1 or i==0 or k==i else print(' ',end=' ')\n",
    "    print(' ')"
   ]
  },
  {
   "cell_type": "code",
   "execution_count": 3,
   "metadata": {},
   "outputs": [
    {
     "name": "stdout",
     "output_type": "stream",
     "text": [
      "1 2 3 4 5  \n",
      "6     9  \n",
      "10   12  \n",
      "13 14  \n",
      "15  \n"
     ]
    }
   ],
   "source": [
    "n=5\n",
    "var=1\n",
    "for i in range(0,n):\n",
    "    for k in range(i,n):\n",
    "        print(var,end=' ') if k==n-1 or i==0 or k==i else print(' ',end=' ')\n",
    "        var+=1\n",
    "    print(' ')"
   ]
  },
  {
   "cell_type": "markdown",
   "metadata": {},
   "source": [
    "# Day 2"
   ]
  },
  {
   "cell_type": "code",
   "execution_count": 2,
   "metadata": {},
   "outputs": [
    {
     "name": "stdout",
     "output_type": "stream",
     "text": [
      "    * \n",
      "  * * * \n",
      "* * * * * \n"
     ]
    }
   ],
   "source": [
    "# pyramid\n",
    "for i in range(0,3):\n",
    "    for space in range(i,2):\n",
    "        print(' ',end=' ')\n",
    "    for star in range(0,2*i+1):\n",
    "        print('*',end=' ')\n",
    "    print('')"
   ]
  },
  {
   "cell_type": "code",
   "execution_count": 9,
   "metadata": {},
   "outputs": [
    {
     "name": "stdout",
     "output_type": "stream",
     "text": [
      "* * * * * * * \n",
      "  * * * * * \n",
      "    * * * \n",
      "      * \n"
     ]
    }
   ],
   "source": [
    "n=4\n",
    "for i in range(0,n):\n",
    "    for space in range(0,i):\n",
    "        print(' ',end=' ')\n",
    "    for star in range(i,n):\n",
    "        print('*',end=' ')\n",
    "    for star1 in range(i,n-1):\n",
    "        print('*',end=' ')\n",
    "    print('')"
   ]
  },
  {
   "cell_type": "code",
   "execution_count": 20,
   "metadata": {},
   "outputs": [
    {
     "name": "stdout",
     "output_type": "stream",
     "text": [
      "* * * * * * * \n",
      "  * * * * * \n",
      "    * * * \n",
      "      * \n"
     ]
    }
   ],
   "source": [
    "n=4\n",
    "for i in range(0,n):\n",
    "    for space in range(0,i):\n",
    "        print(' ',end=' ')\n",
    "    for star in range(0,2*(n-i)-1):\n",
    "        print('*',end=' ')\n",
    "    print('')"
   ]
  },
  {
   "cell_type": "code",
   "execution_count": 26,
   "metadata": {},
   "outputs": [
    {
     "name": "stdout",
     "output_type": "stream",
     "text": [
      "sorting => [80, 60, 20, 10, 9]\n"
     ]
    }
   ],
   "source": [
    "list2=[10,20,60,80,9]\n",
    "for i in range(0,len(list2)-1):\n",
    "    for j in range(i+1,len(list2)):\n",
    "        if list2[i]<list2[j]:\n",
    "            list2[i],list2[j]=list2[j],list2[i]\n",
    "print('sorting =>',list2)"
   ]
  },
  {
   "cell_type": "code",
   "execution_count": 32,
   "metadata": {},
   "outputs": [
    {
     "name": "stdout",
     "output_type": "stream",
     "text": [
      "5\n"
     ]
    }
   ],
   "source": [
    "class Solution:\n",
    "    def maxProfit(self, prices) :\n",
    "        maxprofit=float('-inf')\n",
    "\n",
    "        for i in range(0,len(prices)-1):\n",
    "\n",
    "            for j in range(i+1,len(prices)):\n",
    "                profit=prices[j]-prices[i]\n",
    "                if maxprofit<profit:\n",
    "                    maxprofit=profit\n",
    "        return maxprofit\n",
    "\n",
    "s=Solution()\n",
    "y=s.maxProfit([7,1,5,3,6,4])\n",
    "print(y)"
   ]
  },
  {
   "cell_type": "code",
   "execution_count": 2,
   "metadata": {},
   "outputs": [],
   "source": [
    "# sort the list with single loop\n",
    "#  2 sum problem leetcode\n",
    "# plus 1 leetcode\n",
    "# you have been given 2 list having same number of element and\n",
    "# u have to merge both list by removing duplicate element by using single loop"
   ]
  }
 ],
 "metadata": {
  "kernelspec": {
   "display_name": "Python 3",
   "language": "python",
   "name": "python3"
  },
  "language_info": {
   "codemirror_mode": {
    "name": "ipython",
    "version": 3
   },
   "file_extension": ".py",
   "mimetype": "text/x-python",
   "name": "python",
   "nbconvert_exporter": "python",
   "pygments_lexer": "ipython3",
   "version": "3.13.1"
  }
 },
 "nbformat": 4,
 "nbformat_minor": 2
}
