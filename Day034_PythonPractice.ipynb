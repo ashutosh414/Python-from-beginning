{
 "cells": [
  {
   "cell_type": "markdown",
   "metadata": {},
   "source": [
    "# Day 1"
   ]
  },
  {
   "cell_type": "code",
   "execution_count": null,
   "metadata": {},
   "outputs": [
    {
     "name": "stdout",
     "output_type": "stream",
     "text": [
      "65 \n",
      "66 67 \n",
      "67 68 69 \n"
     ]
    }
   ],
   "source": [
    "num=65\n",
    "for row in range(0,3):\n",
    "    for col in range(0,row+1):\n",
    "        print(col+row+65,end=' ')\n",
    "    print('')"
   ]
  },
  {
   "cell_type": "code",
   "execution_count": 16,
   "metadata": {},
   "outputs": [
    {
     "name": "stdout",
     "output_type": "stream",
     "text": [
      "65 \n",
      "66 67 \n",
      "68 69 70 \n"
     ]
    }
   ],
   "source": [
    "num=65\n",
    "for row in range(0,3):\n",
    "    for col in range(0,row+1):\n",
    "        print(num,end=' ')\n",
    "        num+=1\n",
    "    print('')"
   ]
  },
  {
   "cell_type": "code",
   "execution_count": 18,
   "metadata": {},
   "outputs": [
    {
     "name": "stdout",
     "output_type": "stream",
     "text": [
      "* * * * \n",
      "* * * \n",
      "* * \n",
      "* \n",
      "* * * * \n",
      "* * * \n",
      "* * \n",
      "* \n"
     ]
    }
   ],
   "source": [
    "n=4\n",
    "for i in range(0,n):\n",
    "    for j in range(0,n-i):\n",
    "        print('*',end=' ')\n",
    "    print('')\n",
    "\n",
    "n=4\n",
    "for i in range(0,n):\n",
    "    for j in range(i,n):\n",
    "        print('*',end=' ')\n",
    "    print('')"
   ]
  },
  {
   "cell_type": "code",
   "execution_count": 19,
   "metadata": {},
   "outputs": [
    {
     "name": "stdout",
     "output_type": "stream",
     "text": [
      "0 1 2 3 \n",
      "0 1 2 \n",
      "0 1 \n",
      "0 \n"
     ]
    }
   ],
   "source": [
    "n=4\n",
    "for i in range(0,n):\n",
    "    for j in range(0,n-i):\n",
    "        print(j,end=' ')\n",
    "    print('')"
   ]
  },
  {
   "cell_type": "code",
   "execution_count": 20,
   "metadata": {},
   "outputs": [
    {
     "name": "stdout",
     "output_type": "stream",
     "text": [
      "10 11 12 13 14 \n",
      "15 16 17 18 \n",
      "19 20 21 \n",
      "22 23 \n",
      "24 \n"
     ]
    }
   ],
   "source": [
    "n=5\n",
    "var=10\n",
    "for i in range(0,n):\n",
    "    for j in range(0,n-i):\n",
    "        print(var,end=' ')\n",
    "        var+=1\n",
    "    print('')"
   ]
  },
  {
   "cell_type": "code",
   "execution_count": 31,
   "metadata": {},
   "outputs": [
    {
     "name": "stdout",
     "output_type": "stream",
     "text": [
      "1 2 3 4 \n",
      "2 3 4 \n",
      "3 4 \n",
      "4 \n"
     ]
    }
   ],
   "source": [
    "n=4\n",
    "var=0\n",
    "for i in range(0,n):\n",
    "    for j in range(i,n):\n",
    "        print(j+1,end=' ')\n",
    "        var+=1\n",
    "    print('')"
   ]
  },
  {
   "cell_type": "code",
   "execution_count": null,
   "metadata": {},
   "outputs": [
    {
     "name": "stdout",
     "output_type": "stream",
     "text": [
      "1 2 3 4 \n",
      "2 3 4 \n",
      "3 4 \n",
      "4 \n"
     ]
    }
   ],
   "source": [
    "n=4\n",
    "for i in range(0,n):\n",
    "    var+=1\n",
    "    for j in range(i,n):\n",
    "        print(j+1,end=' ')\n",
    "        var+=1\n",
    "    \n",
    "    print('')"
   ]
  },
  {
   "cell_type": "code",
   "execution_count": 49,
   "metadata": {},
   "outputs": [
    {
     "name": "stdout",
     "output_type": "stream",
     "text": [
      "1 0 1 0 1 \n",
      "1 0 1 0 \n",
      "1 0 1 \n",
      "1 0 \n",
      "1 \n",
      "1 0 1 0 1 \n",
      "1 0 1 0 \n",
      "1 0 1 \n",
      "1 0 \n",
      "1 \n"
     ]
    }
   ],
   "source": [
    "n=5\n",
    "for i in range(0,n):\n",
    "    for j in range(0,n-i):\n",
    "        print('1',end=' ') if j%2==0 else print('0',end=' ')\n",
    "    print('')\n",
    "\n",
    "for i in range(0,n):\n",
    "    for j in range(0,n-i):\n",
    "        print((j+1)%2,end=' ')\n",
    "    print('')"
   ]
  },
  {
   "cell_type": "code",
   "execution_count": null,
   "metadata": {},
   "outputs": [
    {
     "name": "stdout",
     "output_type": "stream",
     "text": [
      "1 0 1 0 1 \n",
      "2 0 2 0 \n",
      "3 0 3 \n",
      "4 0 \n",
      "5 \n",
      "1 0 1 0 1 \n",
      "2 0 2 0 \n",
      "3 0 3 \n",
      "4 0 \n",
      "5 \n"
     ]
    }
   ],
   "source": [
    "val=0\n",
    "for i in range(0,n):\n",
    "    val+=1\n",
    "    for j in range(0,n-i):\n",
    "        print(val,end=' ') if j%2==0 else print('0',end=' ')\n",
    "    print('')\n",
    "\n",
    "for i in range(0,n):\n",
    "    for j in range(0,n-i):\n",
    "        print(i+1,end=' ') if j%2==0 else print('0',end=' ')\n",
    "    print('')"
   ]
  },
  {
   "cell_type": "code",
   "execution_count": 58,
   "metadata": {},
   "outputs": [
    {
     "name": "stdout",
     "output_type": "stream",
     "text": [
      "      * \n",
      "    * * \n",
      "  * * * \n",
      "* * * * \n"
     ]
    }
   ],
   "source": [
    "n=4\n",
    "for i in range(0,n):\n",
    "    for j in range(i,n-1):\n",
    "        print(' ',end=' ')\n",
    "    for k in range(0,i+1):\n",
    "        print('*',end=' ')\n",
    "    print('')"
   ]
  },
  {
   "cell_type": "code",
   "execution_count": 59,
   "metadata": {},
   "outputs": [
    {
     "name": "stdout",
     "output_type": "stream",
     "text": [
      "   * \n",
      "  * * \n",
      " * * * \n",
      "* * * * \n"
     ]
    }
   ],
   "source": [
    "n=4\n",
    "for i in range(0,n):\n",
    "    for j in range(i,n-1):\n",
    "        print(' ',end='')\n",
    "    for k in range(0,i+1):\n",
    "        print('*',end=' ')\n",
    "    print('')"
   ]
  },
  {
   "cell_type": "code",
   "execution_count": 64,
   "metadata": {},
   "outputs": [
    {
     "name": "stdout",
     "output_type": "stream",
     "text": [
      "* * * * * \n",
      "- * * * * \n",
      "- - * * * \n",
      "- - - * * \n",
      "- - - - * \n"
     ]
    }
   ],
   "source": [
    "n=5\n",
    "for i in range(0,n):\n",
    "    for j in range(0,i):\n",
    "        print('-',end=' ')\n",
    "    for k in range(i,n):\n",
    "        print('*',end=' ')\n",
    "    print('')"
   ]
  },
  {
   "cell_type": "code",
   "execution_count": 69,
   "metadata": {},
   "outputs": [
    {
     "name": "stdout",
     "output_type": "stream",
     "text": [
      "* * * * * \n",
      "- *     * \n",
      "- - *   * \n",
      "- - - * * \n",
      "- - - - * \n"
     ]
    }
   ],
   "source": [
    "n=5\n",
    "for i in range(0,n):\n",
    "    for j in range(0,i):\n",
    "        print('-',end=' ')\n",
    "    for k in range(i,n):\n",
    "        print('*',end=' ') if k==n-1 or i==0 or k==i else print(' ',end=' ')\n",
    "    print('')"
   ]
  },
  {
   "cell_type": "code",
   "execution_count": 70,
   "metadata": {},
   "outputs": [
    {
     "name": "stdout",
     "output_type": "stream",
     "text": [
      "* * * * *  \n",
      "*     *  \n",
      "*   *  \n",
      "* *  \n",
      "*  \n"
     ]
    }
   ],
   "source": [
    "for i in range(0,n):\n",
    "    for k in range(i,n):\n",
    "        print('*',end=' ') if k==n-1 or i==0 or k==i else print(' ',end=' ')\n",
    "    print(' ')"
   ]
  },
  {
   "cell_type": "code",
   "execution_count": 3,
   "metadata": {},
   "outputs": [
    {
     "name": "stdout",
     "output_type": "stream",
     "text": [
      "1 2 3 4 5  \n",
      "6     9  \n",
      "10   12  \n",
      "13 14  \n",
      "15  \n"
     ]
    }
   ],
   "source": [
    "n=5\n",
    "var=1\n",
    "for i in range(0,n):\n",
    "    for k in range(i,n):\n",
    "        print(var,end=' ') if k==n-1 or i==0 or k==i else print(' ',end=' ')\n",
    "        var+=1\n",
    "    print(' ')"
   ]
  },
  {
   "cell_type": "markdown",
   "metadata": {},
   "source": [
    "# Day 2"
   ]
  },
  {
   "cell_type": "code",
   "execution_count": 2,
   "metadata": {},
   "outputs": [
    {
     "name": "stdout",
     "output_type": "stream",
     "text": [
      "    * \n",
      "  * * * \n",
      "* * * * * \n"
     ]
    }
   ],
   "source": [
    "# pyramid\n",
    "for i in range(0,3):\n",
    "    for space in range(i,2):\n",
    "        print(' ',end=' ')\n",
    "    for star in range(0,2*i+1):\n",
    "        print('*',end=' ')\n",
    "    print('')"
   ]
  },
  {
   "cell_type": "code",
   "execution_count": 9,
   "metadata": {},
   "outputs": [
    {
     "name": "stdout",
     "output_type": "stream",
     "text": [
      "* * * * * * * \n",
      "  * * * * * \n",
      "    * * * \n",
      "      * \n"
     ]
    }
   ],
   "source": [
    "n=4\n",
    "for i in range(0,n):\n",
    "    for space in range(0,i):\n",
    "        print(' ',end=' ')\n",
    "    for star in range(i,n):\n",
    "        print('*',end=' ')\n",
    "    for star1 in range(i,n-1):\n",
    "        print('*',end=' ')\n",
    "    print('')"
   ]
  },
  {
   "cell_type": "code",
   "execution_count": 20,
   "metadata": {},
   "outputs": [
    {
     "name": "stdout",
     "output_type": "stream",
     "text": [
      "* * * * * * * \n",
      "  * * * * * \n",
      "    * * * \n",
      "      * \n"
     ]
    }
   ],
   "source": [
    "n=4\n",
    "for i in range(0,n):\n",
    "    for space in range(0,i):\n",
    "        print(' ',end=' ')\n",
    "    for star in range(0,2*(n-i)-1):\n",
    "        print('*',end=' ')\n",
    "    print('')"
   ]
  },
  {
   "cell_type": "code",
   "execution_count": 26,
   "metadata": {},
   "outputs": [
    {
     "name": "stdout",
     "output_type": "stream",
     "text": [
      "sorting => [80, 60, 20, 10, 9]\n"
     ]
    }
   ],
   "source": [
    "list2=[10,20,60,80,9]\n",
    "for i in range(0,len(list2)-1):\n",
    "    for j in range(i+1,len(list2)):\n",
    "        if list2[i]<list2[j]:\n",
    "            list2[i],list2[j]=list2[j],list2[i]\n",
    "print('sorting =>',list2)"
   ]
  },
  {
   "cell_type": "code",
   "execution_count": 32,
   "metadata": {},
   "outputs": [
    {
     "name": "stdout",
     "output_type": "stream",
     "text": [
      "5\n"
     ]
    }
   ],
   "source": [
    "class Solution:\n",
    "    def maxProfit(self, prices) :\n",
    "        maxprofit=float('-inf')\n",
    "\n",
    "        for i in range(0,len(prices)-1):\n",
    "\n",
    "            for j in range(i+1,len(prices)):\n",
    "                profit=prices[j]-prices[i]\n",
    "                if maxprofit<profit:\n",
    "                    maxprofit=profit\n",
    "        return maxprofit\n",
    "\n",
    "s=Solution()\n",
    "y=s.maxProfit([7,1,5,3,6,4])\n",
    "print(y)"
   ]
  },
  {
   "cell_type": "code",
   "execution_count": 2,
   "metadata": {},
   "outputs": [],
   "source": [
    "# sort the list with single loop\n",
    "#  2 sum problem leetcode\n",
    "# plus 1 leetcode\n",
    "# you have been given 2 list having same number of element and\n",
    "# u have to merge both list by removing duplicate element by using single loop"
   ]
  },
  {
   "cell_type": "code",
   "execution_count": 16,
   "metadata": {},
   "outputs": [
    {
     "name": "stdout",
     "output_type": "stream",
     "text": [
      "LXXXVI\n"
     ]
    }
   ],
   "source": [
    "def roman(data):\n",
    "    romanv={1:'I',4:'IV',5:'V',9:'IX',10:'X',40:'XL',50:'L',90:'XC',100:'C'}\n",
    "    romanList=list(romanv.items())\n",
    "    romanList.reverse()\n",
    "    n=0\n",
    "    str1=''\n",
    "    for num,value in romanList:\n",
    "        while data>num:\n",
    "            data=data-num\n",
    "            str1+=value\n",
    "    return str1\n",
    "\n",
    "print(roman(87))"
   ]
  },
  {
   "cell_type": "code",
   "execution_count": 22,
   "metadata": {},
   "outputs": [
    {
     "name": "stdout",
     "output_type": "stream",
     "text": [
      "[2, 2, 2, 2, 2, 2, 2, 2, 2, 3, 3, 3, 3, 3, 3, 3, 3, 3, 4, 4, 4, 4, 4, 4, 4, 4, 4, 5, 5, 5, 5, 5, 5, 5, 5, 5, 6, 6, 6, 6, 6, 6, 6, 6, 6, 7, 7, 7, 7, 7, 7, 7, 7, 7, 8, 8, 8, 8, 8, 8, 8, 8, 8, 9, 9, 9, 9, 9, 9, 9, 9, 9]\n"
     ]
    }
   ],
   "source": [
    "y=[i for i in y for y in range(1,10)]\n",
    "print(y)"
   ]
  },
  {
   "cell_type": "code",
   "execution_count": 21,
   "metadata": {},
   "outputs": [
    {
     "name": "stdout",
     "output_type": "stream",
     "text": [
      "0\n",
      "1\n"
     ]
    }
   ],
   "source": [
    "y=( i for i in range(0,10))\n",
    "print(y.__next__())\n",
    "print(y.__next__())"
   ]
  },
  {
   "cell_type": "code",
   "execution_count": 26,
   "metadata": {},
   "outputs": [
    {
     "data": {
      "text/plain": [
       "False"
      ]
     },
     "execution_count": 26,
     "metadata": {},
     "output_type": "execute_result"
    }
   ],
   "source": [
    "# python store value from 0 to 256 in cached memory.append\n",
    "a=257\n",
    "b=257\n",
    "a is b\n",
    "# python have call by object reference.\n"
   ]
  },
  {
   "cell_type": "code",
   "execution_count": 31,
   "metadata": {},
   "outputs": [
    {
     "ename": "SyntaxError",
     "evalue": "invalid syntax (2354353686.py, line 12)",
     "output_type": "error",
     "traceback": [
      "\u001b[1;36m  Cell \u001b[1;32mIn[31], line 12\u001b[1;36m\u001b[0m\n\u001b[1;33m    globals x=9\u001b[0m\n\u001b[1;37m            ^\u001b[0m\n\u001b[1;31mSyntaxError\u001b[0m\u001b[1;31m:\u001b[0m invalid syntax\n"
     ]
    }
   ],
   "source": [
    "def my_function():\n",
    "    print(x)  # Accesses the global variable\n",
    "x=100\n",
    "my_function()  # Output: 50\n",
    "x=x-10\n",
    "my_function()  # Output: 50\n",
    "\n",
    "# any change in global variable in local scope then the change only affect on local scope not on goble variable(globle scope)\n",
    "# and if we want to change in goble varible in local scope and it should be affecting in global scope then we use 'global' keyword.\n",
    "\n",
    "def my_function1(x):\n",
    "    globals x=9\n",
    "    print(x)  # Accesses the global variable\n",
    "x=100\n",
    "my_function1(x)  # Output: 50\n",
    "x=x-10\n",
    "my_function1()  # Output: 50"
   ]
  },
  {
   "cell_type": "code",
   "execution_count": 34,
   "metadata": {},
   "outputs": [
    {
     "name": "stdout",
     "output_type": "stream",
     "text": [
      "6\n",
      "6\n"
     ]
    }
   ],
   "source": [
    "def my_function1():\n",
    "    global x\n",
    "    x=6\n",
    "    print(x)  # Accesses the global variable\n",
    "x=100\n",
    "my_function1()  # Output: 50\n",
    "x=x-10\n",
    "my_function1()  # Output: 50"
   ]
  },
  {
   "cell_type": "code",
   "execution_count": 35,
   "metadata": {},
   "outputs": [
    {
     "name": "stdout",
     "output_type": "stream",
     "text": [
      "hey ashu hello\n",
      "hey ashu 10\n"
     ]
    }
   ],
   "source": [
    "# type hinting\n",
    "def func(x : int) -> str:\n",
    "    print('hey ashu',x)\n",
    "func('hello')\n",
    "func(10)\n"
   ]
  },
  {
   "cell_type": "code",
   "execution_count": null,
   "metadata": {},
   "outputs": [],
   "source": [
    "# keyword argument\n",
    "# default argument\n",
    "# variable and keywordvaraible argument\n",
    "high order and first class funtion"
   ]
  },
  {
   "cell_type": "markdown",
   "metadata": {},
   "source": [
    "# Day 3"
   ]
  },
  {
   "cell_type": "code",
   "execution_count": 1,
   "metadata": {},
   "outputs": [
    {
     "name": "stdout",
     "output_type": "stream",
     "text": [
      "()\n",
      "(10, 20, 30)\n",
      "(123, 234, 4, 23, 12, 12, 1234, 4, 5, 6, 7)\n"
     ]
    }
   ],
   "source": [
    "# *args =>variable length argument\n",
    "def func(*a):\n",
    "    print(a)\n",
    "func()\n",
    "func(10,20,30)\n",
    "func(123,234,4,23,12,12,1234,4,5,6,7)"
   ]
  },
  {
   "cell_type": "code",
   "execution_count": 15,
   "metadata": {},
   "outputs": [
    {
     "data": {
      "text/plain": [
       "'ashutsoh name is my'"
      ]
     },
     "execution_count": 15,
     "metadata": {},
     "output_type": "execute_result"
    }
   ],
   "source": [
    "x= lambda y: y.split()[-1]+' '+ ' '.join( y.split()[1:-1])+' '+y.split()[0]\n",
    "x('my name is ashutsoh')"
   ]
  },
  {
   "cell_type": "code",
   "execution_count": 19,
   "metadata": {},
   "outputs": [
    {
     "name": "stdout",
     "output_type": "stream",
     "text": [
      "17\n",
      "347\n",
      "17\n",
      "50\n"
     ]
    }
   ],
   "source": [
    "\n",
    "mylist=[12,342,12,45,5]\n",
    "h=map(lambda s:s+5,mylist)\n",
    "print(h.__next__())\n",
    "print(next(h))\n",
    "print(next(h))\n",
    "print(next(h))"
   ]
  },
  {
   "cell_type": "code",
   "execution_count": 22,
   "metadata": {},
   "outputs": [
    {
     "name": "stdout",
     "output_type": "stream",
     "text": [
      "[True, True, True, False, False]\n",
      "[12, 342, 12]\n"
     ]
    }
   ],
   "source": [
    "\n",
    "mylist=[12,342,12,45,5]\n",
    "h=map(lambda s:s%2==0,mylist)\n",
    "print(list(h))\n",
    "h1=filter(lambda s:s%2==0,mylist)\n",
    "print(list(h1))"
   ]
  },
  {
   "cell_type": "code",
   "execution_count": 30,
   "metadata": {},
   "outputs": [
    {
     "name": "stdout",
     "output_type": "stream",
     "text": [
      "{10: 40, 20: 50, 300: 60}\n",
      "{10: 40, 20: 50, 300: 60}\n"
     ]
    }
   ],
   "source": [
    "# Q1\n",
    "# l1=[10,20,300]\n",
    "# l2=[40,50,60]\n",
    "# {10:40,  20:50,  300:60}\n",
    "# # note using zip and without zip\n",
    "\n",
    "l1=[10,20,300]\n",
    "l2=[40,50,60]\n",
    "nzip={l1[i]:l2[i] for i in range(len(l1))}\n",
    "print(nzip)\n",
    "\n",
    "a1={}\n",
    "for i in range(len(l1)):\n",
    "    a1[l1[i]]=l2[i]\n",
    "print(a1)"
   ]
  },
  {
   "cell_type": "code",
   "execution_count": 46,
   "metadata": {},
   "outputs": [
    {
     "name": "stdout",
     "output_type": "stream",
     "text": [
      "{10: 19, 11: 20}\n",
      "{10: 19, 11: 20}\n"
     ]
    }
   ],
   "source": [
    "# Q3 {10:19,  11:20,  13:NONE}\n",
    "# delete the key-value pair where the value is none\n",
    "\n",
    "y={10:19,  11:20,  13:None}\n",
    "z={}\n",
    "for key,val in y.items():\n",
    "    if val is not None:\n",
    "        z[key]=val\n",
    "print(z)\n",
    "\n",
    "l=[]\n",
    "for key,val in y.items():\n",
    "    if val is None:\n",
    "        l.append(key)\n",
    "for a in l:\n",
    "    y.pop(a)\n",
    "print(y)\n",
    "\n",
    "# y.popitem(list(filter(lambda key:y[key] is not None,y)))\n",
    "# print(y)\n"
   ]
  },
  {
   "cell_type": "code",
   "execution_count": 47,
   "metadata": {},
   "outputs": [
    {
     "name": "stdout",
     "output_type": "stream",
     "text": [
      "{'x': 25, 'y': 49, 'z': 100}\n"
     ]
    }
   ],
   "source": [
    "# Q4:   {\"x\":5, \"y\":7, \"z\":10}\n",
    "# print new dictionary as square of each key {x:25, y:49,  z:100}\n",
    "\n",
    "dict1=  {\"x\":5, \"y\":7, \"z\":10}\n",
    "dict2={x:y*y for x,y in dict1.items()}\n",
    "print(dict2)"
   ]
  },
  {
   "cell_type": "code",
   "execution_count": 49,
   "metadata": {},
   "outputs": [
    {
     "name": "stdout",
     "output_type": "stream",
     "text": [
      "{1: 1, 2: 8, 3: 27, 4: 64, 5: 125}\n"
     ]
    }
   ],
   "source": [
    "# Q5\n",
    "# create a dictionary as cube of number from 1 to 5\n",
    "# {1:1, 2:8, 3:27, 4:64, 5:125}\n",
    "# Note use only thing we have learnt\n",
    "\n",
    "dict2={y:y*y*y for y in range(1,6)}\n",
    "print(dict2)"
   ]
  },
  {
   "cell_type": "code",
   "execution_count": 52,
   "metadata": {},
   "outputs": [
    {
     "name": "stdout",
     "output_type": "stream",
     "text": [
      "{'average': 7.33, 'max': 10}\n"
     ]
    }
   ],
   "source": [
    "# Q6 {\"x\":5, \"y\":7, \"z\":10}\n",
    "# get the ans in new dictionary {\"average\":7.3 ,   \"max\":10}\n",
    "\n",
    "dict1={\"x\":5, \"y\":7, \"z\":10}\n",
    "dict2={}\n",
    "avgval=[i for i in dict1.values()]\n",
    "maxval=max(avgval)\n",
    "dict2['average']=round(sum(avgval)/len(avgval),2)\n",
    "dict2['max']=maxval\n",
    "print(dict2)"
   ]
  },
  {
   "cell_type": "code",
   "execution_count": 53,
   "metadata": {},
   "outputs": [
    {
     "name": "stdout",
     "output_type": "stream",
     "text": [
      "1\n",
      "4\n"
     ]
    }
   ],
   "source": [
    "\n",
    "\n",
    "# Q2 {name: marks .. . . . .  ======>} multiple elements\n",
    "# now take a input from the user for score variable\n",
    "# - print the key who have more value then the score variable\n",
    "\n",
    "dict1={1:40,2:32,3:0,4:90}\n",
    "x=32\n",
    "for key,val in dict1.items():\n",
    "    if val>x:\n",
    "        print(key)"
   ]
  }
 ],
 "metadata": {
  "kernelspec": {
   "display_name": "Python 3",
   "language": "python",
   "name": "python3"
  },
  "language_info": {
   "codemirror_mode": {
    "name": "ipython",
    "version": 3
   },
   "file_extension": ".py",
   "mimetype": "text/x-python",
   "name": "python",
   "nbconvert_exporter": "python",
   "pygments_lexer": "ipython3",
   "version": "3.13.1"
  }
 },
 "nbformat": 4,
 "nbformat_minor": 2
}
