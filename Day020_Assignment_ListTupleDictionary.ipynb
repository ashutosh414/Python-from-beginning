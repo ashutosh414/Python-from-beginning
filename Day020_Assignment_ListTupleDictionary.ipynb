{
 "cells": [
  {
   "cell_type": "code",
   "execution_count": 79,
   "metadata": {},
   "outputs": [
    {
     "name": "stdout",
     "output_type": "stream",
     "text": [
      "[9, 8, 7, 6, 5, 4, 3, 2]\n"
     ]
    }
   ],
   "source": [
    "# 1. Reverse a String\n",
    "# Write a Python function to reverse a given string.\n",
    "\n",
    "def reverrse1(data):\n",
    "    return data[::-1]\n",
    "data=[2,3,4,5,6,7,8,9]\n",
    "print(reverrse1(data))"
   ]
  },
  {
   "cell_type": "code",
   "execution_count": 80,
   "metadata": {},
   "outputs": [
    {
     "name": "stdout",
     "output_type": "stream",
     "text": [
      "9\n"
     ]
    }
   ],
   "source": [
    "# 2. Find the Largest Element in a List\n",
    "# Write a function to find the largest number in a list.\n",
    "def largestNum(data):\n",
    "    max1=data[0]\n",
    "    for ele in data:\n",
    "        if ele>max1:\n",
    "            max1=ele\n",
    "    return max1\n",
    "data=[2,3,4,5,6,7,8,9]\n",
    "print(largestNum(data))"
   ]
  },
  {
   "cell_type": "code",
   "execution_count": null,
   "metadata": {},
   "outputs": [
    {
     "name": "stdout",
     "output_type": "stream",
     "text": [
      "False\n"
     ]
    }
   ],
   "source": [
    "# 3. Write a Python program to check if a list is sorted in ascending order.\n",
    "\n",
    "def isAccending(data):\n",
    "    for i in range(1,len(data)):\n",
    "        if data[i-1]>data[i]:\n",
    "            return False\n",
    "    else:\n",
    "        return True\n",
    "    \n",
    "my_list=[1, 2, 3, 4, 5, 3]\n",
    "print(isAccending(my_list))"
   ]
  },
  {
   "cell_type": "code",
   "execution_count": 81,
   "metadata": {},
   "outputs": [
    {
     "name": "stdout",
     "output_type": "stream",
     "text": [
      "{2: 2, 3: 1, 6: 2, 5: 2, 4: 2, 7: 1, 8: 1, 9: 1}\n"
     ]
    }
   ],
   "source": [
    "# 4. Count Occurrences of an Element in a List\n",
    "# Write a Python program to count the occurrences of a given element in a list.\n",
    "\n",
    "def Count1(data):\n",
    "    return {ele:data.count(ele) for ele in data}\n",
    "data=[2,3,2,6,5,4,4,5,6,7,8,9]\n",
    "print(Count1(data))"
   ]
  },
  {
   "cell_type": "code",
   "execution_count": null,
   "metadata": {},
   "outputs": [
    {
     "name": "stdout",
     "output_type": "stream",
     "text": [
      "[6, 5, 7]\n"
     ]
    }
   ],
   "source": [
    "# 5. Write a Python program to find the common elements between two lists.\n",
    "\n",
    "def commonElement(data1,data2):\n",
    "    output=[]\n",
    "    for ele in data1:\n",
    "        if ele in data2 and ele not in output:\n",
    "            output.append(ele)\n",
    "    return output\n",
    "data1=[2,3,2,6,5,4,4,5,6,7,8,9]\n",
    "data2=[12,23,23,63,55,64,74,5,6,7,48,49]\n",
    "print(commonElement(data1,data2))"
   ]
  },
  {
   "cell_type": "code",
   "execution_count": 82,
   "metadata": {},
   "outputs": [
    {
     "name": "stdout",
     "output_type": "stream",
     "text": [
      "44\n"
     ]
    }
   ],
   "source": [
    "# 6. Sum of All Numbers in a List\n",
    "# Write a Python program to find the sum of all numbers in a list.\n",
    "\n",
    "def sumOfEle(data):\n",
    "    return sum(data)\n",
    "data=[2,3,4,5,6,7,8,9]\n",
    "print(sumOfEle(data))"
   ]
  },
  {
   "cell_type": "code",
   "execution_count": null,
   "metadata": {},
   "outputs": [
    {
     "name": "stdout",
     "output_type": "stream",
     "text": [
      "[1, 2, 6, 24, 120]\n"
     ]
    }
   ],
   "source": [
    "# 7. Write a Python program to find the factorial range to the number.\n",
    "\n",
    "def fatorialrange(element):\n",
    "    output=[1]\n",
    "    for i in range(2,element+1):\n",
    "        output.append(output[-1]*i)\n",
    "    return output\n",
    "\n",
    "element=5\n",
    "print(fatorialrange(element))"
   ]
  },
  {
   "cell_type": "code",
   "execution_count": 83,
   "metadata": {},
   "outputs": [
    {
     "name": "stdout",
     "output_type": "stream",
     "text": [
      "[2, 3, 6, 5, 4, 7, 8, 9]\n"
     ]
    }
   ],
   "source": [
    "# 8. Remove Duplicates from a List\n",
    "# Write a Python function to remove duplicate elements from a list.\n",
    "\n",
    "def remDuplicate(data):\n",
    "    if len(set(data))==len(data):\n",
    "        return data\n",
    "    output=[]\n",
    "    for i in range(0,len(data)):\n",
    "        if data[i] not in output:\n",
    "            output.append(data[i])\n",
    "    return output\n",
    "\n",
    "data=[2,3,2,6,5,4,4,5,6,7,8,9]\n",
    "print(remDuplicate(data))\n",
    "            \n",
    "        "
   ]
  },
  {
   "cell_type": "code",
   "execution_count": null,
   "metadata": {},
   "outputs": [
    {
     "name": "stdout",
     "output_type": "stream",
     "text": [
      "13\n"
     ]
    }
   ],
   "source": [
    "# 9. Write a Python program to generate a Fibonacci sequence up to a given number n.\n",
    "\n",
    "def febonacciSeries(element):\n",
    "    if element<=1:\n",
    "        return 1\n",
    "\n",
    "    return febonacciSeries(element-1) + febonacciSeries(element-2)\n",
    "print(febonacciSeries(6))"
   ]
  },
  {
   "cell_type": "code",
   "execution_count": null,
   "metadata": {},
   "outputs": [
    {
     "name": "stdout",
     "output_type": "stream",
     "text": [
      "[1, 2, 3, 4, 5, 6]\n",
      "[1, 2, 3, 4, 5, 6]\n"
     ]
    }
   ],
   "source": [
    "# 10. Write a Python program to flatten a nested list.\n",
    "\n",
    "# Input: [[1, 2], [3, 4], [5, 6]]\n",
    "# Output: [1, 2, 3, 4, 5, 6]\n",
    "\n",
    "data=[[1, 2], [3, 4], [5, 6]]\n",
    "output=[]\n",
    "for list1 in data:\n",
    "    for ele in list1:\n",
    "        output.append(ele)\n",
    "print(output)\n",
    "\n",
    "output1=[item for sublist in data for item in sublist]\n",
    "print(output1)\n"
   ]
  },
  {
   "cell_type": "code",
   "execution_count": 84,
   "metadata": {},
   "outputs": [
    {
     "name": "stdout",
     "output_type": "stream",
     "text": [
      "(9, 8, 7, 6, 5, 4, 3, 2)\n"
     ]
    }
   ],
   "source": [
    "# 1. Reverse a Tuple\n",
    "# Write a Python function to reverse a given tuple.\n",
    "tupleData=(2,3,4,5,6,7,8,9)\n",
    "print(tupleData[::-1])"
   ]
  },
  {
   "cell_type": "code",
   "execution_count": 85,
   "metadata": {},
   "outputs": [
    {
     "name": "stdout",
     "output_type": "stream",
     "text": [
      "8\n"
     ]
    }
   ],
   "source": [
    "# 2. Find the Length of a Tuple\n",
    "# Write a function to find the length of a given tuple.\n",
    "tupleData=(2,3,4,5,6,7,8,9)\n",
    "print(len(tupleData))"
   ]
  },
  {
   "cell_type": "code",
   "execution_count": 86,
   "metadata": {},
   "outputs": [
    {
     "name": "stdout",
     "output_type": "stream",
     "text": [
      "(2, 3, 4, 5, 6, 7, 8, 9, 2212, 3, 4, 5, 212)\n"
     ]
    }
   ],
   "source": [
    "# 3. Concatenate Two Tuples\n",
    "# Write a Python function to concatenate two given tuples into one.\n",
    "tupleData=(2,3,4,5,6,7,8,9)\n",
    "tupleData1=(2212,3,4,5,212)\n",
    "newTuple=tupleData+tupleData1\n",
    "print(newTuple)"
   ]
  },
  {
   "cell_type": "code",
   "execution_count": 87,
   "metadata": {},
   "outputs": [
    {
     "name": "stdout",
     "output_type": "stream",
     "text": [
      "{2: 2, 3: 1, 6: 2, 5: 2, 4: 2, 7: 1, 8: 1, 9: 1}\n"
     ]
    }
   ],
   "source": [
    "# 4. Count Occurrences of an Element in a Tuple\n",
    "# Write a function that takes a tuple and an element as input, and returns the number of occurrences of that element in the tuple.\n",
    "data=(2,3,2,6,5,4,4,5,6,7,8,9)\n",
    "my_dict={}\n",
    "for ele in data:\n",
    "    if ele not in my_dict:\n",
    "        my_dict.update({ele:data.count(ele)})\n",
    "print(my_dict)\n"
   ]
  },
  {
   "cell_type": "code",
   "execution_count": 88,
   "metadata": {},
   "outputs": [
    {
     "name": "stdout",
     "output_type": "stream",
     "text": [
      "[2, 3, 2, 6, 5, 4, 4, 5, 6, 7, 8, 9]\n",
      "[2, 3, 2, 6, 5, 4, 4, 5, 6, 7, 8, 9]\n"
     ]
    }
   ],
   "source": [
    "# 5. Convert a Tuple to a List\n",
    "# Write a Python function that converts a given tuple into a list.\n",
    "\n",
    "data=(2,3,2,6,5,4,4,5,6,7,8,9)\n",
    "print(list(data))\n",
    "\n",
    "# OR\n",
    "my_list=[]\n",
    "for ele in data:\n",
    "    my_list.append(ele)\n",
    "print(my_list)"
   ]
  },
  {
   "cell_type": "code",
   "execution_count": 89,
   "metadata": {},
   "outputs": [
    {
     "name": "stdout",
     "output_type": "stream",
     "text": [
      "the answer is 3\n",
      "3\n"
     ]
    }
   ],
   "source": [
    "# 6. Find the Index of an Element in a Tuple\n",
    "# Write a function that takes a tuple and an element as input, and returns the index of the element if it exists in the tuple.\n",
    "\n",
    "\n",
    "def findIndex(data,element):\n",
    "    for i in data:\n",
    "        if element==data[i]:\n",
    "            return i\n",
    "    return 'No elemnt found'\n",
    "data=(2,3,2,6,5,4,4,5,6,7,8,9)\n",
    "print(f'the answer is {findIndex(data,6)}')\n",
    "\n",
    "# or\n",
    "print(data.index(6))\n"
   ]
  },
  {
   "cell_type": "code",
   "execution_count": 90,
   "metadata": {},
   "outputs": [
    {
     "name": "stdout",
     "output_type": "stream",
     "text": [
      "the answer is False\n"
     ]
    }
   ],
   "source": [
    "# 7. Check if a Tuple Contains a Specific Element\n",
    "# Write a function that checks if a given element is present in a tuple.\n",
    "\n",
    "def isEle(data,element):\n",
    "    if element in data:\n",
    "        return True\n",
    "    else:\n",
    "        return False\n",
    "data=(2,3,2,6,5,4,4,5,6,7,8,9)\n",
    "print(f'the answer is {isEle(data,60)}')"
   ]
  },
  {
   "cell_type": "code",
   "execution_count": 91,
   "metadata": {},
   "outputs": [
    {
     "name": "stdout",
     "output_type": "stream",
     "text": [
      "10 20 [56, 563, 34, 23, 232]\n"
     ]
    }
   ],
   "source": [
    "# 8. Unpack a Tuple into Variables\n",
    "# Write a Python function that demonstrates how to unpack a tuple into individual variables.\n",
    "\n",
    "data=(10,20,56,563,34,23,232)\n",
    "x,y,*other=map(int,data)\n",
    "print(x,y,other)"
   ]
  },
  {
   "cell_type": "code",
   "execution_count": 92,
   "metadata": {},
   "outputs": [
    {
     "name": "stdout",
     "output_type": "stream",
     "text": [
      "the answer is (1, 2, 3, 2, 6, 5, 4, 4, 5, 6, 0, 7, 8, 9)\n"
     ]
    }
   ],
   "source": [
    "# 9. Nested Tuple Flattening\n",
    "# Write a function that takes a nested tuple (a tuple containing other tuples) and flattens it into a single tuple.\n",
    "\n",
    "def flatenTuple(data):\n",
    "    my_list=[]\n",
    "    for ele in data:\n",
    "        if type(ele) is tuple:\n",
    "            my_list.extend(ele)\n",
    "        else:\n",
    "            my_list.append(ele)\n",
    "    return tuple(my_list)\n",
    "data=(1,2,3,2,6,(5,4,4,5),6,0,(7,8),9)\n",
    "print(f'the answer is {flatenTuple(data)}')"
   ]
  },
  {
   "cell_type": "code",
   "execution_count": 93,
   "metadata": {},
   "outputs": [
    {
     "name": "stdout",
     "output_type": "stream",
     "text": [
      "the answer is (9, 0)\n"
     ]
    }
   ],
   "source": [
    "# 10. Find the Maximum and Minimum of a Tuple\n",
    "# Write a function that takes a tuple of numbers and returns the maximum and minimum values in the tuple.\n",
    "def MaxMin(data):\n",
    "    my_max,my_min=data[0],data[0]\n",
    "    for i in range(len(data)):\n",
    "        if data[i]>my_max:\n",
    "            my_max=data[i]\n",
    "        if data[i]<my_min:\n",
    "            my_min=data[i]\n",
    "    return my_max,my_min\n",
    "data=(1,2,3,2,6,5,4,4,5,6,0,7,8,9)\n",
    "print(f'the answer is {MaxMin(data)}')"
   ]
  },
  {
   "cell_type": "code",
   "execution_count": 94,
   "metadata": {},
   "outputs": [
    {
     "name": "stdout",
     "output_type": "stream",
     "text": [
      "{'a': 1, 'b': 2, 'c': 'cc', 'y': 12, 'x': 1}\n"
     ]
    }
   ],
   "source": [
    "# Merge two dictionaries\n",
    "# Given two dictionaries, write a program to merge them. If there are common keys,\n",
    "#  the values should be summed up or overwritten based on your requirements.\n",
    "\n",
    "def merge_dict(my_dict1,my_dict2):\n",
    "    merged_dict=my_dict1.copy()\n",
    "    for key1,value1 in my_dict2.items():\n",
    "        if key1 in merged_dict:\n",
    "            merged_dict[key1]+=value1\n",
    "        else:\n",
    "            merged_dict.update({key1:value1})\n",
    "    return merged_dict\n",
    "\n",
    "my_dict1={'a':1,'b':2,'c':'c','y':10}\n",
    "my_dict2={'x':1,'y':2,'c':'c'}\n",
    "\n",
    "merged_dict=merge_dict(my_dict1,my_dict2)\n",
    "print(merged_dict)\n"
   ]
  },
  {
   "cell_type": "code",
   "execution_count": 95,
   "metadata": {},
   "outputs": [
    {
     "name": "stdout",
     "output_type": "stream",
     "text": [
      "('c', 30)\n"
     ]
    }
   ],
   "source": [
    "# Find the key with the maximum value\n",
    "# Given a dictionary, write a program to find the key with the highest value.\n",
    "# Handle cases where there might be multiple keys with the same value.\n",
    "\n",
    "def max_value(data):\n",
    "    max_key=list(my_dict.keys())[0]\n",
    "    for key in data:\n",
    "        if data[max_key]<data[key]:\n",
    "            max_key=key\n",
    "    return max_key,data[max_key]\n",
    "\n",
    "\n",
    "my_dict = {\n",
    "    'a': 10,\n",
    "    'b': 20,\n",
    "    'c': 30,\n",
    "    'd': 30,\n",
    "    'e': 5\n",
    "}\n",
    "print(max_value(my_dict))\n"
   ]
  },
  {
   "cell_type": "code",
   "execution_count": 96,
   "metadata": {},
   "outputs": [
    {
     "name": "stdout",
     "output_type": "stream",
     "text": [
      "False\n",
      "True\n"
     ]
    }
   ],
   "source": [
    "# Check if a key exists in a dictionary\n",
    "# Write a function that checks if a specific key is present in a dictionary and returns True or False.\n",
    "\n",
    "def key_existance(data,key):\n",
    "    if key in data:\n",
    "        return True\n",
    "    else:\n",
    "        return False\n",
    "my_dict = {\n",
    "    'a': 10,\n",
    "    'b': 20,\n",
    "    'c': 30,\n",
    "    'd': 30,\n",
    "    'e': 5\n",
    "}\n",
    "key='z'\n",
    "print(key_existance(my_dict,key))\n",
    "key='a'\n",
    "print(key_existance(my_dict,key))"
   ]
  },
  {
   "cell_type": "code",
   "execution_count": 97,
   "metadata": {},
   "outputs": [
    {
     "name": "stdout",
     "output_type": "stream",
     "text": [
      "5\n",
      "[('c', 30), ('d', 30), ('b', 20), ('a', 10), ('e', 5)]\n",
      "[('e', 5), ('a', 10), ('b', 20), ('d', 30), ('c', 30)]\n"
     ]
    }
   ],
   "source": [
    "# Sort a dictionary by value\n",
    "# Given a dictionary, write a function that returns a list of tuples sorted by the dictionary \n",
    "# values in ascending or descending order.\n",
    "\n",
    "def sortdict(data):\n",
    "    data_list=list(data.items())\n",
    "    length=len(data_list)\n",
    "    print(length)\n",
    "    for i in range(length):\n",
    "        for j in range(i+1,length):\n",
    "            if data_list[i][1]<data_list[j][1]:\n",
    "                data_list[i],data_list[j]=data_list[j],data_list[i]\n",
    "    return data_list\n",
    "\n",
    "my_dict = {'a': 10,'b': 20,'c': 30,'d': 30,'e': 5}\n",
    "sortedDict=sortdict(my_dict)\n",
    "print(sortedDict)\n",
    "sortedDict.reverse()\n",
    "print(sortedDict)"
   ]
  },
  {
   "cell_type": "code",
   "execution_count": 98,
   "metadata": {},
   "outputs": [
    {
     "name": "stdout",
     "output_type": "stream",
     "text": [
      "{'M': 1, 'y': 1, ' ': 4, 'n': 1, 'a': 2, 'm': 2, 'e': 1, 'i': 1, 's': 3, 'A': 1, 'h': 2, 'u': 2, 't': 1, 'o': 1, 'K': 1, 'r': 1}\n"
     ]
    }
   ],
   "source": [
    "# Count the occurrences of each character in a string\n",
    "# Write a program to count the occurrences of each character in a string\n",
    "#  and store the results in a dictionary.\n",
    "\n",
    "def countingString(data):\n",
    "    output={}\n",
    "    for ele in data:\n",
    "        if ele in output:\n",
    "            output[ele]+=1\n",
    "        else:\n",
    "            output[ele]=1\n",
    "    return output\n",
    "\n",
    "data=\"My name is Ashutosh Kumar\"\n",
    "print(countingString(data))"
   ]
  },
  {
   "cell_type": "code",
   "execution_count": 99,
   "metadata": {},
   "outputs": [
    {
     "name": "stdout",
     "output_type": "stream",
     "text": [
      "{10: 'a', 20: 'b', 30: 'c', 5: 'e'}\n",
      "{10: 'a', 20: 'b', 30: 'c', 5: 'e'}\n"
     ]
    }
   ],
   "source": [
    "# Invert a dictionary\n",
    "# Given a dictionary where values are unique, write a program to invert the dictionary\n",
    "#  (i.e., swap the keys and values).\n",
    "\n",
    "my_dict = {'a': 10,'b': 20,'c': 30,'e': 5}\n",
    "my_list=list(my_dict.items())\n",
    "new_dict={}\n",
    "for data in my_list:\n",
    "    new_dict[data[1]]=data[0]\n",
    "print(new_dict)\n",
    "\n",
    "# or\n",
    "\n",
    "new_dict2={value:key for key,value in my_dict.items()}\n",
    "print(new_dict2)"
   ]
  },
  {
   "cell_type": "code",
   "execution_count": 100,
   "metadata": {},
   "outputs": [
    {
     "name": "stdout",
     "output_type": "stream",
     "text": [
      "30\n",
      "30\n",
      "{'a': 10, 'b': 20, 'e': 5}\n",
      "{'a': 10, 'b': 20, 'e': 5}\n"
     ]
    }
   ],
   "source": [
    "# Remove key-value pairs where the value is a specific value\n",
    "# Write a program that removes all key-value pairs from a dictionary\n",
    "#  where the value is equal to a specified value.\n",
    "\n",
    "my_dict = {'a': 10,'b': 20,'c': 30,'d': 30,'e': 5}\n",
    "target=30\n",
    "del_keys=[]\n",
    "for ele,value in my_dict.items():\n",
    "    if value == target:\n",
    "        del_keys.append(ele)\n",
    "for ele in del_keys:\n",
    "    print(my_dict.pop(ele))\n",
    "print(my_dict)\n",
    "\n",
    "# or \n",
    "my_dict = {'a': 10,'b': 20,'c': 30,'d': 30,'e': 5}\n",
    "my_dict={key:value for key,value in my_dict.items() if value!=target}\n",
    "print(my_dict)"
   ]
  },
  {
   "cell_type": "code",
   "execution_count": 101,
   "metadata": {},
   "outputs": [
    {
     "data": {
      "text/plain": [
       "{'c', 'd', 'e'}"
      ]
     },
     "execution_count": 101,
     "metadata": {},
     "output_type": "execute_result"
    }
   ],
   "source": [
    "# Find common keys between two dictionaries\n",
    "# Write a program to find all the keys that are common between two given dictionaries.\n",
    "\n",
    "my_dict = {'a': 10,'b': 20,'c': 30,'d': 30,'e': 5}\n",
    "my_dict1 = {'a1': 10,'b1': 20,'c': 320,'d': 310,'e': 15}\n",
    "\n",
    "keys_dict1=set(my_dict.keys())\n",
    "keys_dict2=set(my_dict1.keys())\n",
    "\n",
    "keys_dict1.intersection(keys_dict2)\n",
    "\n",
    "\n"
   ]
  },
  {
   "cell_type": "code",
   "execution_count": 102,
   "metadata": {},
   "outputs": [
    {
     "name": "stdout",
     "output_type": "stream",
     "text": [
      "{10: 1, 20: 2, 30: 3, 40: 4, 50: 5}\n"
     ]
    }
   ],
   "source": [
    "# Create a dictionary from two lists (keys and values)\n",
    "\n",
    "# Given two lists, one containing keys and the other containing values, write a program to combine them into a dictionary.\n",
    "\n",
    "key_list=[10,20,30,40,50]\n",
    "value_list=[1,2,3,4,5]\n",
    "my_dict={}\n",
    "for i in range(len(key_list)):\n",
    "    my_dict[key_list[i]]=value_list[i]\n",
    "print(my_dict)"
   ]
  },
  {
   "cell_type": "code",
   "execution_count": 103,
   "metadata": {},
   "outputs": [
    {
     "name": "stdout",
     "output_type": "stream",
     "text": [
      "{'Engineer': [{'name': 'Alice', 'age': 25, 'profession': 'Engineer'}, {'name': 'Charlie', 'age': 35, 'profession': 'Engineer'}, {'name': 'Eve', 'age': 28, 'profession': 'Engineer'}], 'Designer': [{'name': 'Bob', 'age': 30, 'profession': 'Designer'}, {'name': 'Dave', 'age': 40, 'profession': 'Designer'}]}\n"
     ]
    }
   ],
   "source": [
    "# Group a list of dictionaries by a specific key\n",
    "# Given a list of dictionaries, write a program that groups them by a specific key \n",
    "# (e.g., grouping people by their age or profession).\n",
    "\n",
    "def grouped_dict(data,groupValue):\n",
    "    d=data.copy()\n",
    "    new_dict={}\n",
    "    for dic in d:\n",
    "        if dic[groupValue] not in new_dict:\n",
    "            new_dict[dic[groupValue]]=[]\n",
    "        new_dict[dic[groupValue]].append(dic)\n",
    "    return new_dict\n",
    "\n",
    "\n",
    "\n",
    "people = [\n",
    "    {\"name\": \"Alice\", \"age\": 25, \"profession\": \"Engineer\"},\n",
    "    {\"name\": \"Bob\", \"age\": 30, \"profession\": \"Designer\"},\n",
    "    {\"name\": \"Charlie\", \"age\": 35, \"profession\": \"Engineer\"},\n",
    "    {\"name\": \"Dave\", \"age\": 40, \"profession\": \"Designer\"},\n",
    "    {\"name\": \"Eve\", \"age\": 28, \"profession\": \"Engineer\"}\n",
    "]\n",
    "\n",
    "print(grouped_dict(people,'profession'))"
   ]
  },
  {
   "cell_type": "code",
   "execution_count": 109,
   "metadata": {},
   "outputs": [
    {
     "name": "stdout",
     "output_type": "stream",
     "text": [
      "['AAB', 'CBB', 'EDJ', 'F']\n",
      "AB\n",
      "CB\n",
      "EDJ\n",
      "F\n"
     ]
    }
   ],
   "source": [
    "def merge_the_tools(string1, k):\n",
    "    # your code goes here\n",
    "    my_list=[string1[x:x+k] for x in range(0,len(string1),k)]\n",
    "    print(my_list)\n",
    "    \n",
    "    for ele in my_list:\n",
    "        new_str=''\n",
    "        for char in ele:\n",
    "            if char not in new_str:\n",
    "                new_str+=char\n",
    "        print(new_str)\n",
    "\n",
    "if __name__ == '__main__':\n",
    "    string, k = 'AABCBBEDJF',3\n",
    "    merge_the_tools(string, k)"
   ]
  },
  {
   "cell_type": "code",
   "execution_count": null,
   "metadata": {},
   "outputs": [
    {
     "name": "stdout",
     "output_type": "stream",
     "text": [
      "----c-\n",
      "--c-b-c-\n",
      "c-b-a-c-b-\n"
     ]
    }
   ],
   "source": [
    "size=3\n",
    "for i in range(size):\n",
    "    \n",
    "    for j in range(size,i+1,-1):\n",
    "        print('--',end='')\n",
    "    for k in range(0,i+1):\n",
    "        print(chr(96+size-k),end='-')\n",
    "    for l in range(0,i):\n",
    "        print(chr(96+size),end='-')\n",
    "    print('')"
   ]
  },
  {
   "cell_type": "code",
   "execution_count": 69,
   "metadata": {},
   "outputs": [
    {
     "name": "stdout",
     "output_type": "stream",
     "text": [
      "\n",
      "0\n",
      "01\n",
      "012\n",
      "0123\n"
     ]
    }
   ],
   "source": [
    "size=5\n",
    "for i in range(size):\n",
    "    for j in range(i):\n",
    "        print(j,end='')\n",
    "    print('')"
   ]
  },
  {
   "cell_type": "code",
   "execution_count": 83,
   "metadata": {},
   "outputs": [
    {
     "name": "stdout",
     "output_type": "stream",
     "text": [
      "['pop', 'remove', '9', 'discard', '9', 'discard', '8', 'remove', '7', 'pop', 'discard', '6', 'remove', '5', 'pop', 'discard', '5']\n",
      "[['pop'], ['remove', '9'], ['discard', '9'], ['discard', '8'], ['remove', '7'], ['pop'], ['discard', '6'], ['remove', '5'], ['pop'], ['discard', '5']]\n"
     ]
    }
   ],
   "source": [
    "data='pop remove 9 discard 9 discard 8 remove 7 pop discard 6 remove 5 pop discard 5'.split()\n",
    "print(data)\n",
    "new_list=[]\n",
    "i=0\n",
    "\n",
    "while(i<len(data)):\n",
    "    if data[i] == 'pop':\n",
    "        new_list.append([data[i]])\n",
    "        i+=1\n",
    "    else:\n",
    "        new_list.append([data[i],data[i+1]])\n",
    "        i+=2\n",
    "print(new_list)\n"
   ]
  },
  {
   "cell_type": "code",
   "execution_count": 92,
   "metadata": {},
   "outputs": [
    {
     "name": "stdout",
     "output_type": "stream",
     "text": [
      "{1, 2, 3, 4, 5, 6, 7, 8, 9}\n",
      "[['pop'], ['remove', '9'], ['discard', '9'], ['discard', '8'], ['remove', '7'], ['pop'], ['discard', '6'], ['remove', '5'], ['pop'], ['discard', '5']]\n",
      "{2, 3, 4, 5, 6, 7, 8, 9}\n",
      "{2, 3, 4, 5, 6, 7, 8}\n",
      "{2, 3, 4, 5, 6, 7, 8}\n",
      "{2, 3, 4, 5, 6, 7}\n",
      "{2, 3, 4, 5, 6}\n",
      "{3, 4, 5, 6}\n",
      "{3, 4, 5}\n",
      "{3, 4}\n",
      "{4}\n",
      "{4}\n"
     ]
    }
   ],
   "source": [
    "n = 9\n",
    "s = {1 ,2, 3, 4 ,5 ,6 ,7 ,8 ,9}\n",
    "print(s)\n",
    "length=10\n",
    "# for i in range(length):\n",
    "action=new_list\n",
    "print(action)\n",
    "for i in range(len(action)):\n",
    "    if action[i][0] == 'remove':\n",
    "        s.remove(int(action[i][1]))\n",
    "    elif action[i][0] =='discard':\n",
    "        s.discard(int(action[i][1]))\n",
    "    elif action[i][0] == 'pop':\n",
    "        s.pop()\n",
    "    print(s)"
   ]
  }
 ],
 "metadata": {
  "kernelspec": {
   "display_name": "Python 3",
   "language": "python",
   "name": "python3"
  },
  "language_info": {
   "codemirror_mode": {
    "name": "ipython",
    "version": 3
   },
   "file_extension": ".py",
   "mimetype": "text/x-python",
   "name": "python",
   "nbconvert_exporter": "python",
   "pygments_lexer": "ipython3",
   "version": "3.13.1"
  }
 },
 "nbformat": 4,
 "nbformat_minor": 2
}
