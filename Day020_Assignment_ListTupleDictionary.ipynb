{
 "cells": [
  {
   "cell_type": "code",
   "execution_count": 1,
   "metadata": {},
   "outputs": [
    {
     "name": "stdout",
     "output_type": "stream",
     "text": [
      "[9, 8, 7, 6, 5, 4, 3, 2]\n"
     ]
    }
   ],
   "source": [
    "# 1. Reverse a String\n",
    "# Write a Python function to reverse a given string.\n",
    "\n",
    "def reverrse1(data):\n",
    "    return data[::-1]\n",
    "data=[2,3,4,5,6,7,8,9]\n",
    "print(reverrse1(data))"
   ]
  },
  {
   "cell_type": "code",
   "execution_count": 4,
   "metadata": {},
   "outputs": [
    {
     "name": "stdout",
     "output_type": "stream",
     "text": [
      "9\n"
     ]
    }
   ],
   "source": [
    "# 2. Find the Largest Element in a List\n",
    "# Write a function to find the largest number in a list.\n",
    "def largestNum(data):\n",
    "    max1=data[0]\n",
    "    for ele in data:\n",
    "        if ele>max1:\n",
    "            max1=ele\n",
    "    return max1\n",
    "data=[2,3,4,5,6,7,8,9]\n",
    "print(largestNum(data))"
   ]
  },
  {
   "cell_type": "code",
   "execution_count": null,
   "metadata": {},
   "outputs": [],
   "source": [
    "# 4. Count Occurrences of an Element in a List\n",
    "# Write a Python program to count the occurrences of a given element in a list.\n",
    "\n",
    "def Count1(data):\n",
    "    return {ele:data.count(ele) for ele in data}\n",
    "data=[2,3,2,6,5,4,4,5,6,7,8,9]\n",
    "print(Count1(data))"
   ]
  },
  {
   "cell_type": "code",
   "execution_count": null,
   "metadata": {},
   "outputs": [],
   "source": [
    "# 6. Sum of All Numbers in a List\n",
    "# Write a Python program to find the sum of all numbers in a list.\n",
    "\n",
    "def sumOfEle(data):\n",
    "    return sum(data)\n",
    "data=[2,3,4,5,6,7,8,9]\n",
    "print(sumOfEle(data))"
   ]
  },
  {
   "cell_type": "code",
   "execution_count": null,
   "metadata": {},
   "outputs": [],
   "source": [
    "# 8. Remove Duplicates from a List\n",
    "# Write a Python function to remove duplicate elements from a list.\n",
    "\n",
    "def remDuplicate(data):\n",
    "    if len(set(data))==len(data):\n",
    "        return data\n",
    "    output=[]\n",
    "    for i in range(0,len(data)):\n",
    "        if data[i] not in output:\n",
    "            output.append(data[i])\n",
    "    return output\n",
    "\n",
    "data=[2,3,2,6,5,4,4,5,6,7,8,9]\n",
    "print(remDuplicate(data))\n",
    "            \n",
    "        "
   ]
  },
  {
   "cell_type": "code",
   "execution_count": null,
   "metadata": {},
   "outputs": [],
   "source": [
    "# 1. Reverse a Tuple\n",
    "# Write a Python function to reverse a given tuple.\n",
    "tupleData=(2,3,4,5,6,7,8,9)\n",
    "print(tupleData[::-1])"
   ]
  },
  {
   "cell_type": "code",
   "execution_count": 5,
   "metadata": {},
   "outputs": [
    {
     "name": "stdout",
     "output_type": "stream",
     "text": [
      "8\n"
     ]
    }
   ],
   "source": [
    "# 2. Find the Length of a Tuple\n",
    "# Write a function to find the length of a given tuple.\n",
    "tupleData=(2,3,4,5,6,7,8,9)\n",
    "print(len(tupleData))"
   ]
  },
  {
   "cell_type": "code",
   "execution_count": null,
   "metadata": {},
   "outputs": [],
   "source": [
    "# 3. Concatenate Two Tuples\n",
    "# Write a Python function to concatenate two given tuples into one.\n",
    "tupleData=(2,3,4,5,6,7,8,9)\n",
    "tupleData1=(2212,3,4,5,212)\n",
    "newTuple=tupleData+tupleData1\n",
    "print(newTuple)"
   ]
  },
  {
   "cell_type": "code",
   "execution_count": null,
   "metadata": {},
   "outputs": [],
   "source": [
    "# 4. Count Occurrences of an Element in a Tuple\n",
    "# Write a function that takes a tuple and an element as input, and returns the number of occurrences of that element in the tuple.\n",
    "data=(2,3,2,6,5,4,4,5,6,7,8,9)\n",
    "my_dict={}\n",
    "for ele in data:\n",
    "    if ele not in my_dict:\n",
    "        my_dict.update({ele:data.count(ele)})\n",
    "print(my_dict)\n"
   ]
  },
  {
   "cell_type": "code",
   "execution_count": null,
   "metadata": {},
   "outputs": [],
   "source": [
    "# 5. Convert a Tuple to a List\n",
    "# Write a Python function that converts a given tuple into a list.\n",
    "\n",
    "data=(2,3,2,6,5,4,4,5,6,7,8,9)\n",
    "print(list(data))\n",
    "\n",
    "# OR\n",
    "my_list=[]\n",
    "for ele in data:\n",
    "    my_list.append(ele)\n",
    "print(my_list)"
   ]
  },
  {
   "cell_type": "code",
   "execution_count": 7,
   "metadata": {},
   "outputs": [
    {
     "name": "stdout",
     "output_type": "stream",
     "text": [
      "the answer is 3\n",
      "3\n"
     ]
    }
   ],
   "source": [
    "# 6. Find the Index of an Element in a Tuple\n",
    "# Write a function that takes a tuple and an element as input, and returns the index of the element if it exists in the tuple.\n",
    "\n",
    "\n",
    "def findIndex(data,element):\n",
    "    for i in data:\n",
    "        if element==data[i]:\n",
    "            return i\n",
    "    return 'No elemnt found'\n",
    "data=(2,3,2,6,5,4,4,5,6,7,8,9)\n",
    "print(f'the answer is {findIndex(data,6)}')\n",
    "\n",
    "# or\n",
    "print(data.index(6))\n"
   ]
  },
  {
   "cell_type": "code",
   "execution_count": null,
   "metadata": {},
   "outputs": [],
   "source": [
    "# 7. Check if a Tuple Contains a Specific Element\n",
    "# Write a function that checks if a given element is present in a tuple.\n",
    "\n",
    "def isEle(data,element):\n",
    "    if element in data:\n",
    "        return True\n",
    "    else:\n",
    "        return False\n",
    "data=(2,3,2,6,5,4,4,5,6,7,8,9)\n",
    "print(f'the answer is {isEle(data,60)}')"
   ]
  },
  {
   "cell_type": "code",
   "execution_count": 9,
   "metadata": {},
   "outputs": [
    {
     "name": "stdout",
     "output_type": "stream",
     "text": [
      "10 20 [56, 563, 34, 23, 232]\n"
     ]
    }
   ],
   "source": [
    "# 8. Unpack a Tuple into Variables\n",
    "# Write a Python function that demonstrates how to unpack a tuple into individual variables.\n",
    "\n",
    "data=(10,20,56,563,34,23,232)\n",
    "x,y,*other=map(int,data)\n",
    "print(x,y,other)"
   ]
  },
  {
   "cell_type": "code",
   "execution_count": null,
   "metadata": {},
   "outputs": [],
   "source": [
    "# 9. Nested Tuple Flattening\n",
    "# Write a function that takes a nested tuple (a tuple containing other tuples) and flattens it into a single tuple.\n",
    "\n",
    "def flatenTuple(data):\n",
    "    my_list=[]\n",
    "    for ele in data:\n",
    "        if type(ele) is tuple:\n",
    "            my_list.extend(ele)\n",
    "        else:\n",
    "            my_list.append(ele)\n",
    "    return tuple(my_list)\n",
    "data=(1,2,3,2,6,(5,4,4,5),6,0,(7,8),9)\n",
    "print(f'the answer is {flatenTuple(data)}')"
   ]
  },
  {
   "cell_type": "code",
   "execution_count": null,
   "metadata": {},
   "outputs": [],
   "source": [
    "# 10. Find the Maximum and Minimum of a Tuple\n",
    "# Write a function that takes a tuple of numbers and returns the maximum and minimum values in the tuple.\n",
    "def MaxMin(data):\n",
    "    my_max,my_min=data[0],data[0]\n",
    "    for i in range(len(data)):\n",
    "        if data[i]>my_max:\n",
    "            my_max=data[i]\n",
    "        if data[i]<my_min:\n",
    "            my_min=data[i]\n",
    "    return my_max,my_min\n",
    "data=(1,2,3,2,6,5,4,4,5,6,0,7,8,9)\n",
    "print(f'the answer is {MaxMin(data)}')"
   ]
  }
 ],
 "metadata": {
  "kernelspec": {
   "display_name": "Python 3",
   "language": "python",
   "name": "python3"
  },
  "language_info": {
   "codemirror_mode": {
    "name": "ipython",
    "version": 3
   },
   "file_extension": ".py",
   "mimetype": "text/x-python",
   "name": "python",
   "nbconvert_exporter": "python",
   "pygments_lexer": "ipython3",
   "version": "3.13.1"
  }
 },
 "nbformat": 4,
 "nbformat_minor": 2
}
