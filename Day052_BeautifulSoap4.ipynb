{
 "cells": [
  {
   "cell_type": "code",
   "execution_count": null,
   "metadata": {},
   "outputs": [
    {
     "name": "stdout",
     "output_type": "stream",
     "text": [
      "Done ->  180\n",
      "Done ->  181\n",
      "Done ->  182\n",
      "Done ->  183\n",
      "Done ->  184\n",
      "Done ->  185\n",
      "Done ->  186\n",
      "Done ->  187\n",
      "Done ->  188\n",
      "Done ->  189\n",
      "Done ->  190\n",
      "Done ->  191\n",
      "Done ->  192\n",
      "Done ->  193\n",
      "Done ->  194\n",
      "Done ->  195\n",
      "Done ->  196\n",
      "Done ->  197\n",
      "Done ->  198\n",
      "Done ->  199\n",
      "Successfull ->  199\n"
     ]
    }
   ],
   "source": [
    "import requests\n",
    "from bs4 import BeautifulSoup\n",
    "\n",
    "# URL of the webpage\n",
    "url1 = 'https://freewebnovel.com/novel/this-celebrity-became-even-more-popular-after-being-exposed-of-having-multiple-girlfriends/chapter-'\n",
    "headers = {\n",
    "    'User-Agent': 'Mozilla/5.0 (Windows NT 10.0; Win64; x64) AppleWebKit/537.36 (KHTML, like Gecko) Chrome/91.0.4472.124 Safari/537.36'\n",
    "}\n",
    "x,y=180,200\n",
    "lldta=[]\n",
    "with open('Day052_BeautifulSoapContent.html', 'w', encoding='utf-8') as file:\n",
    "    for i in range(x,y):\n",
    "    # Custom headers to mimic a browser request\n",
    "        url = url1 + str(i)\n",
    "\n",
    "        # Sending a GET request to fetch the HTML content\n",
    "        response = requests.get(url, headers=headers)\n",
    "\n",
    "        # Check if the request was successful (status code 200)\n",
    "        if response.status_code == 200:\n",
    "            # Parse the content with BeautifulSoup\n",
    "            soup = BeautifulSoup(response.content, 'html.parser')\n",
    "            \n",
    "            # Find the element with class 'entry-content' and id 'htmlContent'\n",
    "            content = soup.find('div', id='article')\n",
    "            \n",
    "            # Check if the element was found\n",
    "            if content:\n",
    "                lldta.append(content)\n",
    "                # Extract the content (you can use .text to get plain text, or .prettify() for formatted HTML)\n",
    "                print('Done -> ',i)  # For well-formatted HTML output\n",
    "            else:\n",
    "                print(\"Content with the specified class and id was not found.\")\n",
    "        else:\n",
    "            print(f\"Failed to retrieve the webpage. Status code: {response.status_code}\")\n",
    "\n",
    "        \n",
    "    file.write('\\n'.join(str(tag) for tag in lldta))\n",
    "  # Save the content to an HTML file\n",
    "    print('Successfull -> ', i)\n"
   ]
  }
 ],
 "metadata": {
  "kernelspec": {
   "display_name": "Python 3",
   "language": "python",
   "name": "python3"
  },
  "language_info": {
   "codemirror_mode": {
    "name": "ipython",
    "version": 3
   },
   "file_extension": ".py",
   "mimetype": "text/x-python",
   "name": "python",
   "nbconvert_exporter": "python",
   "pygments_lexer": "ipython3",
   "version": "3.13.1"
  }
 },
 "nbformat": 4,
 "nbformat_minor": 5
}
