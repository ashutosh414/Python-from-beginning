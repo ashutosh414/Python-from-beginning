{
 "cells": [
  {
   "cell_type": "code",
   "execution_count": 13,
   "metadata": {},
   "outputs": [
    {
     "name": "stdout",
     "output_type": "stream",
     "text": [
      "55\n"
     ]
    }
   ],
   "source": [
    "def dec(num):\n",
    "    if num<=0:\n",
    "        return num\n",
    "    sum=num+dec(num-1)\n",
    "    return sum\n",
    "n=10\n",
    "sum=dec(n)\n",
    "print(sum)"
   ]
  },
  {
   "cell_type": "code",
   "execution_count": 22,
   "metadata": {},
   "outputs": [
    {
     "name": "stdout",
     "output_type": "stream",
     "text": [
      "5\n",
      "4\n",
      "3\n",
      "2\n",
      "1\n",
      "1\n",
      "2\n",
      "3\n",
      "4\n",
      "5\n"
     ]
    }
   ],
   "source": [
    "def decinc(num):\n",
    "    if num<=0:\n",
    "        return num\n",
    "    print(num)\n",
    "    decinc(num-1)\n",
    "    print(num)\n",
    "n=5\n",
    "decinc(n)\n"
   ]
  },
  {
   "cell_type": "code",
   "execution_count": 11,
   "metadata": {},
   "outputs": [
    {
     "name": "stdout",
     "output_type": "stream",
     "text": [
      "True\n"
     ]
    }
   ],
   "source": [
    "a='344'\n",
    "b='344'\n",
    "print(a is b)"
   ]
  },
  {
   "cell_type": "code",
   "execution_count": 19,
   "metadata": {},
   "outputs": [
    {
     "name": "stdout",
     "output_type": "stream",
     "text": [
      "2\n",
      "4\n"
     ]
    }
   ],
   "source": [
    "def incresing(num):\n",
    "    if num<=0:\n",
    "        return num\n",
    "    incresing(num-1)\n",
    "    if num%2==0:\n",
    "        print(num)\n",
    "n=5\n",
    "incresing(n)\n"
   ]
  },
  {
   "cell_type": "code",
   "execution_count": null,
   "metadata": {},
   "outputs": [],
   "source": [
    "def incresing(num,l1,l2):\n",
    "\n",
    "    if num in l1:\n",
    "        \n",
    "        return \n",
    "\n",
    "    incresing(num-1)\n",
    "    if num%2==0:\n",
    "        print(num)\n",
    "n=5\n",
    "l=[]\n",
    "l2=[]\n",
    "incresing(n,l,l2)\n"
   ]
  },
  {
   "cell_type": "code",
   "execution_count": 1,
   "metadata": {},
   "outputs": [
    {
     "name": "stdout",
     "output_type": "stream",
     "text": [
      "120\n"
     ]
    }
   ],
   "source": [
    "#factor\n",
    "\n",
    "def factor(num):\n",
    "    if(num==0):\n",
    "        return 1\n",
    "    fact=num*factor(num-1)\n",
    "    return fact\n",
    "\n",
    "num=5\n",
    "print(factor(num))"
   ]
  },
  {
   "cell_type": "code",
   "execution_count": 24,
   "metadata": {},
   "outputs": [
    {
     "name": "stdout",
     "output_type": "stream",
     "text": [
      "1440\n"
     ]
    }
   ],
   "source": [
    "def treefactor(num):\n",
    "    if num<=1:\n",
    "        return 1\n",
    "    fact=num*treefactor(num-1)*treefactor(num-2)\n",
    "    return fact\n",
    "\n",
    "num=5\n",
    "print(treefactor(num))"
   ]
  },
  {
   "cell_type": "code",
   "execution_count": 25,
   "metadata": {},
   "outputs": [
    {
     "name": "stdout",
     "output_type": "stream",
     "text": [
      "1440 {2: 2, 3: 6, 4: 48, 5: 1440}\n"
     ]
    }
   ],
   "source": [
    "def treefac(num,dio):\n",
    "    if num<=1:\n",
    "        return 1\n",
    "    if num in dio.keys():\n",
    "        return dio[num]\n",
    "\n",
    "    x=num*treefac(num-1,dio)*treefac(num-2,dio)\n",
    "    dio[num]=x\n",
    "    return x\n",
    "\n",
    "num=5\n",
    "dio={}\n",
    "print(treefac(num,dio),dio)"
   ]
  },
  {
   "cell_type": "markdown",
   "metadata": {},
   "source": [
    "<h1>Day004</h1>"
   ]
  },
  {
   "cell_type": "code",
   "execution_count": 2,
   "metadata": {},
   "outputs": [
    {
     "name": "stdout",
     "output_type": "stream",
     "text": [
      "120\n"
     ]
    }
   ],
   "source": [
    "# WAP to print  the factorial of the number\n",
    "\n",
    "def factorial(num):\n",
    "    if num<=1:\n",
    "        return 1\n",
    "    total=num*factorial(num-1)\n",
    "    return total\n",
    "\n",
    "num=5\n",
    "print(factorial(num))"
   ]
  },
  {
   "cell_type": "code",
   "execution_count": 16,
   "metadata": {},
   "outputs": [
    {
     "name": "stdout",
     "output_type": "stream",
     "text": [
      "3000\n"
     ]
    }
   ],
   "source": [
    "import sys\n",
    "\n",
    "print(sys.getrecursionlimit())"
   ]
  },
  {
   "cell_type": "code",
   "execution_count": 3,
   "metadata": {},
   "outputs": [
    {
     "name": "stdout",
     "output_type": "stream",
     "text": [
      "970481867747804230197244240868854299892898068406615731068242504950158800099378354071830820327650493498162603780631840164390196663305827136143575698160621247324876088619796381165557020882968546634051274490427366150322696646114123407657654651328950746654983136966580454234906085532447053709531500653816023353154753905685478225654741148050151810084768899885390608553229350604977062588933544328337553474706845935948311273768390373374029614532156306562183388462915105987371812898365494633137911359034889005249438644459870976236478115983023707528144714066075928763861304257478289375117152380815719572567282174310603339845947086742222604345340567293610495092322785897713664403712410201690086563084218745155440972440044181117430770095713322428316609879942146231037443475005890672001800132612906572634387704505037614243432476767638706350563334054009936079807583134045146232049893376\n"
     ]
    }
   ],
   "source": [
    "def powe(num,power):\n",
    "    if power==1:\n",
    "        return num\n",
    "    ans=num*powe(num,power-1)\n",
    "    return ans\n",
    "\n",
    "print(powe(2,2900))"
   ]
  },
  {
   "cell_type": "code",
   "execution_count": 5,
   "metadata": {},
   "outputs": [
    {
     "name": "stdout",
     "output_type": "stream",
     "text": [
      "1513470582304237072513410067329391955423482356622077508836389416646889306993564534635830817676552455824162236150182627025523267446014684388515185452610872385131925014977944482910893194864870039450549067298170721939711827195277899152348801107671644590882157659897905715342306574668169658354699728703352747795407934837779271083755217530954282733292552820320384388452736605849854097009866199175847289532126439677946323677218741195176031143605520246681993939075046911841617410627221987267713724332646446061053160572807286503464245558500643221584631072641658731573097806459864337910226647829569494284055229751599736619753728848188090692318773574702174698843299086831373062575703757942149263399264787530048897154373819381136097105118607145954825590031647682047062652157439770794084025717418220995063370720546665168546633747096935011148065108431975289654040627344874607009807315363771104716985869481861040739858883444667635709902593581610755376089941291884120821811227210157156298148402819214731929270895508821230096451968194267364284229325768503489509991935215231081649023894346868133110803328310541268950321043061542938876190012860779210104580276403692887034246086754314279566458942937081999323928294877166406222310453677892068557340540597459094762172544492440478876793960002924059634516299394201455941482615164498572903667144188855598846763146090065079005267746644237582086328585101060359200085939560982221139190410290320736471223679431103604473374855519720454278533708018865824147794661166033633485429613879963993123931400014731049432239676739743030689374442267266097857265402044759137688500162237085777842605048998997700656346545264515630042484382164065996643359816205614528690639187167278480340820347644352745397902032133004265874403392556745361780498817583655041048101434716704942594567023160800649072869376\n"
     ]
    }
   ],
   "source": [
    "def power(a,b):\n",
    "    if b==0: return 1\n",
    "    anb2=power(a,b//2)\n",
    "    ans=anb2*anb2\n",
    "    if b%2!=0: ans*=a\n",
    "\n",
    "    return ans\n",
    "\n",
    "\n",
    "print(power(2,6000))"
   ]
  },
  {
   "cell_type": "code",
   "execution_count": 7,
   "metadata": {},
   "outputs": [
    {
     "name": "stdout",
     "output_type": "stream",
     "text": [
      "[16, 36, 64]\n"
     ]
    }
   ],
   "source": [
    "even_squares = [x**2 for x in range(10) if x % 2 == 0 if x > 2]\n",
    "print(even_squares)\n",
    "# Output: [16, 36, 64]\n"
   ]
  },
  {
   "cell_type": "code",
   "execution_count": 10,
   "metadata": {},
   "outputs": [
    {
     "name": "stdout",
     "output_type": "stream",
     "text": [
      "0\n",
      "1\n",
      "1\n",
      "2\n",
      "3\n",
      "5\n",
      "8\n",
      "13\n",
      "21\n",
      "34\n"
     ]
    }
   ],
   "source": [
    "def fibo(n):\n",
    "    if n <= 1:\n",
    "        return n\n",
    "    x= fibo(n-1) + fibo(n-2)\n",
    "    return x\n",
    "\n",
    "def print_fibo(n):\n",
    "    for i in range(n):\n",
    "        print(fibo(i))\n",
    "\n",
    "n = 10\n",
    "print_fibo(n)\n"
   ]
  },
  {
   "cell_type": "code",
   "execution_count": 2,
   "metadata": {},
   "outputs": [
    {
     "name": "stdout",
     "output_type": "stream",
     "text": [
      "1,23,54,2,3,5,6,3,2,7,9,5,3,3,54,23,2,1,2,"
     ]
    }
   ],
   "source": [
    "def dispay_last_ele(data,idx):\n",
    "    if len(data)==idx:\n",
    "        return\n",
    "    print(data[idx],end=\",\")\n",
    "    dispay_last_ele(data,idx+1)\n",
    "\n",
    "data=[1,23,54,2,3,5,6,3,2,7,9,5,3,3,54,23,2,1,2]\n",
    "dispay_last_ele(data,0)"
   ]
  },
  {
   "cell_type": "code",
   "execution_count": 3,
   "metadata": {},
   "outputs": [
    {
     "name": "stdout",
     "output_type": "stream",
     "text": [
      "2,1,2,23,54,3,3,5,9,7,2,3,6,5,3,2,54,23,1,"
     ]
    }
   ],
   "source": [
    "def dispay_last_ele(data,idx):\n",
    "    if len(data)==idx:\n",
    "        return\n",
    "    dispay_last_ele(data,idx+1)\n",
    "    print(data[idx],end=\",\")\n",
    "\n",
    "data=[1,23,54,2,3,5,6,3,2,7,9,5,3,3,54,23,2,1,2]\n",
    "dispay_last_ele(data,0)"
   ]
  },
  {
   "cell_type": "code",
   "execution_count": null,
   "metadata": {},
   "outputs": [],
   "source": [
    "def firstOcc(data,idx,num):\n",
    "    if len(data)==idx:\n",
    "        return -1\n",
    "    elif data[idx]==num:\n",
    "        return idx\n",
    "    return firstOcc(data,idx+1,num)\n",
    "\n",
    "data=[1,23,54,2,3,5,6,3,2,7,9,5,3,3,54,23,2,1,2]\n",
    "firstindexNum=firstOcc(data,0,54)\n",
    "print(firstindexNum)"
   ]
  },
  {
   "cell_type": "code",
   "execution_count": null,
   "metadata": {},
   "outputs": [],
   "source": [
    "globallastValIdx=0\n",
    "def lastOcc(data,idx,num):\n",
    "    global globallastValIdx\n",
    "    if len(data)==idx:\n",
    "        return -1\n",
    "\n",
    "    y=lastOcc(data,idx+1,num)\n",
    "    \n",
    "    if data[idx]==num and globallastValIdx==0:\n",
    "        globallastValIdx=idx\n",
    "    return y\n",
    "\n",
    "data=[1,23,54,2,3,5,6,3,2,7,9,5,3,3,54,23,2,1,2]\n",
    "lastindexNum=lastOcc(data,0,54)\n",
    "print(lastindexNum)\n",
    "print(globallastValIdx)"
   ]
  },
  {
   "cell_type": "code",
   "execution_count": null,
   "metadata": {},
   "outputs": [],
   "source": [
    "def lastOcc(data,idx,num):\n",
    "    if idx<0:\n",
    "        return -1\n",
    "    elif data[idx]==num:\n",
    "        return idx\n",
    "    return lastOcc(data,idx-1,num)\n",
    "data=[1,23,54,2,3,5,6,3,2,7,9,5,3,3,54,23,2,1,2]\n",
    "lastindexNum=lastOcc(data,len(data)-1,54)\n",
    "print(lastindexNum)\n"
   ]
  },
  {
   "cell_type": "code",
   "execution_count": 4,
   "metadata": {},
   "outputs": [
    {
     "name": "stdout",
     "output_type": "stream",
     "text": [
      "69\n"
     ]
    }
   ],
   "source": [
    "def maxFun(data,n):\n",
    "    if n==0:\n",
    "        return data[0]\n",
    "    return max(data[n],maxFun(data,n-1))\n",
    "\n",
    "data=[1,23,54,2,3,5,6,3,69,2,7,9,5,3,3,54,23,2,1,2]\n",
    "maxNum=maxFun(data,len(data)-1)\n",
    "print(maxNum)"
   ]
  },
  {
   "cell_type": "code",
   "execution_count": 2,
   "metadata": {},
   "outputs": [
    {
     "name": "stdout",
     "output_type": "stream",
     "text": [
      "12,11,13,5,6,7,\n",
      "After Sorting\n",
      "5,6,7,11,12,13,\n"
     ]
    }
   ],
   "source": [
    "# Merge Sort\n",
    "\n",
    "# Merge Sort\n",
    "# print(1//2)\n",
    "\n",
    "def merge(arr,l,m,r):\n",
    "    n1=m-l+1\n",
    "    n2=r-m\n",
    "    L=[0]*(n1)\n",
    "    R=[0]*(n2)\n",
    "    \n",
    "    for i in range(0,n1):\n",
    "        L[i]=arr[l+i]\n",
    "    for j in range(0,n2):\n",
    "        R[j]=arr[m+j+1]\n",
    "    i,j,k=0,0,l\n",
    "    \n",
    "    while i<n1 and j<n2:\n",
    "        if L[i]<=R[j]:\n",
    "            arr[k]=L[i]\n",
    "            i+=1\n",
    "        else:\n",
    "            arr[k]=R[j]\n",
    "            j+=1\n",
    "        k+=1\n",
    "        \n",
    "    while i<n1:\n",
    "        arr[k]=L[i]\n",
    "        i+=1\n",
    "        k+=1\n",
    "    while j<n2:\n",
    "        arr[k]=R[j]\n",
    "        j+=1\n",
    "        k+=1\n",
    "\n",
    "\n",
    "def mergesort(arr,l,r):\n",
    "    if l<r:\n",
    "        \n",
    "        m=l+(r-l)//2\n",
    "        # print(' '*(m),'merse1',l,m,r)\n",
    "        mergesort(arr,l,m)\n",
    "        # print(' '*(m),'merse2',l,m,r)\n",
    "        mergesort(arr,m+1,r)\n",
    "        # print(' '*(m),'merse3',l,m,r)\n",
    "        merge(arr,l,m,r)\n",
    "        # print(' '*(m),'merse4',l,m,r)\n",
    "        \n",
    "\n",
    "\n",
    "\n",
    "\n",
    "arr = [12, 11, 13, 5, 6, 7]\n",
    "n=len(arr)\n",
    "for i in range(n):\n",
    "    print(arr[i],end=',')\n",
    "\n",
    "print('')\n",
    "mergesort(arr,0,n-1)\n",
    "print('After Sorting')\n",
    "\n",
    "for i in range(n):\n",
    "    print(arr[i],end=',')\n",
    "print('')\n",
    "# print(arr)\n"
   ]
  },
  {
   "cell_type": "code",
   "execution_count": null,
   "metadata": {},
   "outputs": [],
   "source": []
  }
 ],
 "metadata": {
  "kernelspec": {
   "display_name": "Python 3",
   "language": "python",
   "name": "python3"
  },
  "language_info": {
   "codemirror_mode": {
    "name": "ipython",
    "version": 3
   },
   "file_extension": ".py",
   "mimetype": "text/x-python",
   "name": "python",
   "nbconvert_exporter": "python",
   "pygments_lexer": "ipython3",
   "version": "3.13.1"
  }
 },
 "nbformat": 4,
 "nbformat_minor": 2
}
