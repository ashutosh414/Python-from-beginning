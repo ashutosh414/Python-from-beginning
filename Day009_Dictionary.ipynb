{
 "cells": [
  {
   "cell_type": "code",
   "execution_count": null,
   "metadata": {},
   "outputs": [],
   "source": [
    "\n",
    "{}\n",
    "muyuable datatype\n",
    "no index position\n"
   ]
  },
  {
   "cell_type": "code",
   "execution_count": 1,
   "metadata": {},
   "outputs": [
    {
     "name": "stdout",
     "output_type": "stream",
     "text": [
      "{1: 'Ash', 2: 'Ram', 'city': 'jaipur'}\n"
     ]
    },
    {
     "data": {
      "text/plain": [
       "3"
      ]
     },
     "execution_count": 1,
     "metadata": {},
     "output_type": "execute_result"
    }
   ],
   "source": [
    "myDict={1:'Ash', 2:'Ram', 'city': 'jaipur'}\n",
    "print(myDict)\n",
    "len(myDict)"
   ]
  },
  {
   "cell_type": "code",
   "execution_count": 3,
   "metadata": {},
   "outputs": [
    {
     "name": "stdout",
     "output_type": "stream",
     "text": [
      "{1: 'Ash', 2: 'Abhay', 'city': 'jaipur', 4: 'Hari'}\n"
     ]
    }
   ],
   "source": [
    "myDict={1:'Ash', 2:'Ram', 'city': 'jaipur'}\n",
    "myDict[2]=\"Abhay\" #update data\n",
    "myDict[4]=\"Hari\" #insert data\n",
    "print(myDict)\n"
   ]
  },
  {
   "cell_type": "code",
   "execution_count": null,
   "metadata": {},
   "outputs": [],
   "source": [
    "help(myDict)"
   ]
  },
  {
   "cell_type": "code",
   "execution_count": 6,
   "metadata": {},
   "outputs": [
    {
     "name": "stdout",
     "output_type": "stream",
     "text": [
      "1 Ash\n",
      "2 Ram\n",
      "city jaipur\n"
     ]
    }
   ],
   "source": [
    "myDict={1:'Ash', 2:'Ram', 'city': 'jaipur'}\n",
    "\n",
    "for i in myDict:\n",
    "    print(i,myDict[i])"
   ]
  },
  {
   "cell_type": "code",
   "execution_count": 9,
   "metadata": {},
   "outputs": [
    {
     "name": "stdout",
     "output_type": "stream",
     "text": [
      "1 Ash\n",
      "<class 'int'>\n",
      "2 Ram\n",
      "<class 'int'>\n",
      "city jaipur\n",
      "<class 'str'>\n"
     ]
    }
   ],
   "source": [
    "#dict.keys() -> Key\n",
    "myDict={1:'Ash', 2:'Ram', 'city': 'jaipur'}\n",
    "\n",
    "for i in myDict.keys():\n",
    "    print(i,myDict[i])"
   ]
  },
  {
   "cell_type": "code",
   "execution_count": 11,
   "metadata": {},
   "outputs": [
    {
     "name": "stdout",
     "output_type": "stream",
     "text": [
      "Ash\n",
      "Ram\n",
      "jaipur\n"
     ]
    }
   ],
   "source": [
    "#dict.values() -> value\n",
    "myDict={1:'Ash', 2:'Ram', 'city': 'jaipur'}\n",
    "\n",
    "for i in myDict.values():\n",
    "    print(i)"
   ]
  },
  {
   "cell_type": "code",
   "execution_count": 12,
   "metadata": {},
   "outputs": [
    {
     "name": "stdout",
     "output_type": "stream",
     "text": [
      "(1, 'Ash')\n",
      "(2, 'Ram')\n",
      "('city', 'jaipur')\n"
     ]
    }
   ],
   "source": [
    "#dict.items() -> (key, value)\n",
    "myDict={1:'Ash', 2:'Ram', 'city': 'jaipur'}\n",
    "print()\n",
    "for i in myDict.items():\n",
    "    print(i)"
   ]
  },
  {
   "cell_type": "code",
   "execution_count": 4,
   "metadata": {},
   "outputs": [
    {
     "name": "stdout",
     "output_type": "stream",
     "text": [
      "{1: 'Ash', 2: 'Hari', 'city': 'Jaipur', 'x': 100}\n",
      "{1: 'Ash', 2: 'Hari', 'city': 'Jaipur', 'x': 150}\n"
     ]
    }
   ],
   "source": [
    "myDic={1:'Ash', 2:'Hari', 'city':'Jaipur','x':100}\n",
    "print(myDic)\n",
    "myDic['x']=myDic['x']+50\n",
    "print(myDic)"
   ]
  },
  {
   "cell_type": "code",
   "execution_count": 5,
   "metadata": {},
   "outputs": [
    {
     "name": "stdout",
     "output_type": "stream",
     "text": [
      "{'count': 5}\n"
     ]
    }
   ],
   "source": [
    "countDic={'count':0}\n",
    "data='Hello'\n",
    "\n",
    "for i in data:\n",
    " countDic['count']+=1\n",
    "print(countDic)"
   ]
  },
  {
   "cell_type": "code",
   "execution_count": 6,
   "metadata": {},
   "outputs": [
    {
     "name": "stdout",
     "output_type": "stream",
     "text": [
      "{'count': 2}\n"
     ]
    }
   ],
   "source": [
    "countDic={'count':0}\n",
    "data='Hello'\n",
    "\n",
    "for i in data:\n",
    " if i in 'aeiouAEIOU':\n",
    "  countDic['count']+=1\n",
    "print(countDic)"
   ]
  },
  {
   "cell_type": "code",
   "execution_count": 7,
   "metadata": {},
   "outputs": [
    {
     "name": "stdout",
     "output_type": "stream",
     "text": [
      "{'h': 1, 'e': 1, 'y': 1}\n"
     ]
    }
   ],
   "source": [
    "mydic={}\n",
    "data='hey'\n",
    "for i in data:\n",
    " mydic[i]=1\n",
    "print(mydic)"
   ]
  },
  {
   "cell_type": "code",
   "execution_count": 3,
   "metadata": {},
   "outputs": [
    {
     "name": "stdout",
     "output_type": "stream",
     "text": [
      "{'a': 2, 'e': 2, 'o': 1, 'u': 1, 'i': 2}\n"
     ]
    }
   ],
   "source": [
    "myDict={}\n",
    "data ='hdaeoussiasdei fhb'\n",
    "for ele in data:\n",
    "    if ele in 'aeiouAEIOU':\n",
    "        if ele in myDict:\n",
    "            myDict[ele]+=1\n",
    "        else:\n",
    "            myDict[ele]=1\n",
    "print(myDict)"
   ]
  },
  {
   "cell_type": "code",
   "execution_count": 17,
   "metadata": {},
   "outputs": [
    {
     "name": "stdout",
     "output_type": "stream",
     "text": [
      "{1: 0, 2: 1, 3: 2, 7: 3, 11: 4, 13: 5}\n",
      "2 7\n",
      "7 2\n",
      "{1: 0, 2: 1, 3: 2, 7: 3, 11: 4, 13: 5}\n"
     ]
    }
   ],
   "source": [
    "# TWO SUM\n",
    "\n",
    "data=[1,2,3,7,11,13]\n",
    "k=9\n",
    "myDict={}\n",
    "for i,ele in enumerate(data):\n",
    "    if ele not in myDict:\n",
    "        myDict[ele]=i\n",
    "print(myDict)\n",
    "\n",
    "for ele in data:\n",
    "    if k-ele in myDict:\n",
    "        print(ele,k-ele)\n",
    "print(myDict)"
   ]
  }
 ],
 "metadata": {
  "kernelspec": {
   "display_name": "Python 3",
   "language": "python",
   "name": "python3"
  },
  "language_info": {
   "codemirror_mode": {
    "name": "ipython",
    "version": 3
   },
   "file_extension": ".py",
   "mimetype": "text/x-python",
   "name": "python",
   "nbconvert_exporter": "python",
   "pygments_lexer": "ipython3",
   "version": "3.13.1"
  }
 },
 "nbformat": 4,
 "nbformat_minor": 2
}
