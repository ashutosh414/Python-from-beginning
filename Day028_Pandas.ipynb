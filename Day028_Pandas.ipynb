{
 "cells": [
  {
   "cell_type": "markdown",
   "metadata": {},
   "source": [
    "Pandas\n"
   ]
  },
  {
   "cell_type": "code",
   "execution_count": 1,
   "metadata": {},
   "outputs": [],
   "source": [
    "#  pands  -> Pandas is an open-source library that is used for handle data manipulation."
   ]
  },
  {
   "cell_type": "code",
   "execution_count": 2,
   "metadata": {},
   "outputs": [],
   "source": [
    "# # for installing pands in jupter or goolge colab\n",
    "# #     !pip install pandas\n",
    "\n",
    "# for installing in vs Code\n",
    "#     pip install pandas"
   ]
  },
  {
   "cell_type": "markdown",
   "metadata": {},
   "source": []
  },
  {
   "cell_type": "markdown",
   "metadata": {},
   "source": [
    "<!-- # data Structure of Pandas\n",
    "(1). Series  --> It is one-dimentional array and it shows only values not coulmn  "
   ]
  },
  {
   "cell_type": "code",
   "execution_count": 3,
   "metadata": {},
   "outputs": [],
   "source": [
    "import pandas as pd"
   ]
  },
  {
   "cell_type": "code",
   "execution_count": 4,
   "metadata": {},
   "outputs": [
    {
     "data": {
      "text/plain": [
       "0    1\n",
       "1    2\n",
       "2    3\n",
       "3    4\n",
       "4    4\n",
       "5    2\n",
       "dtype: int64"
      ]
     },
     "execution_count": 4,
     "metadata": {},
     "output_type": "execute_result"
    }
   ],
   "source": [
    "a=pd.Series([1,2,3,4,4,2])\n",
    "a"
   ]
  },
  {
   "cell_type": "markdown",
   "metadata": {},
   "source": [
    "DataFrame\n"
   ]
  },
  {
   "cell_type": "markdown",
   "metadata": {},
   "source": [
    "We have to create employee data using dictionary?"
   ]
  },
  {
   "cell_type": "code",
   "execution_count": 5,
   "metadata": {},
   "outputs": [],
   "source": [
    "a1={'Emp_id':[1,2,3,4,5,6,7,8],\n",
    "   'Emp_Name':['Sam','Raj','Mohit','Sam','Gourav','Mohit','Mohit','Mohit'],\n",
    "   'Department':['IT','Sales','IT','Operations','HR','IT','Operations','HR'],\n",
    "   'Working_hours':[8,9,9,9,9,8,7,8],\n",
    "   'Salary':[23000,25000,35000,31000,28000,26000,30000,34000]\n",
    "   }"
   ]
  },
  {
   "cell_type": "code",
   "execution_count": 6,
   "metadata": {},
   "outputs": [
    {
     "data": {
      "text/html": [
       "<div>\n",
       "<style scoped>\n",
       "    .dataframe tbody tr th:only-of-type {\n",
       "        vertical-align: middle;\n",
       "    }\n",
       "\n",
       "    .dataframe tbody tr th {\n",
       "        vertical-align: top;\n",
       "    }\n",
       "\n",
       "    .dataframe thead th {\n",
       "        text-align: right;\n",
       "    }\n",
       "</style>\n",
       "<table border=\"1\" class=\"dataframe\">\n",
       "  <thead>\n",
       "    <tr style=\"text-align: right;\">\n",
       "      <th></th>\n",
       "      <th>Emp_id</th>\n",
       "      <th>Emp_Name</th>\n",
       "      <th>Department</th>\n",
       "      <th>Working_hours</th>\n",
       "      <th>Salary</th>\n",
       "    </tr>\n",
       "  </thead>\n",
       "  <tbody>\n",
       "    <tr>\n",
       "      <th>0</th>\n",
       "      <td>1</td>\n",
       "      <td>Sam</td>\n",
       "      <td>IT</td>\n",
       "      <td>8</td>\n",
       "      <td>23000</td>\n",
       "    </tr>\n",
       "    <tr>\n",
       "      <th>1</th>\n",
       "      <td>2</td>\n",
       "      <td>Raj</td>\n",
       "      <td>Sales</td>\n",
       "      <td>9</td>\n",
       "      <td>25000</td>\n",
       "    </tr>\n",
       "    <tr>\n",
       "      <th>2</th>\n",
       "      <td>3</td>\n",
       "      <td>Mohit</td>\n",
       "      <td>IT</td>\n",
       "      <td>9</td>\n",
       "      <td>35000</td>\n",
       "    </tr>\n",
       "    <tr>\n",
       "      <th>3</th>\n",
       "      <td>4</td>\n",
       "      <td>Sam</td>\n",
       "      <td>Operations</td>\n",
       "      <td>9</td>\n",
       "      <td>31000</td>\n",
       "    </tr>\n",
       "    <tr>\n",
       "      <th>4</th>\n",
       "      <td>5</td>\n",
       "      <td>Gourav</td>\n",
       "      <td>HR</td>\n",
       "      <td>9</td>\n",
       "      <td>28000</td>\n",
       "    </tr>\n",
       "    <tr>\n",
       "      <th>5</th>\n",
       "      <td>6</td>\n",
       "      <td>Mohit</td>\n",
       "      <td>IT</td>\n",
       "      <td>8</td>\n",
       "      <td>26000</td>\n",
       "    </tr>\n",
       "    <tr>\n",
       "      <th>6</th>\n",
       "      <td>7</td>\n",
       "      <td>Mohit</td>\n",
       "      <td>Operations</td>\n",
       "      <td>7</td>\n",
       "      <td>30000</td>\n",
       "    </tr>\n",
       "    <tr>\n",
       "      <th>7</th>\n",
       "      <td>8</td>\n",
       "      <td>Mohit</td>\n",
       "      <td>HR</td>\n",
       "      <td>8</td>\n",
       "      <td>34000</td>\n",
       "    </tr>\n",
       "  </tbody>\n",
       "</table>\n",
       "</div>"
      ],
      "text/plain": [
       "   Emp_id Emp_Name  Department  Working_hours  Salary\n",
       "0       1      Sam          IT              8   23000\n",
       "1       2      Raj       Sales              9   25000\n",
       "2       3    Mohit          IT              9   35000\n",
       "3       4      Sam  Operations              9   31000\n",
       "4       5   Gourav          HR              9   28000\n",
       "5       6    Mohit          IT              8   26000\n",
       "6       7    Mohit  Operations              7   30000\n",
       "7       8    Mohit          HR              8   34000"
      ]
     },
     "execution_count": 6,
     "metadata": {},
     "output_type": "execute_result"
    }
   ],
   "source": [
    "df=pd.DataFrame(a1)\n",
    "df"
   ]
  },
  {
   "cell_type": "markdown",
   "metadata": {},
   "source": [
    "How do you export dataframe into csv files?"
   ]
  },
  {
   "cell_type": "code",
   "execution_count": 7,
   "metadata": {},
   "outputs": [],
   "source": [
    "df.to_csv('Day028_ExportCSVFile.csv',index=False)"
   ]
  },
  {
   "cell_type": "code",
   "execution_count": 8,
   "metadata": {},
   "outputs": [],
   "source": [
    "df.to_csv('E:\\\\REGEX\\\\Python\\\\Day028_ExportCSVFile.csv',index=False)"
   ]
  },
  {
   "cell_type": "code",
   "execution_count": 9,
   "metadata": {},
   "outputs": [
    {
     "data": {
      "text/html": [
       "<div>\n",
       "<style scoped>\n",
       "    .dataframe tbody tr th:only-of-type {\n",
       "        vertical-align: middle;\n",
       "    }\n",
       "\n",
       "    .dataframe tbody tr th {\n",
       "        vertical-align: top;\n",
       "    }\n",
       "\n",
       "    .dataframe thead th {\n",
       "        text-align: right;\n",
       "    }\n",
       "</style>\n",
       "<table border=\"1\" class=\"dataframe\">\n",
       "  <thead>\n",
       "    <tr style=\"text-align: right;\">\n",
       "      <th></th>\n",
       "      <th>Emp_id</th>\n",
       "      <th>Emp_Name</th>\n",
       "      <th>Department</th>\n",
       "      <th>Working_hours</th>\n",
       "      <th>Salary</th>\n",
       "    </tr>\n",
       "  </thead>\n",
       "  <tbody>\n",
       "    <tr>\n",
       "      <th>0</th>\n",
       "      <td>1</td>\n",
       "      <td>Sam</td>\n",
       "      <td>IT</td>\n",
       "      <td>8</td>\n",
       "      <td>23000</td>\n",
       "    </tr>\n",
       "    <tr>\n",
       "      <th>1</th>\n",
       "      <td>2</td>\n",
       "      <td>Raj</td>\n",
       "      <td>Sales</td>\n",
       "      <td>9</td>\n",
       "      <td>25000</td>\n",
       "    </tr>\n",
       "    <tr>\n",
       "      <th>2</th>\n",
       "      <td>3</td>\n",
       "      <td>Mohit</td>\n",
       "      <td>IT</td>\n",
       "      <td>9</td>\n",
       "      <td>35000</td>\n",
       "    </tr>\n",
       "    <tr>\n",
       "      <th>3</th>\n",
       "      <td>4</td>\n",
       "      <td>Sam</td>\n",
       "      <td>Operations</td>\n",
       "      <td>9</td>\n",
       "      <td>31000</td>\n",
       "    </tr>\n",
       "    <tr>\n",
       "      <th>4</th>\n",
       "      <td>5</td>\n",
       "      <td>Gourav</td>\n",
       "      <td>HR</td>\n",
       "      <td>9</td>\n",
       "      <td>28000</td>\n",
       "    </tr>\n",
       "    <tr>\n",
       "      <th>5</th>\n",
       "      <td>6</td>\n",
       "      <td>Mohit</td>\n",
       "      <td>IT</td>\n",
       "      <td>8</td>\n",
       "      <td>26000</td>\n",
       "    </tr>\n",
       "    <tr>\n",
       "      <th>6</th>\n",
       "      <td>7</td>\n",
       "      <td>Mohit</td>\n",
       "      <td>Operations</td>\n",
       "      <td>7</td>\n",
       "      <td>30000</td>\n",
       "    </tr>\n",
       "    <tr>\n",
       "      <th>7</th>\n",
       "      <td>8</td>\n",
       "      <td>Mohit</td>\n",
       "      <td>HR</td>\n",
       "      <td>8</td>\n",
       "      <td>34000</td>\n",
       "    </tr>\n",
       "  </tbody>\n",
       "</table>\n",
       "</div>"
      ],
      "text/plain": [
       "   Emp_id Emp_Name  Department  Working_hours  Salary\n",
       "0       1      Sam          IT              8   23000\n",
       "1       2      Raj       Sales              9   25000\n",
       "2       3    Mohit          IT              9   35000\n",
       "3       4      Sam  Operations              9   31000\n",
       "4       5   Gourav          HR              9   28000\n",
       "5       6    Mohit          IT              8   26000\n",
       "6       7    Mohit  Operations              7   30000\n",
       "7       8    Mohit          HR              8   34000"
      ]
     },
     "execution_count": 9,
     "metadata": {},
     "output_type": "execute_result"
    }
   ],
   "source": [
    "csv_import=pd.read_csv('Day028_ExportCSVFile.csv')\n",
    "csv_import"
   ]
  },
  {
   "cell_type": "code",
   "execution_count": 10,
   "metadata": {},
   "outputs": [
    {
     "data": {
      "text/html": [
       "<div>\n",
       "<style scoped>\n",
       "    .dataframe tbody tr th:only-of-type {\n",
       "        vertical-align: middle;\n",
       "    }\n",
       "\n",
       "    .dataframe tbody tr th {\n",
       "        vertical-align: top;\n",
       "    }\n",
       "\n",
       "    .dataframe thead th {\n",
       "        text-align: right;\n",
       "    }\n",
       "</style>\n",
       "<table border=\"1\" class=\"dataframe\">\n",
       "  <thead>\n",
       "    <tr style=\"text-align: right;\">\n",
       "      <th></th>\n",
       "      <th>Emp_id</th>\n",
       "      <th>Emp_Name</th>\n",
       "      <th>Department</th>\n",
       "      <th>Working_hours</th>\n",
       "      <th>Salary</th>\n",
       "    </tr>\n",
       "  </thead>\n",
       "  <tbody>\n",
       "    <tr>\n",
       "      <th>0</th>\n",
       "      <td>1</td>\n",
       "      <td>Sam</td>\n",
       "      <td>IT</td>\n",
       "      <td>8</td>\n",
       "      <td>23000</td>\n",
       "    </tr>\n",
       "    <tr>\n",
       "      <th>1</th>\n",
       "      <td>2</td>\n",
       "      <td>Raj</td>\n",
       "      <td>Sales</td>\n",
       "      <td>9</td>\n",
       "      <td>25000</td>\n",
       "    </tr>\n",
       "    <tr>\n",
       "      <th>2</th>\n",
       "      <td>3</td>\n",
       "      <td>Mohit</td>\n",
       "      <td>IT</td>\n",
       "      <td>9</td>\n",
       "      <td>35000</td>\n",
       "    </tr>\n",
       "  </tbody>\n",
       "</table>\n",
       "</div>"
      ],
      "text/plain": [
       "   Emp_id Emp_Name Department  Working_hours  Salary\n",
       "0       1      Sam         IT              8   23000\n",
       "1       2      Raj      Sales              9   25000\n",
       "2       3    Mohit         IT              9   35000"
      ]
     },
     "execution_count": 10,
     "metadata": {},
     "output_type": "execute_result"
    }
   ],
   "source": [
    "# for top elements we use head(n)\n",
    "csv_import.head(3)\n"
   ]
  },
  {
   "cell_type": "code",
   "execution_count": 11,
   "metadata": {},
   "outputs": [
    {
     "data": {
      "text/html": [
       "<div>\n",
       "<style scoped>\n",
       "    .dataframe tbody tr th:only-of-type {\n",
       "        vertical-align: middle;\n",
       "    }\n",
       "\n",
       "    .dataframe tbody tr th {\n",
       "        vertical-align: top;\n",
       "    }\n",
       "\n",
       "    .dataframe thead th {\n",
       "        text-align: right;\n",
       "    }\n",
       "</style>\n",
       "<table border=\"1\" class=\"dataframe\">\n",
       "  <thead>\n",
       "    <tr style=\"text-align: right;\">\n",
       "      <th></th>\n",
       "      <th>Emp_id</th>\n",
       "      <th>Emp_Name</th>\n",
       "      <th>Department</th>\n",
       "      <th>Working_hours</th>\n",
       "      <th>Salary</th>\n",
       "    </tr>\n",
       "  </thead>\n",
       "  <tbody>\n",
       "    <tr>\n",
       "      <th>6</th>\n",
       "      <td>7</td>\n",
       "      <td>Mohit</td>\n",
       "      <td>Operations</td>\n",
       "      <td>7</td>\n",
       "      <td>30000</td>\n",
       "    </tr>\n",
       "    <tr>\n",
       "      <th>7</th>\n",
       "      <td>8</td>\n",
       "      <td>Mohit</td>\n",
       "      <td>HR</td>\n",
       "      <td>8</td>\n",
       "      <td>34000</td>\n",
       "    </tr>\n",
       "  </tbody>\n",
       "</table>\n",
       "</div>"
      ],
      "text/plain": [
       "   Emp_id Emp_Name  Department  Working_hours  Salary\n",
       "6       7    Mohit  Operations              7   30000\n",
       "7       8    Mohit          HR              8   34000"
      ]
     },
     "execution_count": 11,
     "metadata": {},
     "output_type": "execute_result"
    }
   ],
   "source": [
    "# for last elemtn we use tail(n)\n",
    "csv_import.tail(2)"
   ]
  },
  {
   "cell_type": "code",
   "execution_count": 12,
   "metadata": {},
   "outputs": [],
   "source": [
    "# Home Work\n",
    "# name,id,stream,fees,semester,department (min 10 rows, and min 5 columns)\n",
    "# make data from jupiter and import to colab"
   ]
  },
  {
   "cell_type": "code",
   "execution_count": 13,
   "metadata": {},
   "outputs": [],
   "source": [
    "import pandas as pd"
   ]
  },
  {
   "cell_type": "code",
   "execution_count": 14,
   "metadata": {},
   "outputs": [],
   "source": [
    "student={'id':[1,2,3,4,5,6,7,8,9,10],\n",
    "        'name':['Ashu','Raj','Mohit','Sam','Gourav','Mohit','Mohit','Mohit','Raj','Mohit'],\n",
    "   'stream':['IT','Sales','IT','Operations','HR','IT','Operations','HR','IT','Sales'],\n",
    "   'fees':[23000,25000,35000,31000,28000,26000,30000,34000,23000,25000],\n",
    "   'semester':[1,2,3,4,5,6,7,8,9,10],\n",
    "   'department':['IT','Sales','IT','Operations','HR','IT','Operations','HR','IT','Sales']\n",
    "   }\n",
    "student_df=pd.DataFrame(student)\n",
    "student_df.to_csv('Day028_A_ExportCSVFile.csv',index=False)"
   ]
  },
  {
   "cell_type": "code",
   "execution_count": 15,
   "metadata": {},
   "outputs": [
    {
     "data": {
      "text/html": [
       "<div>\n",
       "<style scoped>\n",
       "    .dataframe tbody tr th:only-of-type {\n",
       "        vertical-align: middle;\n",
       "    }\n",
       "\n",
       "    .dataframe tbody tr th {\n",
       "        vertical-align: top;\n",
       "    }\n",
       "\n",
       "    .dataframe thead th {\n",
       "        text-align: right;\n",
       "    }\n",
       "</style>\n",
       "<table border=\"1\" class=\"dataframe\">\n",
       "  <thead>\n",
       "    <tr style=\"text-align: right;\">\n",
       "      <th></th>\n",
       "      <th>id</th>\n",
       "      <th>name</th>\n",
       "      <th>stream</th>\n",
       "      <th>fees</th>\n",
       "      <th>semester</th>\n",
       "      <th>department</th>\n",
       "    </tr>\n",
       "  </thead>\n",
       "  <tbody>\n",
       "    <tr>\n",
       "      <th>0</th>\n",
       "      <td>1</td>\n",
       "      <td>Ashu</td>\n",
       "      <td>IT</td>\n",
       "      <td>23000</td>\n",
       "      <td>1</td>\n",
       "      <td>IT</td>\n",
       "    </tr>\n",
       "    <tr>\n",
       "      <th>1</th>\n",
       "      <td>2</td>\n",
       "      <td>Raj</td>\n",
       "      <td>Sales</td>\n",
       "      <td>25000</td>\n",
       "      <td>2</td>\n",
       "      <td>Sales</td>\n",
       "    </tr>\n",
       "    <tr>\n",
       "      <th>2</th>\n",
       "      <td>3</td>\n",
       "      <td>Mohit</td>\n",
       "      <td>IT</td>\n",
       "      <td>35000</td>\n",
       "      <td>3</td>\n",
       "      <td>IT</td>\n",
       "    </tr>\n",
       "    <tr>\n",
       "      <th>3</th>\n",
       "      <td>4</td>\n",
       "      <td>Sam</td>\n",
       "      <td>Operations</td>\n",
       "      <td>31000</td>\n",
       "      <td>4</td>\n",
       "      <td>Operations</td>\n",
       "    </tr>\n",
       "    <tr>\n",
       "      <th>4</th>\n",
       "      <td>5</td>\n",
       "      <td>Gourav</td>\n",
       "      <td>HR</td>\n",
       "      <td>28000</td>\n",
       "      <td>5</td>\n",
       "      <td>HR</td>\n",
       "    </tr>\n",
       "    <tr>\n",
       "      <th>5</th>\n",
       "      <td>6</td>\n",
       "      <td>Mohit</td>\n",
       "      <td>IT</td>\n",
       "      <td>26000</td>\n",
       "      <td>6</td>\n",
       "      <td>IT</td>\n",
       "    </tr>\n",
       "    <tr>\n",
       "      <th>6</th>\n",
       "      <td>7</td>\n",
       "      <td>Mohit</td>\n",
       "      <td>Operations</td>\n",
       "      <td>30000</td>\n",
       "      <td>7</td>\n",
       "      <td>Operations</td>\n",
       "    </tr>\n",
       "    <tr>\n",
       "      <th>7</th>\n",
       "      <td>8</td>\n",
       "      <td>Mohit</td>\n",
       "      <td>HR</td>\n",
       "      <td>34000</td>\n",
       "      <td>8</td>\n",
       "      <td>HR</td>\n",
       "    </tr>\n",
       "    <tr>\n",
       "      <th>8</th>\n",
       "      <td>9</td>\n",
       "      <td>Raj</td>\n",
       "      <td>IT</td>\n",
       "      <td>23000</td>\n",
       "      <td>9</td>\n",
       "      <td>IT</td>\n",
       "    </tr>\n",
       "    <tr>\n",
       "      <th>9</th>\n",
       "      <td>10</td>\n",
       "      <td>Mohit</td>\n",
       "      <td>Sales</td>\n",
       "      <td>25000</td>\n",
       "      <td>10</td>\n",
       "      <td>Sales</td>\n",
       "    </tr>\n",
       "  </tbody>\n",
       "</table>\n",
       "</div>"
      ],
      "text/plain": [
       "   id    name      stream   fees  semester  department\n",
       "0   1    Ashu          IT  23000         1          IT\n",
       "1   2     Raj       Sales  25000         2       Sales\n",
       "2   3   Mohit          IT  35000         3          IT\n",
       "3   4     Sam  Operations  31000         4  Operations\n",
       "4   5  Gourav          HR  28000         5          HR\n",
       "5   6   Mohit          IT  26000         6          IT\n",
       "6   7   Mohit  Operations  30000         7  Operations\n",
       "7   8   Mohit          HR  34000         8          HR\n",
       "8   9     Raj          IT  23000         9          IT\n",
       "9  10   Mohit       Sales  25000        10       Sales"
      ]
     },
     "execution_count": 15,
     "metadata": {},
     "output_type": "execute_result"
    }
   ],
   "source": [
    "student_df"
   ]
  },
  {
   "cell_type": "markdown",
   "metadata": {},
   "source": [
    "# Day 2"
   ]
  },
  {
   "cell_type": "code",
   "execution_count": 16,
   "metadata": {},
   "outputs": [
    {
     "data": {
      "text/html": [
       "<div>\n",
       "<style scoped>\n",
       "    .dataframe tbody tr th:only-of-type {\n",
       "        vertical-align: middle;\n",
       "    }\n",
       "\n",
       "    .dataframe tbody tr th {\n",
       "        vertical-align: top;\n",
       "    }\n",
       "\n",
       "    .dataframe thead th {\n",
       "        text-align: right;\n",
       "    }\n",
       "</style>\n",
       "<table border=\"1\" class=\"dataframe\">\n",
       "  <thead>\n",
       "    <tr style=\"text-align: right;\">\n",
       "      <th></th>\n",
       "      <th>age</th>\n",
       "      <th>gender</th>\n",
       "      <th>fever</th>\n",
       "      <th>cough</th>\n",
       "      <th>city</th>\n",
       "      <th>has_covid</th>\n",
       "    </tr>\n",
       "  </thead>\n",
       "  <tbody>\n",
       "    <tr>\n",
       "      <th>0</th>\n",
       "      <td>60</td>\n",
       "      <td>Male</td>\n",
       "      <td>103.0</td>\n",
       "      <td>Mild</td>\n",
       "      <td>Kolkata</td>\n",
       "      <td>No</td>\n",
       "    </tr>\n",
       "    <tr>\n",
       "      <th>1</th>\n",
       "      <td>27</td>\n",
       "      <td>Male</td>\n",
       "      <td>100.0</td>\n",
       "      <td>Mild</td>\n",
       "      <td>Delhi</td>\n",
       "      <td>Yes</td>\n",
       "    </tr>\n",
       "    <tr>\n",
       "      <th>2</th>\n",
       "      <td>42</td>\n",
       "      <td>Male</td>\n",
       "      <td>101.0</td>\n",
       "      <td>Mild</td>\n",
       "      <td>Delhi</td>\n",
       "      <td>No</td>\n",
       "    </tr>\n",
       "    <tr>\n",
       "      <th>3</th>\n",
       "      <td>31</td>\n",
       "      <td>Female</td>\n",
       "      <td>98.0</td>\n",
       "      <td>Mild</td>\n",
       "      <td>Kolkata</td>\n",
       "      <td>No</td>\n",
       "    </tr>\n",
       "    <tr>\n",
       "      <th>4</th>\n",
       "      <td>65</td>\n",
       "      <td>Female</td>\n",
       "      <td>101.0</td>\n",
       "      <td>Mild</td>\n",
       "      <td>Mumbai</td>\n",
       "      <td>No</td>\n",
       "    </tr>\n",
       "    <tr>\n",
       "      <th>...</th>\n",
       "      <td>...</td>\n",
       "      <td>...</td>\n",
       "      <td>...</td>\n",
       "      <td>...</td>\n",
       "      <td>...</td>\n",
       "      <td>...</td>\n",
       "    </tr>\n",
       "    <tr>\n",
       "      <th>95</th>\n",
       "      <td>12</td>\n",
       "      <td>Female</td>\n",
       "      <td>104.0</td>\n",
       "      <td>Mild</td>\n",
       "      <td>Bangalore</td>\n",
       "      <td>No</td>\n",
       "    </tr>\n",
       "    <tr>\n",
       "      <th>96</th>\n",
       "      <td>51</td>\n",
       "      <td>Female</td>\n",
       "      <td>101.0</td>\n",
       "      <td>Strong</td>\n",
       "      <td>Kolkata</td>\n",
       "      <td>Yes</td>\n",
       "    </tr>\n",
       "    <tr>\n",
       "      <th>97</th>\n",
       "      <td>20</td>\n",
       "      <td>Female</td>\n",
       "      <td>101.0</td>\n",
       "      <td>Mild</td>\n",
       "      <td>Bangalore</td>\n",
       "      <td>No</td>\n",
       "    </tr>\n",
       "    <tr>\n",
       "      <th>98</th>\n",
       "      <td>5</td>\n",
       "      <td>Female</td>\n",
       "      <td>98.0</td>\n",
       "      <td>Strong</td>\n",
       "      <td>Mumbai</td>\n",
       "      <td>No</td>\n",
       "    </tr>\n",
       "    <tr>\n",
       "      <th>99</th>\n",
       "      <td>10</td>\n",
       "      <td>Female</td>\n",
       "      <td>98.0</td>\n",
       "      <td>Strong</td>\n",
       "      <td>Kolkata</td>\n",
       "      <td>Yes</td>\n",
       "    </tr>\n",
       "  </tbody>\n",
       "</table>\n",
       "<p>100 rows × 6 columns</p>\n",
       "</div>"
      ],
      "text/plain": [
       "    age  gender  fever   cough       city has_covid\n",
       "0    60    Male  103.0    Mild    Kolkata        No\n",
       "1    27    Male  100.0    Mild      Delhi       Yes\n",
       "2    42    Male  101.0    Mild      Delhi        No\n",
       "3    31  Female   98.0    Mild    Kolkata        No\n",
       "4    65  Female  101.0    Mild     Mumbai        No\n",
       "..  ...     ...    ...     ...        ...       ...\n",
       "95   12  Female  104.0    Mild  Bangalore        No\n",
       "96   51  Female  101.0  Strong    Kolkata       Yes\n",
       "97   20  Female  101.0    Mild  Bangalore        No\n",
       "98    5  Female   98.0  Strong     Mumbai        No\n",
       "99   10  Female   98.0  Strong    Kolkata       Yes\n",
       "\n",
       "[100 rows x 6 columns]"
      ]
     },
     "execution_count": 16,
     "metadata": {},
     "output_type": "execute_result"
    }
   ],
   "source": [
    "import pandas as pd\n",
    "covid_data=pd.read_csv('Day028_Sample_data_covid_toy.csv')\n",
    "covid_data"
   ]
  },
  {
   "cell_type": "code",
   "execution_count": 18,
   "metadata": {},
   "outputs": [
    {
     "name": "stdout",
     "output_type": "stream",
     "text": [
      "   age gender  fever cough     city has_covid\n",
      "0   60   Male  103.0  Mild  Kolkata        No\n",
      "1   27   Male  100.0  Mild    Delhi       Yes\n",
      "2   42   Male  101.0  Mild    Delhi        No\n",
      "new data\n",
      "   age  gender  fever cough     city has_covid\n",
      "0   60    Male  103.0  Mild  Kolkata        No\n",
      "1   27    Male  100.0  Mild    Delhi       Yes\n",
      "2   42    Male  101.0  Mild    Delhi        No\n",
      "3   31  Female   98.0  Mild  Kolkata        No\n",
      "4   65  Female  101.0  Mild   Mumbai        No\n",
      "new data\n",
      "   age gender  fever cough     city has_covid\n",
      "0   60   Male  103.0  Mild  Kolkata        No\n",
      "new data\n",
      "Empty DataFrame\n",
      "Columns: [age, gender, fever, cough, city, has_covid]\n",
      "Index: []\n",
      "new data\n",
      "   age  gender  fever   cough       city has_covid\n",
      "0   60    Male  103.0    Mild    Kolkata        No\n",
      "1   27    Male  100.0    Mild      Delhi       Yes\n",
      "2   42    Male  101.0    Mild      Delhi        No\n",
      "3   31  Female   98.0    Mild    Kolkata        No\n",
      "4   65  Female  101.0    Mild     Mumbai        No\n",
      "5   84  Female    NaN    Mild  Bangalore       Yes\n",
      "6   14    Male  101.0  Strong  Bangalore        No\n",
      "7   20  Female    NaN  Strong     Mumbai       Yes\n",
      "8   19  Female  100.0  Strong  Bangalore        No\n",
      "9   64  Female  101.0    Mild      Delhi        No\n"
     ]
    }
   ],
   "source": [
    "# for geting top rows in dataframes we use -------head(n)-------\n",
    "print(covid_data.head(3))\n",
    "print('new data')\n",
    "print(covid_data.head()) # by default it will give top 5 rows\n",
    "print('new data')\n",
    "print(covid_data.head(1))\n",
    "print('new data')\n",
    "print(covid_data.head(0)) # it will give empty dataframe\n",
    "print('new data')\n",
    "print(covid_data.head(10))\n"
   ]
  },
  {
   "cell_type": "code",
   "execution_count": 19,
   "metadata": {},
   "outputs": [
    {
     "data": {
      "text/plain": [
       "Index(['Emp_id', 'Emp_Name', 'Department', 'Working_hours', 'Salary'], dtype='object')"
      ]
     },
     "execution_count": 19,
     "metadata": {},
     "output_type": "execute_result"
    }
   ],
   "source": [
    "df.columns"
   ]
  },
  {
   "cell_type": "code",
   "execution_count": 22,
   "metadata": {},
   "outputs": [
    {
     "name": "stdout",
     "output_type": "stream",
     "text": [
      "    age  gender  fever   cough       city has_covid\n",
      "97   20  Female  101.0    Mild  Bangalore        No\n",
      "98    5  Female   98.0  Strong     Mumbai        No\n",
      "99   10  Female   98.0  Strong    Kolkata       Yes\n",
      "\n",
      "new data\n",
      "\n",
      "    age  gender  fever   cough       city has_covid\n",
      "95   12  Female  104.0    Mild  Bangalore        No\n",
      "96   51  Female  101.0  Strong    Kolkata       Yes\n",
      "97   20  Female  101.0    Mild  Bangalore        No\n",
      "98    5  Female   98.0  Strong     Mumbai        No\n",
      "99   10  Female   98.0  Strong    Kolkata       Yes\n",
      "\n",
      "new data\n",
      "\n",
      "Empty DataFrame\n",
      "Columns: [age, gender, fever, cough, city, has_covid]\n",
      "Index: []\n"
     ]
    }
   ],
   "source": [
    "# we use ---tail()--- when we want to see last rows in dataframes\n",
    "print(covid_data.tail(3))\n",
    "print('\\nnew data\\n')\n",
    "print(covid_data.tail()) # by default it will give last 5 rows\n",
    "print('\\nnew data\\n')\n",
    "print(covid_data.tail(0)) # it will give empty dataframe\n"
   ]
  },
  {
   "cell_type": "code",
   "execution_count": null,
   "metadata": {},
   "outputs": [
    {
     "name": "stdout",
     "output_type": "stream",
     "text": [
      "    age  gender  fever   cough       city has_covid\n",
      "53   83    Male   98.0    Mild      Delhi       Yes\n",
      "7    20  Female    NaN  Strong     Mumbai       Yes\n",
      "76   80    Male  100.0    Mild  Bangalore       Yes\n"
     ]
    }
   ],
   "source": [
    "# we use sample(n) for random rows in dataframes\n",
    "print(covid_data.sample(3))"
   ]
  },
  {
   "cell_type": "code",
   "execution_count": 25,
   "metadata": {},
   "outputs": [
    {
     "name": "stdout",
     "output_type": "stream",
     "text": [
      "(100, 6)\n"
     ]
    }
   ],
   "source": [
    "# we use shape for getting rows and columns in dataframes\n",
    "print(covid_data.shape)"
   ]
  },
  {
   "cell_type": "code",
   "execution_count": null,
   "metadata": {},
   "outputs": [
    {
     "name": "stdout",
     "output_type": "stream",
     "text": [
      "[[60 'Male' 103.0 'Mild' 'Kolkata' 'No']\n",
      " [27 'Male' 100.0 'Mild' 'Delhi' 'Yes']\n",
      " [42 'Male' 101.0 'Mild' 'Delhi' 'No']\n",
      " [31 'Female' 98.0 'Mild' 'Kolkata' 'No']\n",
      " [65 'Female' 101.0 'Mild' 'Mumbai' 'No']\n",
      " [84 'Female' nan 'Mild' 'Bangalore' 'Yes']\n",
      " [14 'Male' 101.0 'Strong' 'Bangalore' 'No']\n",
      " [20 'Female' nan 'Strong' 'Mumbai' 'Yes']\n",
      " [19 'Female' 100.0 'Strong' 'Bangalore' 'No']\n",
      " [64 'Female' 101.0 'Mild' 'Delhi' 'No']\n",
      " [75 'Female' nan 'Mild' 'Delhi' 'No']\n",
      " [65 'Female' 98.0 'Mild' 'Mumbai' 'Yes']\n",
      " [25 'Female' 99.0 'Strong' 'Kolkata' 'No']\n",
      " [64 'Male' 102.0 'Mild' 'Bangalore' 'Yes']\n",
      " [51 'Male' 104.0 'Mild' 'Bangalore' 'No']\n",
      " [70 'Male' 103.0 'Strong' 'Kolkata' 'Yes']\n",
      " [69 'Female' 103.0 'Mild' 'Kolkata' 'Yes']\n",
      " [40 'Female' 98.0 'Strong' 'Delhi' 'No']\n",
      " [64 'Female' 98.0 'Mild' 'Bangalore' 'Yes']\n",
      " [42 'Female' nan 'Strong' 'Bangalore' 'Yes']\n",
      " [12 'Male' 98.0 'Strong' 'Bangalore' 'No']\n",
      " [73 'Male' 98.0 'Mild' 'Bangalore' 'Yes']\n",
      " [71 'Female' 98.0 'Strong' 'Kolkata' 'Yes']\n",
      " [80 'Female' 98.0 'Mild' 'Delhi' 'Yes']\n",
      " [13 'Female' 100.0 'Strong' 'Kolkata' 'No']\n",
      " [23 'Male' nan 'Mild' 'Mumbai' 'No']\n",
      " [19 'Female' 100.0 'Mild' 'Kolkata' 'Yes']\n",
      " [33 'Female' 102.0 'Strong' 'Delhi' 'No']\n",
      " [16 'Male' 104.0 'Mild' 'Kolkata' 'No']\n",
      " [34 'Female' nan 'Strong' 'Mumbai' 'Yes']\n",
      " [15 'Male' 101.0 'Mild' 'Delhi' 'Yes']\n",
      " [83 'Male' 103.0 'Mild' 'Kolkata' 'No']\n",
      " [34 'Female' 101.0 'Strong' 'Delhi' 'Yes']\n",
      " [26 'Female' 98.0 'Mild' 'Kolkata' 'No']\n",
      " [74 'Male' 102.0 'Mild' 'Mumbai' 'Yes']\n",
      " [82 'Female' 102.0 'Strong' 'Bangalore' 'No']\n",
      " [38 'Female' 101.0 'Mild' 'Bangalore' 'No']\n",
      " [55 'Male' 100.0 'Mild' 'Kolkata' 'No']\n",
      " [49 'Female' 101.0 'Mild' 'Delhi' 'Yes']\n",
      " [50 'Female' 103.0 'Mild' 'Kolkata' 'No']\n",
      " [49 'Female' 102.0 'Mild' 'Delhi' 'No']\n",
      " [82 'Male' nan 'Mild' 'Kolkata' 'Yes']\n",
      " [27 'Male' 100.0 'Mild' 'Delhi' 'Yes']\n",
      " [22 'Female' 99.0 'Mild' 'Bangalore' 'Yes']\n",
      " [20 'Male' 102.0 'Strong' 'Delhi' 'No']\n",
      " [72 'Male' 99.0 'Mild' 'Bangalore' 'No']\n",
      " [19 'Female' 101.0 'Mild' 'Mumbai' 'No']\n",
      " [18 'Female' 104.0 'Mild' 'Bangalore' 'No']\n",
      " [66 'Male' 99.0 'Strong' 'Bangalore' 'No']\n",
      " [44 'Male' 104.0 'Mild' 'Mumbai' 'No']\n",
      " [19 'Male' 101.0 'Mild' 'Delhi' 'Yes']\n",
      " [11 'Female' 100.0 'Strong' 'Kolkata' 'Yes']\n",
      " [47 'Female' 100.0 'Strong' 'Bangalore' 'Yes']\n",
      " [83 'Male' 98.0 'Mild' 'Delhi' 'Yes']\n",
      " [60 'Female' 99.0 'Mild' 'Mumbai' 'Yes']\n",
      " [81 'Female' 101.0 'Mild' 'Mumbai' 'Yes']\n",
      " [71 'Male' nan 'Strong' 'Kolkata' 'No']\n",
      " [49 'Female' 99.0 'Strong' 'Bangalore' 'No']\n",
      " [23 'Male' 98.0 'Strong' 'Mumbai' 'Yes']\n",
      " [6 'Female' 104.0 'Mild' 'Kolkata' 'Yes']\n",
      " [24 'Female' 102.0 'Strong' 'Bangalore' 'Yes']\n",
      " [81 'Female' 98.0 'Strong' 'Mumbai' 'No']\n",
      " [56 'Female' 104.0 'Strong' 'Bangalore' 'Yes']\n",
      " [10 'Male' 100.0 'Mild' 'Bangalore' 'No']\n",
      " [42 'Male' 104.0 'Mild' 'Mumbai' 'No']\n",
      " [69 'Female' 102.0 'Mild' 'Bangalore' 'No']\n",
      " [51 'Male' 104.0 'Mild' 'Kolkata' 'No']\n",
      " [65 'Male' 99.0 'Mild' 'Bangalore' 'No']\n",
      " [54 'Female' 104.0 'Strong' 'Kolkata' 'No']\n",
      " [73 'Female' 103.0 'Mild' 'Delhi' 'No']\n",
      " [68 'Female' 101.0 'Strong' 'Delhi' 'No']\n",
      " [75 'Female' 104.0 'Strong' 'Delhi' 'No']\n",
      " [83 'Female' 101.0 'Mild' 'Kolkata' 'No']\n",
      " [34 'Male' 98.0 'Strong' 'Kolkata' 'Yes']\n",
      " [34 'Female' 104.0 'Strong' 'Delhi' 'No']\n",
      " [5 'Male' 102.0 'Mild' 'Kolkata' 'Yes']\n",
      " [80 'Male' 100.0 'Mild' 'Bangalore' 'Yes']\n",
      " [8 'Female' 101.0 'Mild' 'Kolkata' 'No']\n",
      " [11 'Male' 100.0 'Mild' 'Bangalore' 'Yes']\n",
      " [48 'Female' 103.0 'Mild' 'Kolkata' 'Yes']\n",
      " [14 'Female' 99.0 'Mild' 'Mumbai' 'Yes']\n",
      " [65 'Male' 99.0 'Mild' 'Delhi' 'No']\n",
      " [24 'Male' 98.0 'Mild' 'Kolkata' 'Yes']\n",
      " [17 'Female' 104.0 'Mild' 'Kolkata' 'No']\n",
      " [69 'Female' 98.0 'Strong' 'Mumbai' 'No']\n",
      " [16 'Female' 103.0 'Mild' 'Bangalore' 'Yes']\n",
      " [25 'Male' 104.0 'Mild' 'Bangalore' 'Yes']\n",
      " [47 'Male' 101.0 'Strong' 'Bangalore' 'No']\n",
      " [5 'Female' 100.0 'Mild' 'Kolkata' 'No']\n",
      " [46 'Male' 103.0 'Strong' 'Bangalore' 'No']\n",
      " [59 'Female' 99.0 'Strong' 'Delhi' 'No']\n",
      " [38 'Male' nan 'Mild' 'Delhi' 'Yes']\n",
      " [82 'Female' 102.0 'Strong' 'Kolkata' 'No']\n",
      " [27 'Male' 100.0 'Mild' 'Kolkata' 'Yes']\n",
      " [79 'Male' nan 'Strong' 'Kolkata' 'Yes']\n",
      " [12 'Female' 104.0 'Mild' 'Bangalore' 'No']\n",
      " [51 'Female' 101.0 'Strong' 'Kolkata' 'Yes']\n",
      " [20 'Female' 101.0 'Mild' 'Bangalore' 'No']\n",
      " [5 'Female' 98.0 'Strong' 'Mumbai' 'No']\n",
      " [10 'Female' 98.0 'Strong' 'Kolkata' 'Yes']]\n"
     ]
    }
   ],
   "source": [
    "# for getting all elements from dataframe in list format we use ---values---\n",
    "print(covid_data.values)"
   ]
  },
  {
   "cell_type": "code",
   "execution_count": null,
   "metadata": {},
   "outputs": [
    {
     "data": {
      "text/html": [
       "<div>\n",
       "<style scoped>\n",
       "    .dataframe tbody tr th:only-of-type {\n",
       "        vertical-align: middle;\n",
       "    }\n",
       "\n",
       "    .dataframe tbody tr th {\n",
       "        vertical-align: top;\n",
       "    }\n",
       "\n",
       "    .dataframe thead th {\n",
       "        text-align: right;\n",
       "    }\n",
       "</style>\n",
       "<table border=\"1\" class=\"dataframe\">\n",
       "  <thead>\n",
       "    <tr style=\"text-align: right;\">\n",
       "      <th></th>\n",
       "      <th>age</th>\n",
       "      <th>fever</th>\n",
       "    </tr>\n",
       "  </thead>\n",
       "  <tbody>\n",
       "    <tr>\n",
       "      <th>count</th>\n",
       "      <td>100.000000</td>\n",
       "      <td>90.000000</td>\n",
       "    </tr>\n",
       "    <tr>\n",
       "      <th>mean</th>\n",
       "      <td>44.220000</td>\n",
       "      <td>100.844444</td>\n",
       "    </tr>\n",
       "    <tr>\n",
       "      <th>std</th>\n",
       "      <td>24.878931</td>\n",
       "      <td>2.054926</td>\n",
       "    </tr>\n",
       "    <tr>\n",
       "      <th>min</th>\n",
       "      <td>5.000000</td>\n",
       "      <td>98.000000</td>\n",
       "    </tr>\n",
       "    <tr>\n",
       "      <th>25%</th>\n",
       "      <td>20.000000</td>\n",
       "      <td>99.000000</td>\n",
       "    </tr>\n",
       "    <tr>\n",
       "      <th>50%</th>\n",
       "      <td>45.000000</td>\n",
       "      <td>101.000000</td>\n",
       "    </tr>\n",
       "    <tr>\n",
       "      <th>75%</th>\n",
       "      <td>66.500000</td>\n",
       "      <td>102.750000</td>\n",
       "    </tr>\n",
       "    <tr>\n",
       "      <th>max</th>\n",
       "      <td>84.000000</td>\n",
       "      <td>104.000000</td>\n",
       "    </tr>\n",
       "  </tbody>\n",
       "</table>\n",
       "</div>"
      ],
      "text/plain": [
       "              age       fever\n",
       "count  100.000000   90.000000\n",
       "mean    44.220000  100.844444\n",
       "std     24.878931    2.054926\n",
       "min      5.000000   98.000000\n",
       "25%     20.000000   99.000000\n",
       "50%     45.000000  101.000000\n",
       "75%     66.500000  102.750000\n",
       "max     84.000000  104.000000"
      ]
     },
     "execution_count": 27,
     "metadata": {},
     "output_type": "execute_result"
    }
   ],
   "source": [
    "# describe() # it will give all the statistical data from dataframe like mean, median, mode, min, max, count, std, 25%, 50%, 75%\n",
    "covid_data.describe()"
   ]
  },
  {
   "cell_type": "code",
   "execution_count": 28,
   "metadata": {},
   "outputs": [
    {
     "name": "stderr",
     "output_type": "stream",
     "text": [
      "C:\\Users\\aaa\\AppData\\Local\\Temp\\ipykernel_300\\1188820866.py:2: FutureWarning: ChainedAssignmentError: behaviour will change in pandas 3.0!\n",
      "You are setting values through chained assignment. Currently this works in certain cases, but when using Copy-on-Write (which will become the default behaviour in pandas 3.0) this will never work to update the original DataFrame or Series, because the intermediate object on which we are setting values will behave as a copy.\n",
      "A typical example is when you are setting values in a column of a DataFrame, like:\n",
      "\n",
      "df[\"col\"][row_indexer] = value\n",
      "\n",
      "Use `df.loc[row_indexer, \"col\"] = values` instead, to perform the assignment in a single step and ensure this keeps updating the original `df`.\n",
      "\n",
      "See the caveats in the documentation: https://pandas.pydata.org/pandas-docs/stable/user_guide/indexing.html#returning-a-view-versus-a-copy\n",
      "\n",
      "  covid_data['has_covid'][2]='Yes'\n",
      "C:\\Users\\aaa\\AppData\\Local\\Temp\\ipykernel_300\\1188820866.py:2: SettingWithCopyWarning: \n",
      "A value is trying to be set on a copy of a slice from a DataFrame\n",
      "\n",
      "See the caveats in the documentation: https://pandas.pydata.org/pandas-docs/stable/user_guide/indexing.html#returning-a-view-versus-a-copy\n",
      "  covid_data['has_covid'][2]='Yes'\n"
     ]
    }
   ],
   "source": [
    "# Modify Data in Dataframes\n",
    "covid_data['has_covid'][2]='Yes'"
   ]
  },
  {
   "cell_type": "code",
   "execution_count": 35,
   "metadata": {},
   "outputs": [
    {
     "data": {
      "text/plain": [
       "age             42\n",
       "gender        Male\n",
       "fever        101.0\n",
       "cough         Mild\n",
       "city         Delhi\n",
       "has_covid      Yes\n",
       "Name: 2, dtype: object"
      ]
     },
     "execution_count": 35,
     "metadata": {},
     "output_type": "execute_result"
    }
   ],
   "source": [
    "covid_data.loc[2]"
   ]
  },
  {
   "cell_type": "code",
   "execution_count": null,
   "metadata": {},
   "outputs": [
    {
     "ename": "KeyError",
     "evalue": "1",
     "output_type": "error",
     "traceback": [
      "\u001b[1;31m---------------------------------------------------------------------------\u001b[0m",
      "\u001b[1;31mKeyError\u001b[0m                                  Traceback (most recent call last)",
      "File \u001b[1;32m~\\AppData\\Local\\Packages\\PythonSoftwareFoundation.Python.3.13_qbz5n2kfra8p0\\LocalCache\\local-packages\\Python313\\site-packages\\pandas\\core\\indexes\\base.py:3805\u001b[0m, in \u001b[0;36mIndex.get_loc\u001b[1;34m(self, key)\u001b[0m\n\u001b[0;32m   3804\u001b[0m \u001b[38;5;28;01mtry\u001b[39;00m:\n\u001b[1;32m-> 3805\u001b[0m     \u001b[38;5;28;01mreturn\u001b[39;00m \u001b[38;5;28;43mself\u001b[39;49m\u001b[38;5;241;43m.\u001b[39;49m\u001b[43m_engine\u001b[49m\u001b[38;5;241;43m.\u001b[39;49m\u001b[43mget_loc\u001b[49m\u001b[43m(\u001b[49m\u001b[43mcasted_key\u001b[49m\u001b[43m)\u001b[49m\n\u001b[0;32m   3806\u001b[0m \u001b[38;5;28;01mexcept\u001b[39;00m \u001b[38;5;167;01mKeyError\u001b[39;00m \u001b[38;5;28;01mas\u001b[39;00m err:\n",
      "File \u001b[1;32mindex.pyx:167\u001b[0m, in \u001b[0;36mpandas._libs.index.IndexEngine.get_loc\u001b[1;34m()\u001b[0m\n",
      "File \u001b[1;32mindex.pyx:196\u001b[0m, in \u001b[0;36mpandas._libs.index.IndexEngine.get_loc\u001b[1;34m()\u001b[0m\n",
      "File \u001b[1;32mpandas\\\\_libs\\\\hashtable_class_helper.pxi:7081\u001b[0m, in \u001b[0;36mpandas._libs.hashtable.PyObjectHashTable.get_item\u001b[1;34m()\u001b[0m\n",
      "File \u001b[1;32mpandas\\\\_libs\\\\hashtable_class_helper.pxi:7089\u001b[0m, in \u001b[0;36mpandas._libs.hashtable.PyObjectHashTable.get_item\u001b[1;34m()\u001b[0m\n",
      "\u001b[1;31mKeyError\u001b[0m: 1",
      "\nThe above exception was the direct cause of the following exception:\n",
      "\u001b[1;31mKeyError\u001b[0m                                  Traceback (most recent call last)",
      "Cell \u001b[1;32mIn[37], line 1\u001b[0m\n\u001b[1;32m----> 1\u001b[0m \u001b[43mcovid_data\u001b[49m\u001b[38;5;241;43m.\u001b[39;49m\u001b[43mloc\u001b[49m\u001b[43m[\u001b[49m\u001b[38;5;241;43m2\u001b[39;49m\u001b[43m:\u001b[49m\u001b[38;5;241;43m3\u001b[39;49m\u001b[43m,\u001b[49m\u001b[43m[\u001b[49m\u001b[38;5;124;43m'\u001b[39;49m\u001b[38;5;124;43mage\u001b[39;49m\u001b[38;5;124;43m'\u001b[39;49m\u001b[43m,\u001b[49m\u001b[38;5;124;43m'\u001b[39;49m\u001b[38;5;124;43mgender\u001b[39;49m\u001b[38;5;124;43m'\u001b[39;49m\u001b[43m,\u001b[49m\u001b[38;5;124;43m'\u001b[39;49m\u001b[38;5;124;43mhas_covid\u001b[39;49m\u001b[38;5;124;43m'\u001b[39;49m\u001b[43m]\u001b[49m\u001b[43m]\u001b[49m\u001b[43m[\u001b[49m\u001b[38;5;241;43m1\u001b[39;49m\u001b[43m]\u001b[49m\n",
      "File \u001b[1;32m~\\AppData\\Local\\Packages\\PythonSoftwareFoundation.Python.3.13_qbz5n2kfra8p0\\LocalCache\\local-packages\\Python313\\site-packages\\pandas\\core\\frame.py:4102\u001b[0m, in \u001b[0;36mDataFrame.__getitem__\u001b[1;34m(self, key)\u001b[0m\n\u001b[0;32m   4100\u001b[0m \u001b[38;5;28;01mif\u001b[39;00m \u001b[38;5;28mself\u001b[39m\u001b[38;5;241m.\u001b[39mcolumns\u001b[38;5;241m.\u001b[39mnlevels \u001b[38;5;241m>\u001b[39m \u001b[38;5;241m1\u001b[39m:\n\u001b[0;32m   4101\u001b[0m     \u001b[38;5;28;01mreturn\u001b[39;00m \u001b[38;5;28mself\u001b[39m\u001b[38;5;241m.\u001b[39m_getitem_multilevel(key)\n\u001b[1;32m-> 4102\u001b[0m indexer \u001b[38;5;241m=\u001b[39m \u001b[38;5;28;43mself\u001b[39;49m\u001b[38;5;241;43m.\u001b[39;49m\u001b[43mcolumns\u001b[49m\u001b[38;5;241;43m.\u001b[39;49m\u001b[43mget_loc\u001b[49m\u001b[43m(\u001b[49m\u001b[43mkey\u001b[49m\u001b[43m)\u001b[49m\n\u001b[0;32m   4103\u001b[0m \u001b[38;5;28;01mif\u001b[39;00m is_integer(indexer):\n\u001b[0;32m   4104\u001b[0m     indexer \u001b[38;5;241m=\u001b[39m [indexer]\n",
      "File \u001b[1;32m~\\AppData\\Local\\Packages\\PythonSoftwareFoundation.Python.3.13_qbz5n2kfra8p0\\LocalCache\\local-packages\\Python313\\site-packages\\pandas\\core\\indexes\\base.py:3812\u001b[0m, in \u001b[0;36mIndex.get_loc\u001b[1;34m(self, key)\u001b[0m\n\u001b[0;32m   3807\u001b[0m     \u001b[38;5;28;01mif\u001b[39;00m \u001b[38;5;28misinstance\u001b[39m(casted_key, \u001b[38;5;28mslice\u001b[39m) \u001b[38;5;129;01mor\u001b[39;00m (\n\u001b[0;32m   3808\u001b[0m         \u001b[38;5;28misinstance\u001b[39m(casted_key, abc\u001b[38;5;241m.\u001b[39mIterable)\n\u001b[0;32m   3809\u001b[0m         \u001b[38;5;129;01mand\u001b[39;00m \u001b[38;5;28many\u001b[39m(\u001b[38;5;28misinstance\u001b[39m(x, \u001b[38;5;28mslice\u001b[39m) \u001b[38;5;28;01mfor\u001b[39;00m x \u001b[38;5;129;01min\u001b[39;00m casted_key)\n\u001b[0;32m   3810\u001b[0m     ):\n\u001b[0;32m   3811\u001b[0m         \u001b[38;5;28;01mraise\u001b[39;00m InvalidIndexError(key)\n\u001b[1;32m-> 3812\u001b[0m     \u001b[38;5;28;01mraise\u001b[39;00m \u001b[38;5;167;01mKeyError\u001b[39;00m(key) \u001b[38;5;28;01mfrom\u001b[39;00m \u001b[38;5;21;01merr\u001b[39;00m\n\u001b[0;32m   3813\u001b[0m \u001b[38;5;28;01mexcept\u001b[39;00m \u001b[38;5;167;01mTypeError\u001b[39;00m:\n\u001b[0;32m   3814\u001b[0m     \u001b[38;5;66;03m# If we have a listlike key, _check_indexing_error will raise\u001b[39;00m\n\u001b[0;32m   3815\u001b[0m     \u001b[38;5;66;03m#  InvalidIndexError. Otherwise we fall through and re-raise\u001b[39;00m\n\u001b[0;32m   3816\u001b[0m     \u001b[38;5;66;03m#  the TypeError.\u001b[39;00m\n\u001b[0;32m   3817\u001b[0m     \u001b[38;5;28mself\u001b[39m\u001b[38;5;241m.\u001b[39m_check_indexing_error(key)\n",
      "\u001b[1;31mKeyError\u001b[0m: 1"
     ]
    }
   ],
   "source": [
    "# loc() # it will give the data from the given index\n",
    "covid_data.loc[2:3,['age','gender','has_covid']]"
   ]
  },
  {
   "cell_type": "code",
   "execution_count": 38,
   "metadata": {},
   "outputs": [
    {
     "name": "stdout",
     "output_type": "stream",
     "text": [
      "<class 'pandas.core.frame.DataFrame'>\n",
      "RangeIndex: 100 entries, 0 to 99\n",
      "Data columns (total 6 columns):\n",
      " #   Column     Non-Null Count  Dtype  \n",
      "---  ------     --------------  -----  \n",
      " 0   age        100 non-null    int64  \n",
      " 1   gender     100 non-null    object \n",
      " 2   fever      90 non-null     float64\n",
      " 3   cough      100 non-null    object \n",
      " 4   city       100 non-null    object \n",
      " 5   has_covid  100 non-null    object \n",
      "dtypes: float64(1), int64(1), object(4)\n",
      "memory usage: 4.8+ KB\n"
     ]
    }
   ],
   "source": [
    "# info() is used to get the information of the dataframes\n",
    "covid_data.info()"
   ]
  },
  {
   "cell_type": "code",
   "execution_count": null,
   "metadata": {},
   "outputs": [
    {
     "data": {
      "text/html": [
       "<div>\n",
       "<style scoped>\n",
       "    .dataframe tbody tr th:only-of-type {\n",
       "        vertical-align: middle;\n",
       "    }\n",
       "\n",
       "    .dataframe tbody tr th {\n",
       "        vertical-align: top;\n",
       "    }\n",
       "\n",
       "    .dataframe thead th {\n",
       "        text-align: right;\n",
       "    }\n",
       "</style>\n",
       "<table border=\"1\" class=\"dataframe\">\n",
       "  <thead>\n",
       "    <tr style=\"text-align: right;\">\n",
       "      <th></th>\n",
       "      <th>age</th>\n",
       "      <th>gender</th>\n",
       "      <th>fever</th>\n",
       "    </tr>\n",
       "  </thead>\n",
       "  <tbody>\n",
       "    <tr>\n",
       "      <th>2</th>\n",
       "      <td>42</td>\n",
       "      <td>Male</td>\n",
       "      <td>101.0</td>\n",
       "    </tr>\n",
       "  </tbody>\n",
       "</table>\n",
       "</div>"
      ],
      "text/plain": [
       "   age gender  fever\n",
       "2   42   Male  101.0"
      ]
     },
     "execution_count": 40,
     "metadata": {},
     "output_type": "execute_result"
    }
   ],
   "source": [
    "# iloc() # it is used to get the data from the given index\n",
    "# here we use index number instead of column name in loc() method\n",
    "\n",
    "covid_data.iloc[2:3,0:3]\n"
   ]
  },
  {
   "cell_type": "code",
   "execution_count": 41,
   "metadata": {},
   "outputs": [
    {
     "data": {
      "text/plain": [
       "has_covid\n",
       "No     54\n",
       "Yes    46\n",
       "Name: count, dtype: int64"
      ]
     },
     "execution_count": 41,
     "metadata": {},
     "output_type": "execute_result"
    }
   ],
   "source": [
    "covid_data['has_covid'].value_counts()"
   ]
  },
  {
   "cell_type": "code",
   "execution_count": 42,
   "metadata": {},
   "outputs": [
    {
     "data": {
      "text/plain": [
       "gender\n",
       "Female    59\n",
       "Male      41\n",
       "Name: count, dtype: int64"
      ]
     },
     "execution_count": 42,
     "metadata": {},
     "output_type": "execute_result"
    }
   ],
   "source": [
    "covid_data['gender'].value_counts()"
   ]
  },
  {
   "cell_type": "code",
   "execution_count": 43,
   "metadata": {},
   "outputs": [
    {
     "data": {
      "text/plain": [
       "cough\n",
       "Mild      62\n",
       "Strong    38\n",
       "Name: count, dtype: int64"
      ]
     },
     "execution_count": 43,
     "metadata": {},
     "output_type": "execute_result"
    }
   ],
   "source": [
    "covid_data['cough'].value_counts()\n"
   ]
  },
  {
   "cell_type": "code",
   "execution_count": null,
   "metadata": {},
   "outputs": [],
   "source": [
    "# we will not do value_count on age because it is a continuous data and value_count is used for categorical data.T\n",
    "# Catorical data is a data that can be divided into categories.\n",
    "# Numerical data is a data that can be divided into numbers."
   ]
  },
  {
   "cell_type": "code",
   "execution_count": null,
   "metadata": {},
   "outputs": [],
   "source": []
  }
 ],
 "metadata": {
  "kernelspec": {
   "display_name": "Python 3",
   "language": "python",
   "name": "python3"
  },
  "language_info": {
   "codemirror_mode": {
    "name": "ipython",
    "version": 3
   },
   "file_extension": ".py",
   "mimetype": "text/x-python",
   "name": "python",
   "nbconvert_exporter": "python",
   "pygments_lexer": "ipython3",
   "version": "3.13.1"
  }
 },
 "nbformat": 4,
 "nbformat_minor": 2
}
