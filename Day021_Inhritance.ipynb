{
 "cells": [
  {
   "cell_type": "code",
   "execution_count": null,
   "metadata": {},
   "outputs": [],
   "source": [
    "# Inheritance is a fundamental concept in OOPs which allow a class (child Class) to inherit attributes and methods of another class (Parent class).\n",
    "# This promots code reusability, modularity and reduces redundancy.\n",
    "\n",
    "# Key points of Inheritance\n",
    "\n",
    "# code reusability _> the child class can use the code in the parent class without having to write it again.\n",
    "# Extencivility -> the child class can add/ modify funtionality of the parent class.\n",
    "# Herarical structure -> trelaitonship between classess are more organised.\n",
    "\n",
    "# single Inheritance -> a class can inherit from only one class.\n",
    "# multiple Inheritance -> a class can inherit from multiple classes.\n",
    "# multi-level Inheritance -> a class can inherit from a class which is also a child class.    \n",
    "# Hierarchical Inheritance -> a class can inherit from more than one class.\n",
    "\n",
    "\n",
    "# Types of Inheritance:\n",
    "# single Inheritance -> a child class inherit from only one parent class.\n",
    "# multiple Inheritance -> a child class inherits from more than one parent class.\n",
    "# multi-level Inheritance -> a child class inherits from a parent class and that parent class Inheritance another parent class.\n",
    "\n",
    "\n"
   ]
  },
  {
   "cell_type": "code",
   "execution_count": null,
   "metadata": {},
   "outputs": [
    {
     "name": "stdout",
     "output_type": "stream",
     "text": [
      "This is a Engine class\n",
      "This is a car class\n"
     ]
    }
   ],
   "source": [
    "class Engine():\n",
    "    def engine_display(self):\n",
    "        print(\"This is a Engine class\")\n",
    "\n",
    "class wheel():\n",
    "    def wheel_display(self):\n",
    "        print(\"This is a wheel class\")\n",
    "\n",
    "class car(Engine,wheel):\n",
    "    def car_display(self):\n",
    "        print(\"This is a car class\")\n",
    "\n",
    "c = car()\n",
    "c.engine_display()\n",
    "c.wheel_display()\n",
    "c.car_display()"
   ]
  },
  {
   "cell_type": "code",
   "execution_count": 8,
   "metadata": {},
   "outputs": [
    {
     "name": "stdout",
     "output_type": "stream",
     "text": [
      "Animal is Eating\n",
      "Dog is barking\n",
      "Puppy is weeping\n"
     ]
    }
   ],
   "source": [
    "# Multi-level Inheritance\n",
    "\n",
    "class Animal():\n",
    "    def eat(self):\n",
    "        print(\"Animal is Eating\")\n",
    "\n",
    "class Dog(Animal):\n",
    "    def bark(self):\n",
    "        print(\"Dog is barking\")\n",
    "\n",
    "class puppy(Dog):\n",
    "    def weep(self):\n",
    "        print(\"Puppy is weeping\")\n",
    "\n",
    "p = puppy()\n",
    "p.eat()\n",
    "p.bark()\n",
    "p.weep()\n"
   ]
  },
  {
   "cell_type": "code",
   "execution_count": null,
   "metadata": {},
   "outputs": [],
   "source": [
    "# Class Method:\n",
    "# A class method is a method that opearte on the class rather than instance of the class.\n",
    "# It is defined using the @classmethod decorator.\n",
    "# It takes cls as the first parameter.\n",
    "\n",
    "# Features of class method:\n",
    "#     1. It Operate on the class rather than instance specific data.\n",
    "#     2. We can modify the class instance using cls.\n",
    "#     3. It can be called on both class and instance.\n",
    "#     4. "
   ]
  },
  {
   "cell_type": "code",
   "execution_count": 11,
   "metadata": {},
   "outputs": [
    {
     "name": "stdout",
     "output_type": "stream",
     "text": [
      "Before changing company name\n",
      "Name: John Salary: 50000 Company Name: Tech Solutions\n",
      "Name: Smith Salary: 60000 Company Name: Tech Solutions\n",
      "After changing company name\n",
      "Name: John Salary: 50000 Company Name: Regex Software\n",
      "Name: Smith Salary: 60000 Company Name: Regex Software\n"
     ]
    }
   ],
   "source": [
    "class Employee():\n",
    "    company_name=\"Tech Solutions\"\n",
    "\n",
    "    def __init__(self,name,salary):\n",
    "        self.name=name\n",
    "        self.salary=salary\n",
    "    \n",
    "    @classmethod\n",
    "    def change_company_name(cls,new_name):\n",
    "        cls.company_name=new_name\n",
    "    \n",
    "    def display(self):\n",
    "        print(f\"Name: {self.name} Salary: {self.salary} Company Name: {self.company_name}\")\n",
    "\n",
    "e1=Employee(\"John\",50000)\n",
    "e2=Employee(\"Smith\",60000)\n",
    "print(\"Before changing company name\")\n",
    "e1.display()\n",
    "e2.display()\n",
    "print(\"After changing company name\")\n",
    "Employee.change_company_name(\"Regex Software\")\n",
    "e1.display()\n",
    "e2.display()"
   ]
  },
  {
   "cell_type": "code",
   "execution_count": 12,
   "metadata": {},
   "outputs": [
    {
     "name": "stdout",
     "output_type": "stream",
     "text": [
      "B\n"
     ]
    }
   ],
   "source": [
    "class A:\n",
    "    def show(self):\n",
    "        print(\"A\")\n",
    "\n",
    "class B(A):\n",
    "    def show(self):\n",
    "        print(\"B\")\n",
    "\n",
    "class C(A):\n",
    "    def show(self):\n",
    "        print(\"C\")\n",
    "\n",
    "class D(B, C):  # D inherits from both B and C\n",
    "    pass\n",
    "\n",
    "d = D()\n",
    "d.show()  # Which method gets called?\n"
   ]
  },
  {
   "cell_type": "code",
   "execution_count": 1,
   "metadata": {},
   "outputs": [
    {
     "name": "stdout",
     "output_type": "stream",
     "text": [
      "2025-02-13 17:49:14.142819\n"
     ]
    }
   ],
   "source": [
    "from datetime import datetime\n",
    "\n",
    "print(datetime.now())"
   ]
  },
  {
   "cell_type": "code",
   "execution_count": null,
   "metadata": {},
   "outputs": [],
   "source": [
    "# static method is a method ehich does not  oerat eon class or on isinstanceit behave like a regular funtions but it defied inside the class\n",
    "# for logical grouping.\n",
    "    \n",
    "# it is marked with @staticmethod decorator\n",
    "    \n",
    "# does not requird of self and cls.\n",
    "# cannot modify class and instance attributes.\n",
    "# it is useful for utility or helaper method that donot reley on class and instance.\n",
    "    "
   ]
  },
  {
   "cell_type": "code",
   "execution_count": null,
   "metadata": {},
   "outputs": [
    {
     "name": "stdout",
     "output_type": "stream",
     "text": [
      "Name -> sam , Role -> developer\n",
      "This is Great\n",
      "sam\n"
     ]
    },
    {
     "ename": "TypeError",
     "evalue": "Employee.newResult() takes 0 positional arguments but 1 was given",
     "output_type": "error",
     "traceback": [
      "\u001b[1;31m---------------------------------------------------------------------------\u001b[0m\n",
      "\u001b[1;31mTypeError\u001b[0m                                 Traceback (most recent call last)\n",
      "Cell \u001b[1;32mIn[5], line 19\u001b[0m\n",
      "\u001b[0;32m     17\u001b[0m a\u001b[38;5;241m.\u001b[39mNewInfo()\n",
      "\u001b[0;32m     18\u001b[0m \u001b[38;5;28mprint\u001b[39m(a\u001b[38;5;241m.\u001b[39mname)\n",
      "\u001b[1;32m---> 19\u001b[0m \u001b[43ma\u001b[49m\u001b[38;5;241;43m.\u001b[39;49m\u001b[43mnewResult\u001b[49m\u001b[43m(\u001b[49m\u001b[43m)\u001b[49m\n",
      "\n",
      "\u001b[1;31mTypeError\u001b[0m: Employee.newResult() takes 0 positional arguments but 1 was given"
     ]
    }
   ],
   "source": [
    "class Employee:\n",
    "    location='Jaipur'\n",
    "    def __init__(self,name,role):\n",
    "        self.name=name\n",
    "        self.role=role\n",
    "    def getInfo(self):\n",
    "        print(f'Name -> {self.name} , Role -> {self.role}')\n",
    "    \n",
    "    @staticmethod\n",
    "    def NewInfo():\n",
    "        print('This is Great')\n",
    "        \n",
    "    def newResult():\n",
    "        print(f'This is Great result {self.name}')\n",
    "a=Employee('sam','developer')\n",
    "a.getInfo()\n",
    "a.NewInfo()\n",
    "print(a.name)\n",
    "a.newResult()"
   ]
  },
  {
   "cell_type": "code",
   "execution_count": null,
   "metadata": {},
   "outputs": [],
   "source": [
    "# super() is used to call a method from the parent class in the context of inheritance.\n",
    "# It allows us to avoid explicity refering to the parent class and makes the code more maintainable.\n",
    "\n",
    "# Feature of supermethod:\n",
    "\n",
    "# 1. access the parent class method or attributes \n",
    "# 2. It is useful in multi-level or ultiple inheritance\n",
    "# 3. It helps in avoiding code repetation\n"
   ]
  },
  {
   "cell_type": "code",
   "execution_count": null,
   "metadata": {},
   "outputs": [
    {
     "name": "stdout",
     "output_type": "stream",
     "text": [
      "I am sam from parent class.\n",
      "I am 10 years old from child class.\n"
     ]
    }
   ],
   "source": [
    "class Parent:\n",
    "    def __init__(self,name):\n",
    "        self.name=name\n",
    "    \n",
    "    def greet(self):\n",
    "        print(f'I am {self.name} from parent class.')\n",
    "\n",
    "class Child(Parent):\n",
    "    def __init__(self, name, age):\n",
    "        super().__init__(name)\n",
    "        self.age=age\n",
    "\n",
    "    def greet(self):\n",
    "        super().greet()\n",
    "        print(f'I am {self.age} years old from child class.')\n",
    "child=Child('sam',10)\n",
    "child.greet()"
   ]
  },
  {
   "cell_type": "code",
   "execution_count": null,
   "metadata": {},
   "outputs": [],
   "source": [
    "# Why we use Polymorphism in OOPs?\n",
    "# Polymorphism allows object of differnt class treated as object of a common super class.\n",
    "# it enables a single interface to represent differnt underline forms.\n",
    "# this makes the code more felxible reuseable and easier to extend.\n",
    "\n",
    "# key benefits of Polymorphism.\n",
    "\n",
    "# 1. code reusability. -> We can write more generic code that works with object of differnt types.\n",
    "\n",
    "# 2. Flexivility -> New classes can be added with minimul changes to the code.\n",
    "\n",
    "# 3. Readebility -> It simplyfies complex logic by using a single mehtod name for multile actions.\n",
    "\n"
   ]
  }
 ],
 "metadata": {
  "kernelspec": {
   "display_name": "Python 3",
   "language": "python",
   "name": "python3"
  },
  "language_info": {
   "codemirror_mode": {
    "name": "ipython",
    "version": 3
   },
   "file_extension": ".py",
   "mimetype": "text/x-python",
   "name": "python",
   "nbconvert_exporter": "python",
   "pygments_lexer": "ipython3",
   "version": "3.13.1"
  }
 },
 "nbformat": 4,
 "nbformat_minor": 2
}
