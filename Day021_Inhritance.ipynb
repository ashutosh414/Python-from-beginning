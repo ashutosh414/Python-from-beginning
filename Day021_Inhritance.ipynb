{
 "cells": [
  {
   "cell_type": "code",
   "execution_count": null,
   "metadata": {},
   "outputs": [],
   "source": [
    "# Inheritance is a fundamental concept in OOPs which allow a class (child Class) to inherit attributes and methods of another class (Parent class).\n",
    "# This promots code reusability, modularity and reduces redundancy.\n",
    "\n",
    "# Key points of Inheritance\n",
    "\n",
    "# code reusability _> the child class can use the code in the parent class without having to write it again.\n",
    "# Extencivility -> the child class can add/ modify funtionality of the parent class.\n",
    "# Herarical structure -> trelaitonship between classess are more organised.\n",
    "\n",
    "# single Inheritance -> a class can inherit from only one class.\n",
    "# multiple Inheritance -> a class can inherit from multiple classes.\n",
    "# multi-level Inheritance -> a class can inherit from a class which is also a child class.    \n",
    "# Hierarchical Inheritance -> a class can inherit from more than one class.\n",
    "\n",
    "\n",
    "# Types of Inheritance:\n",
    "# single Inheritance -> a child class inherit from only one parent class.\n",
    "# multiple Inheritance -> a child class inherits from more than one parent class.\n",
    "# multi-level Inheritance -> a child class inherits from a parent class and that parent class Inheritance another parent class.\n",
    "\n",
    "\n"
   ]
  },
  {
   "cell_type": "code",
   "execution_count": null,
   "metadata": {},
   "outputs": [
    {
     "name": "stdout",
     "output_type": "stream",
     "text": [
      "This is a Engine class\n",
      "This is a car class\n"
     ]
    }
   ],
   "source": [
    "class Engine():\n",
    "    def engine_display(self):\n",
    "        print(\"This is a Engine class\")\n",
    "\n",
    "class wheel():\n",
    "    def wheel_display(self):\n",
    "        print(\"This is a wheel class\")\n",
    "\n",
    "class car(Engine,wheel):\n",
    "    def car_display(self):\n",
    "        print(\"This is a car class\")\n",
    "\n",
    "c = car()\n",
    "c.engine_display()\n",
    "c.wheel_display()\n",
    "c.car_display()"
   ]
  },
  {
   "cell_type": "code",
   "execution_count": 8,
   "metadata": {},
   "outputs": [
    {
     "name": "stdout",
     "output_type": "stream",
     "text": [
      "Animal is Eating\n",
      "Dog is barking\n",
      "Puppy is weeping\n"
     ]
    }
   ],
   "source": [
    "# Multi-level Inheritance\n",
    "\n",
    "class Animal():\n",
    "    def eat(self):\n",
    "        print(\"Animal is Eating\")\n",
    "\n",
    "class Dog(Animal):\n",
    "    def bark(self):\n",
    "        print(\"Dog is barking\")\n",
    "\n",
    "class puppy(Dog):\n",
    "    def weep(self):\n",
    "        print(\"Puppy is weeping\")\n",
    "\n",
    "p = puppy()\n",
    "p.eat()\n",
    "p.bark()\n",
    "p.weep()\n"
   ]
  },
  {
   "cell_type": "code",
   "execution_count": null,
   "metadata": {},
   "outputs": [],
   "source": [
    "Class Method:\n",
    "A class method is a method that opearte on the class rather than instance of the class.\n",
    "It is defined using the @classmethod decorator.\n",
    "It takes cls as the first parameter.\n",
    "\n",
    "Features of class method:\n",
    "    1. It Operate on the class rather than instance specific data.\n",
    "    2. We can modify the class instance using cls.\n",
    "    3. It can be called on both class and instance.\n",
    "    4. "
   ]
  },
  {
   "cell_type": "code",
   "execution_count": 11,
   "metadata": {},
   "outputs": [
    {
     "name": "stdout",
     "output_type": "stream",
     "text": [
      "Before changing company name\n",
      "Name: John Salary: 50000 Company Name: Tech Solutions\n",
      "Name: Smith Salary: 60000 Company Name: Tech Solutions\n",
      "After changing company name\n",
      "Name: John Salary: 50000 Company Name: Regex Software\n",
      "Name: Smith Salary: 60000 Company Name: Regex Software\n"
     ]
    }
   ],
   "source": [
    "class Employee():\n",
    "    company_name=\"Tech Solutions\"\n",
    "\n",
    "    def __init__(self,name,salary):\n",
    "        self.name=name\n",
    "        self.salary=salary\n",
    "    \n",
    "    @classmethod\n",
    "    def change_company_name(cls,new_name):\n",
    "        cls.company_name=new_name\n",
    "    \n",
    "    def display(self):\n",
    "        print(f\"Name: {self.name} Salary: {self.salary} Company Name: {self.company_name}\")\n",
    "\n",
    "e1=Employee(\"John\",50000)\n",
    "e2=Employee(\"Smith\",60000)\n",
    "print(\"Before changing company name\")\n",
    "e1.display()\n",
    "e2.display()\n",
    "print(\"After changing company name\")\n",
    "Employee.change_company_name(\"Regex Software\")\n",
    "e1.display()\n",
    "e2.display()"
   ]
  },
  {
   "cell_type": "code",
   "execution_count": 12,
   "metadata": {},
   "outputs": [
    {
     "name": "stdout",
     "output_type": "stream",
     "text": [
      "B\n"
     ]
    }
   ],
   "source": [
    "class A:\n",
    "    def show(self):\n",
    "        print(\"A\")\n",
    "\n",
    "class B(A):\n",
    "    def show(self):\n",
    "        print(\"B\")\n",
    "\n",
    "class C(A):\n",
    "    def show(self):\n",
    "        print(\"C\")\n",
    "\n",
    "class D(B, C):  # D inherits from both B and C\n",
    "    pass\n",
    "\n",
    "d = D()\n",
    "d.show()  # Which method gets called?\n"
   ]
  }
 ],
 "metadata": {
  "kernelspec": {
   "display_name": "Python 3",
   "language": "python",
   "name": "python3"
  },
  "language_info": {
   "codemirror_mode": {
    "name": "ipython",
    "version": 3
   },
   "file_extension": ".py",
   "mimetype": "text/x-python",
   "name": "python",
   "nbconvert_exporter": "python",
   "pygments_lexer": "ipython3",
   "version": "3.13.1"
  }
 },
 "nbformat": 4,
 "nbformat_minor": 2
}
