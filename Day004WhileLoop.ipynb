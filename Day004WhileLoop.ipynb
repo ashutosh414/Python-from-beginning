{
 "cells": [
  {
   "cell_type": "code",
   "execution_count": null,
   "metadata": {},
   "outputs": [],
   "source": [
    "#find a number which is divisible by 3 and 7\n",
    "num=1\n",
    "while(1):\n",
    "    if(num%3==0 and num%7 == 0):\n",
    "        print(num)\n",
    "        break\n",
    "    num+=1"
   ]
  },
  {
   "cell_type": "code",
   "execution_count": null,
   "metadata": {},
   "outputs": [],
   "source": [
    "# 14.Write a program to find LCM of two numbers.\n",
    "num1=int(input(\"Enter the number\"))\n",
    "num2=int(input(\"Enter the number\"))\n",
    "i=2\n",
    "lcm=1\n",
    "copynum1=num1\n",
    "copynum2=num2\n",
    "\n",
    "if(copynum1>copynum2):\n",
    "    max=copynum1\n",
    "else:\n",
    "    max=copynum2\n",
    "\n",
    "while(1):\n",
    "    if(max%copynum1==0 and max%copynum2==0):\n",
    "        print(f'the Lcm of {copynum1} and {copynum2} is {max}')\n",
    "        break\n",
    "    else:\n",
    "        max+=1\n"
   ]
  },
  {
   "cell_type": "code",
   "execution_count": null,
   "metadata": {},
   "outputs": [],
   "source": [
    "#find string is palindrome or not\n",
    "\n",
    "# method 1\n",
    "num='naman1'\n",
    "if num==num[::-1]:\n",
    "    print('Palindrome')\n",
    "else:\n",
    "    print('Not a palindrome')\n",
    "\n",
    "# method 2\n",
    "\n",
    "data='sarras'\n",
    "flag=1\n",
    "start=0\n",
    "end=len(data)-1\n",
    "while(start<end):\n",
    "    if (data[start]!=data[end]):\n",
    "        flag=0\n",
    "        break\n",
    "    end-=1\n",
    "    start+=1\n",
    "if(flag):\n",
    "    print(f'{data} is a valid palindrome')\n",
    "else:\n",
    "    print(f'{data} is not a valid palindrome')"
   ]
  },
  {
   "cell_type": "markdown",
   "metadata": {},
   "source": [
    "<h2>Nested Loop</h2>"
   ]
  },
  {
   "cell_type": "code",
   "execution_count": null,
   "metadata": {},
   "outputs": [],
   "source": [
    "# method 1\n",
    "\n",
    "for x in range(1,5):\n",
    "    print('Employee',x)\n",
    "    for y in range(1,x+1):\n",
    "        print('food copupon',y)\n",
    "\n",
    "# method 2\n",
    "\n",
    "num=1\n",
    "for x in range(1,5):\n",
    "    print('Employee',x)\n",
    "    for y in range(1,num+1):\n",
    "        print('food copupon',y)\n",
    "    num+=1"
   ]
  },
  {
   "cell_type": "code",
   "execution_count": 18,
   "metadata": {},
   "outputs": [
    {
     "name": "stdout",
     "output_type": "stream",
     "text": [
      "Employee 1\n",
      "food copupon 1\n",
      "food copupon 2\n",
      "food copupon 3\n",
      "food copupon 4\n",
      "Employee 2\n",
      "food copupon 2\n",
      "food copupon 3\n",
      "food copupon 4\n",
      "Employee 3\n",
      "food copupon 3\n",
      "food copupon 4\n",
      "Employee 4\n",
      "food copupon 4\n"
     ]
    }
   ],
   "source": [
    "for x in range(1,5):\n",
    "    print('Employee',x)\n",
    "    for y in range(1,5+1-x):\n",
    "        print('food copupon',y)\n",
    "\n",
    "# method 2\n",
    "\n",
    "for x in range(1,5):\n",
    "    print('Employee',x)\n",
    "    for y in range(x,5):\n",
    "        print('food copupon',y)\n",
    "\n",
    "# method 3\n",
    "\n",
    "for x in range(1,5):\n",
    "    print('Employee',x)\n",
    "    for y in range(5,x,-1):\n",
    "        print('food copupon',y)"
   ]
  },
  {
   "cell_type": "code",
   "execution_count": 20,
   "metadata": {},
   "outputs": [
    {
     "name": "stdout",
     "output_type": "stream",
     "text": [
      "5\n",
      "10\n",
      "15\n",
      "20\n",
      "25\n",
      "30\n",
      "35\n",
      "40\n",
      "45\n",
      "50\n"
     ]
    }
   ],
   "source": [
    "num=5\n",
    "for i in range(1,11):\n",
    "    print(num*i)"
   ]
  },
  {
   "cell_type": "code",
   "execution_count": 22,
   "metadata": {},
   "outputs": [
    {
     "name": "stdout",
     "output_type": "stream",
     "text": [
      "2 * 1 = 2\n",
      "2 * 2 = 4\n",
      "2 * 3 = 6\n",
      "2 * 4 = 8\n",
      "2 * 5 = 10\n",
      "2 * 6 = 12\n",
      "2 * 7 = 14\n",
      "2 * 8 = 16\n",
      "2 * 9 = 18\n",
      "2 * 10 = 20\n",
      "\n",
      "3 * 1 = 3\n",
      "3 * 2 = 6\n",
      "3 * 3 = 9\n",
      "3 * 4 = 12\n",
      "3 * 5 = 15\n",
      "3 * 6 = 18\n",
      "3 * 7 = 21\n",
      "3 * 8 = 24\n",
      "3 * 9 = 27\n",
      "3 * 10 = 30\n",
      "\n",
      "4 * 1 = 4\n",
      "4 * 2 = 8\n",
      "4 * 3 = 12\n",
      "4 * 4 = 16\n",
      "4 * 5 = 20\n",
      "4 * 6 = 24\n",
      "4 * 7 = 28\n",
      "4 * 8 = 32\n",
      "4 * 9 = 36\n",
      "4 * 10 = 40\n",
      "\n",
      "5 * 1 = 5\n",
      "5 * 2 = 10\n",
      "5 * 3 = 15\n",
      "5 * 4 = 20\n",
      "5 * 5 = 25\n",
      "5 * 6 = 30\n",
      "5 * 7 = 35\n",
      "5 * 8 = 40\n",
      "5 * 9 = 45\n",
      "5 * 10 = 50\n",
      "\n",
      "6 * 1 = 6\n",
      "6 * 2 = 12\n",
      "6 * 3 = 18\n",
      "6 * 4 = 24\n",
      "6 * 5 = 30\n",
      "6 * 6 = 36\n",
      "6 * 7 = 42\n",
      "6 * 8 = 48\n",
      "6 * 9 = 54\n",
      "6 * 10 = 60\n",
      "\n",
      "7 * 1 = 7\n",
      "7 * 2 = 14\n",
      "7 * 3 = 21\n",
      "7 * 4 = 28\n",
      "7 * 5 = 35\n",
      "7 * 6 = 42\n",
      "7 * 7 = 49\n",
      "7 * 8 = 56\n",
      "7 * 9 = 63\n",
      "7 * 10 = 70\n",
      "\n"
     ]
    }
   ],
   "source": [
    "starttable=2\n",
    "endTable=7\n",
    "for i in range(2,endTable+1):\n",
    "    for j in range(1,11):\n",
    "        print(f'{i} * {j} = {i*j}')\n",
    "    print('')"
   ]
  },
  {
   "cell_type": "code",
   "execution_count": null,
   "metadata": {},
   "outputs": [],
   "source": [
    "starttable=2\n",
    "endTable=7\n",
    "for i in range(2,endTable+1):\n",
    "    for j in range(1,11):\n",
    "        print(f'{i} * {j} = {i*j}')\n",
    "    print('')"
   ]
  },
  {
   "cell_type": "code",
   "execution_count": 25,
   "metadata": {},
   "outputs": [
    {
     "name": "stdout",
     "output_type": "stream",
     "text": [
      "<class 'int'>\n",
      "257\n",
      "<class 'int'>\n"
     ]
    }
   ],
   "source": [
    "x=1\n",
    "y=1\n",
    "print(type(x))\n",
    "while(id(x)==id(y)):\n",
    "    x+=1\n",
    "    y+=1\n",
    "print(x)\n",
    "print(type(x))\n"
   ]
  }
 ],
 "metadata": {
  "kernelspec": {
   "display_name": "Python 3",
   "language": "python",
   "name": "python3"
  },
  "language_info": {
   "codemirror_mode": {
    "name": "ipython",
    "version": 3
   },
   "file_extension": ".py",
   "mimetype": "text/x-python",
   "name": "python",
   "nbconvert_exporter": "python",
   "pygments_lexer": "ipython3",
   "version": "3.13.1"
  }
 },
 "nbformat": 4,
 "nbformat_minor": 2
}
