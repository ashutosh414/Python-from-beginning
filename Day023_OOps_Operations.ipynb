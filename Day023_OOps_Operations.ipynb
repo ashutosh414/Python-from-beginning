{
 "cells": [
  {
   "cell_type": "code",
   "execution_count": 2,
   "metadata": {},
   "outputs": [
    {
     "name": "stdout",
     "output_type": "stream",
     "text": [
      "('Ashutosh', 25, ['fever', 'Myophiya'])\n",
      "---------------------------\n",
      "('Raj', 22, ['ENT'])\n",
      "---------------------------\n"
     ]
    }
   ],
   "source": [
    "class HeathCare:\n",
    "    def __init__(self,name,age,mh):\n",
    "        self.__name=name\n",
    "        self.__age=age\n",
    "        self.__medicalHistory=[mh]\n",
    "    \n",
    "    def patientDetails(self):\n",
    "        return self.__name,self.__age,self.__medicalHistory\n",
    "    \n",
    "    def updateMedicalHistory(self,newRecord):\n",
    "        self.__medicalHistory.append(newRecord)\n",
    "        return 'Successfully updated the report'\n",
    "    \n",
    "mylist=[]\n",
    "mylist.append(HeathCare('Ashutosh',25,'fever'))\n",
    "mylist.append(HeathCare('Raj',22,'ENT'))\n",
    "mylist[0].updateMedicalHistory('Myophiya')\n",
    "for i in mylist:\n",
    "    print(i.patientDetails())\n",
    "    print('---------------------------')"
   ]
  },
  {
   "cell_type": "code",
   "execution_count": 11,
   "metadata": {},
   "outputs": [
    {
     "name": "stdout",
     "output_type": "stream",
     "text": [
      "('Ashutosh', [25, 40, 50, 30, 80])\n",
      "average score ->  45.0\n",
      "---------------------------\n",
      "('Raj', [22, 50])\n",
      "average score ->  36.0\n",
      "---------------------------\n"
     ]
    }
   ],
   "source": [
    "class Examination:\n",
    "    def __init__(self,name,*scores):\n",
    "        self.name=name\n",
    "        self.scores=list(scores)\n",
    "    \n",
    "    def showDetails(self):\n",
    "        return self.name,self.scores\n",
    "    \n",
    "    def updateNewScore(self,*newscore):\n",
    "        newscore=list(newscore)\n",
    "        self.scores.extend(newscore)\n",
    "        return 'Successfully updated the Scores'\n",
    "    \n",
    "    def AvgScores(self):\n",
    "        return sum(self.scores)/len(self.scores)\n",
    "    \n",
    "mylist=[]\n",
    "mylist.append(Examination('Ashutosh',25))\n",
    "mylist.append(Examination('Raj',22,50))\n",
    "mylist[0].showDetails()\n",
    "mylist[0].updateNewScore(40,50,30)\n",
    "mylist[0].updateNewScore(80)\n",
    "\n",
    "for i in mylist:\n",
    "    print(i.showDetails())\n",
    "    print('average score -> ',i.AvgScores())\n",
    "    print('---------------------------')\n"
   ]
  },
  {
   "cell_type": "code",
   "execution_count": 35,
   "metadata": {},
   "outputs": [
    {
     "name": "stdout",
     "output_type": "stream",
     "text": [
      "('Ash', 'ash@g.com')\n",
      "('Ram', 'ram12@ho.net')\n",
      "('Cycle', 5000)\n",
      "('Bottle', 390)\n",
      "('Laptop', 35000)\n",
      "('Pen', 5)\n",
      "Product added successfully\n",
      "{'Name': 'Ash', 'Email': 'ash@g.com', 'OrderDetails': [{'product': 'Cycle', 'price': 5000, 'order_id': 'order01'}, {'product': 'Pen', 'price': 5, 'Order_id': 'order03'}]}\n",
      "{'Name': 'Ram', 'Email': 'ram12@ho.net', 'OrderDetails': [{'product': 'Laptop', 'price': 35000, 'order_id': 'order02'}]}\n"
     ]
    }
   ],
   "source": [
    "class Customer:\n",
    "    def __init__(self,name,email):\n",
    "        self.name=name\n",
    "        self.email=email\n",
    "    \n",
    "    def get_C_data(self):\n",
    "        return self.name,self.email\n",
    "    \n",
    "class Product:\n",
    "    def __init__(self,p_name,p_price):\n",
    "        self.p_name=p_name\n",
    "        self.p_price=p_price\n",
    "    \n",
    "    def getProductDetails(self):\n",
    "        return self.p_name,self.p_price\n",
    "    \n",
    "class Order:\n",
    "    def __init__(self,customer,product,order_id):\n",
    "        self.customer = customer\n",
    "        self.order_id = order_id\n",
    "        self.orderDetails=[{'product':product.p_name,'price':product.p_price,'order_id':order_id}]\n",
    "\n",
    "\n",
    "    def addOrder(self,product,oid=''):\n",
    "        self.orderDetails.append({'product':product.p_name , 'price':product.p_price,'Order_id':oid})\n",
    "        return 'Product added successfully'\n",
    "    \n",
    "    def returnOrder(self,product):\n",
    "        return self.orderDetails\n",
    "\n",
    "    def showAllOrderOfCust(self):\n",
    "        return {'Name':self.customer.name,'Email':self.customer.email,'OrderDetails' :self.orderDetails}\n",
    "custList=[]   \n",
    "custList.append(Customer('Ash','ash@g.com'))\n",
    "custList.append(Customer('Ram','ram12@ho.net'))\n",
    "prodtList=[]\n",
    "prodtList.append(Product('Cycle',5000))\n",
    "prodtList.append(Product('Bottle',390))\n",
    "prodtList.append(Product('Laptop',35000))\n",
    "prodtList.append(Product('Pen',5))\n",
    "\n",
    "for c_data in custList:\n",
    "    print(c_data.get_C_data())\n",
    "\n",
    "for p_data in prodtList:\n",
    "    print(p_data.getProductDetails())\n",
    "\n",
    "orderList=[]\n",
    "orderList.append(Order(custList[0],prodtList[0],'order01'))\n",
    "orderList.append(Order(custList[1],prodtList[2],'order02'))\n",
    "\n",
    "print(orderList[0].addOrder(prodtList[3],'order03'))\n",
    "\n",
    "for order_id in orderList:\n",
    "    print(order_id.showAllOrderOfCust())"
   ]
  },
  {
   "cell_type": "code",
   "execution_count": 8,
   "metadata": {},
   "outputs": [
    {
     "name": "stdout",
     "output_type": "stream",
     "text": [
      "name is Sohan age is23\n"
     ]
    },
    {
     "data": {
      "text/plain": [
       "'You can see the medical history'"
      ]
     },
     "execution_count": 8,
     "metadata": {},
     "output_type": "execute_result"
    }
   ],
   "source": [
    "class Hospital:\n",
    "    def __init__(self,name,age,medicalhis):\n",
    "        self.__name=name\n",
    "        self.__age=age\n",
    "        self.__medicalhis=medicalhis\n",
    "\n",
    "    def details(self):\n",
    "        return self.__name,self.__age\n",
    "  \n",
    "\n",
    "    def medical_history(self):\n",
    "         if self.__medicalhis==True:\n",
    "            return \"You can see the medical history\"\n",
    "         else:\n",
    "            return \"you cannot see the medical history \"\n",
    "\n",
    "obj=Hospital(\"Sohan\",23,True)\n",
    "y=obj.details()\n",
    "print(f\"name is {y[0]} age is{y[1]}\")\n",
    "obj.medical_history()"
   ]
  },
  {
   "cell_type": "code",
   "execution_count": 1,
   "metadata": {},
   "outputs": [
    {
     "name": "stdout",
     "output_type": "stream",
     "text": [
      "Name =>A\n",
      "Roll-No. => 1\n",
      "Grade => A+\n",
      "Name =>A\n",
      "Roll-No. => 1\n",
      "Grade => B\n"
     ]
    }
   ],
   "source": [
    "class Student:\n",
    "    def __init__(self,n,r_n,g):\n",
    "        self.name,self.roll_number=n,r_n\n",
    "        self.grade=g\n",
    "    def display_details(self):\n",
    "        print(f'''Name =>{self.name}\n",
    "Roll-No. => {self.roll_number}\n",
    "Grade => {self.grade}''')\n",
    "    def update_grade(self,new_grade):\n",
    "        self.grade=new_grade\n",
    "\n",
    "s1=Student('A',1,'A+')\n",
    "s1.display_details()\n",
    "s1.update_grade('B')\n",
    "s1.display_details()"
   ]
  },
  {
   "cell_type": "code",
   "execution_count": 3,
   "metadata": {},
   "outputs": [
    {
     "name": "stdout",
     "output_type": "stream",
     "text": [
      "Car Brand =>Maruti\n",
      "Car Model => Fronz\n",
      "Car Price => 800000\n",
      "Price of Car after discount is 760000.0\n"
     ]
    }
   ],
   "source": [
    "class Car:\n",
    "    def __init__(self,b,m,p):\n",
    "        self.brand,self.model,self.price=b,m,p\n",
    "    def display_info(self):\n",
    "        print(f'''Car Brand =>{self.brand}\n",
    "Car Model => {self.model}\n",
    "Car Price => {self.price}''')\n",
    "    \n",
    "    def apply_discount(self,percent_discount):\n",
    "        return self.price*(100-percent_discount)/100\n",
    "\n",
    "c1=Car('Maruti','Fronz',800000)\n",
    "c1.display_info()\n",
    "print(f'Price of Car after discount is {c1.apply_discount(5)}')"
   ]
  },
  {
   "cell_type": "code",
   "execution_count": 4,
   "metadata": {},
   "outputs": [
    {
     "name": "stdout",
     "output_type": "stream",
     "text": [
      "60\n",
      "0.2\n",
      "500\n"
     ]
    }
   ],
   "source": [
    "class Calculator:\n",
    "    def __init__(self,a,b):\n",
    "        self.a=a\n",
    "        self.b=b\n",
    "    \n",
    "    def add(self):\n",
    "        return self.a+self.b\n",
    "    \n",
    "    def substract(self):\n",
    "        return self.a-self.b\n",
    "    \n",
    "    def multiply(self):\n",
    "        return self.a*self.b\n",
    "    \n",
    "    def divide(self):\n",
    "        if self.b==0:\n",
    "            return 'The Denometer is Zero'\n",
    "        else:\n",
    "            return self.a/self.b\n",
    "c1=Calculator(10,50)\n",
    "print(c1.add())\n",
    "print(c1.divide())\n",
    "print(c1.multiply())"
   ]
  },
  {
   "cell_type": "code",
   "execution_count": 7,
   "metadata": {},
   "outputs": [
    {
     "name": "stdout",
     "output_type": "stream",
     "text": [
      "ticket Confirmed\n",
      "Movie name ->Ashutosh\n",
      "Available Seats => 90\n",
      "\n",
      "Only 90 are available\n",
      "\n",
      "Movie name ->Ashutosh\n",
      "Available Seats => 90\n",
      "\n"
     ]
    }
   ],
   "source": [
    "class Movie:\n",
    "    def __init__(self,n,s):\n",
    "        self.name=n\n",
    "        self.available_seats=s\n",
    "    \n",
    "    def book_ticket(self,book_seats):\n",
    "        if book_seats<=self.available_seats:\n",
    "            self.available_seats-=book_seats\n",
    "            return 'ticket Confirmed'\n",
    "        else:\n",
    "            return f'Only {self.available_seats} are available\\n'\n",
    "    \n",
    "    def show_details(self):\n",
    "        print(f'''Movie name ->{self.name}\n",
    "Available Seats => {self.available_seats}\\n''')\n",
    "        \n",
    "m1=Movie('Ashutosh',100)\n",
    "print(m1.book_ticket(10))\n",
    "m1.show_details()\n",
    "print(m1.book_ticket(91))\n",
    "m1.show_details()"
   ]
  },
  {
   "cell_type": "code",
   "execution_count": null,
   "metadata": {},
   "outputs": [],
   "source": []
  }
 ],
 "metadata": {
  "kernelspec": {
   "display_name": "Python 3",
   "language": "python",
   "name": "python3"
  },
  "language_info": {
   "codemirror_mode": {
    "name": "ipython",
    "version": 3
   },
   "file_extension": ".py",
   "mimetype": "text/x-python",
   "name": "python",
   "nbconvert_exporter": "python",
   "pygments_lexer": "ipython3",
   "version": "3.13.1"
  }
 },
 "nbformat": 4,
 "nbformat_minor": 2
}
