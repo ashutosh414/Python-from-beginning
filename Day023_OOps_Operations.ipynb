{
 "cells": [
  {
   "cell_type": "code",
   "execution_count": 2,
   "metadata": {},
   "outputs": [
    {
     "name": "stdout",
     "output_type": "stream",
     "text": [
      "('Ashutosh', 25, ['fever', 'Myophiya'])\n",
      "---------------------------\n",
      "('Raj', 22, ['ENT'])\n",
      "---------------------------\n"
     ]
    }
   ],
   "source": [
    "class HeathCare:\n",
    "    def __init__(self,name,age,mh):\n",
    "        self.__name=name\n",
    "        self.__age=age\n",
    "        self.__medicalHistory=[mh]\n",
    "    \n",
    "    def patientDetails(self):\n",
    "        return self.__name,self.__age,self.__medicalHistory\n",
    "    \n",
    "    def updateMedicalHistory(self,newRecord):\n",
    "        self.__medicalHistory.append(newRecord)\n",
    "        return 'Successfully updated the report'\n",
    "    \n",
    "mylist=[]\n",
    "mylist.append(HeathCare('Ashutosh',25,'fever'))\n",
    "mylist.append(HeathCare('Raj',22,'ENT'))\n",
    "mylist[0].updateMedicalHistory('Myophiya')\n",
    "for i in mylist:\n",
    "    print(i.patientDetails())\n",
    "    print('---------------------------')"
   ]
  },
  {
   "cell_type": "code",
   "execution_count": 11,
   "metadata": {},
   "outputs": [
    {
     "name": "stdout",
     "output_type": "stream",
     "text": [
      "('Ashutosh', [25, 40, 50, 30, 80])\n",
      "average score ->  45.0\n",
      "---------------------------\n",
      "('Raj', [22, 50])\n",
      "average score ->  36.0\n",
      "---------------------------\n"
     ]
    }
   ],
   "source": [
    "class Examination:\n",
    "    def __init__(self,name,*scores):\n",
    "        self.name=name\n",
    "        self.scores=list(scores)\n",
    "    \n",
    "    def showDetails(self):\n",
    "        return self.name,self.scores\n",
    "    \n",
    "    def updateNewScore(self,*newscore):\n",
    "        newscore=list(newscore)\n",
    "        self.scores.extend(newscore)\n",
    "        return 'Successfully updated the Scores'\n",
    "    \n",
    "    def AvgScores(self):\n",
    "        return sum(self.scores)/len(self.scores)\n",
    "    \n",
    "mylist=[]\n",
    "mylist.append(Examination('Ashutosh',25))\n",
    "mylist.append(Examination('Raj',22,50))\n",
    "mylist[0].showDetails()\n",
    "mylist[0].updateNewScore(40,50,30)\n",
    "mylist[0].updateNewScore(80)\n",
    "\n",
    "for i in mylist:\n",
    "    print(i.showDetails())\n",
    "    print('average score -> ',i.AvgScores())\n",
    "    print('---------------------------')\n"
   ]
  },
  {
   "cell_type": "code",
   "execution_count": 35,
   "metadata": {},
   "outputs": [
    {
     "name": "stdout",
     "output_type": "stream",
     "text": [
      "('Ash', 'ash@g.com')\n",
      "('Ram', 'ram12@ho.net')\n",
      "('Cycle', 5000)\n",
      "('Bottle', 390)\n",
      "('Laptop', 35000)\n",
      "('Pen', 5)\n",
      "Product added successfully\n",
      "{'Name': 'Ash', 'Email': 'ash@g.com', 'OrderDetails': [{'product': 'Cycle', 'price': 5000, 'order_id': 'order01'}, {'product': 'Pen', 'price': 5, 'Order_id': 'order03'}]}\n",
      "{'Name': 'Ram', 'Email': 'ram12@ho.net', 'OrderDetails': [{'product': 'Laptop', 'price': 35000, 'order_id': 'order02'}]}\n"
     ]
    }
   ],
   "source": [
    "class Customer:\n",
    "    def __init__(self,name,email):\n",
    "        self.name=name\n",
    "        self.email=email\n",
    "    \n",
    "    def get_C_data(self):\n",
    "        return self.name,self.email\n",
    "    \n",
    "class Product:\n",
    "    def __init__(self,p_name,p_price):\n",
    "        self.p_name=p_name\n",
    "        self.p_price=p_price\n",
    "    \n",
    "    def getProductDetails(self):\n",
    "        return self.p_name,self.p_price\n",
    "    \n",
    "class Order:\n",
    "    def __init__(self,customer,product,order_id):\n",
    "        self.customer = customer\n",
    "        self.order_id = order_id\n",
    "        self.orderDetails=[{'product':product.p_name,'price':product.p_price,'order_id':order_id}]\n",
    "\n",
    "\n",
    "    def addOrder(self,product,oid=''):\n",
    "        self.orderDetails.append({'product':product.p_name , 'price':product.p_price,'Order_id':oid})\n",
    "        return 'Product added successfully'\n",
    "    \n",
    "    def returnOrder(self,product):\n",
    "        return self.orderDetails\n",
    "\n",
    "    def showAllOrderOfCust(self):\n",
    "        return {'Name':self.customer.name,'Email':self.customer.email,'OrderDetails' :self.orderDetails}\n",
    "custList=[]   \n",
    "custList.append(Customer('Ash','ash@g.com'))\n",
    "custList.append(Customer('Ram','ram12@ho.net'))\n",
    "prodtList=[]\n",
    "prodtList.append(Product('Cycle',5000))\n",
    "prodtList.append(Product('Bottle',390))\n",
    "prodtList.append(Product('Laptop',35000))\n",
    "prodtList.append(Product('Pen',5))\n",
    "\n",
    "for c_data in custList:\n",
    "    print(c_data.get_C_data())\n",
    "\n",
    "for p_data in prodtList:\n",
    "    print(p_data.getProductDetails())\n",
    "\n",
    "orderList=[]\n",
    "orderList.append(Order(custList[0],prodtList[0],'order01'))\n",
    "orderList.append(Order(custList[1],prodtList[2],'order02'))\n",
    "\n",
    "print(orderList[0].addOrder(prodtList[3],'order03'))\n",
    "\n",
    "for order_id in orderList:\n",
    "    print(order_id.showAllOrderOfCust())"
   ]
  },
  {
   "cell_type": "code",
   "execution_count": null,
   "metadata": {},
   "outputs": [],
   "source": []
  }
 ],
 "metadata": {
  "kernelspec": {
   "display_name": "Python 3",
   "language": "python",
   "name": "python3"
  },
  "language_info": {
   "codemirror_mode": {
    "name": "ipython",
    "version": 3
   },
   "file_extension": ".py",
   "mimetype": "text/x-python",
   "name": "python",
   "nbconvert_exporter": "python",
   "pygments_lexer": "ipython3",
   "version": "3.13.1"
  }
 },
 "nbformat": 4,
 "nbformat_minor": 2
}
