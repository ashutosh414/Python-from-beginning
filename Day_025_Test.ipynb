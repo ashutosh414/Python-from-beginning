{
 "cells": [
  {
   "cell_type": "code",
   "execution_count": 25,
   "metadata": {},
   "outputs": [
    {
     "name": "stdout",
     "output_type": "stream",
     "text": [
      "('Ash', 'DSA', 10000) <class 'str'>\n",
      "('Ram', 'Python', 90000) <class 'str'>\n",
      "('Sal', 'DSA', 12000) <class 'str'>\n",
      "('003', 90000)\n",
      "['002', '003']\n",
      "005 <class 'str'> DSA\n",
      "002 <class 'str'> Python\n",
      "003 <class 'str'> DSA\n",
      "\n",
      "\n",
      " {'005': ('Ash', 'DSA', 11000.0), '002': ('Ram', 'Python', 90000), '003': ('Sal', 'DSA', 13200.0)}\n"
     ]
    }
   ],
   "source": [
    "# employee={emp_id:(name,department,salary)}\n",
    "\n",
    "def increase_salary(employeeDetails,dept,incPerSal):\n",
    "    for emp,values in employeeDetails.items():\n",
    "        print(emp,type(emp),values[1])\n",
    "        if values[1]==dept:\n",
    "            temp_list=list(values)\n",
    "            temp_list[2]=temp_list[2]*(incPerSal+100)/100\n",
    "            employeeDetails[emp]=tuple(temp_list)\n",
    "\n",
    "def highest_salary(employeeDetails):\n",
    "    maxSalary=employeeDetails['005'][2]\n",
    "    for emp,values in employeeDetails.items():\n",
    "        print(values,type(emp[2]))\n",
    "        if maxSalary<=values[2]:\n",
    "            maxSalary=values[2]\n",
    "    return emp,maxSalary\n",
    "\n",
    "def more_earning_amount(employeeDetails,amount):\n",
    "    more_earning_person=[]\n",
    "    for emp,values in employeeDetails.items():\n",
    "        if values[2]>amount:\n",
    "            more_earning_person.append(emp)\n",
    "    return more_earning_person\n",
    "\n",
    "\n",
    "\n",
    "\n",
    "employee={'005':('Ash','DSA',10000),'002':('Ram','Python',90000),'003':('Sal','DSA',12000)}\n",
    "print(highest_salary(employee))\n",
    "print(more_earning_amount(employee,10000))\n",
    "increase_salary(employee,'DSA',10) # department,percentage of increment)\n",
    "print('\\n\\n',employee)"
   ]
  },
  {
   "cell_type": "code",
   "execution_count": 14,
   "metadata": {},
   "outputs": [
    {
     "name": "stdout",
     "output_type": "stream",
     "text": [
      "[('Hari', 17, 27, 32), ('Ash', 90, 70, 50), ('Ram', 12, 22, 23)]\n",
      "Failed Sudents =>  ['Hari', 'Ram']\n",
      "25.333333333333332\n",
      "('Ash', 70.0)\n",
      "[('Ash', 90, 70, 50), ('Hari', 17, 27, 32), ('Ram', 12, 22, 23)]\n",
      "[('Hari', 17, 27, 32), ('Ash', 90, 70, 50), ('Ram', 12, 22, 23)]\n"
     ]
    }
   ],
   "source": [
    "def total_marks(data):\n",
    "    return sum(data)\n",
    "def failed(studentData):\n",
    "    data=[]\n",
    "    for student in studentData:\n",
    "        if student[1] < 40 or student[2] < 40 or student[3] < 40:\n",
    "            data.append(student[0])\n",
    "    return data\n",
    "def avg_highest_marks(studentData):\n",
    "    maxAvgMarks=total_marks(studentData[0][1:])/(len(studentData[1])-1)\n",
    "    studentName=studentData[0][0]\n",
    "    print(maxAvgMarks)\n",
    "    for student in studentData:\n",
    "        tempMarks=total_marks(student[1:])/(len(student)-1)\n",
    "        if maxAvgMarks<tempMarks:\n",
    "            maxAvgMarks=tempMarks\n",
    "            studentName=student[0]\n",
    "    return studentName,maxAvgMarks\n",
    "\n",
    "def sortData(studentData):\n",
    "    return sorted(studentData, key=lambda studentData: sum(studentData[1:]), reverse=True)\n",
    "\n",
    "studentData=[('Hari',17,27,32),('Ash',90,70,50),('Ram',12,22,23)]\n",
    "print(studentData)\n",
    "print('Failed Sudents => ', failed(studentData))\n",
    "print(avg_highest_marks(studentData))\n",
    "print(sortData(studentData))\n",
    "print(studentData)\n"
   ]
  },
  {
   "cell_type": "code",
   "execution_count": null,
   "metadata": {},
   "outputs": [
    {
     "name": "stdout",
     "output_type": "stream",
     "text": [
      "['StopAsyncIteration', 'hello', 'my', 'name', 'is', 'ashuitosh,..', 'I', 'hello', 'hello', 'hello', 'my', 'my', 'name', 'name', 'name', 'is', 'is', 'is', 'am', 'here', 'with', 'aman,', 'Hem', ',and', 'othe', 'people,', 'I', 'am', 'A', 'student']\n",
      "Unique Element in Paragraph are \n",
      "{'hello', 'student', 'aman,', 'name', 'ashuitosh,..', 'am', 'othe', 'A', 'StopAsyncIteration', 'Hem', 'here', 'my', ',and', 'people,', 'is', 'I', 'with'}\n",
      "The frequency of each word is \n",
      "{'StopAsyncIteration': 1, 'hello': 4, 'my': 3, 'name': 4, 'is': 4, 'ashuitosh,..': 1, 'I': 2, 'am': 2, 'here': 1, 'with': 1, 'aman,': 1, 'Hem': 1, ',and': 1, 'othe': 1, 'people,': 1, 'A': 1, 'student': 1}\n",
      "Top 5 most common world\n",
      "[('hello', 4), ('name', 4), ('is', 4), ('my', 3), ('I', 2)]\n"
     ]
    }
   ],
   "source": [
    "data='StopAsyncIteration hello my name is ashuitosh,.. I hello hello hello my my name name name is is is  am here with aman, Hem ,and othe people, I am A student'\n",
    "data_in_list=data.split()\n",
    "print(data_in_list)\n",
    "print(f'Unique Element in Paragraph are \\n{set(data_in_list)}')\n",
    "my_dict={}\n",
    "for ele in data_in_list:\n",
    "    if ele in my_dict:\n",
    "        my_dict[ele]+=1\n",
    "    else:\n",
    "        my_dict[ele]=1\n",
    "print(f'The frequency of each word is \\n{my_dict}')\n",
    "\n",
    "maxRepete=max(my_dict.values())\n",
    "print('Top 5 most common world')\n",
    "print(sorted(my_dict.items() , key= lambda x: x[1],reverse=True)[:5])\n"
   ]
  },
  {
   "cell_type": "code",
   "execution_count": 45,
   "metadata": {},
   "outputs": [
    {
     "name": "stdout",
     "output_type": "stream",
     "text": [
      "{'Sports': [('Football', 'Sports', 500), ('Bat', 'Sports', 1000)], 'kitchen': [('knive', 'kitchen', 112)], 'electonics': [('Keyboard', 'electonics', 800), ('Keyboard', 'electonics', 800)]}\n",
      "The most Expensive Item is Id -> 2 and details is - > ('Bat', 'Sports', 1000)\n",
      "{1: ('Football', 'Sports', 500), 2: ('Bat', 'Sports', 1000), 3: ('knive', 'kitchen', 112), 4: ('Keyboard', 'electonics', 800)}\n"
     ]
    }
   ],
   "source": [
    "from copy import deepcopy\n",
    "\n",
    "def data_by_category(store_data):\n",
    "    ProductByCategory={}\n",
    "    for p_id,p_data in store_data.items():\n",
    "        if p_data[1] in ProductByCategory:\n",
    "            ProductByCategory[p_data[1]].append(p_data)\n",
    "        else:\n",
    "            ProductByCategory[p_data[1]]=[p_data]\n",
    "    return ProductByCategory\n",
    "\n",
    "def most_expensive_product(store_data):\n",
    "    maxPrice=float('-inf')\n",
    "    for p_id,p_values in store_data.items():\n",
    "        if p_values[2]>maxPrice:\n",
    "            maxPrice=p_values[2]\n",
    "            maxId=p_id\n",
    "    return maxId\n",
    "\n",
    "def remove_duplicate_ProductName(store_data):\n",
    "    uniqueName=set()\n",
    "    uniqueDataByName={}\n",
    "\n",
    "    for p_id ,(name,cty,price) in store_data.items():\n",
    "        if name not in uniqueName:\n",
    "            uniqueName.add(name)\n",
    "            uniqueDataByName[p_id]=(name,cty,price)\n",
    "    return uniqueDataByName\n",
    "\n",
    "\n",
    "\n",
    "\n",
    "store_product={1:('Football','Sports',500),2:('Bat','Sports',1000),3:('knive','kitchen',112),4:('Keyboard','electonics',800),5:('Keyboard','electonics',800)}\n",
    "print(data_by_category(store_product))\n",
    "most_expensive_product_id=most_expensive_product(store_product)\n",
    "print(f'The most Expensive Item is Id -> {most_expensive_product_id} and details is - > {store_product[most_expensive_product_id]}')\n",
    "print(remove_duplicate_ProductName(store_product))"
   ]
  },
  {
   "cell_type": "code",
   "execution_count": 61,
   "metadata": {},
   "outputs": [
    {
     "name": "stdout",
     "output_type": "stream",
     "text": [
      "{'Inception', 'Avatar'}\n",
      "{'Inception': 2, 'Titanic': 2, 'Avengers': 1, 'Avatar': 3, 'Jurassic Park': 1, 'Harry Potter': 1}\n",
      "Avatar\n"
     ]
    }
   ],
   "source": [
    "def common_movie(data,usr1,usr2):\n",
    "    return data[usr1].intersection(data[usr2])\n",
    "\n",
    "def mostWatchedMovie(m_data):\n",
    "    watchedVideos={}\n",
    "    for value in m_data:\n",
    "        for movie in m_data[value]:\n",
    "            if movie in watchedVideos:\n",
    "                watchedVideos[movie]+=1\n",
    "            else:\n",
    "                watchedVideos[movie]=1\n",
    "    print(watchedVideos)\n",
    "    mostMovieWatched=max(watchedVideos, key= lambda x: watchedVideos[x])\n",
    "    print(mostMovieWatched)\n",
    "\n",
    "users = {\n",
    "\"Sam\": {'Inception', 'Titanic', 'Avengers','Avatar'},\n",
    "'Mohit': {'Inception','Avatar','Jurassic Park'},\n",
    "'Raj': {'Titanic','Avatar','Harry Potter'}\n",
    "}\n",
    "print(common_movie(users,'Sam','Mohit'))\n",
    "mostWatchedMovie(users)"
   ]
  },
  {
   "cell_type": "code",
   "execution_count": null,
   "metadata": {},
   "outputs": [
    {
     "name": "stdout",
     "output_type": "stream",
     "text": [
      "{'rj15012': ('ram', 'red light', 1000)}\n",
      "{'Not Seat Bealt': 1, 'No helmat': 2, 'red light': 1}\n",
      "No helmat\n"
     ]
    }
   ],
   "source": [
    "def highest_fine(t_data):\n",
    "    y=max(t_data.items(),key=lambda x: x[1][2])\n",
    "    return {y[0]:y[1]}\n",
    "\n",
    "def commonViolation(t_data):\n",
    "    violationTypeCount={}\n",
    "    for key,value in t_data.items():\n",
    "        if value[1] in violationTypeCount:\n",
    "            violationTypeCount[value[1]]+=1\n",
    "        else:\n",
    "            violationTypeCount[value[1]]=1\n",
    "    print(violationTypeCount)\n",
    "    y = max(violationTypeCount, key = lambda x:violationTypeCount[x])\n",
    "    print(y)\n",
    "\n",
    "trafficViolationData={'hh012':('ram','Not Seat Bealt',500),\n",
    "                      'hm012':('Hari','No helmat',700),\n",
    "                      'hm01212':('Ash','No helmat',700),\n",
    "                      'rj15012':('ram','red light',1000)}\n",
    "print(highest_fine(trafficViolationData))\n",
    "commonViolation(trafficViolationData)\n"
   ]
  },
  {
   "cell_type": "code",
   "execution_count": 18,
   "metadata": {},
   "outputs": [
    {
     "name": "stdout",
     "output_type": "stream",
     "text": [
      "{'Bread', 'Milk', 'Rice'}\n",
      "{'Sugar', 'Bread', 'Milk', 'Rice', 'Eggs', 'shirt'}\n",
      "Milk is Available in True\n"
     ]
    }
   ],
   "source": [
    "# Case Study 7: Grocery Store Inventory Management (Sets, Dictionaries, Loops)\n",
    "def available_itemsfun(total_items,sold_out_items):\n",
    "    return total_items - sold_out_items\n",
    "\n",
    "def addNewStock(total_items,sold_out_items,new_item):\n",
    "    total_items.update(new_item)\n",
    "\n",
    "def is_in_stock(total_items,item):\n",
    "    return item in total_items\n",
    "\n",
    "available_items = {'Milk', 'Bread', 'Eggs', 'Rice', 'Sugar'}\n",
    "sold_out_items = {'Eggs', 'Sugar'}\n",
    "print(available_itemsfun(available_items,sold_out_items))\n",
    "addNewStock(available_items,sold_out_items,{'Milk','shirt'})\n",
    "print(available_items)\n",
    "print(f'Milk is Available in {is_in_stock(available_items,'Milk')}')"
   ]
  },
  {
   "cell_type": "code",
   "execution_count": null,
   "metadata": {},
   "outputs": [
    {
     "name": "stdout",
     "output_type": "stream",
     "text": [
      "[('python', 49593), ('namo', 2342), ('metoo', 1234)]\n",
      "{'regex': 892, 'India': 232}\n"
     ]
    },
    {
     "data": {
      "text/plain": [
       "{'#metoo'}"
      ]
     },
     "execution_count": 2,
     "metadata": {},
     "output_type": "execute_result"
    }
   ],
   "source": [
    "def tophashtag(h_data,item):\n",
    "    y=sorted(h_data.items(), key = lambda x: x[1],reverse=True)\n",
    "    print(y[:item])\n",
    "def lowUseHashf(h_data,threshold):\n",
    "    lowUseHash={key:value for key,value in h_data.items() if value<threshold}\n",
    "    print(lowUseHash)\n",
    "\n",
    "def common_hastag(user1,user2):\n",
    "    return user1 & user2\n",
    "\n",
    "storehash={'metoo':1234,'namo':2342,'regex':892,'python':49593,'India':232}\n",
    "tophashtag(storehash,3)\n",
    "lowUseHashf(storehash,900)\n",
    "user1={'#metoo','#regex'}\n",
    "user2={'#metoo','#python'}\n",
    "common_hastag(user1,user2)"
   ]
  },
  {
   "cell_type": "code",
   "execution_count": 13,
   "metadata": {},
   "outputs": [
    {
     "name": "stdout",
     "output_type": "stream",
     "text": [
      "{'The Great Gatsby': ('F. Scott Fitzgerald', None), 'Moby Dick': ('Herman Melville', None)}\n",
      "The Great Gatsby\n",
      "1984\n",
      "To Kill a Mockingbird\n",
      "The Catcher in the Rye\n",
      "The Catcher in the Rye\n",
      "Moby Dick\n",
      "The Hobbit\n",
      "The Books Borrowed By Alice are ['The Catcher in the Rye']\n"
     ]
    }
   ],
   "source": [
    "def available_books(books_data):\n",
    "    available_books_data={}\n",
    "    for key,value in books_data.items():\n",
    "        if value[1] is None :\n",
    "            available_books_data[key]=value\n",
    "    print(available_books_data)\n",
    "\n",
    "def findBookbyName(books_data,name):\n",
    "    borrowedBookByUser=[]\n",
    "    for key in books_data:\n",
    "        print(key)\n",
    "        if books_data[key][1]==name:\n",
    "            print(key)\n",
    "            borrowedBookByUser.append(key)\n",
    "    return borrowedBookByUser\n",
    "\n",
    "books={\n",
    "    \"The Great Gatsby\": (\"F. Scott Fitzgerald\", \"Alice\"),\n",
    "    \"1984\": (\"George Orwell\", None),\n",
    "    \"To Kill a Mockingbird\": (\"Harper Lee\", \"Bob\"),\n",
    "    \"The Catcher in the Rye\": (\"J.D. Salinger\", \"Alice\"),\n",
    "    \"The Great Gatsby\": (\"F. Scott Fitzgerald\", None),  # Duplicate title\n",
    "    \"Moby Dick\": (\"Herman Melville\", None),\n",
    "    \"The Hobbit\": (\"J.R.R. Tolkien\", \"Charlie\"),\n",
    "    \"1984\": (\"George Orwell\", \"David\"),  # Duplicate title\n",
    "}\n",
    "\n",
    "available_books(books)\n",
    "name='Alice'\n",
    "print(f'The Books Borrowed By {name} are {findBookbyName(books,name)}')"
   ]
  }
 ],
 "metadata": {
  "kernelspec": {
   "display_name": "Python 3",
   "language": "python",
   "name": "python3"
  },
  "language_info": {
   "codemirror_mode": {
    "name": "ipython",
    "version": 3
   },
   "file_extension": ".py",
   "mimetype": "text/x-python",
   "name": "python",
   "nbconvert_exporter": "python",
   "pygments_lexer": "ipython3",
   "version": "3.13.1"
  }
 },
 "nbformat": 4,
 "nbformat_minor": 2
}
