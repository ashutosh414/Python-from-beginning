{
 "cells": [
  {
   "cell_type": "code",
   "execution_count": 12,
   "metadata": {},
   "outputs": [
    {
     "name": "stdout",
     "output_type": "stream",
     "text": [
      "valid\n"
     ]
    }
   ],
   "source": [
    "# Valid Parentise\n",
    "\n",
    "s='()'\n",
    "mylist=[]\n",
    "x=0\n",
    "for ele in s:\n",
    "    if '('==ele:\n",
    "        mylist.append(ele)\n",
    "    elif(mylist):\n",
    "        if ')'==ele and '(' !=mylist.pop():\n",
    "            x=1\n",
    "            break\n",
    "    else:\n",
    "        x=1\n",
    "if x==1 or len(mylist)>0:\n",
    "    print('Invalid')\n",
    "else:\n",
    "    print('valid')"
   ]
  },
  {
   "cell_type": "code",
   "execution_count": 13,
   "metadata": {},
   "outputs": [
    {
     "name": "stdout",
     "output_type": "stream",
     "text": [
      "valid\n"
     ]
    }
   ],
   "source": [
    "# Valid Parentise\n",
    "\n",
    "s='({})'\n",
    "mylist=[]\n",
    "x=0\n",
    "for ele in s:\n",
    "    if ele in '({[':\n",
    "        mylist.append(ele)\n",
    "    elif(mylist):\n",
    "        if ')'==ele and '(' !=mylist.pop() or '}'==ele and '{' !=mylist.pop() or ']'==ele and '[' !=mylist.pop():\n",
    "            x=1\n",
    "            break\n",
    "    else:\n",
    "        x=1\n",
    "if x==1 or len(mylist)>0:\n",
    "    print('Invalid')\n",
    "else:\n",
    "    print('valid')"
   ]
  },
  {
   "cell_type": "code",
   "execution_count": 15,
   "metadata": {},
   "outputs": [
    {
     "name": "stdout",
     "output_type": "stream",
     "text": [
      "{'a': 3, 'n': 1, 'g': 1, 'r': 1, 'm': 1}\n",
      "{'g': 1, 'r': 1, 'a': 4, 'm': 1, 'n': 1}\n",
      "False\n"
     ]
    }
   ],
   "source": [
    "# Valid anagram\n",
    "\n",
    "s='anagram'\n",
    "t='gramnaa'\n",
    "dicts={}\n",
    "dictt={}\n",
    "for ele in s:\n",
    "    if ele not in dicts:\n",
    "        dicts[ele]=1\n",
    "    else:\n",
    "        dicts[ele]+=1\n",
    "for ele in t:\n",
    "    if ele not in dictt:\n",
    "        dictt[ele]=1\n",
    "    else:\n",
    "        dictt[ele]+=1\n",
    "\n",
    "print(dicts)\n",
    "print(dictt)\n",
    "if dictt==dicts:\n",
    "    print('true')\n",
    "else:\n",
    "    print('False')\n"
   ]
  }
 ],
 "metadata": {
  "kernelspec": {
   "display_name": "Python 3",
   "language": "python",
   "name": "python3"
  },
  "language_info": {
   "codemirror_mode": {
    "name": "ipython",
    "version": 3
   },
   "file_extension": ".py",
   "mimetype": "text/x-python",
   "name": "python",
   "nbconvert_exporter": "python",
   "pygments_lexer": "ipython3",
   "version": "3.13.1"
  }
 },
 "nbformat": 4,
 "nbformat_minor": 2
}
