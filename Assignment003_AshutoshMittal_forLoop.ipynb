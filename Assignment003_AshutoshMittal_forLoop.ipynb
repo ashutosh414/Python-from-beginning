{
 "cells": [
  {
   "cell_type": "code",
   "execution_count": 3,
   "metadata": {},
   "outputs": [
    {
     "name": "stdout",
     "output_type": "stream",
     "text": [
      "1\n",
      "2\n",
      "3\n",
      "4\n",
      "5\n",
      "6\n",
      "7\n",
      "8\n",
      "9\n",
      "10\n"
     ]
    }
   ],
   "source": [
    "# 1. Write a program to print all natural numbers from 1 to n. – using while\n",
    "# loop\n",
    "n=int(input('Enter the number'))\n",
    "i=1\n",
    "while(i<=n):\n",
    "    print(i)\n",
    "    i+=1"
   ]
  },
  {
   "cell_type": "code",
   "execution_count": 4,
   "metadata": {},
   "outputs": [
    {
     "name": "stdout",
     "output_type": "stream",
     "text": [
      "10\n",
      "9\n",
      "8\n",
      "7\n",
      "6\n",
      "5\n",
      "4\n",
      "3\n",
      "2\n",
      "1\n"
     ]
    }
   ],
   "source": [
    "# 2. Write a program to print all natural numbers in reverse (from n to 1). –\n",
    "# using while loop\n",
    "n=int(input('Enter the number'))\n",
    "while(n>=1):\n",
    "    print(n)\n",
    "    n-=1"
   ]
  },
  {
   "cell_type": "code",
   "execution_count": 13,
   "metadata": {},
   "outputs": [
    {
     "name": "stdout",
     "output_type": "stream",
     "text": [
      "a b c d e f g h i j k l m n o p q r s t u v w x y z "
     ]
    }
   ],
   "source": [
    "# 3. Write a program to print all alphabets from a to z. – using while loop\n",
    "start=97\n",
    "end=123\n",
    "while(start<end):\n",
    "    print(chr(start),end=' ')\n",
    "    start+=1\n"
   ]
  },
  {
   "cell_type": "code",
   "execution_count": 16,
   "metadata": {},
   "outputs": [
    {
     "name": "stdout",
     "output_type": "stream",
     "text": [
      "2 4 6 8 10 12 14 16 18 20 22 24 26 28 30 32 34 36 38 40 42 44 46 48 50 52 54 56 58 60 62 64 66 68 70 72 74 76 78 80 82 84 86 88 90 92 94 96 98 "
     ]
    }
   ],
   "source": [
    "# 4. Write a program to print all even numbers between 1 to 100. – using\n",
    "# while loop\n",
    "\n",
    "start=1\n",
    "end=100\n",
    "while(start<end):\n",
    "    if(start%2==0):\n",
    "        print(start,end=' ')\n",
    "    start+=1\n"
   ]
  },
  {
   "cell_type": "code",
   "execution_count": 18,
   "metadata": {},
   "outputs": [
    {
     "name": "stdout",
     "output_type": "stream",
     "text": [
      "Sum :  36\n"
     ]
    }
   ],
   "source": [
    "# 5. Write a program to find the sum of all odd numbers between 1 to n.\n",
    "\n",
    "start=1\n",
    "end=int(input(\"Enter last Value\"))\n",
    "sum=0\n",
    "while(start<=end):\n",
    "    if(start%2!=0):\n",
    "        sum+=start\n",
    "    start+=1\n",
    "print(\"Sum : \",sum)"
   ]
  },
  {
   "cell_type": "code",
   "execution_count": 21,
   "metadata": {},
   "outputs": [
    {
     "name": "stdout",
     "output_type": "stream",
     "text": [
      "Number of digit in 2374823 is 7\n"
     ]
    }
   ],
   "source": [
    "# 6. Write a program to count the number of digits in a number.\n",
    "\n",
    "num=int(input(\"Enter the number\"))\n",
    "count=0\n",
    "copynum=num\n",
    "while(copynum>1):\n",
    "    copynum/=10\n",
    "    count+=1\n",
    "print(f'Number of digit in {num} is {count}')"
   ]
  },
  {
   "cell_type": "code",
   "execution_count": 26,
   "metadata": {},
   "outputs": [
    {
     "name": "stdout",
     "output_type": "stream",
     "text": [
      "sum of digit 3620 is 11\n"
     ]
    }
   ],
   "source": [
    "# 7. Write a program to calculate the sum of digits of a number.\n",
    "\n",
    "\n",
    "num=int(input(\"Enter the number\"))\n",
    "sum=0\n",
    "copynum=num\n",
    "while(copynum>=1):\n",
    "    sum+=copynum%10\n",
    "    copynum//=10\n",
    "print(f'sum of digit {num} is {sum}')"
   ]
  },
  {
   "cell_type": "code",
   "execution_count": 29,
   "metadata": {},
   "outputs": [
    {
     "name": "stdout",
     "output_type": "stream",
     "text": [
      "2 1\n",
      "first digit 2\n",
      "last digit 1\n"
     ]
    }
   ],
   "source": [
    "# 8. Write a program to find the first and last digit of a number.\n",
    "\n",
    "num=int(input(\"Enter the number\"))\n",
    "\n",
    "#method 1\n",
    "copynum_str=str(num)\n",
    "print(copynum_str[0],copynum_str[-1])\n",
    "\n",
    "#method 2\n",
    "\n",
    "copynum=num\n",
    "flag=1\n",
    "while(copynum>=10):\n",
    "    sum+=copynum%10\n",
    "    if(flag):\n",
    "        lastDigit=copynum%10\n",
    "        flag=0\n",
    "    copynum//=10\n",
    "print(f'first digit {copynum}')\n",
    "print(f'last digit {lastDigit}')\n"
   ]
  },
  {
   "cell_type": "code",
   "execution_count": 36,
   "metadata": {},
   "outputs": [
    {
     "name": "stdout",
     "output_type": "stream",
     "text": [
      "number is 39784589394\n",
      "Sum of first digit 3 and last digit 4 is 7\n"
     ]
    }
   ],
   "source": [
    "# 9. Write a program to find the sum of first and last digit of a number.\n",
    "\n",
    "num=int(input(\"Enter the number\"))\n",
    "copynum=num\n",
    "flag=1\n",
    "while(copynum>=10):\n",
    "    sum+=copynum%10\n",
    "    if(flag):\n",
    "        lastDigit=copynum%10\n",
    "        flag=0\n",
    "    copynum//=10\n",
    "print(f'number is {num}')\n",
    "print(f'Sum of first digit {copynum} and last digit {lastDigit} is {copynum+lastDigit}')"
   ]
  },
  {
   "cell_type": "code",
   "execution_count": 41,
   "metadata": {},
   "outputs": [
    {
     "name": "stdout",
     "output_type": "stream",
     "text": [
      "number is 43758345\n",
      "Reverse number is 54385734\n",
      "Reverse number is 54385734\n"
     ]
    }
   ],
   "source": [
    "# 10.Write a program to enter a number and print its reverse.\n",
    "\n",
    "num=int(input(\"Enter the number\"))\n",
    "\n",
    "#method 1\n",
    "copynum=num\n",
    "revnum=0\n",
    "while(copynum>=1):\n",
    "    revnum=revnum*10 + copynum%10\n",
    "    copynum//=10\n",
    "\n",
    "print(f'number is {num}')\n",
    "print(f'Reverse number is {revnum}') \n",
    "\n",
    "#method 2\n",
    "\n",
    "copystr=str(num)\n",
    "print(f'Reverse number is {int(copystr[::-1])}')"
   ]
  },
  {
   "cell_type": "code",
   "execution_count": 46,
   "metadata": {},
   "outputs": [
    {
     "name": "stdout",
     "output_type": "stream",
     "text": [
      "2 ^ 5 = 32\n"
     ]
    }
   ],
   "source": [
    "# 11.Write a program to find the power of a number using for loop.\n",
    "\n",
    "num=int(input(\"Enter the number\"))\n",
    "pow=int(input(\"Enter the power\"))\n",
    "total=1\n",
    "for i in range(0,pow):\n",
    "    total*=num\n",
    "print(f'{num} ^ {pow} = {total}')"
   ]
  },
  {
   "cell_type": "code",
   "execution_count": 47,
   "metadata": {},
   "outputs": [
    {
     "name": "stdout",
     "output_type": "stream",
     "text": [
      "1\n",
      "3\n",
      "5\n",
      "15\n"
     ]
    }
   ],
   "source": [
    "# 12.Write a program to find all factors of a number.\n",
    "\n",
    "num=int(input(\"Enter the number\"))\n",
    "for i in range(1,num+1):\n",
    "    if(num%i==0):\n",
    "        print(i)"
   ]
  },
  {
   "cell_type": "code",
   "execution_count": 48,
   "metadata": {},
   "outputs": [
    {
     "name": "stdout",
     "output_type": "stream",
     "text": [
      "factorial of number 5 is 120\n"
     ]
    }
   ],
   "source": [
    "# 13.Write a program to calculate the factorial of a number.\n",
    "\n",
    "num=int(input(\"Enter the number\"))\n",
    "factorial=1\n",
    "for i in range(1,num+1):\n",
    "    factorial*=i\n",
    "print(f'factorial of number {num} is {factorial}')"
   ]
  },
  {
   "cell_type": "code",
   "execution_count": 17,
   "metadata": {},
   "outputs": [
    {
     "name": "stdout",
     "output_type": "stream",
     "text": [
      "The LCM of 15 and 3 is 3\n"
     ]
    }
   ],
   "source": [
    "# 14.Write a program to find LCM of two numbers.\n",
    "num1=int(input(\"Enter the number\"))\n",
    "num2=int(input(\"Enter the number\"))\n",
    "i=2\n",
    "lcm=1\n",
    "copynum1=num1\n",
    "copynum2=num2\n",
    "while(i<=copynum1 and i<=copynum2):\n",
    "    if(copynum1%i==0 and copynum2%i==0):\n",
    "        lcm*=i\n",
    "        copynum1/=i\n",
    "        copynum2/=i\n",
    "    else:\n",
    "        i+=1\n",
    "        \n",
    "print(f'The LCM of {num1} and {num2} is {lcm}')"
   ]
  },
  {
   "cell_type": "code",
   "execution_count": 51,
   "metadata": {},
   "outputs": [
    {
     "name": "stdout",
     "output_type": "stream",
     "text": [
      "Not a Prime Number\n"
     ]
    }
   ],
   "source": [
    "# 15.Write a program to check whether a number is Prime number or not.\n",
    "\n",
    "data=int(input(\"Enter the number\"))\n",
    "flag=0\n",
    "for i in range(2,data):\n",
    "    if(data%i==0):\n",
    "        flag=1\n",
    "        break\n",
    "if(flag):\n",
    "    print('Not a Prime Number')\n",
    "else:\n",
    "    print('Prime Number')"
   ]
  },
  {
   "cell_type": "code",
   "execution_count": 21,
   "metadata": {},
   "outputs": [
    {
     "name": "stdout",
     "output_type": "stream",
     "text": [
      "1 2 3 5 8 13 "
     ]
    }
   ],
   "source": [
    "# Fibonacci series\n",
    "\n",
    "num=int(input('Enter the ending range'))\n",
    "count=0\n",
    "num1=0\n",
    "num2=1\n",
    "while(count<num):\n",
    "    num3=num1\n",
    "    num1=num2\n",
    "    num2=num3+num1\n",
    "    print(num2,end=' ')\n",
    "    count+=1"
   ]
  },
  {
   "cell_type": "code",
   "execution_count": 31,
   "metadata": {},
   "outputs": [
    {
     "name": "stdout",
     "output_type": "stream",
     "text": [
      "The number is not armstrong\n"
     ]
    }
   ],
   "source": [
    "# check the number is Armstrong number\n",
    "\n",
    "num=int(input('Enter the Number : '))\n",
    "numberlen=len(str(num))\n",
    "armstrongNum=0\n",
    "\n",
    "copynum=num\n",
    "while(copynum>0 and numberlen>=3):\n",
    "    armstrongNum=armstrongNum+(copynum%10)**numberlen\n",
    "    copynum//=10\n",
    "if(armstrongNum==num):\n",
    "    print('The number is armstrong')\n",
    "else:\n",
    "    print('The number is not armstrong')\n"
   ]
  },
  {
   "cell_type": "code",
   "execution_count": null,
   "metadata": {},
   "outputs": [],
   "source": []
  }
 ],
 "metadata": {
  "kernelspec": {
   "display_name": "Python 3",
   "language": "python",
   "name": "python3"
  },
  "language_info": {
   "codemirror_mode": {
    "name": "ipython",
    "version": 3
   },
   "file_extension": ".py",
   "mimetype": "text/x-python",
   "name": "python",
   "nbconvert_exporter": "python",
   "pygments_lexer": "ipython3",
   "version": "3.13.1"
  }
 },
 "nbformat": 4,
 "nbformat_minor": 2
}
