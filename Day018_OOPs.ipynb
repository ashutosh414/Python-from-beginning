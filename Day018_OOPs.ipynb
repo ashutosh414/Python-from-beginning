{
 "cells": [
  {
   "cell_type": "code",
   "execution_count": null,
   "metadata": {
    "vscode": {
     "languageId": "markdown"
    }
   },
   "outputs": [],
   "source": [
    "Object-Oriented Programming (OOP) is a programming paradigm that uses \"objects\" to design applications and computer programs. It utilizes several key concepts:\n",
    "\n",
    "Class: A blueprint for creating objects. It defines a set of attributes and methods that the created objects will have.\n",
    "Object: An instance of a class. It is a self-contained component that contains attributes (data) and methods (functions) to manipulate that data.\n",
    "Inheritance: A mechanism where a new class inherits attributes and methods from an existing class.\n",
    "Encapsulation: The bundling of data and methods that operate on the data within one unit, e.g., a class, and restricting access to some of the object's components.\n",
    "Polymorphism: The ability to present the same interface for different underlying forms (data types)."
   ]
  },
  {
   "cell_type": "code",
   "execution_count": null,
   "metadata": {
    "vscode": {
     "languageId": "markdown"
    }
   },
   "outputs": [],
   "source": [
    "# Define a class\n",
    "class Animal:\n",
    "    def __init__(self, name):\n",
    "        self.name = name\n",
    "    \n",
    "    def speak(self):\n",
    "        pass\n",
    "\n",
    "# Define a subclass\n",
    "class Dog(Animal):\n",
    "    def speak(self):\n",
    "        return f\"{self.name} says Woof!\"\n",
    "\n",
    "class Cat(Animal):\n",
    "    def speak(self):\n",
    "        return f\"{self.name} says Meow!\"\n",
    "\n",
    "# Create objects\n",
    "dog = Dog(\"Buddy\")\n",
    "cat = Cat(\"Whiskers\")\n",
    "\n",
    "# Use objects\n",
    "print(dog.speak())  # Output: Buddy says Woof!\n",
    "print(cat.speak())  # Output: Whiskers says Meow!"
   ]
  },
  {
   "cell_type": "code",
   "execution_count": null,
   "metadata": {
    "vscode": {
     "languageId": "markdown"
    }
   },
   "outputs": [],
   "source": [
    "In this example:\n",
    "\n",
    "Animal is a class.\n",
    "Dog and Cat are subclasses that inherit from Animal.\n",
    "dog and cat are objects (instances of Dog and Cat respectively).\n",
    "The speak method demonstrates polymorphism, as it behaves differently depending on the object calling it.\n",
    "This is a basic introduction to OOP and objects in Python.\n",
    "\n"
   ]
  },
  {
   "cell_type": "code",
   "execution_count": 3,
   "metadata": {},
   "outputs": [
    {
     "name": "stdout",
     "output_type": "stream",
     "text": [
      "6\n",
      "white\n"
     ]
    }
   ],
   "source": [
    "class HouseMaking:\n",
    "    color=\"white\"\n",
    "    room=6\n",
    "\n",
    "# obkc=classname()\n",
    "h1=HouseMaking()\n",
    "print(h1.room)\n",
    "print(h1.color)"
   ]
  },
  {
   "cell_type": "code",
   "execution_count": null,
   "metadata": {},
   "outputs": [
    {
     "name": "stdout",
     "output_type": "stream",
     "text": [
      "001011110011\n"
     ]
    }
   ],
   "source": [
    "# how to convert hexadecimal to binary\n",
    "def binaryfun(value):\n",
    "    if value in ['A','B','C','D','E','F']:\n",
    "        value=ord(value)-55\n",
    "    else:\n",
    "        value=int(value)\n",
    "    output=''\n",
    "    for i in [8,4,2,1]:\n",
    "        if value>=i:\n",
    "            output+='1'\n",
    "            value-=i\n",
    "        else:\n",
    "            output+='0'\n",
    "    return output\n",
    "\n",
    "def hexToBin(hxaNum):\n",
    "    newdata=hxaNum\n",
    "    output=''\n",
    "    for i in newdata:\n",
    "        output+=binaryfun(i)\n",
    "    return output\n",
    "hxaNumber='2F3'\n",
    "print(hexToBin(hxaNumber))"
   ]
  },
  {
   "cell_type": "code",
   "execution_count": 12,
   "metadata": {},
   "outputs": [
    {
     "name": "stdout",
     "output_type": "stream",
     "text": [
      "change value h2.color from white to red\n",
      "h2.room -> 6\n",
      "h2.color -> red\n",
      "h1.color -> white\n"
     ]
    }
   ],
   "source": [
    "# Changing Value of color in class\n",
    "h2=HouseMaking()\n",
    "h2.color=\"red\"\n",
    "print('change value h2.color from white to red')\n",
    "print('h2.room ->',h2.room)\n",
    "print('h2.color ->',h2.color)\n",
    "print('h1.color ->',h1.color)"
   ]
  },
  {
   "cell_type": "code",
   "execution_count": 14,
   "metadata": {},
   "outputs": [
    {
     "name": "stdout",
     "output_type": "stream",
     "text": [
      "2778422623408 2778424038800\n"
     ]
    }
   ],
   "source": [
    "print(id(h1),id(h2))"
   ]
  },
  {
   "cell_type": "code",
   "execution_count": 15,
   "metadata": {},
   "outputs": [
    {
     "name": "stdout",
     "output_type": "stream",
     "text": [
      "House info : white 6\n"
     ]
    }
   ],
   "source": [
    "class HouseMaking:\n",
    "    color=\"white\"\n",
    "    room=6\n",
    "\n",
    "    def hinfo(self):\n",
    "        print(\"House info :\", self.color,self.room)\n",
    "\n",
    "h1=HouseMaking()\n",
    "h1.hinfo()"
   ]
  },
  {
   "cell_type": "code",
   "execution_count": 19,
   "metadata": {
    "vscode": {
     "languageId": "ruby"
    }
   },
   "outputs": [
    {
     "name": "stdout",
     "output_type": "stream",
     "text": [
      "Make a constructor <__main__.HouseMaking object at 0x00000286E7059400>\n",
      "<__main__.HouseMaking object at 0x00000286E7059400>\n"
     ]
    }
   ],
   "source": [
    "# Make the cosntructor in oops\n",
    "class HouseMaking:\n",
    "    def __init__(self):\n",
    "        print(\"Make a constructor\",self)\n",
    "\n",
    "\n",
    "house = HouseMaking()\n",
    "print(house)"
   ]
  },
  {
   "cell_type": "code",
   "execution_count": 9,
   "metadata": {
    "vscode": {
     "languageId": "ruby"
    }
   },
   "outputs": [
    {
     "name": "stdout",
     "output_type": "stream",
     "text": [
      "The dog name is buddy \n",
      "Breed is Golden Retriver\n",
      "The dog name is goldy \n",
      "Breed is Bull Dog\n"
     ]
    }
   ],
   "source": [
    "class Dog:\n",
    "    def __init__(self,name,breed):\n",
    "        self.name=name\n",
    "        self.breed=breed\n",
    "    def display(self):\n",
    "        print(f'The dog name is {self.name} \\nBreed is {self.breed}')\n",
    "\n",
    "d1=Dog('buddy','Golden Retriver')\n",
    "d2=Dog('goldy','Bull Dog')\n",
    "d1.display()\n",
    "d2.display()"
   ]
  }
 ],
 "metadata": {
  "kernelspec": {
   "display_name": "Python 3",
   "language": "python",
   "name": "python3"
  },
  "language_info": {
   "codemirror_mode": {
    "name": "ipython",
    "version": 3
   },
   "file_extension": ".py",
   "mimetype": "text/x-python",
   "name": "python",
   "nbconvert_exporter": "python",
   "pygments_lexer": "ipython3",
   "version": "3.13.1"
  }
 },
 "nbformat": 4,
 "nbformat_minor": 2
}
