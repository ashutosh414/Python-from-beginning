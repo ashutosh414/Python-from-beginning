{
 "cells": [
  {
   "cell_type": "code",
   "execution_count": null,
   "metadata": {},
   "outputs": [
    {
     "name": "stdout",
     "output_type": "stream",
     "text": [
      "Triangle is possible\n"
     ]
    }
   ],
   "source": [
    "# 1. Write a program that takes a user input of three angles and will find out whether it\n",
    "# can form a triangle or not.\n",
    "side1,side2,side3=map(int,input(\"Enter: \").strip().split())\n",
    "\n",
    "if(side1+side2>side3 and side1+side3>side2 and side3+side2>side1):\n",
    "    print('Triangle is possible')\n",
    "else:\n",
    "    print('Not possible to make traingle')"
   ]
  },
  {
   "cell_type": "code",
   "execution_count": null,
   "metadata": {},
   "outputs": [],
   "source": [
    "# 2. Write a program that will determine weather when the value of temperature and\n",
    "# humidity is provided by the user.\n",
    "temp,humidity=map(int,input(\"Enter:\").strip().split())\n",
    "\n",
    "if temp>=30 and humidity>=90:\n",
    "    print(\"hot and Humid\")\n",
    "elif temp>=30 and humidity<90:\n",
    "    print(\"hot\")\n",
    "elif temp<30 and humidity>=90:\n",
    "    print(\"cool and Humid\")\n",
    "elif temp<30 and humidity<90:\n",
    "    print(\"cool\")\n",
    "else:\n",
    "    print(\"Error:\")"
   ]
  },
  {
   "cell_type": "code",
   "execution_count": null,
   "metadata": {},
   "outputs": [],
   "source": [
    "# 3. Write a program that will take user input of cost price and selling price and\n",
    "# determines whether its a loss or a profit\n",
    "\n",
    "cp,sp=map(int,input(\"Enter cost price and selling price:\").strip().split())\n",
    "if cp==sp:\n",
    "    print(\"No profit\")\n",
    "elif cp<sp:\n",
    "    print(f'Profit of {sp-cp}')\n",
    "elif cp>sp:\n",
    "    print(f'Loss of {cp-sp}')\n",
    "else:\n",
    "    print(\"Error\")\n"
   ]
  },
  {
   "cell_type": "code",
   "execution_count": null,
   "metadata": {},
   "outputs": [],
   "source": [
    "# 4. Write a program that will tell the number of dogs and chicken are there when the user\n",
    "# will provide the value of total heads and legs.\n",
    "# a. Input are\n",
    "# b. head=1 , legs=4"
   ]
  },
  {
   "cell_type": "code",
   "execution_count": 1,
   "metadata": {},
   "outputs": [
    {
     "name": "stdout",
     "output_type": "stream",
     "text": [
      "Number is divisble by 5 and 11\n"
     ]
    }
   ],
   "source": [
    "# 5. Program to check whether a number is divisible by 5 and 11 or not\n",
    "\n",
    "num=int(input(\"Enter:\"))\n",
    "if num%5==0 and num%11==0:\n",
    "    print(f'Number is divisble by 5 and 11')\n",
    "elif num%5==0:\n",
    "    print(f'Number is divisble by 5')\n",
    "elif num%11==0:\n",
    "    print(f'Number is divisble by 11')\n",
    "else:\n",
    "    print(f'Number is Not divisble by 5 and 11')\n"
   ]
  },
  {
   "cell_type": "code",
   "execution_count": 6,
   "metadata": {},
   "outputs": [
    {
     "name": "stdout",
     "output_type": "stream",
     "text": [
      "triangle is valid\n"
     ]
    }
   ],
   "source": [
    "# 6. Write a program to check whether triangle is valid or not if angles are given.\n",
    "agl1,agl2,agl3=map(int,input(\"Enter the angle\").strip().split())\n",
    "if agl1+agl2+agl3==180:\n",
    "    print(\"triangle is valid\")\n",
    "else:\n",
    "    print(\"triangle is not valid\")"
   ]
  },
  {
   "cell_type": "code",
   "execution_count": null,
   "metadata": {},
   "outputs": [],
   "source": [
    "# 7. Write a program to check whether triangle is equilateral, scalene or isosceles\n",
    "\n",
    "side1,side2,side3=map(int,input(\"Enter the side\").strip().split())\n",
    "if side1>side2+side3 and side2>side1+side3 and side3>side1+side2:\n",
    "    if side1==side2 and side2==side3:\n",
    "        print(\"Eqilateral triangle\")\n",
    "    elif side1==side2 or side2==side3 or side3==side1:\n",
    "        print(\"Isosceles traingle\")\n",
    "    else:\n",
    "        print(\"Scalene triangle\")\n",
    "else:\n",
    "    print(\"Not valid triangle\")"
   ]
  },
  {
   "cell_type": "code",
   "execution_count": 245,
   "metadata": {},
   "outputs": [
    {
     "name": "stdout",
     "output_type": "stream",
     "text": [
      "Final salary 277276.5\n"
     ]
    }
   ],
   "source": [
    "# 8. Write a program to enter basic salary and calculate gross salary of an employee\n",
    "\n",
    "salary=int(input(\"Enter salary:\"))\n",
    "if salary<=10000:\n",
    "    total_salary=salary+salary*0.2+salary*0.8\n",
    "elif salary<=20000:\n",
    "    total_salary=salary+salary*0.25+salary*0.9\n",
    "elif salary>=20001:\n",
    "    total_salary=salary+salary*0.3+salary*0.95\n",
    "else:\n",
    "    total_salary='Error'\n",
    "print(f\"Final salary {total_salary}\")"
   ]
  },
  {
   "cell_type": "code",
   "execution_count": 12,
   "metadata": {},
   "outputs": [
    {
     "name": "stdout",
     "output_type": "stream",
     "text": [
      "price of 230 is 1400\n"
     ]
    }
   ],
   "source": [
    "# 9. Write a program to calculate the total electricity bill based on the following conditions:\n",
    "# a. The first 50 unit will be calculated with 2 rs/unit\n",
    "# b. The next 100 unit will be calculated with 5 rs/unit\n",
    "# c. The next 150 unit will be calculated with 10 rs/unit\n",
    "# d. All the other units will be calculated with 15 rs/unit\n",
    "\n",
    "unit=int(input(\"Enter unit:\"))\n",
    "if(unit>300):\n",
    "    price=50*2+100*5+150*10+(unit-300)*15\n",
    "elif(unit>150):\n",
    "    price=50*2+100*5+(unit-150)*10\n",
    "elif(unit>50):\n",
    "    price=50*2+(unit-50)*5\n",
    "elif(unit<50 and unit>0):\n",
    "    price=unit*2\n",
    "else:\n",
    "    print(\"Error\")\n",
    "print(f\"price of {unit} is {price}\")\n",
    "\n"
   ]
  },
  {
   "cell_type": "code",
   "execution_count": 17,
   "metadata": {},
   "outputs": [
    {
     "name": "stdout",
     "output_type": "stream",
     "text": [
      "2005 not a leap year\n"
     ]
    }
   ],
   "source": [
    "# 10. Write a program to check whether any year is a leap year or not\n",
    "# a. A leap year is exactly divisible by 4 except for century years (years ending\n",
    "# with 00). The century year is a leap year only if it is perfectly divisible by 400.\n",
    "\n",
    "year=int(input(\"Enter year:\"))\n",
    "if year%400==0 or (year%100!=0 and year%4==0):\n",
    "    print(f\"{year} is leap year\")\n",
    "else:\n",
    "    print(f\"{year} not a leap year\")"
   ]
  },
  {
   "cell_type": "code",
   "execution_count": 19,
   "metadata": {},
   "outputs": [
    {
     "name": "stdout",
     "output_type": "stream",
     "text": [
      "Reverse of 12345 is 54321\n"
     ]
    }
   ],
   "source": [
    "# 11. Write a program that will reverse a four digit number.Also it checks whether the\n",
    "# reverse\n",
    "\n",
    "num=int(input(\"Enter the number:\"))\n",
    "copyNum=num\n",
    "reversednum=0\n",
    "while copyNum>0:\n",
    "    reversednum=reversednum*10+copyNum%10\n",
    "    copyNum//=10\n",
    "print(f\"Reverse of {num} is {reversednum}\")"
   ]
  },
  {
   "cell_type": "code",
   "execution_count": null,
   "metadata": {},
   "outputs": [],
   "source": [
    "# 12. Write a program that will check whether the number is armstrong number or not\n",
    "\n",
    "num=int(input('Enter the Number : '))\n",
    "numberlen=len(str(num))\n",
    "armstrongNum=0\n",
    "\n",
    "copynum=num\n",
    "while(copynum>0):\n",
    "    armstrongNum=armstrongNum+(copynum%10)**numberlen\n",
    "    copynum//=10\n",
    "if(armstrongNum==num):\n",
    "    print('The number is armstrong')\n",
    "else:\n",
    "    print('The number is not armstrong')"
   ]
  },
  {
   "cell_type": "markdown",
   "metadata": {},
   "source": [
    "<h1>For Loop</h1>"
   ]
  },
  {
   "cell_type": "code",
   "execution_count": 21,
   "metadata": {},
   "outputs": [
    {
     "name": "stdout",
     "output_type": "stream",
     "text": [
      "1 2 4 5 8 10 20 40 "
     ]
    }
   ],
   "source": [
    "# 1. Print all factors of a given number provided by the user.\n",
    "\n",
    "num=int(input('Enter the Number : '))\n",
    "for i in range(1,num+1):\n",
    "    if num%i==0:\n",
    "        print(f\"{i}\",end=' ')"
   ]
  },
  {
   "cell_type": "code",
   "execution_count": 23,
   "metadata": {},
   "outputs": [
    {
     "name": "stdout",
     "output_type": "stream",
     "text": [
      "153 370 371 407 "
     ]
    }
   ],
   "source": [
    "# 2. Print all the armstrong numbers in the range of 100 to 1000 [M]\n",
    "\n",
    "startnum,endnum=map(int,input('Enter the Number : ').strip().split())\n",
    "\n",
    "for num in range(startnum,endnum+1):\n",
    "    numberlen=len(str(num))\n",
    "    armstrongNum=0\n",
    "\n",
    "    copynum=num\n",
    "    while(copynum>0):\n",
    "        armstrongNum=armstrongNum+(copynum%10)**numberlen\n",
    "        copynum//=10\n",
    "    if(armstrongNum==num):\n",
    "        print(f\"{num}\",end=' ')"
   ]
  },
  {
   "cell_type": "code",
   "execution_count": 26,
   "metadata": {},
   "outputs": [
    {
     "name": "stdout",
     "output_type": "stream",
     "text": [
      "10 year => 10000\n",
      "9 year => 9000\n",
      "8 year => 8100\n",
      "7 year => 7290\n",
      "6 year => 6561\n",
      "5 year => 5904\n",
      "4 year => 5313\n",
      "3 year => 4781\n",
      "2 year => 4302\n",
      "1 year => 3871\n"
     ]
    }
   ],
   "source": [
    "# 3. The current population of a town is 10000. The population of the town is increasing at\n",
    "# the rate of 10% per year. You have to write a program to find out the population at the\n",
    "# end of each of the last 10 years. For eg current population is 10000 so the output\n",
    "# should be like this:\n",
    "# a. 10th year => 10000\n",
    "# b. 09th year => 9000\n",
    "# c. 08th year => 8100 and so on\n",
    "\n",
    "population=int(input('Enter the current population: '))\n",
    "copypopulation=population\n",
    "for i in range(10,0,-1):\n",
    "    print(f'{i} year => {copypopulation}')\n",
    "    copypopulation=int(copypopulation*0.9)"
   ]
  },
  {
   "cell_type": "code",
   "execution_count": 32,
   "metadata": {},
   "outputs": [
    {
     "name": "stdout",
     "output_type": "stream",
     "text": [
      "11 is prime\n"
     ]
    }
   ],
   "source": [
    "# 4. Write a program to print whether a given number is prime number or not\n",
    "\n",
    "num=int(input('Enter the Number : '))\n",
    "flag=1\n",
    "for i in range(2,int(num**0.5)+1):\n",
    "    if num%i==0:\n",
    "        flag=0\n",
    "        break\n",
    "print(f'{num} is prime') if flag==1 else print(f'{num} is Not a Prime Number')"
   ]
  },
  {
   "cell_type": "code",
   "execution_count": 6,
   "metadata": {},
   "outputs": [
    {
     "name": "stdout",
     "output_type": "stream",
     "text": [
      "lcm of 34 and 67 is 2278\n"
     ]
    }
   ],
   "source": [
    "# 5. User will provide 2 numbers you have to find the by LCM of those 2 numbers\n",
    "\n",
    "num1,num2=map(int,input(\"Enter the num1,num2\").strip().split())\n",
    "maximum=max(num1,num2)\n",
    "\n",
    "for i in range(maximum,num1*num2+1,maximum):\n",
    "    if i%num1==0 and i%num2==0:\n",
    "        print(f'lcm of {num1} and {num2} is {i}')\n",
    "        break"
   ]
  },
  {
   "cell_type": "code",
   "execution_count": null,
   "metadata": {},
   "outputs": [],
   "source": [
    "6. User will provide 2 numbers you have to find the HCF of those 2 numbers"
   ]
  },
  {
   "cell_type": "code",
   "execution_count": 7,
   "metadata": {},
   "outputs": [
    {
     "name": "stdout",
     "output_type": "stream",
     "text": [
      "number = 10 and sum = 55\n"
     ]
    }
   ],
   "source": [
    "# 7. Write a program to find the sum of first n numbers, where n will be provided by the\n",
    "# user. Eg if the user provides n=10 the output should be 55.\n",
    "\n",
    "num=int(input('Enter the Number : '))\n",
    "sum=0\n",
    "for i in range(1,num+1):\n",
    "    sum+=i\n",
    "print(f'number = {num} and sum = {sum}')"
   ]
  },
  {
   "cell_type": "code",
   "execution_count": 12,
   "metadata": {},
   "outputs": [
    {
     "name": "stdout",
     "output_type": "stream",
     "text": [
      "60\n"
     ]
    }
   ],
   "source": [
    "# 8. Write a program that can multiply 2 numbers provided by the user without using the\n",
    "# ( * multiply) operator\n",
    "\n",
    "num1,num2=map(int,input(\"Enter the num1,num2\").strip().split())\n",
    "minimum=min(num1,num2)\n",
    "maximum=max(num1,num2)\n",
    "output=0\n",
    "for i in range(1,minimum+1):\n",
    "    output=output+maximum\n",
    "print(f'{num1} * {num2} = {output}')"
   ]
  },
  {
   "cell_type": "code",
   "execution_count": 18,
   "metadata": {},
   "outputs": [
    {
     "name": "stdout",
     "output_type": "stream",
     "text": [
      "factorial of 5 is 120\n"
     ]
    }
   ],
   "source": [
    "# 9. Write a program that can find the factorial of a given number provided by the user.\n",
    "\n",
    "num=int(input('Enter the Number : '))\n",
    "fact=1\n",
    "for i in range(2,num+1):\n",
    "    fact=fact*i\n",
    "print(f'factorial of {num} is {fact}')"
   ]
  },
  {
   "cell_type": "code",
   "execution_count": 20,
   "metadata": {},
   "outputs": [
    {
     "name": "stdout",
     "output_type": "stream",
     "text": [
      "5\n"
     ]
    }
   ],
   "source": [
    "# 10. Write a program to count the total number of digits in a number using a while loop.\n",
    "# a. For example, the number is 75869, so the output should be 5.\n",
    "\n",
    "num=int(input('Enter the Number : '))\n",
    "copyNum=num\n",
    "count=0\n",
    "while(copyNum>0):\n",
    "    copyNum//=10\n",
    "    count+=1\n",
    "print(count)"
   ]
  },
  {
   "cell_type": "code",
   "execution_count": 25,
   "metadata": {},
   "outputs": [
    {
     "name": "stdout",
     "output_type": "stream",
     "text": [
      "234 232 23 36 232 32 76 5 5 34 \n",
      " sum is 909 and average is  90.90\n"
     ]
    }
   ],
   "source": [
    "# 11. Write a program that keeps on accepting a number from the user until the user enters\n",
    "# Zero. Display the sum and average of all the numbers.\n",
    "count,sum=0,0\n",
    "while 1:\n",
    "    num=input('Enter:')\n",
    "\n",
    "    if(num.capitalize()=='Zero'):\n",
    "        print(f'\\nsum is {sum} and average is {sum/count : 0.2f}')\n",
    "        break\n",
    "    sum+=int(num)\n",
    "    count+=1\n",
    "    print(num,end=' ')"
   ]
  },
  {
   "cell_type": "code",
   "execution_count": 27,
   "metadata": {},
   "outputs": [
    {
     "name": "stdout",
     "output_type": "stream",
     "text": [
      "2 4 6 8 10 12 14 16 18 20 "
     ]
    }
   ],
   "source": [
    "# Write a program to print multiplication table of a given number For example, num = 2\n",
    "# so the output should be 2,4,6,8....20.\n",
    "\n",
    "num=int(input('Enter:'))\n",
    "\n",
    "for i in range(1,11):\n",
    "    print(num*i,end=' ')"
   ]
  },
  {
   "cell_type": "code",
   "execution_count": 29,
   "metadata": {},
   "outputs": [
    {
     "name": "stdout",
     "output_type": "stream",
     "text": [
      "2 4 6 8 10 12 14 16 18 20 \n",
      "done\n"
     ]
    }
   ],
   "source": [
    "# <!-- Use else block to display a message “Done” after successful execution of for loop\n",
    "# For example, the following loop will execute without any error. -->\n",
    "\n",
    "num=int(input('Enter:'))\n",
    "\n",
    "for i in range(1,11):\n",
    "    print(num*i,end=' ')\n",
    "else:\n",
    "    print('\\ndone')"
   ]
  },
  {
   "cell_type": "code",
   "execution_count": 244,
   "metadata": {},
   "outputs": [
    {
     "name": "stdout",
     "output_type": "stream",
     "text": [
      "0 1 1 2 3 5 8 13 21 34 "
     ]
    }
   ],
   "source": [
    "# 14. Display Fibonacci series up to 10 terms\n",
    "# a. The Fibonacci Sequence is a series of numbers. The next number is found by\n",
    "# adding up the two numbers before it. The first two numbers are 0 and 1.\n",
    "# b. For example, 0, 1, 1, 2, 3, 5, 8, 13, 21. The next number in this series above\n",
    "# is 13+21 = 34.\n",
    "\n",
    "num=int(input(\"enter the range\"))\n",
    "n1=0\n",
    "n2=1\n",
    "count=0\n",
    "if num>2:\n",
    "    print(n1,n2,end=\" \")\n",
    "    while(count<num-2):\n",
    "        temp=n2\n",
    "        n2=n1+n2\n",
    "        n1=temp\n",
    "        print(n2,end=\" \")\n",
    "        count+=1\n",
    "else:\n",
    "    print('Error')"
   ]
  },
  {
   "cell_type": "code",
   "execution_count": 30,
   "metadata": {},
   "outputs": [
    {
     "name": "stdout",
     "output_type": "stream",
     "text": [
      "(1 , 1)\n",
      "(1 , 2)\n",
      "(1 , 3)\n",
      "(1 , 4)\n",
      "(2 , 1)\n",
      "(2 , 2)\n",
      "(2 , 3)\n",
      "(2 , 4)\n",
      "(3 , 1)\n",
      "(3 , 2)\n",
      "(3 , 3)\n",
      "(3 , 4)\n",
      "(4 , 1)\n",
      "(4 , 2)\n",
      "(4 , 3)\n",
      "(4 , 4)\n"
     ]
    }
   ],
   "source": [
    "# 15. Write a program to print all the unique combinations of two digits from 1 to 4 for ex\n",
    "# (1,2),(2,3)..... [Medium level]\n",
    "\n",
    "for i in range(1,5):\n",
    "    for j in range(1,5):\n",
    "        print(f'({i} , {j})')"
   ]
  },
  {
   "cell_type": "code",
   "execution_count": 31,
   "metadata": {},
   "outputs": [
    {
     "name": "stdout",
     "output_type": "stream",
     "text": [
      " ****\n",
      "  ****\n",
      "   ****\n",
      "    ****\n"
     ]
    }
   ],
   "source": [
    "# 1.\n",
    "num=int(input('Enter the number:'))\n",
    "\n",
    "for i in range(0,num):\n",
    "    print(' '*i,'*'*num)"
   ]
  },
  {
   "cell_type": "code",
   "execution_count": null,
   "metadata": {},
   "outputs": [],
   "source": [
    "2"
   ]
  },
  {
   "cell_type": "code",
   "execution_count": null,
   "metadata": {},
   "outputs": [
    {
     "name": "stdout",
     "output_type": "stream",
     "text": [
      "A \n",
      "A B \n",
      "A B C \n",
      "A B C D \n",
      "A B C D E \n"
     ]
    }
   ],
   "source": [
    "# 3.\n",
    "num=int(input('Enter the number:'))\n",
    "a=65\n",
    "for i in range(0,num):\n",
    "    for j in range(a,a+i+1):\n",
    "        print(chr(j),end=' ')\n",
    "    print('')"
   ]
  },
  {
   "cell_type": "code",
   "execution_count": 36,
   "metadata": {},
   "outputs": [
    {
     "name": "stdout",
     "output_type": "stream",
     "text": [
      "A \n",
      "B B \n",
      "C C C \n",
      "D D D D \n",
      "E E E E E \n"
     ]
    }
   ],
   "source": [
    "# 4.\n",
    "num=int(input('Enter the number:'))\n",
    "a=65\n",
    "for i in range(0,num):\n",
    "    for j in range(0,i+1):\n",
    "        print(chr(a+i),end=' ')\n",
    "    print('')"
   ]
  },
  {
   "cell_type": "code",
   "execution_count": 49,
   "metadata": {},
   "outputs": [
    {
     "name": "stdout",
     "output_type": "stream",
     "text": [
      "E \n",
      "D E \n",
      "C D E \n",
      "B C D E \n",
      "A B C D E \n"
     ]
    }
   ],
   "source": [
    "# 5.\n",
    "\n",
    "num=int(input('Enter the number:'))\n",
    "a=65\n",
    "for i in range(num,0,-1):\n",
    "    for j in range(num-i+1,0,-1):\n",
    "        print(chr(a+num-j),end=' ')\n",
    "    print('')"
   ]
  },
  {
   "cell_type": "code",
   "execution_count": 43,
   "metadata": {},
   "outputs": [
    {
     "name": "stdout",
     "output_type": "stream",
     "text": [
      "        * \n",
      "      * * \n",
      "    * * * \n",
      "  * * * * \n",
      "* * * * * \n"
     ]
    }
   ],
   "source": [
    "# 7.\n",
    "num=int(input('Enter the number:'))\n",
    "a=65\n",
    "for i in range(0,num):\n",
    "    for j in range(0,num-i-1):\n",
    "        print(' ',end=' ')\n",
    "    for k in range(0,i+1):\n",
    "        print(\"*\",end=' ')\n",
    "    print('')"
   ]
  },
  {
   "cell_type": "code",
   "execution_count": 46,
   "metadata": {},
   "outputs": [
    {
     "name": "stdout",
     "output_type": "stream",
     "text": [
      "        1 \n",
      "      1 2 \n",
      "    1 2 3 \n",
      "  1 2 3 4 \n",
      "1 2 3 4 5 \n"
     ]
    }
   ],
   "source": [
    "# 7.\n",
    "num=int(input('Enter the number:'))\n",
    "a=65\n",
    "for i in range(0,num):\n",
    "    for j in range(0,num-i-1):\n",
    "        print(' ',end=' ')\n",
    "    for k in range(0,i+1):\n",
    "        print(k+1,end=' ')\n",
    "    print('')"
   ]
  },
  {
   "cell_type": "code",
   "execution_count": 50,
   "metadata": {},
   "outputs": [
    {
     "name": "stdout",
     "output_type": "stream",
     "text": [
      "1 2 3 4 5 \n",
      "  1 2 3 4 \n",
      "    1 2 3 \n",
      "      1 2 \n",
      "        1 \n"
     ]
    }
   ],
   "source": [
    "# 8.\n",
    "num=int(input('Enter the number:'))\n",
    "a=65\n",
    "for i in range(0,num):\n",
    "    for j in range(0,i):\n",
    "        print(' ',end=' ')\n",
    "    for k in range(0,num-i):\n",
    "        print(k+1,end=' ')\n",
    "    print('')"
   ]
  },
  {
   "cell_type": "code",
   "execution_count": null,
   "metadata": {},
   "outputs": [
    {
     "name": "stdout",
     "output_type": "stream",
     "text": [
      "A B C D E \n",
      "  A B C D \n",
      "    A B C \n",
      "      A B \n",
      "        A \n"
     ]
    }
   ],
   "source": [
    "# 8.\n",
    "num=int(input('Enter the number:'))\n",
    "a=65\n",
    "for i in range(0,num):\n",
    "    for j in range(0,i):\n",
    "        print(' ',end=' ')\n",
    "    for k in range(0,num-i):\n",
    "        print(chr(a+k),end=' ')\n",
    "    print('')"
   ]
  },
  {
   "cell_type": "code",
   "execution_count": 56,
   "metadata": {},
   "outputs": [
    {
     "name": "stdout",
     "output_type": "stream",
     "text": [
      "     * * * * * \n",
      "    * * * * * \n",
      "   * * * * * \n",
      "  * * * * * \n",
      " * * * * * \n"
     ]
    }
   ],
   "source": [
    "# 9.\n",
    "num=int(input('Enter the number:'))\n",
    "a=65\n",
    "for i in range(0,num):\n",
    "    for j in range(0,num-i):\n",
    "        print('',end=' ')\n",
    "    for k in range(0,num):\n",
    "        print('*',end=' ')\n",
    "    print('')"
   ]
  },
  {
   "cell_type": "code",
   "execution_count": null,
   "metadata": {},
   "outputs": [
    {
     "name": "stdout",
     "output_type": "stream",
     "text": [
      "     1 2 3 4 5 \n",
      "    1 2 3 4 5 \n",
      "   1 2 3 4 5 \n",
      "  1 2 3 4 5 \n",
      " 1 2 3 4 5 \n"
     ]
    }
   ],
   "source": [
    "# 9.\n",
    "num=int(input('Enter the number:'))\n",
    "a=65\n",
    "for i in range(0,num):\n",
    "    for j in range(0,num-i):\n",
    "        print('',end=' ')\n",
    "    for k in range(0,num):\n",
    "        print(k+1,end=' ')\n",
    "    print('')"
   ]
  },
  {
   "cell_type": "code",
   "execution_count": 53,
   "metadata": {},
   "outputs": [
    {
     "name": "stdout",
     "output_type": "stream",
     "text": [
      "     A B C D E \n",
      "    A B C D E \n",
      "   A B C D E \n",
      "  A B C D E \n",
      " A B C D E \n"
     ]
    }
   ],
   "source": [
    "# 9.\n",
    "num=int(input('Enter the number:'))\n",
    "a=65\n",
    "for i in range(0,num):\n",
    "    for j in range(0,num-i):\n",
    "        print('',end=' ')\n",
    "    for k in range(0,num):\n",
    "        print(chr(a+k),end=' ')\n",
    "    print('')"
   ]
  },
  {
   "cell_type": "code",
   "execution_count": null,
   "metadata": {},
   "outputs": [
    {
     "name": "stdout",
     "output_type": "stream",
     "text": [
      "     *\n",
      "    ***\n",
      "   *****\n",
      "  *******\n",
      " *********\n"
     ]
    }
   ],
   "source": [
    "# 12.\n",
    "num=int(input('Enter the number:'))\n",
    "a=65\n",
    "for i in range(0,num):\n",
    "    for j in range(0,num-i):\n",
    "        print(' ',end='')\n",
    "    for k in range(0,i+1):\n",
    "        print('*',end='')\n",
    "    for l in range(0,i):\n",
    "        print('*',end='')\n",
    "\n",
    "    print('')"
   ]
  },
  {
   "cell_type": "code",
   "execution_count": 225,
   "metadata": {},
   "outputs": [
    {
     "name": "stdout",
     "output_type": "stream",
     "text": [
      "   *\n",
      "  * *\n",
      " *   *\n",
      "*******\n"
     ]
    }
   ],
   "source": [
    "# 13\n",
    "\n",
    "num=int(input('Enter the number:'))\n",
    "for i in range(0,num):\n",
    "    for j in range(1,num-i):\n",
    "        print(' ',end='')\n",
    "    for k in range(0,i+1):\n",
    "        if k==0 or i==num-1:\n",
    "            print('*',end='')\n",
    "        else:\n",
    "            print(' ',end='')\n",
    "    for l in range(0,i):\n",
    "        print('*',end='') if l==i-1 or i==num-1 else print(' ',end='')\n",
    "    print(\"\")"
   ]
  },
  {
   "cell_type": "code",
   "execution_count": 67,
   "metadata": {},
   "outputs": [
    {
     "name": "stdout",
     "output_type": "stream",
     "text": [
      "*******\n",
      " *****\n",
      "  ***\n",
      "   *\n"
     ]
    }
   ],
   "source": [
    "# 14.\n",
    "\n",
    "num=int(input('Enter:'))\n",
    "for i in range(0,num):\n",
    "    for j in range(0,i):\n",
    "        print(end=' ')\n",
    "    for k in range(0,num-i):\n",
    "        print(end='*')\n",
    "    for l in range(1,num-i):\n",
    "        print(end=\"*\")\n",
    "    \n",
    "    print('')"
   ]
  },
  {
   "cell_type": "code",
   "execution_count": 63,
   "metadata": {},
   "outputs": [
    {
     "name": "stdout",
     "output_type": "stream",
     "text": [
      "*\n",
      "**\n",
      "***\n",
      "****\n",
      "*****\n",
      "****\n",
      "***\n",
      "**\n",
      "*\n"
     ]
    }
   ],
   "source": [
    "# 15\n",
    "num=int(input('Enter the number:'))\n",
    "for i in range(0,num):\n",
    "    for j in range(0,i+1):\n",
    "        print('*',end='')\n",
    "    print('')\n",
    "for i in range(1,num):\n",
    "    for j in range(0,num-i):\n",
    "        print('*',end='')\n",
    "    print('')"
   ]
  },
  {
   "cell_type": "code",
   "execution_count": 77,
   "metadata": {},
   "outputs": [
    {
     "name": "stdout",
     "output_type": "stream",
     "text": [
      "   *\n",
      "  **\n",
      " ***\n",
      "****\n",
      " ***\n",
      "  **\n",
      "   *\n"
     ]
    }
   ],
   "source": [
    "# 16\n",
    "num=int(input('Enter the number:'))\n",
    "for i in range(0,num):\n",
    "    for j in range(1,num-i):\n",
    "        print(' ',end='')\n",
    "    for k in range(0,i+1):\n",
    "        print('*',end='')\n",
    "    print('')\n",
    "for i in range(0,num-1):\n",
    "    for k in range(0,i+1):\n",
    "        print(' ',end='')\n",
    "    for j in range(0,num-i-1):\n",
    "        print('*',end='')\n",
    "    print('')"
   ]
  },
  {
   "cell_type": "code",
   "execution_count": null,
   "metadata": {},
   "outputs": [
    {
     "name": "stdout",
     "output_type": "stream",
     "text": [
      "   *\n",
      "  ***\n",
      " *****\n",
      "*******\n",
      " *****\n",
      "  ***\n",
      "   *\n"
     ]
    }
   ],
   "source": [
    "# 17\n",
    "num=int(input('Enter the number:'))\n",
    "for i in range(0,num):\n",
    "    for j in range(1,num-i):\n",
    "        print(' ',end='')\n",
    "    for k in range(0,i+1):\n",
    "        print('*',end='')\n",
    "    for j in range(0,i):\n",
    "        print('*',end='')\n",
    "    print('')\n",
    "for i in range(0,num-1):\n",
    "    for k in range(0,i+1):\n",
    "        print(' ',end='')\n",
    "    for j in range(0,num-i-1):\n",
    "        print('*',end='')\n",
    "    for j in range(0,num-i-2):\n",
    "        print('*',end='')\n",
    "    print('')"
   ]
  },
  {
   "cell_type": "code",
   "execution_count": 90,
   "metadata": {},
   "outputs": [
    {
     "name": "stdout",
     "output_type": "stream",
     "text": [
      "1 \n",
      "1 2 \n",
      "1 2 3 \n",
      "1 2 3 4 \n",
      "1 2 3 4 5 \n"
     ]
    }
   ],
   "source": [
    "# Half Pyramid\n",
    "num=int(input('Enter the number:'))\n",
    "for i in range(1,num+1):\n",
    "    for j in range(1,i+1):\n",
    "        print(j,end=' ')\n",
    "    print('')"
   ]
  },
  {
   "cell_type": "code",
   "execution_count": 96,
   "metadata": {},
   "outputs": [
    {
     "name": "stdout",
     "output_type": "stream",
     "text": [
      "1 2 3 4 5 \n",
      "1 2 3 4 \n",
      "1 2 3 \n",
      "1 2 \n",
      "1 \n",
      "\n"
     ]
    }
   ],
   "source": [
    "# Invered Half Pyramid\n",
    "num=int(input('Enter the number:'))\n",
    "for i in range(0,num+1):\n",
    "    for j in range(1,num-i+1):\n",
    "        print(j,end=' ')\n",
    "    print('')"
   ]
  },
  {
   "cell_type": "code",
   "execution_count": 101,
   "metadata": {},
   "outputs": [
    {
     "name": "stdout",
     "output_type": "stream",
     "text": [
      "1 \n",
      "1 2 \n",
      "1   3 \n",
      "1     4 \n",
      "1 2 3 4 5 \n"
     ]
    }
   ],
   "source": [
    "# Hollow Half Pyramid\n",
    "\n",
    "num=int(input('Enter the number:'))\n",
    "for i in range(1,num+1):\n",
    "    for j in range(1,i+1):\n",
    "        if j==1 or j==i or i==num:\n",
    "            print(j,end=' ')\n",
    "        else:\n",
    "            print(' ',end=' ')\n",
    "    print('')"
   ]
  },
  {
   "cell_type": "code",
   "execution_count": null,
   "metadata": {},
   "outputs": [],
   "source": [
    "# Full Pyramid"
   ]
  },
  {
   "cell_type": "code",
   "execution_count": null,
   "metadata": {},
   "outputs": [],
   "source": [
    "# Hollow Full Pyramid\n",
    "num=int(input('Enter the number:'))\n",
    "for i in range(1,num+1):\n",
    "    "
   ]
  },
  {
   "cell_type": "code",
   "execution_count": 110,
   "metadata": {},
   "outputs": [
    {
     "name": "stdout",
     "output_type": "stream",
     "text": [
      "1 2 3 4 5 \n",
      "2     5 \n",
      "3   5 \n",
      "4 5 \n",
      "5 \n"
     ]
    }
   ],
   "source": [
    "# Hollow Inverted Half Pyramid\n",
    "num=int(input('Enter the number:'))\n",
    "for i in range(1,num+1):\n",
    "    for j in range(1,num+1):\n",
    "        if i==1 or j==i or j==num:\n",
    "            print(j,end=' ')\n",
    "        elif j<i:\n",
    "            print('',end='')\n",
    "        else:\n",
    "            print(' ',end=' ')\n",
    "    print('')"
   ]
  },
  {
   "cell_type": "code",
   "execution_count": 112,
   "metadata": {},
   "outputs": [
    {
     "name": "stdout",
     "output_type": "stream",
     "text": [
      "        * \n",
      "      * * * \n",
      "    * * * * * \n",
      "  * * * * * * * \n",
      "* * * * * * * * * \n",
      "  * * * * * * * \n",
      "    * * * * * \n",
      "      * * * \n",
      "        * \n"
     ]
    }
   ],
   "source": [
    "# 19\n",
    "num=int(input('Enter the number:'))\n",
    "for i in range(0,num):\n",
    "    for j in range(1,num-i):\n",
    "        print(' ',end=' ')\n",
    "    for k in range(0,i+1):\n",
    "        print('*',end=' ')\n",
    "    for j in range(0,i):\n",
    "        print('*',end=' ')\n",
    "    print('')\n",
    "for i in range(0,num-1):\n",
    "    for k in range(0,i+1):\n",
    "        print(' ',end=' ')\n",
    "    for j in range(0,num-i-1):\n",
    "        print('*',end=' ')\n",
    "    for j in range(0,num-i-2):\n",
    "        print('*',end=' ')\n",
    "    print('')"
   ]
  },
  {
   "cell_type": "code",
   "execution_count": 131,
   "metadata": {},
   "outputs": [
    {
     "name": "stdout",
     "output_type": "stream",
     "text": [
      "        1 \n",
      "      1 2 3 \n",
      "    1 2 3 4 5 \n",
      "  1 2 3 4 5 6 7 \n",
      "1 2 3 4 5 6 7 8 9 \n",
      "  1 2 3 4 5 6 7 \n",
      "    1 2 3 4 5 \n",
      "      1 2 3 \n",
      "        1 \n"
     ]
    }
   ],
   "source": [
    "# 19\n",
    "num=int(input('Enter the number:'))\n",
    "for i in range(0,num):\n",
    "    for j in range(1,num-i):\n",
    "        print(' ',end=' ')\n",
    "    for k in range(0,i+1):\n",
    "        print(k+1,end=' ')\n",
    "    for l in range(0,i):\n",
    "        print(l+i+2,end=' ')\n",
    "    print('')\n",
    "for i in range(0,num-1):\n",
    "    ak=0\n",
    "    for j in range(0,i+1):\n",
    "        print(' ',end=' ')\n",
    "    for k in range(0,num-i-1):\n",
    "        print(k+1,end=' ')\n",
    "        ak+=1\n",
    "    for l in range(0,num-i-2):\n",
    "        print(ak+l+1,end=' ')\n",
    "    print('')"
   ]
  },
  {
   "cell_type": "code",
   "execution_count": null,
   "metadata": {},
   "outputs": [
    {
     "name": "stdout",
     "output_type": "stream",
     "text": [
      "  1 2 3 4 5 6 7 8 9 10 11 12 13 14 15 \n",
      "    1 2 3 4 5 6 7 8 9 10 11 12 13 \n",
      "      1 2 3 4 5 6 7 8 9 10 11 \n",
      "        1 2 3 4 5 6 7 8 9 \n",
      "          1 2 3 4 5 6 7 \n",
      "            1 2 3 4 5 \n",
      "              1 2 3 \n",
      "                1 \n",
      "              1 2 3 \n",
      "            1 2 3 4 5 \n",
      "          1 2 3 4 5 6 7 \n",
      "        1 2 3 4 5 6 7 8 9 \n",
      "      1 2 3 4 5 6 7 8 9 10 11 \n",
      "    1 2 3 4 5 6 7 8 9 10 11 12 13 \n",
      "  1 2 3 4 5 6 7 8 9 10 11 12 13 14 15 \n"
     ]
    }
   ],
   "source": [
    "# 20.\n",
    "num=int(input('Enter the number:'))\n",
    "for i in range(1,num):\n",
    "    for j in range(1,i+1):\n",
    "        print(end='  ')\n",
    "    for k in range(1,num*2-2*(i-1)):\n",
    "        print(k,end=' ')\n",
    "    print('')\n",
    "\n",
    "for i in range(1,num+1):\n",
    "    for j in range(1,num-i+2):\n",
    "        print(end='  ')\n",
    "    for k in range(1,(i)*2):\n",
    "        print(k,end=' ')\n",
    "    print('')"
   ]
  },
  {
   "cell_type": "code",
   "execution_count": 148,
   "metadata": {},
   "outputs": [
    {
     "name": "stdout",
     "output_type": "stream",
     "text": [
      "  A B C D E F G H I \n",
      "    A B C D E F G \n",
      "      A B C D E \n",
      "        A B C \n",
      "          A \n",
      "        A B C \n",
      "      A B C D E \n",
      "    A B C D E F G \n",
      "  A B C D E F G H I \n"
     ]
    }
   ],
   "source": [
    "# 20.\n",
    "num=int(input('Enter the number:'))\n",
    "a=64\n",
    "for i in range(1,num):\n",
    "    for j in range(1,i+1):\n",
    "        print(end='  ')\n",
    "    for k in range(1,num*2-2*(i-1)):\n",
    "        print(chr(k+a),end=' ')\n",
    "    print('')\n",
    "\n",
    "for i in range(1,num+1):\n",
    "    for j in range(1,num-i+2):\n",
    "        print(end='  ')\n",
    "    for k in range(1,(i)*2):\n",
    "        print(chr(k+a),end=' ')\n",
    "    print('')"
   ]
  },
  {
   "cell_type": "code",
   "execution_count": 149,
   "metadata": {},
   "outputs": [
    {
     "name": "stdout",
     "output_type": "stream",
     "text": [
      "* * * * * \n",
      "*       * \n",
      "*       * \n",
      "*       * \n",
      "* * * * * \n"
     ]
    }
   ],
   "source": [
    "# 21.\n",
    "num=int(input('Enter the number:'))\n",
    "for i in range(1,num+1):\n",
    "    for j in range(1,num+1):\n",
    "        if i==1 or j==1 or i==num or j==num:\n",
    "            print('*',end=' ')\n",
    "        else:\n",
    "            print(\" \",end=' ')\n",
    "    print(\"\")"
   ]
  },
  {
   "cell_type": "code",
   "execution_count": 150,
   "metadata": {},
   "outputs": [
    {
     "name": "stdout",
     "output_type": "stream",
     "text": [
      "1 2 3 4 5 \n",
      "1       5 \n",
      "1       5 \n",
      "1       5 \n",
      "1 2 3 4 5 \n"
     ]
    }
   ],
   "source": [
    "# 21.\n",
    "num=int(input('Enter the number:'))\n",
    "for i in range(1,num+1):\n",
    "    for j in range(1,num+1):\n",
    "        if i==1 or j==1 or i==num or j==num:\n",
    "            print(j,end=' ')\n",
    "        else:\n",
    "            print(\" \",end=' ')\n",
    "    print(\"\")"
   ]
  },
  {
   "cell_type": "code",
   "execution_count": 151,
   "metadata": {},
   "outputs": [
    {
     "name": "stdout",
     "output_type": "stream",
     "text": [
      "A B C D E \n",
      "A       E \n",
      "A       E \n",
      "A       E \n",
      "A B C D E \n"
     ]
    }
   ],
   "source": [
    "# 21.\n",
    "num=int(input('Enter the number:'))\n",
    "a=64\n",
    "for i in range(1,num+1):\n",
    "    for j in range(1,num+1):\n",
    "        if i==1 or j==1 or i==num or j==num:\n",
    "            print(chr(a+j),end=' ')\n",
    "        else:\n",
    "            print(\" \",end=' ')\n",
    "    print(\"\")"
   ]
  },
  {
   "cell_type": "code",
   "execution_count": 160,
   "metadata": {},
   "outputs": [
    {
     "name": "stdout",
     "output_type": "stream",
     "text": [
      "        1 \n",
      "      1   3 \n",
      "    1       5 \n",
      "  1           7 \n",
      "1               9 \n",
      "  1           7 \n",
      "    1       5 \n",
      "      1   3 \n",
      "        1 \n"
     ]
    }
   ],
   "source": [
    "# 22.\n",
    "\n",
    "# num=int(input('Enter the number:'))\n",
    "num=5\n",
    "for i in range(0,num):\n",
    "    for j in range(1,num-i):\n",
    "        print(' ',end=' ')\n",
    "    for k in range(0,i+1):\n",
    "        print(k+1,end=' ') if k==0 else print(' ',end=' ')\n",
    "    for l in range(0,i):\n",
    "        print(l+i+2,end=' ') if l==i-1 else print(' ',end=' ')\n",
    "    print('')\n",
    "for i in range(0,num-1):\n",
    "    ak=0\n",
    "    for j in range(0,i+1):\n",
    "        print(' ',end=' ')\n",
    "    for k in range(0,num-i-1):\n",
    "        print(k+1,end=' ') if k==0 else print(' ',end=' ')\n",
    "        ak+=1\n",
    "    for l in range(0,num-i-2):\n",
    "        print(ak+l+1,end=' ') if l==num-i-3 else print(' ',end=' ')\n",
    "    print('')"
   ]
  },
  {
   "cell_type": "code",
   "execution_count": 169,
   "metadata": {},
   "outputs": [
    {
     "name": "stdout",
     "output_type": "stream",
     "text": [
      "      * \n",
      "    *   * \n",
      "  *       * \n",
      "*           * \n",
      "  *       * \n",
      "    *   * \n",
      "      * \n"
     ]
    }
   ],
   "source": [
    "# 22.\n",
    "\n",
    "num=int(input('Enter the number:'))\n",
    "for i in range(0,num):\n",
    "    for j in range(1,num-i):\n",
    "        print(' ',end=' ')\n",
    "    for k in range(0,i+1):\n",
    "        print('*',end=' ') if k==0 else print(' ',end=' ')\n",
    "    for l in range(0,i):\n",
    "        print('*',end=' ') if l==i-1 else print(' ',end=' ')\n",
    "    print('')\n",
    "for i in range(0,num-1):\n",
    "    ak=0\n",
    "    for j in range(0,i+1):\n",
    "        print(' ',end=' ')\n",
    "    for k in range(0,num-i-1):\n",
    "        print('*',end=' ') if k==0 else print(' ',end=' ')\n",
    "        ak+=1\n",
    "    for l in range(0,num-i-2):\n",
    "        print('*',end=' ') if l==num-i-3 else print(' ',end=' ')\n",
    "    print('')"
   ]
  },
  {
   "cell_type": "code",
   "execution_count": 171,
   "metadata": {},
   "outputs": [
    {
     "name": "stdout",
     "output_type": "stream",
     "text": [
      "        A \n",
      "      A   C \n",
      "    A       E \n",
      "  A           G \n",
      "A               I \n",
      "  A           G \n",
      "    A       E \n",
      "      A   C \n",
      "        A \n"
     ]
    }
   ],
   "source": [
    "# 22.\n",
    "\n",
    "num=int(input('Enter the number:'))\n",
    "a=64\n",
    "for i in range(0,num):\n",
    "    for j in range(1,num-i):\n",
    "        print(' ',end=' ')\n",
    "    for k in range(0,i+1):\n",
    "        print(chr(a+k+1),end=' ') if k==0 else print(' ',end=' ')\n",
    "    for l in range(0,i):\n",
    "        print(chr(a+l+i+2),end=' ') if l==i-1 else print(' ',end=' ')\n",
    "    print('')\n",
    "for i in range(0,num-1):\n",
    "    ak=0\n",
    "    for j in range(0,i+1):\n",
    "        print(' ',end=' ')\n",
    "    for k in range(0,num-i-1):\n",
    "        print(chr(a+k+1),end=' ') if k==0 else print(' ',end=' ')\n",
    "        ak+=1\n",
    "    for l in range(0,num-i-2):\n",
    "        print(chr(a+ak+l+1),end=' ') if l==num-i-3 else print(' ',end=' ')\n",
    "    print('')"
   ]
  },
  {
   "cell_type": "code",
   "execution_count": null,
   "metadata": {},
   "outputs": [],
   "source": [
    "23"
   ]
  },
  {
   "cell_type": "code",
   "execution_count": null,
   "metadata": {},
   "outputs": [
    {
     "name": "stdout",
     "output_type": "stream",
     "text": [
      "*              *\n",
      "**            **\n",
      "***          ***\n",
      "****        ****\n",
      "*****      *****\n",
      "******    ******\n",
      "*******  *******\n",
      "****************\n",
      "*******  *******\n",
      "******    ******\n",
      "*****      *****\n",
      "****        ****\n",
      "***          ***\n",
      "**            **\n",
      "*              *\n"
     ]
    }
   ],
   "source": [
    "# 24\n",
    "num=int(input('Enter the number:'))\n",
    "for i in range(0,num):\n",
    "    for j in range(0,i+1):\n",
    "        print('*',end='')\n",
    "    for m in range(1,num-i):\n",
    "        print(' ',end='')\n",
    "    for l in range(1,num-i):\n",
    "        print(' ',end='')\n",
    "    for k in range(0,i+1):\n",
    "        print('*',end='')\n",
    "    print('')\n",
    "for i in range(1,num):\n",
    "    for j in range(0,num-i):\n",
    "        print('*',end='')\n",
    "    for m in range(1,i+1):\n",
    "        print(' ',end='')\n",
    "    for k in range(0,i):\n",
    "        print(' ',end='')\n",
    "    for k in range(0,num-i):\n",
    "        print('*',end='')\n",
    "    print('')"
   ]
  },
  {
   "cell_type": "code",
   "execution_count": 201,
   "metadata": {},
   "outputs": [
    {
     "name": "stdout",
     "output_type": "stream",
     "text": [
      "* * * * *   * * * * * \n",
      "* * * *       * * * * \n",
      "* * *           * * * \n",
      "* *               * * \n",
      "*                   * \n",
      "*                   * \n",
      "* *               * * \n",
      "* * *           * * * \n",
      "* * * *       * * * * \n",
      "* * * * *   * * * * * \n"
     ]
    }
   ],
   "source": [
    "# 25\n",
    "num=int(input('Enter the number:'))\n",
    "for i in range(0,num-1):\n",
    "    for j in range(1,num-i):\n",
    "        print('*',end=' ')\n",
    "    for k in range(0,i+1):\n",
    "        print(' ',end=' ')\n",
    "    for l in range(0,i):\n",
    "        print(' ',end=' ')\n",
    "    for m in range(1,num-i):\n",
    "        print('*',end=' ')\n",
    "    print('')\n",
    "for i in range(0,num-1):\n",
    "    for k in range(0,i+1):\n",
    "        print('*',end=' ')\n",
    "    for j in range(0,num-i-1):\n",
    "        print(' ',end=' ')\n",
    "    for k in range(0,num-i-2):\n",
    "        print(' ',end=' ')\n",
    "    for l in range(0,i+1):\n",
    "        print('*',end=' ')\n",
    "    print('')"
   ]
  },
  {
   "cell_type": "code",
   "execution_count": 4,
   "metadata": {},
   "outputs": [
    {
     "name": "stdout",
     "output_type": "stream",
     "text": [
      "              * \n",
      "            * * * \n",
      "          *   *   * \n",
      "        *     *     * \n",
      "      *       *       * \n",
      "    *         *         * \n",
      "  * * * * * * * * * * * * * \n"
     ]
    }
   ],
   "source": [
    "# 26\n",
    "num=int(input('Enter the number:'))\n",
    "for i in range(0,num):\n",
    "    for j in range(i,num):\n",
    "        print(' ',end=' ')\n",
    "    for k in range(0,i+1):\n",
    "        if k==0 or k==i or i==num-1:\n",
    "            print('*',end=' ')\n",
    "        else:\n",
    "            print(' ',end=' ')\n",
    "    for l in range(0,i):\n",
    "        print('*',end=' ') if l==i-1 or i==num-1 else print(' ',end=' ')\n",
    "    print(\"\")"
   ]
  },
  {
   "cell_type": "markdown",
   "metadata": {},
   "source": [
    "Extra Practice"
   ]
  },
  {
   "cell_type": "code",
   "execution_count": 7,
   "metadata": {},
   "outputs": [
    {
     "name": "stdout",
     "output_type": "stream",
     "text": [
      "* * * * \n",
      " * * * \n",
      "  * * \n",
      "   * \n"
     ]
    }
   ],
   "source": [
    "num=5\n",
    "for i in range(1,num):\n",
    "    for j in range(1,i):\n",
    "        print(\" \",end='')\n",
    "    for k in range(i,num):\n",
    "        print('*',end=' ')\n",
    "    print('')"
   ]
  },
  {
   "cell_type": "code",
   "execution_count": 29,
   "metadata": {},
   "outputs": [
    {
     "name": "stdout",
     "output_type": "stream",
     "text": [
      "A B C D E \n",
      " A B C D \n",
      "  A B C \n",
      "   A B \n",
      "    A \n"
     ]
    }
   ],
   "source": [
    "num=5\n",
    "a=64\n",
    "for i in range(1,num+1):\n",
    "    for j in range(1,i):\n",
    "        print(\" \",end='')\n",
    "    for k in range(i,num+1):\n",
    "        print(chr(a+k-i+1),end=' ')\n",
    "    print('')"
   ]
  },
  {
   "cell_type": "code",
   "execution_count": 28,
   "metadata": {},
   "outputs": [
    {
     "name": "stdout",
     "output_type": "stream",
     "text": [
      "    A \n",
      "   A B \n",
      "  A B C \n",
      " A B C D \n",
      "A B C D E \n"
     ]
    }
   ],
   "source": [
    "num=5\n",
    "a=64\n",
    "for i in range(1,num+1):\n",
    "    for j in range(i,num):\n",
    "        print(\" \",end='')\n",
    "    for k in range(1,i+1):\n",
    "        print(chr(a+k),end=' ')\n",
    "    print('')"
   ]
  },
  {
   "cell_type": "code",
   "execution_count": 36,
   "metadata": {},
   "outputs": [
    {
     "name": "stdout",
     "output_type": "stream",
     "text": [
      "*\n",
      "**\n",
      "* *\n",
      "*  *\n",
      "*****\n"
     ]
    }
   ],
   "source": [
    "num=5\n",
    "a=64\n",
    "for i in range(1,num+1):\n",
    "    for k in range(1,i+1):\n",
    "        print('*',end='') if i==num or k == 1 or k==i else print(' ',end='')\n",
    "    print('')"
   ]
  },
  {
   "cell_type": "code",
   "execution_count": 44,
   "metadata": {},
   "outputs": [
    {
     "name": "stdout",
     "output_type": "stream",
     "text": [
      "    1 \n",
      "   2 3 \n",
      "  4   6 \n",
      " 7     10 \n",
      "11 12 13 14 15 \n"
     ]
    }
   ],
   "source": [
    "num=5\n",
    "count=1\n",
    "for i in range(1,num+1):\n",
    "    for j in range(i,num):\n",
    "        print(' ',end='')\n",
    "    for k in range(1,i+1):\n",
    "        print(count,end=' ') if k==1 or i==num or i==k else print(\" \",end=' ')\n",
    "        count+=1\n",
    "    print('')"
   ]
  }
 ],
 "metadata": {
  "kernelspec": {
   "display_name": "Python 3",
   "language": "python",
   "name": "python3"
  },
  "language_info": {
   "codemirror_mode": {
    "name": "ipython",
    "version": 3
   },
   "file_extension": ".py",
   "mimetype": "text/x-python",
   "name": "python",
   "nbconvert_exporter": "python",
   "pygments_lexer": "ipython3",
   "version": "3.13.1"
  }
 },
 "nbformat": 4,
 "nbformat_minor": 2
}
