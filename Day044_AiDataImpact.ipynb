{
 "cells": [
  {
   "cell_type": "code",
   "execution_count": 1,
   "id": "f12406e6",
   "metadata": {},
   "outputs": [],
   "source": [
    "import numpy as np\n",
    "import pandas as pd"
   ]
  },
  {
   "cell_type": "code",
   "execution_count": 111,
   "id": "6215930d",
   "metadata": {},
   "outputs": [],
   "source": [
    "import matplotlib.pyplot as plt\n"
   ]
  },
  {
   "cell_type": "code",
   "execution_count": 159,
   "id": "478fdb29",
   "metadata": {},
   "outputs": [],
   "source": [
    "import plotly.express as px"
   ]
  },
  {
   "cell_type": "code",
   "execution_count": null,
   "id": "238a851b",
   "metadata": {},
   "outputs": [
    {
     "data": {
      "text/html": [
       "<div>\n",
       "<style scoped>\n",
       "    .dataframe tbody tr th:only-of-type {\n",
       "        vertical-align: middle;\n",
       "    }\n",
       "\n",
       "    .dataframe tbody tr th {\n",
       "        vertical-align: top;\n",
       "    }\n",
       "\n",
       "    .dataframe thead th {\n",
       "        text-align: right;\n",
       "    }\n",
       "</style>\n",
       "<table border=\"1\" class=\"dataframe\">\n",
       "  <thead>\n",
       "    <tr style=\"text-align: right;\">\n",
       "      <th></th>\n",
       "      <th>Country</th>\n",
       "      <th>Year</th>\n",
       "      <th>Industry</th>\n",
       "      <th>AI Adoption Rate (%)</th>\n",
       "      <th>AI-Generated Content Volume (TBs per year)</th>\n",
       "      <th>Job Loss Due to AI (%)</th>\n",
       "      <th>Revenue Increase Due to AI (%)</th>\n",
       "      <th>Human-AI Collaboration Rate (%)</th>\n",
       "      <th>Top AI Tools Used</th>\n",
       "      <th>Regulation Status</th>\n",
       "      <th>Consumer Trust in AI (%)</th>\n",
       "      <th>Market Share of AI Companies (%)</th>\n",
       "    </tr>\n",
       "  </thead>\n",
       "  <tbody>\n",
       "    <tr>\n",
       "      <th>0</th>\n",
       "      <td>South Korea</td>\n",
       "      <td>2022</td>\n",
       "      <td>Media</td>\n",
       "      <td>44.29</td>\n",
       "      <td>33.09</td>\n",
       "      <td>16.77</td>\n",
       "      <td>46.12</td>\n",
       "      <td>74.79</td>\n",
       "      <td>Bard</td>\n",
       "      <td>Strict</td>\n",
       "      <td>40.77</td>\n",
       "      <td>18.73</td>\n",
       "    </tr>\n",
       "    <tr>\n",
       "      <th>1</th>\n",
       "      <td>China</td>\n",
       "      <td>2025</td>\n",
       "      <td>Legal</td>\n",
       "      <td>34.75</td>\n",
       "      <td>66.74</td>\n",
       "      <td>46.89</td>\n",
       "      <td>52.46</td>\n",
       "      <td>26.17</td>\n",
       "      <td>DALL-E</td>\n",
       "      <td>Strict</td>\n",
       "      <td>35.67</td>\n",
       "      <td>35.02</td>\n",
       "    </tr>\n",
       "    <tr>\n",
       "      <th>2</th>\n",
       "      <td>USA</td>\n",
       "      <td>2022</td>\n",
       "      <td>Automotive</td>\n",
       "      <td>81.06</td>\n",
       "      <td>96.13</td>\n",
       "      <td>10.66</td>\n",
       "      <td>45.60</td>\n",
       "      <td>39.66</td>\n",
       "      <td>Stable Diffusion</td>\n",
       "      <td>Moderate</td>\n",
       "      <td>54.47</td>\n",
       "      <td>22.76</td>\n",
       "    </tr>\n",
       "    <tr>\n",
       "      <th>3</th>\n",
       "      <td>France</td>\n",
       "      <td>2021</td>\n",
       "      <td>Legal</td>\n",
       "      <td>85.24</td>\n",
       "      <td>93.76</td>\n",
       "      <td>27.70</td>\n",
       "      <td>78.24</td>\n",
       "      <td>29.45</td>\n",
       "      <td>Claude</td>\n",
       "      <td>Moderate</td>\n",
       "      <td>51.84</td>\n",
       "      <td>1.93</td>\n",
       "    </tr>\n",
       "    <tr>\n",
       "      <th>4</th>\n",
       "      <td>France</td>\n",
       "      <td>2021</td>\n",
       "      <td>Gaming</td>\n",
       "      <td>78.95</td>\n",
       "      <td>45.62</td>\n",
       "      <td>17.45</td>\n",
       "      <td>1.05</td>\n",
       "      <td>21.70</td>\n",
       "      <td>Midjourney</td>\n",
       "      <td>Strict</td>\n",
       "      <td>41.77</td>\n",
       "      <td>21.41</td>\n",
       "    </tr>\n",
       "  </tbody>\n",
       "</table>\n",
       "</div>"
      ],
      "text/plain": [
       "       Country  Year    Industry  AI Adoption Rate (%)  \\\n",
       "0  South Korea  2022       Media                 44.29   \n",
       "1        China  2025       Legal                 34.75   \n",
       "2          USA  2022  Automotive                 81.06   \n",
       "3       France  2021       Legal                 85.24   \n",
       "4       France  2021      Gaming                 78.95   \n",
       "\n",
       "   AI-Generated Content Volume (TBs per year)  Job Loss Due to AI (%)  \\\n",
       "0                                       33.09                   16.77   \n",
       "1                                       66.74                   46.89   \n",
       "2                                       96.13                   10.66   \n",
       "3                                       93.76                   27.70   \n",
       "4                                       45.62                   17.45   \n",
       "\n",
       "   Revenue Increase Due to AI (%)  Human-AI Collaboration Rate (%)  \\\n",
       "0                           46.12                            74.79   \n",
       "1                           52.46                            26.17   \n",
       "2                           45.60                            39.66   \n",
       "3                           78.24                            29.45   \n",
       "4                            1.05                            21.70   \n",
       "\n",
       "  Top AI Tools Used Regulation Status  Consumer Trust in AI (%)  \\\n",
       "0              Bard            Strict                     40.77   \n",
       "1            DALL-E            Strict                     35.67   \n",
       "2  Stable Diffusion          Moderate                     54.47   \n",
       "3            Claude          Moderate                     51.84   \n",
       "4        Midjourney            Strict                     41.77   \n",
       "\n",
       "   Market Share of AI Companies (%)  \n",
       "0                             18.73  \n",
       "1                             35.02  \n",
       "2                             22.76  \n",
       "3                              1.93  \n",
       "4                             21.41  "
      ]
     },
     "execution_count": 2,
     "metadata": {},
     "output_type": "execute_result"
    }
   ],
   "source": [
    "df=pd.read_csv('Global_AI_Content_Impact_Dataset.csv')\n",
    "df.head()   "
   ]
  },
  {
   "cell_type": "code",
   "execution_count": null,
   "id": "c691599d",
   "metadata": {},
   "outputs": [],
   "source": [
    "df[df['Country']=='China'].sort_values(by=['Year'])"
   ]
  },
  {
   "cell_type": "code",
   "execution_count": 85,
   "id": "164b0232",
   "metadata": {},
   "outputs": [
    {
     "data": {
      "text/plain": [
       "Index(['Country', 'Year', 'Industry', 'AI Adoption Rate (%)',\n",
       "       'AI-Generated Content Volume (TBs per year)', 'Job Loss Due to AI (%)',\n",
       "       'Revenue Increase Due to AI (%)', 'Human-AI Collaboration Rate (%)',\n",
       "       'Top AI Tools Used', 'Regulation Status', 'Consumer Trust in AI (%)',\n",
       "       'Market Share of AI Companies (%)'],\n",
       "      dtype='object')"
      ]
     },
     "execution_count": 85,
     "metadata": {},
     "output_type": "execute_result"
    }
   ],
   "source": [
    "df.columns"
   ]
  },
  {
   "cell_type": "code",
   "execution_count": 160,
   "id": "17757f8c",
   "metadata": {},
   "outputs": [
    {
     "data": {
      "text/html": [
       "<div>\n",
       "<style scoped>\n",
       "    .dataframe tbody tr th:only-of-type {\n",
       "        vertical-align: middle;\n",
       "    }\n",
       "\n",
       "    .dataframe tbody tr th {\n",
       "        vertical-align: top;\n",
       "    }\n",
       "\n",
       "    .dataframe thead th {\n",
       "        text-align: right;\n",
       "    }\n",
       "</style>\n",
       "<table border=\"1\" class=\"dataframe\">\n",
       "  <thead>\n",
       "    <tr style=\"text-align: right;\">\n",
       "      <th></th>\n",
       "      <th>Regulation Status</th>\n",
       "      <th>Revenue Increase Due to AI (%)</th>\n",
       "    </tr>\n",
       "  </thead>\n",
       "  <tbody>\n",
       "    <tr>\n",
       "      <th>0</th>\n",
       "      <td>Lenient</td>\n",
       "      <td>43.001270</td>\n",
       "    </tr>\n",
       "    <tr>\n",
       "      <th>1</th>\n",
       "      <td>Moderate</td>\n",
       "      <td>38.916842</td>\n",
       "    </tr>\n",
       "    <tr>\n",
       "      <th>2</th>\n",
       "      <td>Strict</td>\n",
       "      <td>37.330000</td>\n",
       "    </tr>\n",
       "  </tbody>\n",
       "</table>\n",
       "</div>"
      ],
      "text/plain": [
       "  Regulation Status  Revenue Increase Due to AI (%)\n",
       "0           Lenient                       43.001270\n",
       "1          Moderate                       38.916842\n",
       "2            Strict                       37.330000"
      ]
     },
     "execution_count": 160,
     "metadata": {},
     "output_type": "execute_result"
    }
   ],
   "source": [
    "# Revenu to Regulation Status\n",
    "regulation_status_by_revenu=df.groupby(['Regulation Status'])['Revenue Increase Due to AI (%)'].mean().reset_index()\n",
    "regulation_status_by_revenu"
   ]
  },
  {
   "cell_type": "code",
   "execution_count": 162,
   "id": "b017920e",
   "metadata": {},
   "outputs": [],
   "source": [
    "# fig = px.treemap(regulation_status_by_revenu, path=['Regulation Status'], values='Revenue Increase Due to AI (%)', title='Regulation Status By Revenu')\n",
    "# fig.show()\n"
   ]
  },
  {
   "cell_type": "code",
   "execution_count": 154,
   "id": "475a8a2c",
   "metadata": {},
   "outputs": [
    {
     "data": {
      "text/html": [
       "<div>\n",
       "<style scoped>\n",
       "    .dataframe tbody tr th:only-of-type {\n",
       "        vertical-align: middle;\n",
       "    }\n",
       "\n",
       "    .dataframe tbody tr th {\n",
       "        vertical-align: top;\n",
       "    }\n",
       "\n",
       "    .dataframe thead th {\n",
       "        text-align: right;\n",
       "    }\n",
       "</style>\n",
       "<table border=\"1\" class=\"dataframe\">\n",
       "  <thead>\n",
       "    <tr style=\"text-align: right;\">\n",
       "      <th></th>\n",
       "      <th>Year</th>\n",
       "      <th>Revenue Increase Due to AI (%)</th>\n",
       "    </tr>\n",
       "  </thead>\n",
       "  <tbody>\n",
       "    <tr>\n",
       "      <th>0</th>\n",
       "      <td>2020</td>\n",
       "      <td>44.202340</td>\n",
       "    </tr>\n",
       "    <tr>\n",
       "      <th>1</th>\n",
       "      <td>2021</td>\n",
       "      <td>42.991875</td>\n",
       "    </tr>\n",
       "    <tr>\n",
       "      <th>2</th>\n",
       "      <td>2022</td>\n",
       "      <td>35.484839</td>\n",
       "    </tr>\n",
       "    <tr>\n",
       "      <th>3</th>\n",
       "      <td>2023</td>\n",
       "      <td>33.028276</td>\n",
       "    </tr>\n",
       "    <tr>\n",
       "      <th>4</th>\n",
       "      <td>2024</td>\n",
       "      <td>42.450435</td>\n",
       "    </tr>\n",
       "    <tr>\n",
       "      <th>5</th>\n",
       "      <td>2025</td>\n",
       "      <td>38.327105</td>\n",
       "    </tr>\n",
       "  </tbody>\n",
       "</table>\n",
       "</div>"
      ],
      "text/plain": [
       "   Year  Revenue Increase Due to AI (%)\n",
       "0  2020                       44.202340\n",
       "1  2021                       42.991875\n",
       "2  2022                       35.484839\n",
       "3  2023                       33.028276\n",
       "4  2024                       42.450435\n",
       "5  2025                       38.327105"
      ]
     },
     "execution_count": 154,
     "metadata": {},
     "output_type": "execute_result"
    }
   ],
   "source": [
    "# Revenue Increaed By Each Year\n",
    "Revenu_Increased_by_each_Ai=df.groupby(['Year'])['Revenue Increase Due to AI (%)'].mean().reset_index()\n",
    "Revenu_Increased_by_each_Ai"
   ]
  },
  {
   "cell_type": "code",
   "execution_count": 158,
   "id": "a52750e8",
   "metadata": {},
   "outputs": [
    {
     "data": {
      "image/png": "[encoded data removed]",
      "text/plain": [
       "<Figure size 500x400 with 1 Axes>"
      ]
     },
     "metadata": {},
     "output_type": "display_data"
    }
   ],
   "source": [
    "# Create a bar chart\n",
    "plt.figure(figsize=(5, 4))\n",
    "plt.bar(Revenu_Increased_by_each_Ai['Year'], \n",
    "        Revenu_Increased_by_each_Ai['Revenue Increase Due to AI (%)'], \n",
    "        color='skyblue')\n",
    "\n",
    "# Add title and labels\n",
    "plt.title('Revenue Increase Due to AI by Year', fontsize=14)\n",
    "plt.xlabel('Year', fontsize=12)\n",
    "plt.ylabel('Average Revenue Increase Due to AI (%)', fontsize=12)\n",
    "\n",
    "# Display the plot\n",
    "plt.show()\n"
   ]
  },
  {
   "cell_type": "code",
   "execution_count": 122,
   "id": "b7581a3b",
   "metadata": {},
   "outputs": [
    {
     "data": {
      "text/html": [
       "<div>\n",
       "<style scoped>\n",
       "    .dataframe tbody tr th:only-of-type {\n",
       "        vertical-align: middle;\n",
       "    }\n",
       "\n",
       "    .dataframe tbody tr th {\n",
       "        vertical-align: top;\n",
       "    }\n",
       "\n",
       "    .dataframe thead th {\n",
       "        text-align: right;\n",
       "    }\n",
       "</style>\n",
       "<table border=\"1\" class=\"dataframe\">\n",
       "  <thead>\n",
       "    <tr style=\"text-align: right;\">\n",
       "      <th></th>\n",
       "      <th>Top AI Tools Used</th>\n",
       "      <th>Market Share of AI Companies (%)</th>\n",
       "    </tr>\n",
       "  </thead>\n",
       "  <tbody>\n",
       "    <tr>\n",
       "      <th>5</th>\n",
       "      <td>Stable Diffusion</td>\n",
       "      <td>29.191852</td>\n",
       "    </tr>\n",
       "    <tr>\n",
       "      <th>2</th>\n",
       "      <td>Claude</td>\n",
       "      <td>27.468710</td>\n",
       "    </tr>\n",
       "    <tr>\n",
       "      <th>4</th>\n",
       "      <td>Midjourney</td>\n",
       "      <td>26.871351</td>\n",
       "    </tr>\n",
       "    <tr>\n",
       "      <th>3</th>\n",
       "      <td>DALL-E</td>\n",
       "      <td>26.628846</td>\n",
       "    </tr>\n",
       "    <tr>\n",
       "      <th>1</th>\n",
       "      <td>ChatGPT</td>\n",
       "      <td>26.010968</td>\n",
       "    </tr>\n",
       "    <tr>\n",
       "      <th>6</th>\n",
       "      <td>Synthesia</td>\n",
       "      <td>25.367083</td>\n",
       "    </tr>\n",
       "    <tr>\n",
       "      <th>0</th>\n",
       "      <td>Bard</td>\n",
       "      <td>23.852500</td>\n",
       "    </tr>\n",
       "  </tbody>\n",
       "</table>\n",
       "</div>"
      ],
      "text/plain": [
       "  Top AI Tools Used  Market Share of AI Companies (%)\n",
       "5  Stable Diffusion                         29.191852\n",
       "2            Claude                         27.468710\n",
       "4        Midjourney                         26.871351\n",
       "3            DALL-E                         26.628846\n",
       "1           ChatGPT                         26.010968\n",
       "6         Synthesia                         25.367083\n",
       "0              Bard                         23.852500"
      ]
     },
     "execution_count": 122,
     "metadata": {},
     "output_type": "execute_result"
    }
   ],
   "source": [
    "# Market Share By each AI\n",
    "Avg_Market_Share_by_AI=df.groupby(['Top AI Tools Used'])['Market Share of AI Companies (%)'].mean().reset_index()\n",
    "Avg_Market_Share_by_AI.sort_values(ascending=False,by=['Market Share of AI Companies (%)'])"
   ]
  },
  {
   "cell_type": "code",
   "execution_count": 133,
   "id": "82e64d6d",
   "metadata": {},
   "outputs": [
    {
     "data": {
      "image/png": "[encoded data removed]",
      "text/plain": [
       "<Figure size 800x800 with 1 Axes>"
      ]
     },
     "metadata": {},
     "output_type": "display_data"
    }
   ],
   "source": [
    "plt.figure(figsize=(8, 8))\n",
    "plt.pie(Avg_Market_Share_by_AI['Market Share of AI Companies (%)'], \n",
    "        labels=Avg_Market_Share_by_AI['Top AI Tools Used'], \n",
    "        autopct='%1.1f%%', \n",
    "        startangle=140, \n",
    "        colors=['#ff9999','#66b3ff','#99ff99','#ffcc99','#c2c2f0'])\n",
    "\n",
    "# Add a title\n",
    "plt.title('Average Global Market Share of AI Tools')\n",
    "\n",
    "# Show the pie chart\n",
    "plt.show()\n"
   ]
  },
  {
   "cell_type": "code",
   "execution_count": 108,
   "id": "2120dbaf",
   "metadata": {},
   "outputs": [
    {
     "data": {
      "text/html": [
       "<div>\n",
       "<style scoped>\n",
       "    .dataframe tbody tr th:only-of-type {\n",
       "        vertical-align: middle;\n",
       "    }\n",
       "\n",
       "    .dataframe tbody tr th {\n",
       "        vertical-align: top;\n",
       "    }\n",
       "\n",
       "    .dataframe thead th {\n",
       "        text-align: right;\n",
       "    }\n",
       "</style>\n",
       "<table border=\"1\" class=\"dataframe\">\n",
       "  <thead>\n",
       "    <tr style=\"text-align: right;\">\n",
       "      <th></th>\n",
       "      <th>Top AI Tools Used</th>\n",
       "      <th>Human-AI Collaboration Rate (%)</th>\n",
       "    </tr>\n",
       "  </thead>\n",
       "  <tbody>\n",
       "    <tr>\n",
       "      <th>3</th>\n",
       "      <td>DALL-E</td>\n",
       "      <td>58.225385</td>\n",
       "    </tr>\n",
       "    <tr>\n",
       "      <th>1</th>\n",
       "      <td>ChatGPT</td>\n",
       "      <td>58.167419</td>\n",
       "    </tr>\n",
       "    <tr>\n",
       "      <th>6</th>\n",
       "      <td>Synthesia</td>\n",
       "      <td>57.064583</td>\n",
       "    </tr>\n",
       "    <tr>\n",
       "      <th>5</th>\n",
       "      <td>Stable Diffusion</td>\n",
       "      <td>54.330741</td>\n",
       "    </tr>\n",
       "    <tr>\n",
       "      <th>4</th>\n",
       "      <td>Midjourney</td>\n",
       "      <td>50.950541</td>\n",
       "    </tr>\n",
       "    <tr>\n",
       "      <th>2</th>\n",
       "      <td>Claude</td>\n",
       "      <td>50.729677</td>\n",
       "    </tr>\n",
       "    <tr>\n",
       "      <th>0</th>\n",
       "      <td>Bard</td>\n",
       "      <td>50.379583</td>\n",
       "    </tr>\n",
       "  </tbody>\n",
       "</table>\n",
       "</div>"
      ],
      "text/plain": [
       "  Top AI Tools Used  Human-AI Collaboration Rate (%)\n",
       "3            DALL-E                        58.225385\n",
       "1           ChatGPT                        58.167419\n",
       "6         Synthesia                        57.064583\n",
       "5  Stable Diffusion                        54.330741\n",
       "4        Midjourney                        50.950541\n",
       "2            Claude                        50.729677\n",
       "0              Bard                        50.379583"
      ]
     },
     "execution_count": 108,
     "metadata": {},
     "output_type": "execute_result"
    }
   ],
   "source": [
    "# Human Ai Colllabration By each AI\n",
    "Avg_Successful_Collabration_by_AI=df.groupby(['Top AI Tools Used'])['Human-AI Collaboration Rate (%)'].mean().reset_index()\n",
    "Avg_Successful_Collabration_by_AI.sort_values(ascending=False,by=['Human-AI Collaboration Rate (%)'])"
   ]
  },
  {
   "cell_type": "code",
   "execution_count": 109,
   "id": "ad01a291",
   "metadata": {},
   "outputs": [
    {
     "data": {
      "text/html": [
       "<div>\n",
       "<style scoped>\n",
       "    .dataframe tbody tr th:only-of-type {\n",
       "        vertical-align: middle;\n",
       "    }\n",
       "\n",
       "    .dataframe tbody tr th {\n",
       "        vertical-align: top;\n",
       "    }\n",
       "\n",
       "    .dataframe thead th {\n",
       "        text-align: right;\n",
       "    }\n",
       "</style>\n",
       "<table border=\"1\" class=\"dataframe\">\n",
       "  <thead>\n",
       "    <tr style=\"text-align: right;\">\n",
       "      <th></th>\n",
       "      <th>Country</th>\n",
       "      <th>Human-AI Collaboration Rate (%)</th>\n",
       "    </tr>\n",
       "  </thead>\n",
       "  <tbody>\n",
       "    <tr>\n",
       "      <th>0</th>\n",
       "      <td>Australia</td>\n",
       "      <td>59.477333</td>\n",
       "    </tr>\n",
       "    <tr>\n",
       "      <th>7</th>\n",
       "      <td>South Korea</td>\n",
       "      <td>59.471500</td>\n",
       "    </tr>\n",
       "    <tr>\n",
       "      <th>8</th>\n",
       "      <td>UK</td>\n",
       "      <td>58.268500</td>\n",
       "    </tr>\n",
       "    <tr>\n",
       "      <th>9</th>\n",
       "      <td>USA</td>\n",
       "      <td>57.259524</td>\n",
       "    </tr>\n",
       "    <tr>\n",
       "      <th>1</th>\n",
       "      <td>Canada</td>\n",
       "      <td>55.197500</td>\n",
       "    </tr>\n",
       "    <tr>\n",
       "      <th>2</th>\n",
       "      <td>China</td>\n",
       "      <td>54.506667</td>\n",
       "    </tr>\n",
       "    <tr>\n",
       "      <th>5</th>\n",
       "      <td>India</td>\n",
       "      <td>54.201667</td>\n",
       "    </tr>\n",
       "    <tr>\n",
       "      <th>3</th>\n",
       "      <td>France</td>\n",
       "      <td>52.762083</td>\n",
       "    </tr>\n",
       "    <tr>\n",
       "      <th>4</th>\n",
       "      <td>Germany</td>\n",
       "      <td>49.627059</td>\n",
       "    </tr>\n",
       "    <tr>\n",
       "      <th>6</th>\n",
       "      <td>Japan</td>\n",
       "      <td>42.383182</td>\n",
       "    </tr>\n",
       "  </tbody>\n",
       "</table>\n",
       "</div>"
      ],
      "text/plain": [
       "       Country  Human-AI Collaboration Rate (%)\n",
       "0    Australia                        59.477333\n",
       "7  South Korea                        59.471500\n",
       "8           UK                        58.268500\n",
       "9          USA                        57.259524\n",
       "1       Canada                        55.197500\n",
       "2        China                        54.506667\n",
       "5        India                        54.201667\n",
       "3       France                        52.762083\n",
       "4      Germany                        49.627059\n",
       "6        Japan                        42.383182"
      ]
     },
     "execution_count": 109,
     "metadata": {},
     "output_type": "execute_result"
    }
   ],
   "source": [
    "# Avg Human Ai Colllabration By each Country\n",
    "Avg_Successful_Collabration_by_Country=df.groupby(['Country'])['Human-AI Collaboration Rate (%)'].mean().reset_index()\n",
    "Avg_Successful_Collabration_by_Country.sort_values(ascending=False,by=['Human-AI Collaboration Rate (%)'])"
   ]
  },
  {
   "cell_type": "code",
   "execution_count": 163,
   "id": "970a6cd0",
   "metadata": {},
   "outputs": [
    {
     "data": {
      "application/vnd.plotly.v1+json": {
       "config": {
        "plotlyServerURL": "https://plot.ly"
       },
       "data": [
        {
         "branchvalues": "total",
         "domain": {
          "x": [
           0,
           1
          ],
          "y": [
           0,
           1
          ]
         },
         "hovertemplate": "labels=%{label}<br>Human-AI Collaboration Rate (%)=%{value}<br>parent=%{parent}<br>id=%{id}<extra></extra>",
         "ids": [
          "Australia",
          "Canada",
          "China",
          "France",
          "Germany",
          "India",
          "Japan",
          "South Korea",
          "UK",
          "USA"
         ],
         "labels": [
          "Australia",
          "Canada",
          "China",
          "France",
          "Germany",
          "India",
          "Japan",
          "South Korea",
          "UK",
          "USA"
         ],
         "name": "",
         "parents": [
          "",
          "",
          "",
          "",
          "",
          "",
          "",
          "",
          "",
          ""
         ],
         "type": "treemap",
         "values": {
          "bdata": "ivo3Qhm9TUDiehSuR5lLQEKnDXTaQEtAJb9Y8othSkAQ3al2Q9BIQGkDnTbQGUtAocEQGgwxRUAyCKwcWrxNQO18PzVeIk1AFDiBEzihTEA=",
          "dtype": "f8"
         }
        }
       ],
       "layout": {
        "legend": {
         "tracegroupgap": 0
        },
        "template": {
         "data": {
          "bar": [
           {
            "error_x": {
             "color": "#2a3f5f"
            },
            "error_y": {
             "color": "#2a3f5f"
            },
            "marker": {
             "line": {
              "color": "#E5ECF6",
              "width": 0.5
             },
             "pattern": {
              "fillmode": "overlay",
              "size": 10,
              "solidity": 0.2
             }
            },
            "type": "bar"
           }
          ],
          "barpolar": [
           {
            "marker": {
             "line": {
              "color": "#E5ECF6",
              "width": 0.5
             },
             "pattern": {
              "fillmode": "overlay",
              "size": 10,
              "solidity": 0.2
             }
            },
            "type": "barpolar"
           }
          ],
          "carpet": [
           {
            "aaxis": {
             "endlinecolor": "#2a3f5f",
             "gridcolor": "white",
             "linecolor": "white",
             "minorgridcolor": "white",
             "startlinecolor": "#2a3f5f"
            },
            "baxis": {
             "endlinecolor": "#2a3f5f",
             "gridcolor": "white",
             "linecolor": "white",
             "minorgridcolor": "white",
             "startlinecolor": "#2a3f5f"
            },
            "type": "carpet"
           }
          ],
          "choropleth": [
           {
            "colorbar": {
             "outlinewidth": 0,
             "ticks": ""
            },
            "type": "choropleth"
           }
          ],
          "contour": [
           {
            "colorbar": {
             "outlinewidth": 0,
             "ticks": ""
            },
            "colorscale": [
             [
              0,
              "#0d0887"
             ],
             [
              0.1111111111111111,
              "#46039f"
             ],
             [
              0.2222222222222222,
              "#7201a8"
             ],
             [
              0.3333333333333333,
              "#9c179e"
             ],
             [
              0.4444444444444444,
              "#bd3786"
             ],
             [
              0.5555555555555556,
              "#d8576b"
             ],
             [
              0.6666666666666666,
              "#ed7953"
             ],
             [
              0.7777777777777778,
              "#fb9f3a"
             ],
             [
              0.8888888888888888,
              "#fdca26"
             ],
             [
              1,
              "#f0f921"
             ]
            ],
            "type": "contour"
           }
          ],
          "contourcarpet": [
           {
            "colorbar": {
             "outlinewidth": 0,
             "ticks": ""
            },
            "type": "contourcarpet"
           }
          ],
          "heatmap": [
           {
            "colorbar": {
             "outlinewidth": 0,
             "ticks": ""
            },
            "colorscale": [
             [
              0,
              "#0d0887"
             ],
             [
              0.1111111111111111,
              "#46039f"
             ],
             [
              0.2222222222222222,
              "#7201a8"
             ],
             [
              0.3333333333333333,
              "#9c179e"
             ],
             [
              0.4444444444444444,
              "#bd3786"
             ],
             [
              0.5555555555555556,
              "#d8576b"
             ],
             [
              0.6666666666666666,
              "#ed7953"
             ],
             [
              0.7777777777777778,
              "#fb9f3a"
             ],
             [
              0.8888888888888888,
              "#fdca26"
             ],
             [
              1,
              "#f0f921"
             ]
            ],
            "type": "heatmap"
           }
          ],
          "histogram": [
           {
            "marker": {
             "pattern": {
              "fillmode": "overlay",
              "size": 10,
              "solidity": 0.2
             }
            },
            "type": "histogram"
           }
          ],
          "histogram2d": [
           {
            "colorbar": {
             "outlinewidth": 0,
             "ticks": ""
            },
            "colorscale": [
             [
              0,
              "#0d0887"
             ],
             [
              0.1111111111111111,
              "#46039f"
             ],
             [
              0.2222222222222222,
              "#7201a8"
             ],
             [
              0.3333333333333333,
              "#9c179e"
             ],
             [
              0.4444444444444444,
              "#bd3786"
             ],
             [
              0.5555555555555556,
              "#d8576b"
             ],
             [
              0.6666666666666666,
              "#ed7953"
             ],
             [
              0.7777777777777778,
              "#fb9f3a"
             ],
             [
              0.8888888888888888,
              "#fdca26"
             ],
             [
              1,
              "#f0f921"
             ]
            ],
            "type": "histogram2d"
           }
          ],
          "histogram2dcontour": [
           {
            "colorbar": {
             "outlinewidth": 0,
             "ticks": ""
            },
            "colorscale": [
             [
              0,
              "#0d0887"
             ],
             [
              0.1111111111111111,
              "#46039f"
             ],
             [
              0.2222222222222222,
              "#7201a8"
             ],
             [
              0.3333333333333333,
              "#9c179e"
             ],
             [
              0.4444444444444444,
              "#bd3786"
             ],
             [
              0.5555555555555556,
              "#d8576b"
             ],
             [
              0.6666666666666666,
              "#ed7953"
             ],
             [
              0.7777777777777778,
              "#fb9f3a"
             ],
             [
              0.8888888888888888,
              "#fdca26"
             ],
             [
              1,
              "#f0f921"
             ]
            ],
            "type": "histogram2dcontour"
           }
          ],
          "mesh3d": [
           {
            "colorbar": {
             "outlinewidth": 0,
             "ticks": ""
            },
            "type": "mesh3d"
           }
          ],
          "parcoords": [
           {
            "line": {
             "colorbar": {
              "outlinewidth": 0,
              "ticks": ""
             }
            },
            "type": "parcoords"
           }
          ],
          "pie": [
           {
            "automargin": true,
            "type": "pie"
           }
          ],
          "scatter": [
           {
            "fillpattern": {
             "fillmode": "overlay",
             "size": 10,
             "solidity": 0.2
            },
            "type": "scatter"
           }
          ],
          "scatter3d": [
           {
            "line": {
             "colorbar": {
              "outlinewidth": 0,
              "ticks": ""
             }
            },
            "marker": {
             "colorbar": {
              "outlinewidth": 0,
              "ticks": ""
             }
            },
            "type": "scatter3d"
           }
          ],
          "scattercarpet": [
           {
            "marker": {
             "colorbar": {
              "outlinewidth": 0,
              "ticks": ""
             }
            },
            "type": "scattercarpet"
           }
          ],
          "scattergeo": [
           {
            "marker": {
             "colorbar": {
              "outlinewidth": 0,
              "ticks": ""
             }
            },
            "type": "scattergeo"
           }
          ],
          "scattergl": [
           {
            "marker": {
             "colorbar": {
              "outlinewidth": 0,
              "ticks": ""
             }
            },
            "type": "scattergl"
           }
          ],
          "scattermap": [
           {
            "marker": {
             "colorbar": {
              "outlinewidth": 0,
              "ticks": ""
             }
            },
            "type": "scattermap"
           }
          ],
          "scattermapbox": [
           {
            "marker": {
             "colorbar": {
              "outlinewidth": 0,
              "ticks": ""
             }
            },
            "type": "scattermapbox"
           }
          ],
          "scatterpolar": [
           {
            "marker": {
             "colorbar": {
              "outlinewidth": 0,
              "ticks": ""
             }
            },
            "type": "scatterpolar"
           }
          ],
          "scatterpolargl": [
           {
            "marker": {
             "colorbar": {
              "outlinewidth": 0,
              "ticks": ""
             }
            },
            "type": "scatterpolargl"
           }
          ],
          "scatterternary": [
           {
            "marker": {
             "colorbar": {
              "outlinewidth": 0,
              "ticks": ""
             }
            },
            "type": "scatterternary"
           }
          ],
          "surface": [
           {
            "colorbar": {
             "outlinewidth": 0,
             "ticks": ""
            },
            "colorscale": [
             [
              0,
              "#0d0887"
             ],
             [
              0.1111111111111111,
              "#46039f"
             ],
             [
              0.2222222222222222,
              "#7201a8"
             ],
             [
              0.3333333333333333,
              "#9c179e"
             ],
             [
              0.4444444444444444,
              "#bd3786"
             ],
             [
              0.5555555555555556,
              "#d8576b"
             ],
             [
              0.6666666666666666,
              "#ed7953"
             ],
             [
              0.7777777777777778,
              "#fb9f3a"
             ],
             [
              0.8888888888888888,
              "#fdca26"
             ],
             [
              1,
              "#f0f921"
             ]
            ],
            "type": "surface"
           }
          ],
          "table": [
           {
            "cells": {
             "fill": {
              "color": "#EBF0F8"
             },
             "line": {
              "color": "white"
             }
            },
            "header": {
             "fill": {
              "color": "#C8D4E3"
             },
             "line": {
              "color": "white"
             }
            },
            "type": "table"
           }
          ]
         },
         "layout": {
          "annotationdefaults": {
           "arrowcolor": "#2a3f5f",
           "arrowhead": 0,
           "arrowwidth": 1
          },
          "autotypenumbers": "strict",
          "coloraxis": {
           "colorbar": {
            "outlinewidth": 0,
            "ticks": ""
           }
          },
          "colorscale": {
           "diverging": [
            [
             0,
             "#8e0152"
            ],
            [
             0.1,
             "#c51b7d"
            ],
            [
             0.2,
             "#de77ae"
            ],
            [
             0.3,
             "#f1b6da"
            ],
            [
             0.4,
             "#fde0ef"
            ],
            [
             0.5,
             "#f7f7f7"
            ],
            [
             0.6,
             "#e6f5d0"
            ],
            [
             0.7,
             "#b8e186"
            ],
            [
             0.8,
             "#7fbc41"
            ],
            [
             0.9,
             "#4d9221"
            ],
            [
             1,
             "#276419"
            ]
           ],
           "sequential": [
            [
             0,
             "#0d0887"
            ],
            [
             0.1111111111111111,
             "#46039f"
            ],
            [
             0.2222222222222222,
             "#7201a8"
            ],
            [
             0.3333333333333333,
             "#9c179e"
            ],
            [
             0.4444444444444444,
             "#bd3786"
            ],
            [
             0.5555555555555556,
             "#d8576b"
            ],
            [
             0.6666666666666666,
             "#ed7953"
            ],
            [
             0.7777777777777778,
             "#fb9f3a"
            ],
            [
             0.8888888888888888,
             "#fdca26"
            ],
            [
             1,
             "#f0f921"
            ]
           ],
           "sequentialminus": [
            [
             0,
             "#0d0887"
            ],
            [
             0.1111111111111111,
             "#46039f"
            ],
            [
             0.2222222222222222,
             "#7201a8"
            ],
            [
             0.3333333333333333,
             "#9c179e"
            ],
            [
             0.4444444444444444,
             "#bd3786"
            ],
            [
             0.5555555555555556,
             "#d8576b"
            ],
            [
             0.6666666666666666,
             "#ed7953"
            ],
            [
             0.7777777777777778,
             "#fb9f3a"
            ],
            [
             0.8888888888888888,
             "#fdca26"
            ],
            [
             1,
             "#f0f921"
            ]
           ]
          },
          "colorway": [
           "#636efa",
           "#EF553B",
           "#00cc96",
           "#ab63fa",
           "#FFA15A",
           "#19d3f3",
           "#FF6692",
           "#B6E880",
           "#FF97FF",
           "#FECB52"
          ],
          "font": {
           "color": "#2a3f5f"
          },
          "geo": {
           "bgcolor": "white",
           "lakecolor": "white",
           "landcolor": "#E5ECF6",
           "showlakes": true,
           "showland": true,
           "subunitcolor": "white"
          },
          "hoverlabel": {
           "align": "left"
          },
          "hovermode": "closest",
          "mapbox": {
           "style": "light"
          },
          "paper_bgcolor": "white",
          "plot_bgcolor": "#E5ECF6",
          "polar": {
           "angularaxis": {
            "gridcolor": "white",
            "linecolor": "white",
            "ticks": ""
           },
           "bgcolor": "#E5ECF6",
           "radialaxis": {
            "gridcolor": "white",
            "linecolor": "white",
            "ticks": ""
           }
          },
          "scene": {
           "xaxis": {
            "backgroundcolor": "#E5ECF6",
            "gridcolor": "white",
            "gridwidth": 2,
            "linecolor": "white",
            "showbackground": true,
            "ticks": "",
            "zerolinecolor": "white"
           },
           "yaxis": {
            "backgroundcolor": "#E5ECF6",
            "gridcolor": "white",
            "gridwidth": 2,
            "linecolor": "white",
            "showbackground": true,
            "ticks": "",
            "zerolinecolor": "white"
           },
           "zaxis": {
            "backgroundcolor": "#E5ECF6",
            "gridcolor": "white",
            "gridwidth": 2,
            "linecolor": "white",
            "showbackground": true,
            "ticks": "",
            "zerolinecolor": "white"
           }
          },
          "shapedefaults": {
           "line": {
            "color": "#2a3f5f"
           }
          },
          "ternary": {
           "aaxis": {
            "gridcolor": "white",
            "linecolor": "white",
            "ticks": ""
           },
           "baxis": {
            "gridcolor": "white",
            "linecolor": "white",
            "ticks": ""
           },
           "bgcolor": "#E5ECF6",
           "caxis": {
            "gridcolor": "white",
            "linecolor": "white",
            "ticks": ""
           }
          },
          "title": {
           "x": 0.05
          },
          "xaxis": {
           "automargin": true,
           "gridcolor": "white",
           "linecolor": "white",
           "ticks": "",
           "title": {
            "standoff": 15
           },
           "zerolinecolor": "white",
           "zerolinewidth": 2
          },
          "yaxis": {
           "automargin": true,
           "gridcolor": "white",
           "linecolor": "white",
           "ticks": "",
           "title": {
            "standoff": 15
           },
           "zerolinecolor": "white",
           "zerolinewidth": 2
          }
         }
        },
        "title": {
         "text": "Ai Collaboration by each Country"
        }
       }
      }
     },
     "metadata": {},
     "output_type": "display_data"
    }
   ],
   "source": [
    "fig = px.treemap(Avg_Successful_Collabration_by_Country, path=['Country'], values='Human-AI Collaboration Rate (%)', title='Ai Collaboration by each Country')\n",
    "fig.show()\n"
   ]
  },
  {
   "cell_type": "code",
   "execution_count": 120,
   "id": "27b30b77",
   "metadata": {},
   "outputs": [],
   "source": [
    "# Avg Human Ai Colllabration By each Industry\n",
    "Avg_Successful_Collabration_by_Industry=df.groupby(['Industry'])['Human-AI Collaboration Rate (%)'].mean().reset_index()\n",
    "Avg_Successful_Collabration_by_Industry_sorted=Avg_Successful_Collabration_by_Industry.sort_values(ascending=False,by=['Human-AI Collaboration Rate (%)'])"
   ]
  },
  {
   "cell_type": "code",
   "execution_count": 121,
   "id": "2f419b2d",
   "metadata": {},
   "outputs": [
    {
     "data": {
      "image/png": "[encoded data removed]",
      "text/plain": [
       "<Figure size 1000x600 with 1 Axes>"
      ]
     },
     "metadata": {},
     "output_type": "display_data"
    }
   ],
   "source": [
    "plt.figure(figsize=(10,6))\n",
    "plt.barh(Avg_Successful_Collabration_by_Industry_sorted['Industry'], Avg_Successful_Collabration_by_Industry_sorted['Human-AI Collaboration Rate (%)'], color='blue')\n",
    "\n",
    "plt.title('Human-AI Collaboration Rate by Industry', fontsize=14)\n",
    "plt.xlabel('Average Collaboration Rate (%)', fontsize=12)\n",
    "plt.ylabel('Industry', fontsize=12)\n",
    "\n",
    "plt.show()\n"
   ]
  },
  {
   "cell_type": "code",
   "execution_count": 135,
   "id": "7b2d4fb8",
   "metadata": {},
   "outputs": [
    {
     "data": {
      "text/html": [
       "<div>\n",
       "<style scoped>\n",
       "    .dataframe tbody tr th:only-of-type {\n",
       "        vertical-align: middle;\n",
       "    }\n",
       "\n",
       "    .dataframe tbody tr th {\n",
       "        vertical-align: top;\n",
       "    }\n",
       "\n",
       "    .dataframe thead th {\n",
       "        text-align: right;\n",
       "    }\n",
       "</style>\n",
       "<table border=\"1\" class=\"dataframe\">\n",
       "  <thead>\n",
       "    <tr style=\"text-align: right;\">\n",
       "      <th></th>\n",
       "      <th>Top AI Tools Used</th>\n",
       "      <th>Job Loss Due to AI (%)</th>\n",
       "    </tr>\n",
       "  </thead>\n",
       "  <tbody>\n",
       "    <tr>\n",
       "      <th>6</th>\n",
       "      <td>Synthesia</td>\n",
       "      <td>30.257917</td>\n",
       "    </tr>\n",
       "    <tr>\n",
       "      <th>0</th>\n",
       "      <td>Bard</td>\n",
       "      <td>27.210000</td>\n",
       "    </tr>\n",
       "    <tr>\n",
       "      <th>4</th>\n",
       "      <td>Midjourney</td>\n",
       "      <td>26.855135</td>\n",
       "    </tr>\n",
       "    <tr>\n",
       "      <th>3</th>\n",
       "      <td>DALL-E</td>\n",
       "      <td>26.183077</td>\n",
       "    </tr>\n",
       "    <tr>\n",
       "      <th>5</th>\n",
       "      <td>Stable Diffusion</td>\n",
       "      <td>25.971111</td>\n",
       "    </tr>\n",
       "    <tr>\n",
       "      <th>2</th>\n",
       "      <td>Claude</td>\n",
       "      <td>23.022581</td>\n",
       "    </tr>\n",
       "    <tr>\n",
       "      <th>1</th>\n",
       "      <td>ChatGPT</td>\n",
       "      <td>22.229032</td>\n",
       "    </tr>\n",
       "  </tbody>\n",
       "</table>\n",
       "</div>"
      ],
      "text/plain": [
       "  Top AI Tools Used  Job Loss Due to AI (%)\n",
       "6         Synthesia               30.257917\n",
       "0              Bard               27.210000\n",
       "4        Midjourney               26.855135\n",
       "3            DALL-E               26.183077\n",
       "5  Stable Diffusion               25.971111\n",
       "2            Claude               23.022581\n",
       "1           ChatGPT               22.229032"
      ]
     },
     "execution_count": 135,
     "metadata": {},
     "output_type": "execute_result"
    }
   ],
   "source": [
    "# Average Job loss By Each AI\n",
    "Avg_job_lost_by_each_Ai=df.groupby(['Top AI Tools Used'])['Job Loss Due to AI (%)'].mean().reset_index()\n",
    "Avg_job_lost_by_each_Ai.sort_values(ascending=False,by=['Job Loss Due to AI (%)'])"
   ]
  },
  {
   "cell_type": "code",
   "execution_count": 137,
   "id": "0a2ac02b",
   "metadata": {},
   "outputs": [
    {
     "data": {
      "image/png": "[encoded data removed]",
      "text/plain": [
       "<Figure size 400x400 with 1 Axes>"
      ]
     },
     "metadata": {},
     "output_type": "display_data"
    }
   ],
   "source": [
    "plt.figure(figsize=(4, 4))\n",
    "plt.pie(Avg_job_lost_by_each_Ai['Job Loss Due to AI (%)'], \n",
    "        labels=Avg_job_lost_by_each_Ai['Top AI Tools Used'], \n",
    "        autopct='%1.1f%%', \n",
    "        startangle=140, \n",
    "        colors=['#ff9999','#66b3ff','#99ff99','#ffcc99','#c2c2f0'])\n",
    "\n",
    "# Add a title\n",
    "plt.title('Average Job Loss By AI Tools')\n",
    "\n",
    "# Show the pie chart\n",
    "plt.show()\n"
   ]
  },
  {
   "cell_type": "code",
   "execution_count": 102,
   "id": "2c808f32",
   "metadata": {},
   "outputs": [
    {
     "data": {
      "text/html": [
       "<div>\n",
       "<style scoped>\n",
       "    .dataframe tbody tr th:only-of-type {\n",
       "        vertical-align: middle;\n",
       "    }\n",
       "\n",
       "    .dataframe tbody tr th {\n",
       "        vertical-align: top;\n",
       "    }\n",
       "\n",
       "    .dataframe thead th {\n",
       "        text-align: right;\n",
       "    }\n",
       "</style>\n",
       "<table border=\"1\" class=\"dataframe\">\n",
       "  <thead>\n",
       "    <tr style=\"text-align: right;\">\n",
       "      <th></th>\n",
       "      <th>Top AI Tools Used</th>\n",
       "      <th>Revenue Increase Due to AI (%)</th>\n",
       "    </tr>\n",
       "  </thead>\n",
       "  <tbody>\n",
       "    <tr>\n",
       "      <th>0</th>\n",
       "      <td>Bard</td>\n",
       "      <td>38.128750</td>\n",
       "    </tr>\n",
       "    <tr>\n",
       "      <th>1</th>\n",
       "      <td>ChatGPT</td>\n",
       "      <td>42.224516</td>\n",
       "    </tr>\n",
       "    <tr>\n",
       "      <th>2</th>\n",
       "      <td>Claude</td>\n",
       "      <td>37.210968</td>\n",
       "    </tr>\n",
       "    <tr>\n",
       "      <th>3</th>\n",
       "      <td>DALL-E</td>\n",
       "      <td>39.195385</td>\n",
       "    </tr>\n",
       "    <tr>\n",
       "      <th>4</th>\n",
       "      <td>Midjourney</td>\n",
       "      <td>36.737568</td>\n",
       "    </tr>\n",
       "    <tr>\n",
       "      <th>5</th>\n",
       "      <td>Stable Diffusion</td>\n",
       "      <td>41.414074</td>\n",
       "    </tr>\n",
       "    <tr>\n",
       "      <th>6</th>\n",
       "      <td>Synthesia</td>\n",
       "      <td>44.572917</td>\n",
       "    </tr>\n",
       "  </tbody>\n",
       "</table>\n",
       "</div>"
      ],
      "text/plain": [
       "  Top AI Tools Used  Revenue Increase Due to AI (%)\n",
       "0              Bard                       38.128750\n",
       "1           ChatGPT                       42.224516\n",
       "2            Claude                       37.210968\n",
       "3            DALL-E                       39.195385\n",
       "4        Midjourney                       36.737568\n",
       "5  Stable Diffusion                       41.414074\n",
       "6         Synthesia                       44.572917"
      ]
     },
     "execution_count": 102,
     "metadata": {},
     "output_type": "execute_result"
    }
   ],
   "source": [
    "# Revenue Increaed By Each AI \n",
    "Revenu_Increased_by_each_Ai=df.groupby(['Top AI Tools Used'])['Revenue Increase Due to AI (%)'].mean().reset_index()\n",
    "Revenu_Increased_by_each_Ai"
   ]
  },
  {
   "cell_type": "code",
   "execution_count": 139,
   "id": "cf789042",
   "metadata": {},
   "outputs": [
    {
     "data": {
      "image/png": "[encoded data removed]",
      "text/plain": [
       "<Figure size 1000x600 with 1 Axes>"
      ]
     },
     "metadata": {},
     "output_type": "display_data"
    }
   ],
   "source": [
    "plt.figure(figsize=(10,6))\n",
    "plt.barh(Revenu_Increased_by_each_Ai['Top AI Tools Used'], Revenu_Increased_by_each_Ai['Revenue Increase Due to AI (%)'], color='blue')\n",
    "\n",
    "plt.title('Average Revenu Increased By AI', fontsize=14)\n",
    "plt.xlabel('Average Revenue Increase Due to AI (%)', fontsize=12)\n",
    "plt.ylabel('AI Tools', fontsize=12)\n",
    "\n",
    "plt.show()\n"
   ]
  },
  {
   "cell_type": "code",
   "execution_count": 101,
   "id": "102c23da",
   "metadata": {},
   "outputs": [
    {
     "data": {
      "text/html": [
       "<div>\n",
       "<style scoped>\n",
       "    .dataframe tbody tr th:only-of-type {\n",
       "        vertical-align: middle;\n",
       "    }\n",
       "\n",
       "    .dataframe tbody tr th {\n",
       "        vertical-align: top;\n",
       "    }\n",
       "\n",
       "    .dataframe thead th {\n",
       "        text-align: right;\n",
       "    }\n",
       "</style>\n",
       "<table border=\"1\" class=\"dataframe\">\n",
       "  <thead>\n",
       "    <tr style=\"text-align: right;\">\n",
       "      <th></th>\n",
       "      <th>Industry</th>\n",
       "      <th>Top AI Tools Used</th>\n",
       "      <th>Market Share of AI Companies (%)</th>\n",
       "    </tr>\n",
       "  </thead>\n",
       "  <tbody>\n",
       "    <tr>\n",
       "      <th>7</th>\n",
       "      <td>Gaming</td>\n",
       "      <td>Claude</td>\n",
       "      <td>47.080000</td>\n",
       "    </tr>\n",
       "    <tr>\n",
       "      <th>1</th>\n",
       "      <td>Education</td>\n",
       "      <td>Bard</td>\n",
       "      <td>46.630000</td>\n",
       "    </tr>\n",
       "    <tr>\n",
       "      <th>22</th>\n",
       "      <td>Marketing</td>\n",
       "      <td>Synthesia</td>\n",
       "      <td>45.040000</td>\n",
       "    </tr>\n",
       "    <tr>\n",
       "      <th>11</th>\n",
       "      <td>Healthcare</td>\n",
       "      <td>Claude</td>\n",
       "      <td>42.290000</td>\n",
       "    </tr>\n",
       "    <tr>\n",
       "      <th>21</th>\n",
       "      <td>Marketing</td>\n",
       "      <td>Stable Diffusion</td>\n",
       "      <td>41.990000</td>\n",
       "    </tr>\n",
       "    <tr>\n",
       "      <th>12</th>\n",
       "      <td>Healthcare</td>\n",
       "      <td>Midjourney</td>\n",
       "      <td>40.980000</td>\n",
       "    </tr>\n",
       "    <tr>\n",
       "      <th>13</th>\n",
       "      <td>Healthcare</td>\n",
       "      <td>Stable Diffusion</td>\n",
       "      <td>39.970000</td>\n",
       "    </tr>\n",
       "    <tr>\n",
       "      <th>26</th>\n",
       "      <td>Retail</td>\n",
       "      <td>Midjourney</td>\n",
       "      <td>37.315000</td>\n",
       "    </tr>\n",
       "    <tr>\n",
       "      <th>27</th>\n",
       "      <td>Retail</td>\n",
       "      <td>Stable Diffusion</td>\n",
       "      <td>36.236667</td>\n",
       "    </tr>\n",
       "    <tr>\n",
       "      <th>16</th>\n",
       "      <td>Legal</td>\n",
       "      <td>DALL-E</td>\n",
       "      <td>31.623333</td>\n",
       "    </tr>\n",
       "    <tr>\n",
       "      <th>5</th>\n",
       "      <td>Gaming</td>\n",
       "      <td>Bard</td>\n",
       "      <td>25.875000</td>\n",
       "    </tr>\n",
       "    <tr>\n",
       "      <th>25</th>\n",
       "      <td>Retail</td>\n",
       "      <td>DALL-E</td>\n",
       "      <td>24.415000</td>\n",
       "    </tr>\n",
       "    <tr>\n",
       "      <th>2</th>\n",
       "      <td>Education</td>\n",
       "      <td>Claude</td>\n",
       "      <td>22.700000</td>\n",
       "    </tr>\n",
       "    <tr>\n",
       "      <th>14</th>\n",
       "      <td>Healthcare</td>\n",
       "      <td>Synthesia</td>\n",
       "      <td>21.520000</td>\n",
       "    </tr>\n",
       "    <tr>\n",
       "      <th>4</th>\n",
       "      <td>Finance</td>\n",
       "      <td>Stable Diffusion</td>\n",
       "      <td>20.930000</td>\n",
       "    </tr>\n",
       "    <tr>\n",
       "      <th>19</th>\n",
       "      <td>Manufacturing</td>\n",
       "      <td>Synthesia</td>\n",
       "      <td>20.540000</td>\n",
       "    </tr>\n",
       "    <tr>\n",
       "      <th>18</th>\n",
       "      <td>Manufacturing</td>\n",
       "      <td>Stable Diffusion</td>\n",
       "      <td>20.540000</td>\n",
       "    </tr>\n",
       "    <tr>\n",
       "      <th>3</th>\n",
       "      <td>Education</td>\n",
       "      <td>Synthesia</td>\n",
       "      <td>20.080000</td>\n",
       "    </tr>\n",
       "    <tr>\n",
       "      <th>8</th>\n",
       "      <td>Gaming</td>\n",
       "      <td>Midjourney</td>\n",
       "      <td>19.525000</td>\n",
       "    </tr>\n",
       "    <tr>\n",
       "      <th>17</th>\n",
       "      <td>Legal</td>\n",
       "      <td>Synthesia</td>\n",
       "      <td>17.820000</td>\n",
       "    </tr>\n",
       "    <tr>\n",
       "      <th>10</th>\n",
       "      <td>Gaming</td>\n",
       "      <td>Synthesia</td>\n",
       "      <td>16.400000</td>\n",
       "    </tr>\n",
       "    <tr>\n",
       "      <th>24</th>\n",
       "      <td>Retail</td>\n",
       "      <td>Claude</td>\n",
       "      <td>14.285000</td>\n",
       "    </tr>\n",
       "    <tr>\n",
       "      <th>23</th>\n",
       "      <td>Media</td>\n",
       "      <td>DALL-E</td>\n",
       "      <td>12.415000</td>\n",
       "    </tr>\n",
       "    <tr>\n",
       "      <th>6</th>\n",
       "      <td>Gaming</td>\n",
       "      <td>ChatGPT</td>\n",
       "      <td>11.610000</td>\n",
       "    </tr>\n",
       "    <tr>\n",
       "      <th>20</th>\n",
       "      <td>Marketing</td>\n",
       "      <td>Bard</td>\n",
       "      <td>10.510000</td>\n",
       "    </tr>\n",
       "    <tr>\n",
       "      <th>0</th>\n",
       "      <td>Automotive</td>\n",
       "      <td>Midjourney</td>\n",
       "      <td>9.470000</td>\n",
       "    </tr>\n",
       "    <tr>\n",
       "      <th>9</th>\n",
       "      <td>Gaming</td>\n",
       "      <td>Stable Diffusion</td>\n",
       "      <td>5.760000</td>\n",
       "    </tr>\n",
       "    <tr>\n",
       "      <th>15</th>\n",
       "      <td>Legal</td>\n",
       "      <td>Bard</td>\n",
       "      <td>4.090000</td>\n",
       "    </tr>\n",
       "  </tbody>\n",
       "</table>\n",
       "</div>"
      ],
      "text/plain": [
       "         Industry Top AI Tools Used  Market Share of AI Companies (%)\n",
       "7          Gaming            Claude                         47.080000\n",
       "1       Education              Bard                         46.630000\n",
       "22      Marketing         Synthesia                         45.040000\n",
       "11     Healthcare            Claude                         42.290000\n",
       "21      Marketing  Stable Diffusion                         41.990000\n",
       "12     Healthcare        Midjourney                         40.980000\n",
       "13     Healthcare  Stable Diffusion                         39.970000\n",
       "26         Retail        Midjourney                         37.315000\n",
       "27         Retail  Stable Diffusion                         36.236667\n",
       "16          Legal            DALL-E                         31.623333\n",
       "5          Gaming              Bard                         25.875000\n",
       "25         Retail            DALL-E                         24.415000\n",
       "2       Education            Claude                         22.700000\n",
       "14     Healthcare         Synthesia                         21.520000\n",
       "4         Finance  Stable Diffusion                         20.930000\n",
       "19  Manufacturing         Synthesia                         20.540000\n",
       "18  Manufacturing  Stable Diffusion                         20.540000\n",
       "3       Education         Synthesia                         20.080000\n",
       "8          Gaming        Midjourney                         19.525000\n",
       "17          Legal         Synthesia                         17.820000\n",
       "10         Gaming         Synthesia                         16.400000\n",
       "24         Retail            Claude                         14.285000\n",
       "23          Media            DALL-E                         12.415000\n",
       "6          Gaming           ChatGPT                         11.610000\n",
       "20      Marketing              Bard                         10.510000\n",
       "0      Automotive        Midjourney                          9.470000\n",
       "9          Gaming  Stable Diffusion                          5.760000\n",
       "15          Legal              Bard                          4.090000"
      ]
     },
     "execution_count": 101,
     "metadata": {},
     "output_type": "execute_result"
    }
   ],
   "source": [
    "# Average Revenue Increased by Ai in Each Industry\n",
    "AvgRevenueIncreasedByEachIndustry1=df[df['Year']==2025].groupby(['Industry','Top AI Tools Used'])['Market Share of AI Companies (%)'].mean().reset_index()\n",
    "AvgRevenueIncreasedByEachIndustry1.sort_values(ascending=False,by=['Market Share of AI Companies (%)'])"
   ]
  },
  {
   "cell_type": "code",
   "execution_count": 95,
   "id": "0a292d07",
   "metadata": {},
   "outputs": [
    {
     "data": {
      "text/html": [
       "<div>\n",
       "<style scoped>\n",
       "    .dataframe tbody tr th:only-of-type {\n",
       "        vertical-align: middle;\n",
       "    }\n",
       "\n",
       "    .dataframe tbody tr th {\n",
       "        vertical-align: top;\n",
       "    }\n",
       "\n",
       "    .dataframe thead th {\n",
       "        text-align: right;\n",
       "    }\n",
       "</style>\n",
       "<table border=\"1\" class=\"dataframe\">\n",
       "  <thead>\n",
       "    <tr style=\"text-align: right;\">\n",
       "      <th></th>\n",
       "      <th>Industry</th>\n",
       "      <th>Revenue Increase Due to AI (%)</th>\n",
       "    </tr>\n",
       "  </thead>\n",
       "  <tbody>\n",
       "    <tr>\n",
       "      <th>0</th>\n",
       "      <td>Automotive</td>\n",
       "      <td>46.482632</td>\n",
       "    </tr>\n",
       "    <tr>\n",
       "      <th>8</th>\n",
       "      <td>Media</td>\n",
       "      <td>43.719677</td>\n",
       "    </tr>\n",
       "    <tr>\n",
       "      <th>6</th>\n",
       "      <td>Manufacturing</td>\n",
       "      <td>42.807222</td>\n",
       "    </tr>\n",
       "    <tr>\n",
       "      <th>5</th>\n",
       "      <td>Legal</td>\n",
       "      <td>41.824118</td>\n",
       "    </tr>\n",
       "    <tr>\n",
       "      <th>1</th>\n",
       "      <td>Education</td>\n",
       "      <td>39.543529</td>\n",
       "    </tr>\n",
       "    <tr>\n",
       "      <th>4</th>\n",
       "      <td>Healthcare</td>\n",
       "      <td>38.586471</td>\n",
       "    </tr>\n",
       "    <tr>\n",
       "      <th>9</th>\n",
       "      <td>Retail</td>\n",
       "      <td>37.679524</td>\n",
       "    </tr>\n",
       "    <tr>\n",
       "      <th>7</th>\n",
       "      <td>Marketing</td>\n",
       "      <td>36.813684</td>\n",
       "    </tr>\n",
       "    <tr>\n",
       "      <th>2</th>\n",
       "      <td>Finance</td>\n",
       "      <td>36.257143</td>\n",
       "    </tr>\n",
       "    <tr>\n",
       "      <th>3</th>\n",
       "      <td>Gaming</td>\n",
       "      <td>33.234444</td>\n",
       "    </tr>\n",
       "  </tbody>\n",
       "</table>\n",
       "</div>"
      ],
      "text/plain": [
       "        Industry  Revenue Increase Due to AI (%)\n",
       "0     Automotive                       46.482632\n",
       "8          Media                       43.719677\n",
       "6  Manufacturing                       42.807222\n",
       "5          Legal                       41.824118\n",
       "1      Education                       39.543529\n",
       "4     Healthcare                       38.586471\n",
       "9         Retail                       37.679524\n",
       "7      Marketing                       36.813684\n",
       "2        Finance                       36.257143\n",
       "3         Gaming                       33.234444"
      ]
     },
     "execution_count": 95,
     "metadata": {},
     "output_type": "execute_result"
    }
   ],
   "source": [
    "# Average Revenue Increased by Ai in Each Industry\n",
    "AvgRevenueIncreasedByEachIndustry=df.groupby(['Industry'])['Revenue Increase Due to AI (%)'].mean().reset_index()\n",
    "AvgRevenueIncreasedByEachIndustry.sort_values(ascending=False,by=['Revenue Increase Due to AI (%)'])"
   ]
  },
  {
   "cell_type": "code",
   "execution_count": null,
   "id": "c0613ead",
   "metadata": {},
   "outputs": [
    {
     "data": {
      "text/html": [
       "<div>\n",
       "<style scoped>\n",
       "    .dataframe tbody tr th:only-of-type {\n",
       "        vertical-align: middle;\n",
       "    }\n",
       "\n",
       "    .dataframe tbody tr th {\n",
       "        vertical-align: top;\n",
       "    }\n",
       "\n",
       "    .dataframe thead th {\n",
       "        text-align: right;\n",
       "    }\n",
       "</style>\n",
       "<table border=\"1\" class=\"dataframe\">\n",
       "  <thead>\n",
       "    <tr style=\"text-align: right;\">\n",
       "      <th></th>\n",
       "      <th>Industry</th>\n",
       "      <th>Job Loss Due to AI (%)</th>\n",
       "    </tr>\n",
       "  </thead>\n",
       "  <tbody>\n",
       "    <tr>\n",
       "      <th>0</th>\n",
       "      <td>Automotive</td>\n",
       "      <td>28.916842</td>\n",
       "    </tr>\n",
       "    <tr>\n",
       "      <th>1</th>\n",
       "      <td>Education</td>\n",
       "      <td>26.142353</td>\n",
       "    </tr>\n",
       "    <tr>\n",
       "      <th>2</th>\n",
       "      <td>Finance</td>\n",
       "      <td>27.790000</td>\n",
       "    </tr>\n",
       "    <tr>\n",
       "      <th>3</th>\n",
       "      <td>Gaming</td>\n",
       "      <td>27.204074</td>\n",
       "    </tr>\n",
       "    <tr>\n",
       "      <th>4</th>\n",
       "      <td>Healthcare</td>\n",
       "      <td>25.579412</td>\n",
       "    </tr>\n",
       "    <tr>\n",
       "      <th>5</th>\n",
       "      <td>Legal</td>\n",
       "      <td>28.234118</td>\n",
       "    </tr>\n",
       "    <tr>\n",
       "      <th>6</th>\n",
       "      <td>Manufacturing</td>\n",
       "      <td>32.746111</td>\n",
       "    </tr>\n",
       "    <tr>\n",
       "      <th>7</th>\n",
       "      <td>Marketing</td>\n",
       "      <td>19.577895</td>\n",
       "    </tr>\n",
       "    <tr>\n",
       "      <th>8</th>\n",
       "      <td>Media</td>\n",
       "      <td>22.749032</td>\n",
       "    </tr>\n",
       "    <tr>\n",
       "      <th>9</th>\n",
       "      <td>Retail</td>\n",
       "      <td>21.846667</td>\n",
       "    </tr>\n",
       "  </tbody>\n",
       "</table>\n",
       "</div>"
      ],
      "text/plain": [
       "        Industry  Job Loss Due to AI (%)\n",
       "0     Automotive               28.916842\n",
       "1      Education               26.142353\n",
       "2        Finance               27.790000\n",
       "3         Gaming               27.204074\n",
       "4     Healthcare               25.579412\n",
       "5          Legal               28.234118\n",
       "6  Manufacturing               32.746111\n",
       "7      Marketing               19.577895\n",
       "8          Media               22.749032\n",
       "9         Retail               21.846667"
      ]
     },
     "execution_count": 88,
     "metadata": {},
     "output_type": "execute_result"
    }
   ],
   "source": [
    "# Average Job Loss by each Industry\n",
    "AvgJobLossByEachIndustry=df.groupby(['Industry'])['Job Loss Due to AI (%)'].mean().reset_index()\n",
    "AvgJobLossByEachIndustry"
   ]
  },
  {
   "cell_type": "code",
   "execution_count": 87,
   "id": "3dca44bd",
   "metadata": {},
   "outputs": [
    {
     "data": {
      "text/html": [
       "<div>\n",
       "<style scoped>\n",
       "    .dataframe tbody tr th:only-of-type {\n",
       "        vertical-align: middle;\n",
       "    }\n",
       "\n",
       "    .dataframe tbody tr th {\n",
       "        vertical-align: top;\n",
       "    }\n",
       "\n",
       "    .dataframe thead th {\n",
       "        text-align: right;\n",
       "    }\n",
       "</style>\n",
       "<table border=\"1\" class=\"dataframe\">\n",
       "  <thead>\n",
       "    <tr style=\"text-align: right;\">\n",
       "      <th></th>\n",
       "      <th>Industry</th>\n",
       "      <th>AI Volume(TBs)</th>\n",
       "    </tr>\n",
       "  </thead>\n",
       "  <tbody>\n",
       "    <tr>\n",
       "      <th>0</th>\n",
       "      <td>Automotive</td>\n",
       "      <td>820.03</td>\n",
       "    </tr>\n",
       "    <tr>\n",
       "      <th>1</th>\n",
       "      <td>Education</td>\n",
       "      <td>1033.99</td>\n",
       "    </tr>\n",
       "    <tr>\n",
       "      <th>2</th>\n",
       "      <td>Finance</td>\n",
       "      <td>525.63</td>\n",
       "    </tr>\n",
       "    <tr>\n",
       "      <th>3</th>\n",
       "      <td>Gaming</td>\n",
       "      <td>1200.70</td>\n",
       "    </tr>\n",
       "    <tr>\n",
       "      <th>4</th>\n",
       "      <td>Healthcare</td>\n",
       "      <td>798.52</td>\n",
       "    </tr>\n",
       "    <tr>\n",
       "      <th>5</th>\n",
       "      <td>Legal</td>\n",
       "      <td>1018.35</td>\n",
       "    </tr>\n",
       "    <tr>\n",
       "      <th>6</th>\n",
       "      <td>Manufacturing</td>\n",
       "      <td>896.57</td>\n",
       "    </tr>\n",
       "    <tr>\n",
       "      <th>7</th>\n",
       "      <td>Marketing</td>\n",
       "      <td>706.75</td>\n",
       "    </tr>\n",
       "    <tr>\n",
       "      <th>8</th>\n",
       "      <td>Media</td>\n",
       "      <td>1183.40</td>\n",
       "    </tr>\n",
       "    <tr>\n",
       "      <th>9</th>\n",
       "      <td>Retail</td>\n",
       "      <td>1030.58</td>\n",
       "    </tr>\n",
       "  </tbody>\n",
       "</table>\n",
       "</div>"
      ],
      "text/plain": [
       "        Industry  AI Volume(TBs)\n",
       "0     Automotive          820.03\n",
       "1      Education         1033.99\n",
       "2        Finance          525.63\n",
       "3         Gaming         1200.70\n",
       "4     Healthcare          798.52\n",
       "5          Legal         1018.35\n",
       "6  Manufacturing          896.57\n",
       "7      Marketing          706.75\n",
       "8          Media         1183.40\n",
       "9         Retail         1030.58"
      ]
     },
     "execution_count": 87,
     "metadata": {},
     "output_type": "execute_result"
    }
   ],
   "source": [
    "# Data Genearated b each Department\n",
    "TotalDataGeneratedByEachIndustry=df.groupby(['Industry'])['AI-Generated Content Volume (TBs per year)'].sum().reset_index()\n",
    "TotalDataGeneratedByEachIndustry_renamed=TotalDataGeneratedByEachIndustry.rename(columns={'AI-Generated Content Volume (TBs per year)':'AI Volume(TBs)'})\n",
    "TotalDataGeneratedByEachIndustry_renamed"
   ]
  },
  {
   "cell_type": "code",
   "execution_count": 84,
   "id": "e5c207ef",
   "metadata": {},
   "outputs": [
    {
     "data": {
      "text/html": [
       "<div>\n",
       "<style scoped>\n",
       "    .dataframe tbody tr th:only-of-type {\n",
       "        vertical-align: middle;\n",
       "    }\n",
       "\n",
       "    .dataframe tbody tr th {\n",
       "        vertical-align: top;\n",
       "    }\n",
       "\n",
       "    .dataframe thead th {\n",
       "        text-align: right;\n",
       "    }\n",
       "</style>\n",
       "<table border=\"1\" class=\"dataframe\">\n",
       "  <thead>\n",
       "    <tr style=\"text-align: right;\">\n",
       "      <th></th>\n",
       "      <th>Industry</th>\n",
       "      <th>AI Adoption Rate (%)</th>\n",
       "    </tr>\n",
       "  </thead>\n",
       "  <tbody>\n",
       "    <tr>\n",
       "      <th>0</th>\n",
       "      <td>Automotive</td>\n",
       "      <td>54.887895</td>\n",
       "    </tr>\n",
       "    <tr>\n",
       "      <th>1</th>\n",
       "      <td>Education</td>\n",
       "      <td>57.028235</td>\n",
       "    </tr>\n",
       "    <tr>\n",
       "      <th>2</th>\n",
       "      <td>Finance</td>\n",
       "      <td>55.764286</td>\n",
       "    </tr>\n",
       "    <tr>\n",
       "      <th>3</th>\n",
       "      <td>Gaming</td>\n",
       "      <td>60.416296</td>\n",
       "    </tr>\n",
       "    <tr>\n",
       "      <th>4</th>\n",
       "      <td>Healthcare</td>\n",
       "      <td>55.734118</td>\n",
       "    </tr>\n",
       "    <tr>\n",
       "      <th>5</th>\n",
       "      <td>Legal</td>\n",
       "      <td>56.077647</td>\n",
       "    </tr>\n",
       "    <tr>\n",
       "      <th>6</th>\n",
       "      <td>Manufacturing</td>\n",
       "      <td>57.014444</td>\n",
       "    </tr>\n",
       "    <tr>\n",
       "      <th>7</th>\n",
       "      <td>Marketing</td>\n",
       "      <td>54.244211</td>\n",
       "    </tr>\n",
       "    <tr>\n",
       "      <th>8</th>\n",
       "      <td>Media</td>\n",
       "      <td>47.263226</td>\n",
       "    </tr>\n",
       "    <tr>\n",
       "      <th>9</th>\n",
       "      <td>Retail</td>\n",
       "      <td>47.905714</td>\n",
       "    </tr>\n",
       "  </tbody>\n",
       "</table>\n",
       "</div>"
      ],
      "text/plain": [
       "        Industry  AI Adoption Rate (%)\n",
       "0     Automotive             54.887895\n",
       "1      Education             57.028235\n",
       "2        Finance             55.764286\n",
       "3         Gaming             60.416296\n",
       "4     Healthcare             55.734118\n",
       "5          Legal             56.077647\n",
       "6  Manufacturing             57.014444\n",
       "7      Marketing             54.244211\n",
       "8          Media             47.263226\n",
       "9         Retail             47.905714"
      ]
     },
     "execution_count": 84,
     "metadata": {},
     "output_type": "execute_result"
    }
   ],
   "source": [
    "AvgAIAdoptionRateByIndustry=df.groupby(['Industry'])['AI Adoption Rate (%)'].mean().reset_index()\n",
    "AvgAIAdoptionRateByIndustry"
   ]
  },
  {
   "cell_type": "code",
   "execution_count": 82,
   "id": "7edf868e",
   "metadata": {},
   "outputs": [
    {
     "data": {
      "text/html": [
       "<div>\n",
       "<style scoped>\n",
       "    .dataframe tbody tr th:only-of-type {\n",
       "        vertical-align: middle;\n",
       "    }\n",
       "\n",
       "    .dataframe tbody tr th {\n",
       "        vertical-align: top;\n",
       "    }\n",
       "\n",
       "    .dataframe thead th {\n",
       "        text-align: right;\n",
       "    }\n",
       "</style>\n",
       "<table border=\"1\" class=\"dataframe\">\n",
       "  <thead>\n",
       "    <tr style=\"text-align: right;\">\n",
       "      <th></th>\n",
       "      <th>Top AI Tools Used</th>\n",
       "      <th>Country</th>\n",
       "      <th>Regulation Status</th>\n",
       "    </tr>\n",
       "  </thead>\n",
       "  <tbody>\n",
       "    <tr>\n",
       "      <th>27</th>\n",
       "      <td>DALL-E</td>\n",
       "      <td>Australia</td>\n",
       "      <td>3</td>\n",
       "    </tr>\n",
       "    <tr>\n",
       "      <th>17</th>\n",
       "      <td>Claude</td>\n",
       "      <td>Australia</td>\n",
       "      <td>6</td>\n",
       "    </tr>\n",
       "    <tr>\n",
       "      <th>46</th>\n",
       "      <td>Stable Diffusion</td>\n",
       "      <td>Australia</td>\n",
       "      <td>1</td>\n",
       "    </tr>\n",
       "    <tr>\n",
       "      <th>55</th>\n",
       "      <td>Synthesia</td>\n",
       "      <td>Australia</td>\n",
       "      <td>1</td>\n",
       "    </tr>\n",
       "    <tr>\n",
       "      <th>7</th>\n",
       "      <td>ChatGPT</td>\n",
       "      <td>Australia</td>\n",
       "      <td>4</td>\n",
       "    </tr>\n",
       "    <tr>\n",
       "      <th>...</th>\n",
       "      <td>...</td>\n",
       "      <td>...</td>\n",
       "      <td>...</td>\n",
       "    </tr>\n",
       "    <tr>\n",
       "      <th>26</th>\n",
       "      <td>Claude</td>\n",
       "      <td>USA</td>\n",
       "      <td>4</td>\n",
       "    </tr>\n",
       "    <tr>\n",
       "      <th>16</th>\n",
       "      <td>ChatGPT</td>\n",
       "      <td>USA</td>\n",
       "      <td>2</td>\n",
       "    </tr>\n",
       "    <tr>\n",
       "      <th>36</th>\n",
       "      <td>DALL-E</td>\n",
       "      <td>USA</td>\n",
       "      <td>1</td>\n",
       "    </tr>\n",
       "    <tr>\n",
       "      <th>6</th>\n",
       "      <td>Bard</td>\n",
       "      <td>USA</td>\n",
       "      <td>5</td>\n",
       "    </tr>\n",
       "    <tr>\n",
       "      <th>62</th>\n",
       "      <td>Synthesia</td>\n",
       "      <td>USA</td>\n",
       "      <td>3</td>\n",
       "    </tr>\n",
       "  </tbody>\n",
       "</table>\n",
       "<p>63 rows × 3 columns</p>\n",
       "</div>"
      ],
      "text/plain": [
       "   Top AI Tools Used    Country  Regulation Status\n",
       "27            DALL-E  Australia                  3\n",
       "17            Claude  Australia                  6\n",
       "46  Stable Diffusion  Australia                  1\n",
       "55         Synthesia  Australia                  1\n",
       "7            ChatGPT  Australia                  4\n",
       "..               ...        ...                ...\n",
       "26            Claude        USA                  4\n",
       "16           ChatGPT        USA                  2\n",
       "36            DALL-E        USA                  1\n",
       "6               Bard        USA                  5\n",
       "62         Synthesia        USA                  3\n",
       "\n",
       "[63 rows x 3 columns]"
      ]
     },
     "execution_count": 82,
     "metadata": {},
     "output_type": "execute_result"
    }
   ],
   "source": [
    "Ai_regulation_status=df.groupby(['Top AI Tools Used','Country'])['Regulation Status'].count().reset_index()\n",
    "\n",
    "Ai_regulation_status_s=Ai_regulation_status.sort_values(by=['Country'])\n",
    "Ai_regulation_status_s\n"
   ]
  },
  {
   "cell_type": "code",
   "execution_count": 71,
   "id": "30092b9e",
   "metadata": {},
   "outputs": [
    {
     "data": {
      "text/html": [
       "<div>\n",
       "<style scoped>\n",
       "    .dataframe tbody tr th:only-of-type {\n",
       "        vertical-align: middle;\n",
       "    }\n",
       "\n",
       "    .dataframe tbody tr th {\n",
       "        vertical-align: top;\n",
       "    }\n",
       "\n",
       "    .dataframe thead th {\n",
       "        text-align: right;\n",
       "    }\n",
       "</style>\n",
       "<table border=\"1\" class=\"dataframe\">\n",
       "  <thead>\n",
       "    <tr style=\"text-align: right;\">\n",
       "      <th></th>\n",
       "      <th>Top AI Tools Used</th>\n",
       "      <th>Average Consumer Trust in AI (%)</th>\n",
       "    </tr>\n",
       "  </thead>\n",
       "  <tbody>\n",
       "    <tr>\n",
       "      <th>0</th>\n",
       "      <td>Bard</td>\n",
       "      <td>64.315000</td>\n",
       "    </tr>\n",
       "    <tr>\n",
       "      <th>1</th>\n",
       "      <td>Midjourney</td>\n",
       "      <td>62.785405</td>\n",
       "    </tr>\n",
       "    <tr>\n",
       "      <th>2</th>\n",
       "      <td>Synthesia</td>\n",
       "      <td>60.563750</td>\n",
       "    </tr>\n",
       "    <tr>\n",
       "      <th>3</th>\n",
       "      <td>Claude</td>\n",
       "      <td>60.146774</td>\n",
       "    </tr>\n",
       "    <tr>\n",
       "      <th>4</th>\n",
       "      <td>ChatGPT</td>\n",
       "      <td>59.235161</td>\n",
       "    </tr>\n",
       "    <tr>\n",
       "      <th>5</th>\n",
       "      <td>DALL-E</td>\n",
       "      <td>55.689231</td>\n",
       "    </tr>\n",
       "    <tr>\n",
       "      <th>6</th>\n",
       "      <td>Stable Diffusion</td>\n",
       "      <td>52.448889</td>\n",
       "    </tr>\n",
       "  </tbody>\n",
       "</table>\n",
       "</div>"
      ],
      "text/plain": [
       "  Top AI Tools Used  Average Consumer Trust in AI (%)\n",
       "0              Bard                         64.315000\n",
       "1        Midjourney                         62.785405\n",
       "2         Synthesia                         60.563750\n",
       "3            Claude                         60.146774\n",
       "4           ChatGPT                         59.235161\n",
       "5            DALL-E                         55.689231\n",
       "6  Stable Diffusion                         52.448889"
      ]
     },
     "execution_count": 71,
     "metadata": {},
     "output_type": "execute_result"
    }
   ],
   "source": [
    "# Average Consumer Trust in AI by Brand\n",
    "Avg_Consumer_trust_in_ai_per_Year=df.groupby(['Top AI Tools Used'])['Consumer Trust in AI (%)'].mean().sort_values(ascending=False).reset_index()\n",
    "Avg_Consumer_trust_in_ai_per_Year_sorted=Avg_Consumer_trust_in_ai_per_Year.rename(columns={'Consumer Trust in AI (%)':'Average Consumer Trust in AI (%)'})\n",
    "Avg_Consumer_trust_in_ai_per_Year_sorted"
   ]
  },
  {
   "cell_type": "code",
   "execution_count": 140,
   "id": "3136f119",
   "metadata": {},
   "outputs": [
    {
     "data": {
      "text/html": [
       "<div>\n",
       "<style scoped>\n",
       "    .dataframe tbody tr th:only-of-type {\n",
       "        vertical-align: middle;\n",
       "    }\n",
       "\n",
       "    .dataframe tbody tr th {\n",
       "        vertical-align: top;\n",
       "    }\n",
       "\n",
       "    .dataframe thead th {\n",
       "        text-align: right;\n",
       "    }\n",
       "</style>\n",
       "<table border=\"1\" class=\"dataframe\">\n",
       "  <thead>\n",
       "    <tr style=\"text-align: right;\">\n",
       "      <th></th>\n",
       "      <th>Year</th>\n",
       "      <th>Consumer Trust in AI (%)</th>\n",
       "    </tr>\n",
       "  </thead>\n",
       "  <tbody>\n",
       "    <tr>\n",
       "      <th>0</th>\n",
       "      <td>2020</td>\n",
       "      <td>59.209574</td>\n",
       "    </tr>\n",
       "    <tr>\n",
       "      <th>1</th>\n",
       "      <td>2021</td>\n",
       "      <td>59.870625</td>\n",
       "    </tr>\n",
       "    <tr>\n",
       "      <th>2</th>\n",
       "      <td>2022</td>\n",
       "      <td>59.438065</td>\n",
       "    </tr>\n",
       "    <tr>\n",
       "      <th>3</th>\n",
       "      <td>2023</td>\n",
       "      <td>62.285517</td>\n",
       "    </tr>\n",
       "    <tr>\n",
       "      <th>4</th>\n",
       "      <td>2024</td>\n",
       "      <td>58.069565</td>\n",
       "    </tr>\n",
       "    <tr>\n",
       "      <th>5</th>\n",
       "      <td>2025</td>\n",
       "      <td>57.943684</td>\n",
       "    </tr>\n",
       "  </tbody>\n",
       "</table>\n",
       "</div>"
      ],
      "text/plain": [
       "   Year  Consumer Trust in AI (%)\n",
       "0  2020                 59.209574\n",
       "1  2021                 59.870625\n",
       "2  2022                 59.438065\n",
       "3  2023                 62.285517\n",
       "4  2024                 58.069565\n",
       "5  2025                 57.943684"
      ]
     },
     "execution_count": 140,
     "metadata": {},
     "output_type": "execute_result"
    }
   ],
   "source": [
    "# Average Consumer Trust in AI by Year\n",
    "Avg_Consumer_trust_in_ai_per_Year=df.groupby(['Year'])['Consumer Trust in AI (%)'].mean().reset_index()\n",
    "Avg_Consumer_trust_in_ai_per_Year"
   ]
  },
  {
   "cell_type": "code",
   "execution_count": 147,
   "id": "422cc5c5",
   "metadata": {},
   "outputs": [
    {
     "data": {
      "image/png": "[encoded data removed]",
      "text/plain": [
       "<Figure size 700x400 with 1 Axes>"
      ]
     },
     "metadata": {},
     "output_type": "display_data"
    }
   ],
   "source": [
    "plt.figure(figsize=(7,4))\n",
    "plt.plot(Avg_Consumer_trust_in_ai_per_Year['Year'], Avg_Consumer_trust_in_ai_per_Year['Consumer Trust in AI (%)'], color='blue')\n",
    "\n",
    "plt.title('Customer Trust In AI', fontsize=14)\n",
    "plt.xlabel('Year', fontsize=12)\n",
    "plt.ylabel('Avg Customer Trust in AI (%)', fontsize=12)\n",
    "\n",
    "plt.show()\n"
   ]
  },
  {
   "cell_type": "code",
   "execution_count": 20,
   "id": "488d61b2",
   "metadata": {},
   "outputs": [
    {
     "data": {
      "text/plain": [
       "(200, 12)"
      ]
     },
     "execution_count": 20,
     "metadata": {},
     "output_type": "execute_result"
    }
   ],
   "source": [
    "df.shape"
   ]
  },
  {
   "cell_type": "code",
   "execution_count": 12,
   "id": "9a263b73",
   "metadata": {},
   "outputs": [
    {
     "data": {
      "text/plain": [
       "['Country',\n",
       " 'Year',\n",
       " 'Industry',\n",
       " 'AI Adoption Rate (%)',\n",
       " 'AI-Generated Content Volume (TBs per year)',\n",
       " 'Job Loss Due to AI (%)',\n",
       " 'Revenue Increase Due to AI (%)',\n",
       " 'Human-AI Collaboration Rate (%)',\n",
       " 'Top AI Tools Used',\n",
       " 'Regulation Status',\n",
       " 'Consumer Trust in AI (%)',\n",
       " 'Market Share of AI Companies (%)']"
      ]
     },
     "execution_count": 12,
     "metadata": {},
     "output_type": "execute_result"
    }
   ],
   "source": [
    "df.columns.to_list()"
   ]
  },
  {
   "cell_type": "code",
   "execution_count": 21,
   "id": "741f4f7c",
   "metadata": {},
   "outputs": [
    {
     "data": {
      "text/plain": [
       "Year\n",
       "2020    28.171915\n",
       "2021    28.233750\n",
       "2022    22.823226\n",
       "2023    24.453448\n",
       "2024    26.283478\n",
       "2025    23.918421\n",
       "Name: Job Loss Due to AI (%), dtype: float64"
      ]
     },
     "execution_count": 21,
     "metadata": {},
     "output_type": "execute_result"
    }
   ],
   "source": [
    "# Example: Calculate the mean job loss due to AI for each year\n",
    "jobLossDueToAiBasedOnYear.mean()"
   ]
  },
  {
   "cell_type": "code",
   "execution_count": 48,
   "id": "202da5e5",
   "metadata": {},
   "outputs": [
    {
     "data": {
      "text/html": [
       "<div>\n",
       "<style scoped>\n",
       "    .dataframe tbody tr th:only-of-type {\n",
       "        vertical-align: middle;\n",
       "    }\n",
       "\n",
       "    .dataframe tbody tr th {\n",
       "        vertical-align: top;\n",
       "    }\n",
       "\n",
       "    .dataframe thead th {\n",
       "        text-align: right;\n",
       "    }\n",
       "</style>\n",
       "<table border=\"1\" class=\"dataframe\">\n",
       "  <thead>\n",
       "    <tr style=\"text-align: right;\">\n",
       "      <th></th>\n",
       "      <th>Year</th>\n",
       "      <th>Data Generated By AI (TBs)</th>\n",
       "    </tr>\n",
       "  </thead>\n",
       "  <tbody>\n",
       "    <tr>\n",
       "      <th>0</th>\n",
       "      <td>2020</td>\n",
       "      <td>1965.87</td>\n",
       "    </tr>\n",
       "    <tr>\n",
       "      <th>1</th>\n",
       "      <td>2021</td>\n",
       "      <td>1720.82</td>\n",
       "    </tr>\n",
       "    <tr>\n",
       "      <th>2</th>\n",
       "      <td>2022</td>\n",
       "      <td>1451.49</td>\n",
       "    </tr>\n",
       "    <tr>\n",
       "      <th>3</th>\n",
       "      <td>2023</td>\n",
       "      <td>1092.96</td>\n",
       "    </tr>\n",
       "    <tr>\n",
       "      <th>4</th>\n",
       "      <td>2024</td>\n",
       "      <td>1209.81</td>\n",
       "    </tr>\n",
       "    <tr>\n",
       "      <th>5</th>\n",
       "      <td>2025</td>\n",
       "      <td>1773.57</td>\n",
       "    </tr>\n",
       "  </tbody>\n",
       "</table>\n",
       "</div>"
      ],
      "text/plain": [
       "   Year  Data Generated By AI (TBs)\n",
       "0  2020                     1965.87\n",
       "1  2021                     1720.82\n",
       "2  2022                     1451.49\n",
       "3  2023                     1092.96\n",
       "4  2024                     1209.81\n",
       "5  2025                     1773.57"
      ]
     },
     "execution_count": 48,
     "metadata": {},
     "output_type": "execute_result"
    }
   ],
   "source": [
    "# Ai Data Generated By Year\n",
    "Ai_Data_Generated_By_Year = df.groupby('Year')['AI-Generated Content Volume (TBs per year)'].sum().reset_index()\n",
    "Ai_Data_Generated_By_Year_rename = Ai_Data_Generated_By_Year.rename(columns={'AI-Generated Content Volume (TBs per year)': 'Data Generated By AI (TBs)'})\n",
    "# Ai_Data_Generated_By_Year_rename['Data in TB']=round(Ai_Data_Generated_By_Year_rename['Data Generated By AI (TBs)'],2).astype(str)+' TB'\n",
    "Ai_Data_Generated_By_Year_rename"
   ]
  },
  {
   "cell_type": "code",
   "execution_count": null,
   "id": "8ca021de",
   "metadata": {},
   "outputs": [
    {
     "name": "stdout",
     "output_type": "stream",
     "text": [
      "        Industry  AI Adoption Rate (%)\n",
      "0     Automotive             54.887895\n",
      "1      Education             57.028235\n",
      "2        Finance             55.764286\n",
      "3         Gaming             60.416296\n",
      "4     Healthcare             55.734118\n",
      "5          Legal             56.077647\n",
      "6  Manufacturing             57.014444\n",
      "7      Marketing             54.244211\n",
      "8          Media             47.263226\n",
      "9         Retail             47.905714\n"
     ]
    }
   ],
   "source": [
    "# Relationship between AI Adoption and Industry:\n",
    "industry_ai_adoption = df.groupby('Industry')['AI Adoption Rate (%)'].mean().reset_index()\n",
    "print(industry_ai_adoption)\n"
   ]
  },
  {
   "cell_type": "code",
   "execution_count": null,
   "id": "49f716dd",
   "metadata": {},
   "outputs": [
    {
     "name": "stdout",
     "output_type": "stream",
     "text": [
      "  Top AI Tools Used  Human-AI Collaboration Rate (%)\n",
      "0              Bard                        50.379583\n",
      "1           ChatGPT                        58.167419\n",
      "2            Claude                        50.729677\n",
      "3            DALL-E                        58.225385\n",
      "4        Midjourney                        50.950541\n",
      "5  Stable Diffusion                        54.330741\n",
      "6         Synthesia                        57.064583\n"
     ]
    }
   ],
   "source": [
    "# AI Tools Used vs. Other Variables:\n",
    "tools_vs_collaboration = df.groupby('Top AI Tools Used')['Human-AI Collaboration Rate (%)'].mean().reset_index()\n",
    "print(tools_vs_collaboration)\n"
   ]
  },
  {
   "cell_type": "code",
   "execution_count": null,
   "id": "35676d18",
   "metadata": {},
   "outputs": [
    {
     "name": "stdout",
     "output_type": "stream",
     "text": [
      "        Industry  AI Adoption Rate (%)\n",
      "0     Automotive             54.887895\n",
      "1      Education             57.028235\n",
      "2        Finance             55.764286\n",
      "3         Gaming             60.416296\n",
      "4     Healthcare             55.734118\n",
      "5          Legal             56.077647\n",
      "6  Manufacturing             57.014444\n",
      "7      Marketing             54.244211\n",
      "8          Media             47.263226\n",
      "9         Retail             47.905714\n"
     ]
    }
   ],
   "source": [
    "#  Industry on Ai Adoption Rate\n",
    "industry_regulation_analysis = df.groupby(['Industry'])['AI Adoption Rate (%)'].mean().reset_index()\n",
    "print(industry_regulation_analysis)"
   ]
  },
  {
   "cell_type": "code",
   "execution_count": null,
   "id": "27c3f07d",
   "metadata": {},
   "outputs": [
    {
     "name": "stdout",
     "output_type": "stream",
     "text": [
      "  Regulation Status  Consumer Trust in AI (%)\n",
      "0           Lenient                 61.392063\n",
      "1          Moderate                 60.725526\n",
      "2            Strict                 55.773607\n"
     ]
    }
   ],
   "source": [
    "consumerTrustByregularStatus = df.groupby('Regulation Status')['Consumer Trust in AI (%)'].mean().reset_index()\n",
    "print(consumerTrustByregularStatus)\n"
   ]
  },
  {
   "cell_type": "code",
   "execution_count": 149,
   "id": "c4971bc9",
   "metadata": {},
   "outputs": [
    {
     "data": {
      "text/html": [
       "<div>\n",
       "<style scoped>\n",
       "    .dataframe tbody tr th:only-of-type {\n",
       "        vertical-align: middle;\n",
       "    }\n",
       "\n",
       "    .dataframe tbody tr th {\n",
       "        vertical-align: top;\n",
       "    }\n",
       "\n",
       "    .dataframe thead th {\n",
       "        text-align: right;\n",
       "    }\n",
       "</style>\n",
       "<table border=\"1\" class=\"dataframe\">\n",
       "  <thead>\n",
       "    <tr style=\"text-align: right;\">\n",
       "      <th></th>\n",
       "      <th>Country</th>\n",
       "      <th>Average Job Loss Due to AI (%)</th>\n",
       "    </tr>\n",
       "  </thead>\n",
       "  <tbody>\n",
       "    <tr>\n",
       "      <th>0</th>\n",
       "      <td>Canada</td>\n",
       "      <td>30.993125</td>\n",
       "    </tr>\n",
       "    <tr>\n",
       "      <th>1</th>\n",
       "      <td>China</td>\n",
       "      <td>29.085238</td>\n",
       "    </tr>\n",
       "    <tr>\n",
       "      <th>2</th>\n",
       "      <td>Germany</td>\n",
       "      <td>28.104118</td>\n",
       "    </tr>\n",
       "    <tr>\n",
       "      <th>3</th>\n",
       "      <td>UK</td>\n",
       "      <td>27.134500</td>\n",
       "    </tr>\n",
       "    <tr>\n",
       "      <th>4</th>\n",
       "      <td>France</td>\n",
       "      <td>26.484167</td>\n",
       "    </tr>\n",
       "    <tr>\n",
       "      <th>5</th>\n",
       "      <td>South Korea</td>\n",
       "      <td>25.544500</td>\n",
       "    </tr>\n",
       "    <tr>\n",
       "      <th>6</th>\n",
       "      <td>Japan</td>\n",
       "      <td>25.509545</td>\n",
       "    </tr>\n",
       "    <tr>\n",
       "      <th>7</th>\n",
       "      <td>India</td>\n",
       "      <td>25.231250</td>\n",
       "    </tr>\n",
       "    <tr>\n",
       "      <th>8</th>\n",
       "      <td>USA</td>\n",
       "      <td>20.708571</td>\n",
       "    </tr>\n",
       "    <tr>\n",
       "      <th>9</th>\n",
       "      <td>Australia</td>\n",
       "      <td>18.824000</td>\n",
       "    </tr>\n",
       "  </tbody>\n",
       "</table>\n",
       "</div>"
      ],
      "text/plain": [
       "       Country  Average Job Loss Due to AI (%)\n",
       "0       Canada                       30.993125\n",
       "1        China                       29.085238\n",
       "2      Germany                       28.104118\n",
       "3           UK                       27.134500\n",
       "4       France                       26.484167\n",
       "5  South Korea                       25.544500\n",
       "6        Japan                       25.509545\n",
       "7        India                       25.231250\n",
       "8          USA                       20.708571\n",
       "9    Australia                       18.824000"
      ]
     },
     "execution_count": 149,
     "metadata": {},
     "output_type": "execute_result"
    }
   ],
   "source": [
    "ContryImpactedByAI_sorted=df.groupby(['Country'])['Job Loss Due to AI (%)'].mean().sort_values(ascending=False).reset_index()\n",
    "ContryImpactedByAI_sorted.rename(columns={'Job Loss Due to AI (%)': 'Average Job Loss Due to AI (%)'}, inplace=True)\n",
    "ContryImpactedByAI_sorted"
   ]
  },
  {
   "cell_type": "code",
   "execution_count": 153,
   "id": "f05e9bf6",
   "metadata": {},
   "outputs": [
    {
     "data": {
      "image/png": "[encoded data removed]",
      "text/plain": [
       "<Figure size 700x300 with 1 Axes>"
      ]
     },
     "metadata": {},
     "output_type": "display_data"
    }
   ],
   "source": [
    "plt.figure(figsize=(7,3))\n",
    "plt.barh(ContryImpactedByAI_sorted['Country'], ContryImpactedByAI_sorted['Average Job Loss Due to AI (%)'], color='blue')\n",
    "\n",
    "plt.title('Job Loss By Industry', fontsize=14)\n",
    "plt.xlabel('Avg Job loss (%)', fontsize=12)\n",
    "plt.ylabel('Country', fontsize=12)\n",
    "\n",
    "plt.show()\n"
   ]
  }
 ],
 "metadata": {
  "kernelspec": {
   "display_name": "Python 3",
   "language": "python",
   "name": "python3"
  },
  "language_info": {
   "codemirror_mode": {
    "name": "ipython",
    "version": 3
   },
   "file_extension": ".py",
   "mimetype": "text/x-python",
   "name": "python",
   "nbconvert_exporter": "python",
   "pygments_lexer": "ipython3",
   "version": "3.13.1"
  }
 },
 "nbformat": 4,
 "nbformat_minor": 5
}
