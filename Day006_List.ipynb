{
 "cells": [
  {
   "cell_type": "markdown",
   "metadata": {},
   "source": [
    "<h1>\n",
    "<pre>\n",
    "#List datatype\n",
    "#Collection of element\n",
    "#store based on index position\n",
    "#list mutuable database\n",
    "#sequence datatype\n",
    "\n",
    "</pre>\n",
    "</h1>"
   ]
  },
  {
   "cell_type": "code",
   "execution_count": 2,
   "metadata": {},
   "outputs": [
    {
     "name": "stdout",
     "output_type": "stream",
     "text": [
      "<class 'list'>\n",
      "[10, 20, 30]\n"
     ]
    }
   ],
   "source": [
    "mylist=[10,20,30,40,'hey',100.0]\n",
    "print(type(mylist))\n",
    "print(mylist[0:3])"
   ]
  },
  {
   "cell_type": "code",
   "execution_count": 4,
   "metadata": {},
   "outputs": [
    {
     "name": "stdout",
     "output_type": "stream",
     "text": [
      "[90, 20, 30, 40, 'hey', 100.0]\n"
     ]
    }
   ],
   "source": [
    "mylist=[10,20,30,40,'hey',100.0]\n",
    "mylist[0]=90\n",
    "print(mylist)"
   ]
  },
  {
   "cell_type": "code",
   "execution_count": 6,
   "metadata": {},
   "outputs": [
    {
     "name": "stdout",
     "output_type": "stream",
     "text": [
      "[10, 20, 30, 40, 'hey', 100.0, 500]\n"
     ]
    }
   ],
   "source": [
    "mylist=[10,20,30,40,'hey',100.0]\n",
    "mylist.append(500)\n",
    "print(mylist)"
   ]
  },
  {
   "cell_type": "code",
   "execution_count": null,
   "metadata": {},
   "outputs": [],
   "source": []
  },
  {
   "cell_type": "code",
   "execution_count": 9,
   "metadata": {},
   "outputs": [
    {
     "name": "stdout",
     "output_type": "stream",
     "text": [
      "[10, 20, 30, 40, 'hey', 100.0, 'h', 'e', 'l', 'l', 'o', 999, 'ram', 'hello']\n"
     ]
    }
   ],
   "source": [
    "mylist=[10,20,30,40,'hey',100.0]\n",
    "mylist.extend('hello') #string extend\n",
    "mylist.extend([999,'ram','hello']) # list extend\n",
    "print(mylist)"
   ]
  },
  {
   "cell_type": "code",
   "execution_count": 14,
   "metadata": {},
   "outputs": [
    {
     "name": "stdout",
     "output_type": "stream",
     "text": [
      "[10, 20, 30, 40, 'hey', 100.0]\n",
      "pop element index [-1] ; 100.0\n",
      "pop element index[0] : 10\n",
      "[20, 30, 40, 'hey']\n"
     ]
    }
   ],
   "source": [
    "mylist=[10,20,30,40,'hey',100.0]\n",
    "print(mylist)\n",
    "popElement=mylist.pop()\n",
    "popElement1=mylist.pop(0)\n",
    "print(f'pop element index [-1] ; {popElement}')\n",
    "print(f'pop element index[0] : {popElement1}')\n",
    "print(mylist)"
   ]
  },
  {
   "cell_type": "code",
   "execution_count": 11,
   "metadata": {},
   "outputs": [
    {
     "name": "stdout",
     "output_type": "stream",
     "text": [
      "[10, 20, 11, 30, 40, 30, 100.0]\n",
      "[10, 20, 11, 40, 30, 100.0]\n"
     ]
    }
   ],
   "source": [
    "mylist=[10,20,11,30,40,30,100.0]\n",
    "print(mylist)\n",
    "\n",
    "mylist.remove(30)\n",
    "\n",
    "print(mylist)"
   ]
  },
  {
   "cell_type": "code",
   "execution_count": 12,
   "metadata": {},
   "outputs": [
    {
     "name": "stdout",
     "output_type": "stream",
     "text": [
      "[10, 20, 11, 40, 30, 100.0]\n",
      "None\n",
      "[10, 11, 20, 30, 40, 100.0]\n"
     ]
    }
   ],
   "source": [
    "print(mylist)\n",
    "print(mylist.sort())\n",
    "print(mylist)"
   ]
  },
  {
   "cell_type": "code",
   "execution_count": 21,
   "metadata": {},
   "outputs": [
    {
     "name": "stdout",
     "output_type": "stream",
     "text": [
      "10\n",
      "20\n",
      "30\n",
      "40\n",
      "hey\n",
      "100.0\n",
      "10\n",
      "20\n",
      "30\n",
      "40\n",
      "hey\n",
      "100.0\n"
     ]
    }
   ],
   "source": [
    "mylist=[10,20,30,40,'hey',100.0]\n",
    "for x in mylist:\n",
    "    print(x)\n",
    "\n",
    "for x in range(0,len(mylist)):\n",
    "    print(mylist[x])"
   ]
  },
  {
   "cell_type": "code",
   "execution_count": 27,
   "metadata": {},
   "outputs": [
    {
     "name": "stdout",
     "output_type": "stream",
     "text": [
      "10\n",
      "20\n",
      "30\n",
      "40\n"
     ]
    }
   ],
   "source": [
    "mylist=[10,20,30,40,'hey',100.0]\n",
    "for x in mylist:\n",
    "    if type(x)==int:\n",
    "        print(x)\n"
   ]
  },
  {
   "cell_type": "code",
   "execution_count": 25,
   "metadata": {},
   "outputs": [
    {
     "name": "stdout",
     "output_type": "stream",
     "text": [
      "True\n"
     ]
    }
   ],
   "source": [
    "print(type(10)==int)"
   ]
  },
  {
   "cell_type": "code",
   "execution_count": 15,
   "metadata": {},
   "outputs": [
    {
     "name": "stdout",
     "output_type": "stream",
     "text": [
      "[20, 7]\n"
     ]
    }
   ],
   "source": [
    "li=[10,20,4,7,5,11]\n",
    "sl=[]\n",
    "for i in range(0,len(li)-1):\n",
    "    if(li[i]>li[i+1]):\n",
    "        sl.append(li[i])\n",
    "print(sl)"
   ]
  },
  {
   "cell_type": "code",
   "execution_count": 28,
   "metadata": {},
   "outputs": [
    {
     "name": "stdout",
     "output_type": "stream",
     "text": [
      "[100, 20, 40, 60, 80, 7, 4]\n"
     ]
    }
   ],
   "source": [
    "mylist=[20,40,60,80,100,7,4]\n",
    "max=0\n",
    "for i in range(1,len(mylist)):\n",
    "    if mylist[max]<mylist[i]:\n",
    "        swap=mylist[max]\n",
    "        mylist[max]=mylist[i]\n",
    "        mylist[i]=swap\n",
    "print(mylist)\n"
   ]
  },
  {
   "cell_type": "code",
   "execution_count": 34,
   "metadata": {},
   "outputs": [
    {
     "name": "stdout",
     "output_type": "stream",
     "text": [
      "[100, 80, 60, 40, 20, 7, 4, 1]\n"
     ]
    }
   ],
   "source": [
    "mylist=[1,20,40,60,80,100,7,4]\n",
    "max=0\n",
    "for i in range(0,len(mylist)):\n",
    "    for j in range(i,len(mylist)):\n",
    "        if mylist[j]>mylist[i]:\n",
    "            swap=mylist[j]\n",
    "            mylist[j]=mylist[i]\n",
    "            mylist[i]=swap\n",
    "print(mylist)\n",
    "\n"
   ]
  },
  {
   "cell_type": "code",
   "execution_count": 39,
   "metadata": {},
   "outputs": [
    {
     "name": "stdout",
     "output_type": "stream",
     "text": [
      "100\n"
     ]
    }
   ],
   "source": [
    "# find second highest list\n",
    "list1=[10,20,50,700,60,100]\n",
    "\n",
    "for i in range(0,2):\n",
    "    for j in range(i,len(list1)):\n",
    "        if list1[i]<list1[j]:\n",
    "            temp=list1[i]\n",
    "            list1[i]=list1[j]\n",
    "            list1[j]=temp\n",
    "print(list1[1])"
   ]
  },
  {
   "cell_type": "code",
   "execution_count": 41,
   "metadata": {},
   "outputs": [
    {
     "name": "stdout",
     "output_type": "stream",
     "text": [
      "Highest value 700\n",
      "Second Highest value 100\n"
     ]
    }
   ],
   "source": [
    "# find second highest list\n",
    "\n",
    "list1=[10,20,50,700,60,100]\n",
    "highest=list1[0]\n",
    "secondHighest=0\n",
    "\n",
    "for i in range(1,len(list1)):\n",
    "    if list1[i]>highest:\n",
    "        secondHighest=highest\n",
    "        highest=list1[i]\n",
    "    elif list1[i]>secondHighest:\n",
    "        secondHighest=list1[i]\n",
    "print('Highest value',highest)\n",
    "print('Second Highest value',secondHighest)"
   ]
  },
  {
   "cell_type": "code",
   "execution_count": 43,
   "metadata": {},
   "outputs": [
    {
     "name": "stdout",
     "output_type": "stream",
     "text": [
      "[[2, 11], [4, 9]]\n"
     ]
    }
   ],
   "source": [
    "\n",
    "list1=[0,1,2,4,6,8,9,11]\n",
    "output=[]\n",
    "k=13\n",
    "for i in range(0,len(list1)):\n",
    "    for j in range(i,len(list1)):\n",
    "        if list1[i]+list1[j]==k:\n",
    "            output.append([list1[i],list1[j]])\n",
    "print(output)"
   ]
  },
  {
   "cell_type": "markdown",
   "metadata": {},
   "source": [
    "<h1>\n",
    "<pre>\n",
    "Learning assignment\n",
    "</h1>\n",
    "<h4>\n",
    "1. what is time complexity. and how to find time complexity for the loop?\n",
    "2. What is enumurate vs zip funtion? (interview)\n",
    "3. list revice\n",
    "4. what is dictonary? And what are its useuage?\n",
    "</h4>"
   ]
  }
 ],
 "metadata": {
  "kernelspec": {
   "display_name": "Python 3",
   "language": "python",
   "name": "python3"
  },
  "language_info": {
   "codemirror_mode": {
    "name": "ipython",
    "version": 3
   },
   "file_extension": ".py",
   "mimetype": "text/x-python",
   "name": "python",
   "nbconvert_exporter": "python",
   "pygments_lexer": "ipython3",
   "version": "3.13.1"
  }
 },
 "nbformat": 4,
 "nbformat_minor": 2
}
