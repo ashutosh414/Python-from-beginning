{
 "cells": [
  {
   "cell_type": "markdown",
   "metadata": {},
   "source": [
    "<h1>\n",
    "<pre>\n",
    "#List datatype\n",
    "#Collection of element\n",
    "#store based on index position\n",
    "#list mutuable database\n",
    "#sequence datatype\n",
    "\n",
    "</pre>\n",
    "</h1>"
   ]
  },
  {
   "cell_type": "code",
   "execution_count": 2,
   "metadata": {},
   "outputs": [
    {
     "name": "stdout",
     "output_type": "stream",
     "text": [
      "<class 'list'>\n",
      "[10, 20, 30]\n"
     ]
    }
   ],
   "source": [
    "mylist=[10,20,30,40,'hey',100.0]\n",
    "print(type(mylist))\n",
    "print(mylist[0:3])"
   ]
  },
  {
   "cell_type": "code",
   "execution_count": 4,
   "metadata": {},
   "outputs": [
    {
     "name": "stdout",
     "output_type": "stream",
     "text": [
      "[90, 20, 30, 40, 'hey', 100.0]\n"
     ]
    }
   ],
   "source": [
    "mylist=[10,20,30,40,'hey',100.0]\n",
    "mylist[0]=90\n",
    "print(mylist)"
   ]
  },
  {
   "cell_type": "code",
   "execution_count": 6,
   "metadata": {},
   "outputs": [
    {
     "name": "stdout",
     "output_type": "stream",
     "text": [
      "[10, 20, 30, 40, 'hey', 100.0, 500]\n"
     ]
    }
   ],
   "source": [
    "mylist=[10,20,30,40,'hey',100.0]\n",
    "mylist.append(500)\n",
    "print(mylist)"
   ]
  },
  {
   "cell_type": "code",
   "execution_count": null,
   "metadata": {},
   "outputs": [],
   "source": []
  },
  {
   "cell_type": "code",
   "execution_count": 9,
   "metadata": {},
   "outputs": [
    {
     "name": "stdout",
     "output_type": "stream",
     "text": [
      "[10, 20, 30, 40, 'hey', 100.0, 'h', 'e', 'l', 'l', 'o', 999, 'ram', 'hello']\n"
     ]
    }
   ],
   "source": [
    "mylist=[10,20,30,40,'hey',100.0]\n",
    "mylist.extend('hello') #string extend\n",
    "mylist.extend([999,'ram','hello']) # list extend\n",
    "print(mylist)"
   ]
  },
  {
   "cell_type": "code",
   "execution_count": 14,
   "metadata": {},
   "outputs": [
    {
     "name": "stdout",
     "output_type": "stream",
     "text": [
      "[10, 20, 30, 40, 'hey', 100.0]\n",
      "pop element index [-1] ; 100.0\n",
      "pop element index[0] : 10\n",
      "[20, 30, 40, 'hey']\n"
     ]
    }
   ],
   "source": [
    "mylist=[10,20,30,40,'hey',100.0]\n",
    "print(mylist)\n",
    "popElement=mylist.pop()\n",
    "popElement1=mylist.pop(0)\n",
    "print(f'pop element index [-1] ; {popElement}')\n",
    "print(f'pop element index[0] : {popElement1}')\n",
    "print(mylist)"
   ]
  },
  {
   "cell_type": "code",
   "execution_count": 17,
   "metadata": {},
   "outputs": [
    {
     "name": "stdout",
     "output_type": "stream",
     "text": [
      "[10, 20, 30, 40, 30, 'hey', 100.0]\n",
      "[10, 20, 40, 30, 'hey', 100.0]\n"
     ]
    }
   ],
   "source": [
    "mylist=[10,20,30,40,30,'hey',100.0]\n",
    "print(mylist)\n",
    "\n",
    "mylist.remove(30)\n",
    "\n",
    "print(mylist)"
   ]
  },
  {
   "cell_type": "code",
   "execution_count": 21,
   "metadata": {},
   "outputs": [
    {
     "name": "stdout",
     "output_type": "stream",
     "text": [
      "10\n",
      "20\n",
      "30\n",
      "40\n",
      "hey\n",
      "100.0\n",
      "10\n",
      "20\n",
      "30\n",
      "40\n",
      "hey\n",
      "100.0\n"
     ]
    }
   ],
   "source": [
    "mylist=[10,20,30,40,'hey',100.0]\n",
    "for x in mylist:\n",
    "    print(x)\n",
    "\n",
    "for x in range(0,len(mylist)):\n",
    "    print(mylist[x])"
   ]
  },
  {
   "cell_type": "code",
   "execution_count": 27,
   "metadata": {},
   "outputs": [
    {
     "name": "stdout",
     "output_type": "stream",
     "text": [
      "10\n",
      "20\n",
      "30\n",
      "40\n"
     ]
    }
   ],
   "source": [
    "mylist=[10,20,30,40,'hey',100.0]\n",
    "for x in mylist:\n",
    "    if type(x)==int:\n",
    "        print(x)\n"
   ]
  },
  {
   "cell_type": "code",
   "execution_count": 25,
   "metadata": {},
   "outputs": [
    {
     "name": "stdout",
     "output_type": "stream",
     "text": [
      "True\n"
     ]
    }
   ],
   "source": [
    "print(type(10)==int)"
   ]
  },
  {
   "cell_type": "code",
   "execution_count": null,
   "metadata": {},
   "outputs": [],
   "source": []
  },
  {
   "cell_type": "code",
   "execution_count": null,
   "metadata": {},
   "outputs": [],
   "source": []
  },
  {
   "cell_type": "code",
   "execution_count": null,
   "metadata": {},
   "outputs": [],
   "source": []
  },
  {
   "cell_type": "code",
   "execution_count": null,
   "metadata": {},
   "outputs": [],
   "source": []
  }
 ],
 "metadata": {
  "kernelspec": {
   "display_name": "Python 3",
   "language": "python",
   "name": "python3"
  },
  "language_info": {
   "codemirror_mode": {
    "name": "ipython",
    "version": 3
   },
   "file_extension": ".py",
   "mimetype": "text/x-python",
   "name": "python",
   "nbconvert_exporter": "python",
   "pygments_lexer": "ipython3",
   "version": "3.13.1"
  }
 },
 "nbformat": 4,
 "nbformat_minor": 2
}
