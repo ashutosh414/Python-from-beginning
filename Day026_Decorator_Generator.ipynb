{
 "cells": [
  {
   "cell_type": "code",
   "execution_count": null,
   "metadata": {},
   "outputs": [],
   "source": [
    "# Decorators in Pyhton :-\n",
    "#     In python decorator are a way to modify or enhance\n",
    "#     the behaviour of the functions without directly changing\n",
    "#     their Code.\n",
    "#    -> In OOPs "
   ]
  },
  {
   "cell_type": "code",
   "execution_count": 7,
   "metadata": {},
   "outputs": [
    {
     "name": "stdout",
     "output_type": "stream",
     "text": [
      "Function 'greet' is called\n",
      "Hello, Ashutosh!\n",
      "ram ram\n",
      "Function 'greet' is called\n"
     ]
    },
    {
     "data": {
      "text/plain": [
       "<function __main__.hi()>"
      ]
     },
     "execution_count": 7,
     "metadata": {},
     "output_type": "execute_result"
    }
   ],
   "source": [
    "def log_decorator(func):\n",
    "    def wrapper(*args,**kwargs):\n",
    "        print(f\"Function '{func.__name__}' is called\")\n",
    "        result=func(*args,**kwargs) #call original Functions\n",
    "        print(result)\n",
    "        print(f\"Function '{func.__name__}' is called\")\n",
    "        return result\n",
    "    return wrapper\n",
    "\n",
    "@log_decorator\n",
    "def greet(name):\n",
    "    print(f'Hello, {name}!')\n",
    "    return 'ram ram'\n",
    "\n",
    "greet('Ashutosh')\n",
    "\n",
    "def hi():\n",
    "    print('hiiiiiiiiii')\n",
    "hi\n"
   ]
  },
  {
   "cell_type": "code",
   "execution_count": null,
   "metadata": {},
   "outputs": [],
   "source": [
    "# # Generators\n",
    "# #  :- Generators in Python are a way to create \n",
    "# #             itrators in simple and ways insted of creating\n",
    "# #             the entire sequence at onces.\n",
    "# # A generator produce item one at a time and only\n",
    "# #             when needed.\n",
    "# #  -> this is espically useful when dealling with large dataset or\n",
    "# #     infinitve sequences.\n",
    "#  A generator funtion is like a normal function but uses the \n",
    "# 'yield' keyword insted of return.\n",
    "# When the generator is called it does not execute the funtion completely,\n",
    "# insted it return a generator object that can be itreated over.\n",
    "\n",
    "\n",
    "# key points of generaotrs\n",
    "\n",
    "# Memory efficient -> Genertor do not store the entire sequence to the memory.\n",
    "# Lazy Evalution   -> Values are produced only when required.\n",
    "# State Retention  -> The function state is saved between 'yield' calls.\n"
   ]
  },
  {
   "cell_type": "code",
   "execution_count": 11,
   "metadata": {},
   "outputs": [
    {
     "name": "stdout",
     "output_type": "stream",
     "text": [
      "1\n",
      "hi\n",
      "2\n",
      "3\n",
      "4\n",
      "5\n"
     ]
    }
   ],
   "source": [
    "def number_generator():\n",
    "    for i in range(1,6):\n",
    "        yield i\n",
    "\n",
    "gen=number_generator()\n",
    "print(gen.__next__())\n",
    "print('hi')\n",
    "for num in gen:\n",
    "    print(num)"
   ]
  },
  {
   "cell_type": "code",
   "execution_count": 7,
   "metadata": {},
   "outputs": [
    {
     "name": "stdout",
     "output_type": "stream",
     "text": [
      "Sum is 30\n",
      "Sum is -10\n"
     ]
    }
   ],
   "source": [
    "from Day026_FirstFile import my_add,my_sub\n",
    "\n",
    "print(f'Sum is {my_add(10,20)}')\n",
    "print(f'Sum is {my_sub(10,20)}')"
   ]
  }
 ],
 "metadata": {
  "kernelspec": {
   "display_name": "Python 3",
   "language": "python",
   "name": "python3"
  },
  "language_info": {
   "codemirror_mode": {
    "name": "ipython",
    "version": 3
   },
   "file_extension": ".py",
   "mimetype": "text/x-python",
   "name": "python",
   "nbconvert_exporter": "python",
   "pygments_lexer": "ipython3",
   "version": "3.13.1"
  }
 },
 "nbformat": 4,
 "nbformat_minor": 2
}
