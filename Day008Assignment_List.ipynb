{
 "cells": [
  {
   "cell_type": "code",
   "execution_count": 1,
   "metadata": {},
   "outputs": [
    {
     "name": "stdout",
     "output_type": "stream",
     "text": [
      "[1, 3, 5, 7, 9]\n"
     ]
    }
   ],
   "source": [
    "# 1. Write a program to print the first 25 odd numbers in list\n",
    "num=25\n",
    "my_list=[]\n",
    "count,i,limit=0,0,int(input('Enter'))\n",
    "\n",
    "while(count<limit):\n",
    "    if(i%2!=0):\n",
    "        my_list.append(i)\n",
    "        count+=1\n",
    "    i+=1\n",
    "print(my_list)"
   ]
  },
  {
   "cell_type": "code",
   "execution_count": 4,
   "metadata": {},
   "outputs": [
    {
     "name": "stdout",
     "output_type": "stream",
     "text": [
      "eiwouieoaksGYUI\n"
     ]
    }
   ],
   "source": [
    "### 2. Arrange string characters such that lowercase letters should come first\n",
    "data=input(\"Enter the String\")\n",
    "mylistlower=[]\n",
    "mylistupper=[]\n",
    "\n",
    "for i,ele in enumerate(data):\n",
    "    if ord(ele)>=97 and ord(ele)<=122:\n",
    "        mylistlower.append(ele)\n",
    "    else:\n",
    "        mylistupper.append(ele)\n",
    "output=''.join(mylistlower)+''.join(mylistupper)\n",
    "print(output)\n"
   ]
  },
  {
   "cell_type": "code",
   "execution_count": 12,
   "metadata": {},
   "outputs": [
    {
     "name": "stdout",
     "output_type": "stream",
     "text": [
      "\n",
      "      The String is -> ruodt44398$^%$sdfh7e8DFDH\n",
      "      Total counts of chars -> 14\n",
      "      Total counts of digits -> 7\n",
      "      Total counts of symbols -> 4\n",
      "      \n"
     ]
    }
   ],
   "source": [
    "# 3. Count all letters, digits, and special symbols from a given string\n",
    "# a. given-->str1 = \"P@#yn26at^&i5ve\"\n",
    "# b. expected-->Total counts of chars, digits, and symbols\n",
    "\n",
    "data=input('Enter')\n",
    "c_chr,c_digit,c_symbols=0,0,0\n",
    "for element in data:\n",
    "    if (ord(element)>=65 and ord(element)<=90) or (ord(element)>=97 and ord(element)<=122):\n",
    "        c_chr+=1\n",
    "    elif (ord(element)>=48 and ord(element)<=57):\n",
    "        c_digit+=1\n",
    "    else:\n",
    "        c_symbols+=1\n",
    "print(f'''\n",
    "      The String is -> {data}\n",
    "      Total counts of chars -> {c_chr}\n",
    "      Total counts of digits -> {c_digit}\n",
    "      Total counts of symbols -> {c_symbols}\n",
    "      ''')"
   ]
  },
  {
   "cell_type": "code",
   "execution_count": 16,
   "metadata": {},
   "outputs": [
    {
     "name": "stdout",
     "output_type": "stream",
     "text": [
      "37\n"
     ]
    }
   ],
   "source": [
    "### 4. Remove empty strings from a list of strings\n",
    "print(ord('%'))"
   ]
  },
  {
   "cell_type": "code",
   "execution_count": 38,
   "metadata": {},
   "outputs": [
    {
     "name": "stdout",
     "output_type": "stream",
     "text": [
      "\n",
      "      The String is -> hjdahk^*&^*&567hgjkh?:>{jsdjjhSST#%7\n",
      "      After removing special symbols / punctuation -> hjdahk567hgjkhjsdjjhSST7\n",
      "      \n"
     ]
    }
   ],
   "source": [
    "# 5. Remove special symbols / punctuation from a string\n",
    "\n",
    "data=input(\"Enter\")\n",
    "mylist=[]\n",
    "for index,element in enumerate(data):\n",
    "    if ((ord(element)>=65 and ord(element)<=90) or (ord(element)>=97 and ord(element)<=122) or (ord(element)>=48 and ord(element)<=57)):\n",
    "        mylist.append(element)\n",
    "update_data=''.join(mylist)\n",
    "\n",
    "print(f'''\n",
    "      The String is -> {data}\n",
    "      After removing special symbols / punctuation -> {update_data}\n",
    "      ''')"
   ]
  },
  {
   "cell_type": "code",
   "execution_count": 39,
   "metadata": {},
   "outputs": [
    {
     "name": "stdout",
     "output_type": "stream",
     "text": [
      "\n",
      "      The String is -> I am 25 years and 10 months old\n",
      "      After removing all characters from a string except integers -> 2510\n",
      "      \n"
     ]
    }
   ],
   "source": [
    "# 6. Removal all characters from a string except integers\n",
    "# a. str1 = 'I am 25 years and 10 months old'\n",
    "# b. expected-->2510\n",
    "\n",
    "data=input(\"Enter\")\n",
    "mylist=[]\n",
    "for index,element in enumerate(data):\n",
    "    if (ord(element)>=48 and ord(element)<=57):\n",
    "        mylist.append(element)\n",
    "update_data=''.join(mylist)\n",
    "print(f'''\n",
    "      The String is -> {data}\n",
    "      After removing all characters from a string except integers -> {update_data}\n",
    "      ''')"
   ]
  },
  {
   "cell_type": "code",
   "execution_count": 62,
   "metadata": {},
   "outputs": [
    {
     "name": "stdout",
     "output_type": "stream",
     "text": [
      "['datavizion', 'yahoo', 'google']\n"
     ]
    }
   ],
   "source": [
    "# 7. extract the email service provider name\n",
    "# a. emaillist=[\"KSR@datavizion.com\",\"mymail@yahoo.com\",\"milindmali@google.\n",
    "# com\",\"snehal@health\"]\n",
    "\n",
    "# emaillist=input(\"Enter\")\n",
    "emaillist=[\"KSR@datavizion.com\",\"mymail@yahoo.com\",\"milindmali@google.com\",\"snehal@health\"]\n",
    "emailServiceProvider=[]\n",
    "for element in emaillist:\n",
    "    if '.' in element and '@' in element and (element.rfind('@') < element.rfind('.')):\n",
    "        emailServiceProvider.append(element[element.rfind('@')+1:element.rfind('.')])\n",
    "print(emailServiceProvider)"
   ]
  },
  {
   "cell_type": "code",
   "execution_count": 63,
   "metadata": {},
   "outputs": [
    {
     "name": "stdout",
     "output_type": "stream",
     "text": [
      "milindmali108@gmail.com\n",
      "hello@hdk.com\n"
     ]
    }
   ],
   "source": [
    "# 8. extract all the emailid for the given string\n",
    "# a. string=\"Hi my name is Govind Das and my mail id is\n",
    "# milindmali108@gmail.com and my org\n",
    "# b. Output => milindmali108@gmail.com\n",
    "\n",
    "\n",
    "data=input(\"Enter\")\n",
    "# data=\"Hi my name is Govind Das and my mail id is # milindmali108@gmail.com and my org hello@hdk.com\"\n",
    "mylist=data.split()\n",
    "for element in mylist:\n",
    "    if '.' in element and '@' in element:\n",
    "        print(element)"
   ]
  },
  {
   "cell_type": "code",
   "execution_count": 6,
   "metadata": {},
   "outputs": [
    {
     "name": "stdout",
     "output_type": "stream",
     "text": [
      "{(7, 49), (2, 4), (4, 16), (8, 64), (6, 36), (3, 9), (5, 25)}\n",
      "{(7, 49), (2, 4), (4, 16), (8, 64), (6, 36), (3, 9), (5, 25)}\n"
     ]
    }
   ],
   "source": [
    "# 9. Create a Python set such that it shows the element from both lists in a pair\n",
    "# a. first_list = [2, 3, 4, 5, 6, 7, 8]\n",
    "# b. second_list = [4, 9, 16, 25, 36, 49, 64]\n",
    "# c. Result is {(6, 36), (8, 64), (4, 16), (5, 25), (3, 9), (7, 49), (2, 4)}\n",
    "\n",
    "first_list = [2, 3, 4, 5, 6, 7, 8]\n",
    "second_list = [4, 9, 16, 25, 36, 49, 64]\n",
    "\n",
    "result=set(zip(first_list,second_list))\n",
    "print(result)\n",
    "\n",
    "new_list=[]\n",
    "for index in range(0,len(first_list)):\n",
    "    new_list.append((first_list[index],second_list[index]))\n",
    "print(set(new_list))\n"
   ]
  },
  {
   "cell_type": "code",
   "execution_count": 73,
   "metadata": {},
   "outputs": [
    {
     "name": "stdout",
     "output_type": "stream",
     "text": [
      "[9, 8, 7, 6, 5, 4]\n"
     ]
    }
   ],
   "source": [
    "# 10. Write a program to reverse a List in Python\n",
    "# a. list = [4, 5, 6, 7, 8, 9]\n",
    "# b. Output => [9, 8, 7, 6, 5, 4]\n",
    "\n",
    "list1 = [4, 5, 6, 7, 8, 9]\n",
    "output=[]\n",
    "for i in range(len(list1),0,-1):\n",
    "    output.append(list1[i-1])\n",
    "print(output)"
   ]
  },
  {
   "cell_type": "code",
   "execution_count": 76,
   "metadata": {},
   "outputs": [
    {
     "name": "stdout",
     "output_type": "stream",
     "text": [
      "[4, 5, 6, 7, 8, 9]\n",
      "2948907945024\n",
      "2948907945024\n"
     ]
    }
   ],
   "source": [
    "# 11. Write a program to clone or copy the list:\n",
    "\n",
    "list1 = [4, 5, 6, 7, 8, 9]\n",
    "list2=list1\n",
    "print(list1)\n"
   ]
  },
  {
   "cell_type": "code",
   "execution_count": 98,
   "metadata": {},
   "outputs": [
    {
     "name": "stdout",
     "output_type": "stream",
     "text": [
      "sum of list element is : 39\n"
     ]
    }
   ],
   "source": [
    "# 12. Write a program to get sum of number of digit in a list\n",
    "list1 = [4, 5, 6, 7, 8, 9]\n",
    "sum1=0\n",
    "for ele in list1:\n",
    "    sum1+=ele\n",
    "print(f'sum of list element is : {sum1}')\n"
   ]
  },
  {
   "cell_type": "code",
   "execution_count": 79,
   "metadata": {},
   "outputs": [
    {
     "name": "stdout",
     "output_type": "stream",
     "text": [
      "Smallest number in the list is : 2\n"
     ]
    }
   ],
   "source": [
    "# 13. Write a program to get the smallest number in a list\n",
    "# Note => without using reverse(), sort() and slicing operator\n",
    "\n",
    "list1 = [4, 5, 6, 7,2, 8,3, 9]\n",
    "min_num=float('inf')\n",
    "\n",
    "for ele in list1:\n",
    "    if min_num > ele:\n",
    "        min_num=ele\n",
    "print(f'Smallest number in the list is : {min_num}')"
   ]
  },
  {
   "cell_type": "code",
   "execution_count": 83,
   "metadata": {},
   "outputs": [
    {
     "name": "stdout",
     "output_type": "stream",
     "text": [
      "\n",
      "The list is -> [4, 5, 6, 7, 2, 8, 3, 9]\n",
      "Even Count -> 4\n",
      "Odd Count -> 4\n",
      "Error Count -> 0\n",
      "\n"
     ]
    }
   ],
   "source": [
    "# 14. Write a program to print the count of even and odd number from a list\n",
    "\n",
    "list1 = [4, 5, 6, 7,2, 8,3, 9]\n",
    "c_even=0\n",
    "c_odd=0\n",
    "c_error=0\n",
    "for ele in list1:\n",
    "    if ele%2==0:\n",
    "        c_even+=1\n",
    "    elif ele%2!=0:\n",
    "        c_odd+=1\n",
    "    else:\n",
    "        c_error+=1\n",
    "\n",
    "print(f'''\n",
    "The list is -> {list1}\n",
    "Even Count -> {c_even}\n",
    "Odd Count -> {c_odd}\n",
    "Error Count -> {c_error}\n",
    "''')\n"
   ]
  },
  {
   "cell_type": "code",
   "execution_count": 1,
   "metadata": {},
   "outputs": [
    {
     "name": "stdout",
     "output_type": "stream",
     "text": [
      "[0, 1, 1, 0, 1, 1, 0, 0, 1]\n",
      "5\n"
     ]
    }
   ],
   "source": [
    "# 15. Write a program to get count of unique values inside a list\n",
    "# a. input_list = [1, 2, 2, 5, 8, 4, 4, 8]\n",
    "# b. Output => 5\n",
    "\n",
    "input_list = [1, 2, 2, 5, 8, 4, 4, 8]\n",
    "\n",
    "\n",
    "max_value=max(input_list)\n",
    "output_list=[0]*(max_value+1)\n",
    "for ele in input_list:\n",
    "    if output_list[ele]==0:\n",
    "        output_list[ele]+=1\n",
    "sum_value=sum(output_list)\n",
    "print(sum_value)"
   ]
  }
 ],
 "metadata": {
  "kernelspec": {
   "display_name": "Python 3",
   "language": "python",
   "name": "python3"
  },
  "language_info": {
   "codemirror_mode": {
    "name": "ipython",
    "version": 3
   },
   "file_extension": ".py",
   "mimetype": "text/x-python",
   "name": "python",
   "nbconvert_exporter": "python",
   "pygments_lexer": "ipython3",
   "version": "3.13.1"
  }
 },
 "nbformat": 4,
 "nbformat_minor": 2
}
