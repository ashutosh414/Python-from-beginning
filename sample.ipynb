{
 "cells": [
  {
   "cell_type": "code",
   "execution_count": 18,
   "metadata": {},
   "outputs": [
    {
     "name": "stdout",
     "output_type": "stream",
     "text": [
      "['I live in \\\\t    Jaipur.\\n', 'I love travling.', 'My age is x.\\n', 'my name is Ashutosh.\\n']\n"
     ]
    }
   ],
   "source": [
    "file=open(\"spider.txt\")\n",
    "lines= file.readlines()\n",
    "file.close()\n",
    "lines.sort()\n",
    "print(lines)"
   ]
  },
  {
   "cell_type": "code",
   "execution_count": 30,
   "metadata": {},
   "outputs": [
    {
     "name": "stdout",
     "output_type": "stream",
     "text": [
      "<_io.TextIOWrapper name='spider.txt' mode='r' encoding='cp1252'>\n",
      "hello\n",
      "\n",
      "it was a dark night\n",
      " i don't know what to do\n",
      "I am happy here\n",
      "I love india."
     ]
    }
   ],
   "source": [
    "with open(\"spider.txt\") as file:\n",
    "    print(file)\n",
    "    print(\"hello\")\n",
    "    for line in file:\n",
    "        print(line,end='')"
   ]
  },
  {
   "cell_type": "code",
   "execution_count": 28,
   "metadata": {},
   "outputs": [],
   "source": [
    "with open(\"spider.txt\",\"w\") as file:\n",
    "    file.write(\"\\nit was a dark night\\n i don't know what to do\")"
   ]
  },
  {
   "cell_type": "code",
   "execution_count": 29,
   "metadata": {},
   "outputs": [],
   "source": [
    "with open(\"spider.txt\",\"a\") as file:\n",
    "    file.write(\"\\nI am happy here\\nI love india.\")"
   ]
  },
  {
   "cell_type": "code",
   "execution_count": 31,
   "metadata": {},
   "outputs": [
    {
     "name": "stdout",
     "output_type": "stream",
     "text": [
      "e:\\REGEX\\Python\\spider.txt\n"
     ]
    }
   ],
   "source": [
    "import os\n",
    "print(os.path.abspath(\"spider.txt\"))"
   ]
  },
  {
   "cell_type": "code",
   "execution_count": 34,
   "metadata": {},
   "outputs": [
    {
     "name": "stdout",
     "output_type": "stream",
     "text": [
      "79\n"
     ]
    }
   ],
   "source": [
    "# get the size of the file\n",
    "print(os.path.getsize(\"spider.txt\"))"
   ]
  },
  {
   "cell_type": "code",
   "execution_count": 35,
   "metadata": {},
   "outputs": [
    {
     "name": "stdout",
     "output_type": "stream",
     "text": [
      "True\n"
     ]
    }
   ],
   "source": [
    "# check file exist or not\n",
    "print(os.path.isfile(\"spider.txt\"))"
   ]
  },
  {
   "cell_type": "code",
   "execution_count": 36,
   "metadata": {},
   "outputs": [
    {
     "name": "stdout",
     "output_type": "stream",
     "text": [
      "e:\\REGEX\\Python\n"
     ]
    }
   ],
   "source": [
    "# pritn /show the current location\n",
    "print(os.getcwd())"
   ]
  },
  {
   "cell_type": "code",
   "execution_count": 38,
   "metadata": {},
   "outputs": [
    {
     "name": "stdout",
     "output_type": "stream",
     "text": [
      "['.git', '.vscode', 'Assignment001_AshutoshMittal_ifElseFile.ipynb', 'Assignment003_AshutoshMittal_forLoop.ipynb', 'Day001PythonTesting.ipynb', 'Day002StringSlicing_Operator_ForLoop.ipynb', 'Day003Learning assignment-python.pdf', 'Day003_ForLoop.ipynb', 'Day004Test Python Conditional - nested - 20 Questions.pdf', 'Day004WhileLoop.ipynb', 'sample.ipynb', 'spider.txt', 'TOCofPython.pdf']\n"
     ]
    }
   ],
   "source": [
    "# list all the directory, files,subdirectories in the current directory\n",
    "print(os.listdir(os.getcwd()))"
   ]
  },
  {
   "cell_type": "code",
   "execution_count": 49,
   "metadata": {},
   "outputs": [
    {
     "name": "stdout",
     "output_type": "stream",
     "text": [
      "e:\\REGEX\\Python\n"
     ]
    }
   ],
   "source": [
    "# Change the directory location\n",
    "os.chdir(\"E:\\\\REGEX\\\\Python\")\n",
    "print(os.getcwd())"
   ]
  },
  {
   "cell_type": "code",
   "execution_count": null,
   "metadata": {},
   "outputs": [],
   "source": [
    "# Make a new Directory\n",
    "os.mkdir(\"newFolder\")\n"
   ]
  },
  {
   "cell_type": "code",
   "execution_count": 52,
   "metadata": {},
   "outputs": [],
   "source": [
    "# Remove the directory\n",
    "os.rmdir(\"newFolder\")"
   ]
  },
  {
   "cell_type": "code",
   "execution_count": 10,
   "metadata": {},
   "outputs": [
    {
     "name": "stdout",
     "output_type": "stream",
     "text": [
      "not same\n",
      "ahjgkshdjk12a\n"
     ]
    }
   ],
   "source": [
    "a='ahjgkshdjk12a'\n",
    "b='ahjgkshdjk12'\n",
    "b+='a'\n",
    "# b='a12a'\n",
    "if(a is b):\n",
    "    print(a)\n",
    "else:\n",
    "    print('not same')\n",
    "    print(b)\n"
   ]
  },
  {
   "cell_type": "code",
   "execution_count": 14,
   "metadata": {},
   "outputs": [
    {
     "name": "stdout",
     "output_type": "stream",
     "text": [
      "Non Symmetric\n"
     ]
    }
   ],
   "source": [
    "str='baabaa'\n",
    "flag=1\n",
    "halflen=len(str)//2\n",
    "for i in range(0,halflen):\n",
    "    if len(str)%2==1 and str[i]!=str[halflen+1+i]:\n",
    "        flag=0\n",
    "        break\n",
    "    if str[i]!=str[halflen+i] and len(str)%2==0:\n",
    "        flag=0\n",
    "        break\n",
    "if(flag):\n",
    "    print('Symmetric')\n",
    "else:\n",
    "    print('Non Symmetric')  "
   ]
  },
  {
   "cell_type": "code",
   "execution_count": null,
   "metadata": {},
   "outputs": [],
   "source": []
  }
 ],
 "metadata": {
  "kernelspec": {
   "display_name": "Python 3",
   "language": "python",
   "name": "python3"
  },
  "language_info": {
   "codemirror_mode": {
    "name": "ipython",
    "version": 3
   },
   "file_extension": ".py",
   "mimetype": "text/x-python",
   "name": "python",
   "nbconvert_exporter": "python",
   "pygments_lexer": "ipython3",
   "version": "3.13.1"
  }
 },
 "nbformat": 4,
 "nbformat_minor": 2
}
