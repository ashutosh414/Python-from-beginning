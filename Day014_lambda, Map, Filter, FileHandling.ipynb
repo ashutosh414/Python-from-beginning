{
 "cells": [
  {
   "cell_type": "code",
   "execution_count": null,
   "metadata": {},
   "outputs": [],
   "source": []
  },
  {
   "cell_type": "code",
   "execution_count": 3,
   "metadata": {},
   "outputs": [
    {
     "name": "stdout",
     "output_type": "stream",
     "text": [
      "['my', 'name', 'is', 'ashutosh']\n"
     ]
    }
   ],
   "source": [
    "def func(x):\n",
    "    y=x.split()\n",
    "    print(y)\n",
    "func(\"my name is ashutosh\")"
   ]
  },
  {
   "cell_type": "code",
   "execution_count": 2,
   "metadata": {},
   "outputs": [
    {
     "data": {
      "text/plain": [
       "['my', 'name', 'is', 'ashutosh']"
      ]
     },
     "execution_count": 2,
     "metadata": {},
     "output_type": "execute_result"
    }
   ],
   "source": [
    "# lambda parameter : expression\n",
    "\n",
    "a= lambda x: x.split(\" \")\n",
    "a(\"my name is ashutosh\")"
   ]
  },
  {
   "cell_type": "code",
   "execution_count": 8,
   "metadata": {},
   "outputs": [
    {
     "data": {
      "text/plain": [
       "50"
      ]
     },
     "execution_count": 8,
     "metadata": {},
     "output_type": "execute_result"
    }
   ],
   "source": [
    "# map is a funtion , take another funtion as a argument and return the final result.\n",
    "\n",
    "def func(num):\n",
    "    return num*5\n",
    "\n",
    "y=[10,29,67]\n",
    "out=map(func, y)\n",
    "next(out)\n"
   ]
  },
  {
   "cell_type": "code",
   "execution_count": 9,
   "metadata": {},
   "outputs": [
    {
     "data": {
      "text/plain": [
       "145"
      ]
     },
     "execution_count": 9,
     "metadata": {},
     "output_type": "execute_result"
    }
   ],
   "source": [
    "next(out)"
   ]
  },
  {
   "cell_type": "code",
   "execution_count": 10,
   "metadata": {},
   "outputs": [
    {
     "data": {
      "text/plain": [
       "335"
      ]
     },
     "execution_count": 10,
     "metadata": {},
     "output_type": "execute_result"
    }
   ],
   "source": [
    "next(out)"
   ]
  },
  {
   "cell_type": "code",
   "execution_count": 11,
   "metadata": {},
   "outputs": [
    {
     "ename": "StopIteration",
     "evalue": "",
     "output_type": "error",
     "traceback": [
      "\u001b[1;31m---------------------------------------------------------------------------\u001b[0m",
      "\u001b[1;31mStopIteration\u001b[0m                             Traceback (most recent call last)",
      "Cell \u001b[1;32mIn[11], line 1\u001b[0m\n\u001b[1;32m----> 1\u001b[0m \u001b[38;5;28;43mnext\u001b[39;49m\u001b[43m(\u001b[49m\u001b[43mout\u001b[49m\u001b[43m)\u001b[49m\n",
      "\u001b[1;31mStopIteration\u001b[0m: "
     ]
    }
   ],
   "source": [
    "next(out)"
   ]
  },
  {
   "cell_type": "code",
   "execution_count": 7,
   "metadata": {},
   "outputs": [
    {
     "name": "stdout",
     "output_type": "stream",
     "text": [
      "[50, 145, 335]\n"
     ]
    }
   ],
   "source": [
    "def func(num):\n",
    "    return num*5\n",
    "\n",
    "y=[10,29,67]\n",
    "out=map(func, y)\n",
    "print(list(out))"
   ]
  },
  {
   "cell_type": "code",
   "execution_count": 13,
   "metadata": {},
   "outputs": [
    {
     "data": {
      "text/plain": [
       "[50, 145, 335]"
      ]
     },
     "execution_count": 13,
     "metadata": {},
     "output_type": "execute_result"
    }
   ],
   "source": [
    "y=[10,29,67]\n",
    "\n",
    "list(map(lambda num :num*5 , y))"
   ]
  },
  {
   "cell_type": "code",
   "execution_count": 15,
   "metadata": {},
   "outputs": [
    {
     "name": "stdout",
     "output_type": "stream",
     "text": [
      "[2, 4, 6]\n"
     ]
    }
   ],
   "source": [
    "#  take a list of the values and find the only even values\n",
    "y=[1,2,3,4,5,6]\n",
    "output= filter(lambda num :num%2==0 , y)\n",
    "print(list(output))"
   ]
  },
  {
   "cell_type": "code",
   "execution_count": 2,
   "metadata": {},
   "outputs": [],
   "source": [
    "# File handling\n",
    "# Day14_readfile.txt\n",
    "\n",
    "fileobj=open('Day14_readfile.txt')\n",
    "fileobj_data=fileobj.read()\n",
    "fileobj.close()"
   ]
  },
  {
   "cell_type": "code",
   "execution_count": 3,
   "metadata": {},
   "outputs": [
    {
     "name": "stdout",
     "output_type": "stream",
     "text": [
      "Hello Ashutosh\n"
     ]
    }
   ],
   "source": [
    "print(fileobj_data)"
   ]
  },
  {
   "cell_type": "code",
   "execution_count": 7,
   "metadata": {},
   "outputs": [],
   "source": [
    "# w-> overwrite all its previous content \n",
    "\n",
    "\n",
    "fileobj=open('Day14_readfile.txt',\"w\")\n",
    "fileobj.write(\"Hello My name is Ashutosh.\")\n",
    "fileobj.close()"
   ]
  },
  {
   "cell_type": "code",
   "execution_count": 8,
   "metadata": {},
   "outputs": [
    {
     "name": "stdout",
     "output_type": "stream",
     "text": [
      "Hello My name is Ashutosh.\n",
      "After write data\n",
      "\n"
     ]
    }
   ],
   "source": [
    "# r+ -> you can read and write in a file and write work as append\n",
    "fileobj=open('Day14_readfile.txt','r+')\n",
    "fileobj_data=fileobj.read()\n",
    "fileobj.write(\"I live in India.\")\n",
    "fileobj_data1=fileobj.read()\n",
    "fileobj.close()\n",
    "\n",
    "print(fileobj_data)\n",
    "print(\"After write data\")\n",
    "print(fileobj_data1)"
   ]
  },
  {
   "cell_type": "code",
   "execution_count": null,
   "metadata": {},
   "outputs": [],
   "source": [
    "\n",
    "fileobj=open('Day14_readfile.txt','r+')\n",
    "fileobj_data=fileobj.read()\n",
    "fileobj.write(\"I live in India.\")\n",
    "fileobj_data1=fileobj.read()\n",
    "fileobj.close()"
   ]
  },
  {
   "cell_type": "markdown",
   "metadata": {},
   "source": [
    "read w+,a,\n",
    "and practice on hackerrank"
   ]
  }
 ],
 "metadata": {
  "kernelspec": {
   "display_name": "Python 3",
   "language": "python",
   "name": "python3"
  },
  "language_info": {
   "codemirror_mode": {
    "name": "ipython",
    "version": 3
   },
   "file_extension": ".py",
   "mimetype": "text/x-python",
   "name": "python",
   "nbconvert_exporter": "python",
   "pygments_lexer": "ipython3",
   "version": "3.13.1"
  }
 },
 "nbformat": 4,
 "nbformat_minor": 2
}
