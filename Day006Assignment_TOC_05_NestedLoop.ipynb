{
 "cells": [
  {
   "cell_type": "code",
   "execution_count": null,
   "metadata": {},
   "outputs": [
    {
     "name": "stdout",
     "output_type": "stream",
     "text": [
      " ****\n",
      "  ****\n",
      "   ****\n",
      "    ****\n"
     ]
    }
   ],
   "source": [
    "# 1.\n",
    "num=int(input('Enter the number:'))\n",
    "\n",
    "for i in range(0,num):\n",
    "    print(' '*i,'*'*num)"
   ]
  },
  {
   "cell_type": "code",
   "execution_count": 1,
   "metadata": {},
   "outputs": [
    {
     "name": "stdout",
     "output_type": "stream",
     "text": [
      "******\n",
      "*    *\n",
      "*    *\n",
      "******\n"
     ]
    }
   ],
   "source": [
    "num=int(input(\"Enter:\"))\n",
    "for i in range(0,num):\n",
    "    for j in range(0,num+2):\n",
    "        print('*',end='') if i==0 or j==0 or i==num-1 or j==num+1 else print(' ',end='')\n",
    "    print('')"
   ]
  },
  {
   "cell_type": "code",
   "execution_count": 5,
   "metadata": {},
   "outputs": [
    {
     "name": "stdout",
     "output_type": "stream",
     "text": [
      "A \n",
      "A B \n",
      "A B C \n",
      "A B C D \n",
      "A B C D E \n"
     ]
    }
   ],
   "source": [
    "# 3.\n",
    "num=int(input('Enter the number:'))\n",
    "a=65\n",
    "for i in range(0,num):\n",
    "    for j in range(a,a+i+1):\n",
    "        print(chr(j),end=' ')\n",
    "    print('')"
   ]
  },
  {
   "cell_type": "code",
   "execution_count": 6,
   "metadata": {},
   "outputs": [
    {
     "name": "stdout",
     "output_type": "stream",
     "text": [
      "A \n",
      "B B \n",
      "C C C \n",
      "D D D D \n",
      "E E E E E \n"
     ]
    }
   ],
   "source": [
    "# 4.\n",
    "num=int(input('Enter the number:'))\n",
    "a=65\n",
    "for i in range(0,num):\n",
    "    for j in range(0,i+1):\n",
    "        print(chr(a+i),end=' ')\n",
    "    print('')"
   ]
  },
  {
   "cell_type": "code",
   "execution_count": 7,
   "metadata": {},
   "outputs": [
    {
     "name": "stdout",
     "output_type": "stream",
     "text": [
      "E \n",
      "D E \n",
      "C D E \n",
      "B C D E \n",
      "A B C D E \n"
     ]
    }
   ],
   "source": [
    "# 5.\n",
    "\n",
    "num=int(input('Enter the number:'))\n",
    "a=65\n",
    "for i in range(num,0,-1):\n",
    "    for j in range(num-i+1,0,-1):\n",
    "        print(chr(a+num-j),end=' ')\n",
    "    print('')"
   ]
  },
  {
   "cell_type": "code",
   "execution_count": 8,
   "metadata": {},
   "outputs": [
    {
     "name": "stdout",
     "output_type": "stream",
     "text": [
      "        * \n",
      "      * * \n",
      "    * * * \n",
      "  * * * * \n",
      "* * * * * \n"
     ]
    }
   ],
   "source": [
    "# 7.\n",
    "num=int(input('Enter the number:'))\n",
    "a=65\n",
    "for i in range(0,num):\n",
    "    for j in range(0,num-i-1):\n",
    "        print(' ',end=' ')\n",
    "    for k in range(0,i+1):\n",
    "        print(\"*\",end=' ')\n",
    "    print('')"
   ]
  },
  {
   "cell_type": "code",
   "execution_count": 9,
   "metadata": {},
   "outputs": [
    {
     "name": "stdout",
     "output_type": "stream",
     "text": [
      "        1 \n",
      "      1 2 \n",
      "    1 2 3 \n",
      "  1 2 3 4 \n",
      "1 2 3 4 5 \n"
     ]
    }
   ],
   "source": [
    "# 7.\n",
    "num=int(input('Enter the number:'))\n",
    "a=65\n",
    "for i in range(0,num):\n",
    "    for j in range(0,num-i-1):\n",
    "        print(' ',end=' ')\n",
    "    for k in range(0,i+1):\n",
    "        print(k+1,end=' ')\n",
    "    print('')"
   ]
  },
  {
   "cell_type": "code",
   "execution_count": 10,
   "metadata": {},
   "outputs": [
    {
     "name": "stdout",
     "output_type": "stream",
     "text": [
      "1 2 3 4 5 \n",
      "  1 2 3 4 \n",
      "    1 2 3 \n",
      "      1 2 \n",
      "        1 \n"
     ]
    }
   ],
   "source": [
    "# 8.\n",
    "num=int(input('Enter the number:'))\n",
    "a=65\n",
    "for i in range(0,num):\n",
    "    for j in range(0,i):\n",
    "        print(' ',end=' ')\n",
    "    for k in range(0,num-i):\n",
    "        print(k+1,end=' ')\n",
    "    print('')"
   ]
  },
  {
   "cell_type": "code",
   "execution_count": 11,
   "metadata": {},
   "outputs": [
    {
     "name": "stdout",
     "output_type": "stream",
     "text": [
      "A B C D E \n",
      "  A B C D \n",
      "    A B C \n",
      "      A B \n",
      "        A \n"
     ]
    }
   ],
   "source": [
    "# 8.\n",
    "num=int(input('Enter the number:'))\n",
    "a=65\n",
    "for i in range(0,num):\n",
    "    for j in range(0,i):\n",
    "        print(' ',end=' ')\n",
    "    for k in range(0,num-i):\n",
    "        print(chr(a+k),end=' ')\n",
    "    print('')"
   ]
  },
  {
   "cell_type": "code",
   "execution_count": 12,
   "metadata": {},
   "outputs": [
    {
     "name": "stdout",
     "output_type": "stream",
     "text": [
      "     * * * * * \n",
      "    * * * * * \n",
      "   * * * * * \n",
      "  * * * * * \n",
      " * * * * * \n"
     ]
    }
   ],
   "source": [
    "# 9.\n",
    "num=int(input('Enter the number:'))\n",
    "a=65\n",
    "for i in range(0,num):\n",
    "    for j in range(0,num-i):\n",
    "        print('',end=' ')\n",
    "    for k in range(0,num):\n",
    "        print('*',end=' ')\n",
    "    print('')"
   ]
  },
  {
   "cell_type": "code",
   "execution_count": 13,
   "metadata": {},
   "outputs": [
    {
     "name": "stdout",
     "output_type": "stream",
     "text": [
      "     1 2 3 4 5 \n",
      "    1 2 3 4 5 \n",
      "   1 2 3 4 5 \n",
      "  1 2 3 4 5 \n",
      " 1 2 3 4 5 \n"
     ]
    }
   ],
   "source": [
    "# 9.\n",
    "num=int(input('Enter the number:'))\n",
    "a=65\n",
    "for i in range(0,num):\n",
    "    for j in range(0,num-i):\n",
    "        print('',end=' ')\n",
    "    for k in range(0,num):\n",
    "        print(k+1,end=' ')\n",
    "    print('')"
   ]
  },
  {
   "cell_type": "code",
   "execution_count": 14,
   "metadata": {},
   "outputs": [
    {
     "name": "stdout",
     "output_type": "stream",
     "text": [
      "     A B C D E \n",
      "    A B C D E \n",
      "   A B C D E \n",
      "  A B C D E \n",
      " A B C D E \n"
     ]
    }
   ],
   "source": [
    "# 9.\n",
    "num=int(input('Enter the number:'))\n",
    "a=65\n",
    "for i in range(0,num):\n",
    "    for j in range(0,num-i):\n",
    "        print('',end=' ')\n",
    "    for k in range(0,num):\n",
    "        print(chr(a+k),end=' ')\n",
    "    print('')"
   ]
  },
  {
   "cell_type": "code",
   "execution_count": 15,
   "metadata": {},
   "outputs": [
    {
     "name": "stdout",
     "output_type": "stream",
     "text": [
      "     *\n",
      "    ***\n",
      "   *****\n",
      "  *******\n",
      " *********\n"
     ]
    }
   ],
   "source": [
    "# 12.\n",
    "num=int(input('Enter the number:'))\n",
    "a=65\n",
    "for i in range(0,num):\n",
    "    for j in range(0,num-i):\n",
    "        print(' ',end='')\n",
    "    for k in range(0,i+1):\n",
    "        print('*',end='')\n",
    "    for l in range(0,i):\n",
    "        print('*',end='')\n",
    "\n",
    "    print('')"
   ]
  },
  {
   "cell_type": "code",
   "execution_count": 16,
   "metadata": {},
   "outputs": [
    {
     "name": "stdout",
     "output_type": "stream",
     "text": [
      "    *\n",
      "   * *\n",
      "  *   *\n",
      " *     *\n",
      "*********\n"
     ]
    }
   ],
   "source": [
    "# 13\n",
    "\n",
    "num=int(input('Enter the number:'))\n",
    "for i in range(0,num):\n",
    "    for j in range(1,num-i):\n",
    "        print(' ',end='')\n",
    "    for k in range(0,i+1):\n",
    "        if k==0 or i==num-1:\n",
    "            print('*',end='')\n",
    "        else:\n",
    "            print(' ',end='')\n",
    "    for l in range(0,i):\n",
    "        print('*',end='') if l==i-1 or i==num-1 else print(' ',end='')\n",
    "    print(\"\")"
   ]
  },
  {
   "cell_type": "code",
   "execution_count": 17,
   "metadata": {},
   "outputs": [
    {
     "name": "stdout",
     "output_type": "stream",
     "text": [
      "*********\n",
      " *******\n",
      "  *****\n",
      "   ***\n",
      "    *\n"
     ]
    }
   ],
   "source": [
    "# 14.\n",
    "\n",
    "num=int(input('Enter:'))\n",
    "for i in range(0,num):\n",
    "    for j in range(0,i):\n",
    "        print(end=' ')\n",
    "    for k in range(0,num-i):\n",
    "        print(end='*')\n",
    "    for l in range(1,num-i):\n",
    "        print(end=\"*\")\n",
    "    \n",
    "    print('')"
   ]
  },
  {
   "cell_type": "code",
   "execution_count": 18,
   "metadata": {},
   "outputs": [
    {
     "name": "stdout",
     "output_type": "stream",
     "text": [
      "*\n",
      "**\n",
      "***\n",
      "****\n",
      "*****\n",
      "****\n",
      "***\n",
      "**\n",
      "*\n"
     ]
    }
   ],
   "source": [
    "# 15\n",
    "num=int(input('Enter the number:'))\n",
    "for i in range(0,num):\n",
    "    for j in range(0,i+1):\n",
    "        print('*',end='')\n",
    "    print('')\n",
    "for i in range(1,num):\n",
    "    for j in range(0,num-i):\n",
    "        print('*',end='')\n",
    "    print('')"
   ]
  },
  {
   "cell_type": "code",
   "execution_count": 19,
   "metadata": {},
   "outputs": [
    {
     "name": "stdout",
     "output_type": "stream",
     "text": [
      "    *\n",
      "   **\n",
      "  ***\n",
      " ****\n",
      "*****\n",
      " ****\n",
      "  ***\n",
      "   **\n",
      "    *\n"
     ]
    }
   ],
   "source": [
    "# 16\n",
    "num=int(input('Enter the number:'))\n",
    "for i in range(0,num):\n",
    "    for j in range(1,num-i):\n",
    "        print(' ',end='')\n",
    "    for k in range(0,i+1):\n",
    "        print('*',end='')\n",
    "    print('')\n",
    "for i in range(0,num-1):\n",
    "    for k in range(0,i+1):\n",
    "        print(' ',end='')\n",
    "    for j in range(0,num-i-1):\n",
    "        print('*',end='')\n",
    "    print('')"
   ]
  },
  {
   "cell_type": "code",
   "execution_count": 20,
   "metadata": {},
   "outputs": [
    {
     "name": "stdout",
     "output_type": "stream",
     "text": [
      "    *\n",
      "   ***\n",
      "  *****\n",
      " *******\n",
      "*********\n",
      " *******\n",
      "  *****\n",
      "   ***\n",
      "    *\n"
     ]
    }
   ],
   "source": [
    "# 17\n",
    "num=int(input('Enter the number:'))\n",
    "for i in range(0,num):\n",
    "    for j in range(1,num-i):\n",
    "        print(' ',end='')\n",
    "    for k in range(0,i+1):\n",
    "        print('*',end='')\n",
    "    for j in range(0,i):\n",
    "        print('*',end='')\n",
    "    print('')\n",
    "for i in range(0,num-1):\n",
    "    for k in range(0,i+1):\n",
    "        print(' ',end='')\n",
    "    for j in range(0,num-i-1):\n",
    "        print('*',end='')\n",
    "    for j in range(0,num-i-2):\n",
    "        print('*',end='')\n",
    "    print('')"
   ]
  },
  {
   "cell_type": "code",
   "execution_count": 21,
   "metadata": {},
   "outputs": [
    {
     "name": "stdout",
     "output_type": "stream",
     "text": [
      "1 \n",
      "1 2 \n",
      "1 2 3 \n",
      "1 2 3 4 \n",
      "1 2 3 4 5 \n"
     ]
    }
   ],
   "source": [
    "# Half Pyramid\n",
    "num=int(input('Enter the number:'))\n",
    "for i in range(1,num+1):\n",
    "    for j in range(1,i+1):\n",
    "        print(j,end=' ')\n",
    "    print('')"
   ]
  },
  {
   "cell_type": "code",
   "execution_count": 22,
   "metadata": {},
   "outputs": [
    {
     "name": "stdout",
     "output_type": "stream",
     "text": [
      "1 2 3 4 5 \n",
      "1 2 3 4 \n",
      "1 2 3 \n",
      "1 2 \n",
      "1 \n",
      "\n"
     ]
    }
   ],
   "source": [
    "# Invered Half Pyramid\n",
    "num=int(input('Enter the number:'))\n",
    "for i in range(0,num+1):\n",
    "    for j in range(1,num-i+1):\n",
    "        print(j,end=' ')\n",
    "    print('')"
   ]
  },
  {
   "cell_type": "code",
   "execution_count": 23,
   "metadata": {},
   "outputs": [
    {
     "name": "stdout",
     "output_type": "stream",
     "text": [
      "1 \n",
      "1 2 \n",
      "1   3 \n",
      "1     4 \n",
      "1 2 3 4 5 \n"
     ]
    }
   ],
   "source": [
    "# Hollow Half Pyramid\n",
    "\n",
    "num=int(input('Enter the number:'))\n",
    "for i in range(1,num+1):\n",
    "    for j in range(1,i+1):\n",
    "        if j==1 or j==i or i==num:\n",
    "            print(j,end=' ')\n",
    "        else:\n",
    "            print(' ',end=' ')\n",
    "    print('')"
   ]
  },
  {
   "cell_type": "code",
   "execution_count": 24,
   "metadata": {},
   "outputs": [
    {
     "name": "stdout",
     "output_type": "stream",
     "text": [
      "        1 \n",
      "      2 3 2 \n",
      "    3 4 5 4 3 \n",
      "  4 5 6 7 6 5 4 \n",
      "5 6 7 8 9 8 7 6 5 \n"
     ]
    }
   ],
   "source": [
    "# Full Pyramid\n",
    "num=int(input('Enter the number:'))\n",
    "for i in range(1,num+1):\n",
    "    for l in range(i,num):\n",
    "        print(' ',end=' ')\n",
    "    for j in range(1,i+1):\n",
    "        print(i+j-1,end=' ')\n",
    "    for k in range(1,i):\n",
    "        print(2*i-k-1,end=' ')\n",
    "    print('')\n",
    "    "
   ]
  },
  {
   "cell_type": "code",
   "execution_count": 25,
   "metadata": {},
   "outputs": [
    {
     "name": "stdout",
     "output_type": "stream",
     "text": [
      "    1 \n",
      "   1 2 \n",
      "  1   3 \n",
      " 1     4 \n",
      "1 2 3 4 5 \n"
     ]
    }
   ],
   "source": [
    "# Hollow Full Pyramid\n",
    "num=int(input('Enter the number:')) \n",
    "for i in range(1,num+1):\n",
    "    for j in range(i,num):\n",
    "        print(' ',end='')\n",
    "    for k in range(1,i+1):\n",
    "        print(k,end=' ') if k==1 or i==num or k==i else print(' ',end=' ')\n",
    "    print('')\n",
    "    "
   ]
  },
  {
   "cell_type": "code",
   "execution_count": 26,
   "metadata": {},
   "outputs": [
    {
     "name": "stdout",
     "output_type": "stream",
     "text": [
      "1 2 3 4 5 \n",
      "2     5 \n",
      "3   5 \n",
      "4 5 \n",
      "5 \n"
     ]
    }
   ],
   "source": [
    "# Hollow Inverted Half Pyramid\n",
    "num=int(input('Enter the number:'))\n",
    "for i in range(1,num+1):\n",
    "    for j in range(1,num+1):\n",
    "        if i==1 or j==i or j==num:\n",
    "            print(j,end=' ')\n",
    "        elif j<i:\n",
    "            print('',end='')\n",
    "        else:\n",
    "            print(' ',end=' ')\n",
    "    print('')"
   ]
  },
  {
   "cell_type": "code",
   "execution_count": 27,
   "metadata": {},
   "outputs": [
    {
     "name": "stdout",
     "output_type": "stream",
     "text": [
      "        * \n",
      "      * * * \n",
      "    * * * * * \n",
      "  * * * * * * * \n",
      "* * * * * * * * * \n",
      "  * * * * * * * \n",
      "    * * * * * \n",
      "      * * * \n",
      "        * \n"
     ]
    }
   ],
   "source": [
    "# 19\n",
    "num=int(input('Enter the number:'))\n",
    "for i in range(0,num):\n",
    "    for j in range(1,num-i):\n",
    "        print(' ',end=' ')\n",
    "    for k in range(0,i+1):\n",
    "        print('*',end=' ')\n",
    "    for j in range(0,i):\n",
    "        print('*',end=' ')\n",
    "    print('')\n",
    "for i in range(0,num-1):\n",
    "    for k in range(0,i+1):\n",
    "        print(' ',end=' ')\n",
    "    for j in range(0,num-i-1):\n",
    "        print('*',end=' ')\n",
    "    for j in range(0,num-i-2):\n",
    "        print('*',end=' ')\n",
    "    print('')"
   ]
  },
  {
   "cell_type": "code",
   "execution_count": 28,
   "metadata": {},
   "outputs": [
    {
     "name": "stdout",
     "output_type": "stream",
     "text": [
      "        1 \n",
      "      1 2 3 \n",
      "    1 2 3 4 5 \n",
      "  1 2 3 4 5 6 7 \n",
      "1 2 3 4 5 6 7 8 9 \n",
      "  1 2 3 4 5 6 7 \n",
      "    1 2 3 4 5 \n",
      "      1 2 3 \n",
      "        1 \n"
     ]
    }
   ],
   "source": [
    "# 19\n",
    "num=int(input('Enter the number:'))\n",
    "for i in range(0,num):\n",
    "    for j in range(1,num-i):\n",
    "        print(' ',end=' ')\n",
    "    for k in range(0,i+1):\n",
    "        print(k+1,end=' ')\n",
    "    for l in range(0,i):\n",
    "        print(l+i+2,end=' ')\n",
    "    print('')\n",
    "for i in range(0,num-1):\n",
    "    ak=0\n",
    "    for j in range(0,i+1):\n",
    "        print(' ',end=' ')\n",
    "    for k in range(0,num-i-1):\n",
    "        print(k+1,end=' ')\n",
    "        ak+=1\n",
    "    for l in range(0,num-i-2):\n",
    "        print(ak+l+1,end=' ')\n",
    "    print('')"
   ]
  },
  {
   "cell_type": "code",
   "execution_count": 29,
   "metadata": {},
   "outputs": [
    {
     "name": "stdout",
     "output_type": "stream",
     "text": [
      "  1 2 3 4 5 6 7 8 9 \n",
      "    1 2 3 4 5 6 7 \n",
      "      1 2 3 4 5 \n",
      "        1 2 3 \n",
      "          1 \n",
      "        1 2 3 \n",
      "      1 2 3 4 5 \n",
      "    1 2 3 4 5 6 7 \n",
      "  1 2 3 4 5 6 7 8 9 \n"
     ]
    }
   ],
   "source": [
    "# 20.\n",
    "num=int(input('Enter the number:'))\n",
    "for i in range(1,num):\n",
    "    for j in range(1,i+1):\n",
    "        print(end='  ')\n",
    "    for k in range(1,num*2-2*(i-1)):\n",
    "        print(k,end=' ')\n",
    "    print('')\n",
    "\n",
    "for i in range(1,num+1):\n",
    "    for j in range(1,num-i+2):\n",
    "        print(end='  ')\n",
    "    for k in range(1,(i)*2):\n",
    "        print(k,end=' ')\n",
    "    print('')"
   ]
  },
  {
   "cell_type": "code",
   "execution_count": 30,
   "metadata": {},
   "outputs": [
    {
     "name": "stdout",
     "output_type": "stream",
     "text": [
      "  A B C D E F G H I \n",
      "    A B C D E F G \n",
      "      A B C D E \n",
      "        A B C \n",
      "          A \n",
      "        A B C \n",
      "      A B C D E \n",
      "    A B C D E F G \n",
      "  A B C D E F G H I \n"
     ]
    }
   ],
   "source": [
    "# 20.\n",
    "num=int(input('Enter the number:'))\n",
    "a=64\n",
    "for i in range(1,num):\n",
    "    for j in range(1,i+1):\n",
    "        print(end='  ')\n",
    "    for k in range(1,num*2-2*(i-1)):\n",
    "        print(chr(k+a),end=' ')\n",
    "    print('')\n",
    "\n",
    "for i in range(1,num+1):\n",
    "    for j in range(1,num-i+2):\n",
    "        print(end='  ')\n",
    "    for k in range(1,(i)*2):\n",
    "        print(chr(k+a),end=' ')\n",
    "    print('')"
   ]
  },
  {
   "cell_type": "code",
   "execution_count": 31,
   "metadata": {},
   "outputs": [
    {
     "name": "stdout",
     "output_type": "stream",
     "text": [
      "* * * * * \n",
      "*       * \n",
      "*       * \n",
      "*       * \n",
      "* * * * * \n"
     ]
    }
   ],
   "source": [
    "# 21.\n",
    "num=int(input('Enter the number:'))\n",
    "for i in range(1,num+1):\n",
    "    for j in range(1,num+1):\n",
    "        if i==1 or j==1 or i==num or j==num:\n",
    "            print('*',end=' ')\n",
    "        else:\n",
    "            print(\" \",end=' ')\n",
    "    print(\"\")"
   ]
  },
  {
   "cell_type": "code",
   "execution_count": 32,
   "metadata": {},
   "outputs": [
    {
     "name": "stdout",
     "output_type": "stream",
     "text": [
      "1 2 3 4 5 \n",
      "1       5 \n",
      "1       5 \n",
      "1       5 \n",
      "1 2 3 4 5 \n"
     ]
    }
   ],
   "source": [
    "# 21.\n",
    "num=int(input('Enter the number:'))\n",
    "for i in range(1,num+1):\n",
    "    for j in range(1,num+1):\n",
    "        if i==1 or j==1 or i==num or j==num:\n",
    "            print(j,end=' ')\n",
    "        else:\n",
    "            print(\" \",end=' ')\n",
    "    print(\"\")"
   ]
  },
  {
   "cell_type": "code",
   "execution_count": 33,
   "metadata": {},
   "outputs": [
    {
     "name": "stdout",
     "output_type": "stream",
     "text": [
      "A B C D E \n",
      "A       E \n",
      "A       E \n",
      "A       E \n",
      "A B C D E \n"
     ]
    }
   ],
   "source": [
    "# 21.\n",
    "num=int(input('Enter the number:'))\n",
    "a=64\n",
    "for i in range(1,num+1):\n",
    "    for j in range(1,num+1):\n",
    "        if i==1 or j==1 or i==num or j==num:\n",
    "            print(chr(a+j),end=' ')\n",
    "        else:\n",
    "            print(\" \",end=' ')\n",
    "    print(\"\")"
   ]
  },
  {
   "cell_type": "code",
   "execution_count": 34,
   "metadata": {},
   "outputs": [
    {
     "name": "stdout",
     "output_type": "stream",
     "text": [
      "        1 \n",
      "      1   3 \n",
      "    1       5 \n",
      "  1           7 \n",
      "1               9 \n",
      "  1           7 \n",
      "    1       5 \n",
      "      1   3 \n",
      "        1 \n"
     ]
    }
   ],
   "source": [
    "# 22.\n",
    "\n",
    "# num=int(input('Enter the number:'))\n",
    "num=5\n",
    "for i in range(0,num):\n",
    "    for j in range(1,num-i):\n",
    "        print(' ',end=' ')\n",
    "    for k in range(0,i+1):\n",
    "        print(k+1,end=' ') if k==0 else print(' ',end=' ')\n",
    "    for l in range(0,i):\n",
    "        print(l+i+2,end=' ') if l==i-1 else print(' ',end=' ')\n",
    "    print('')\n",
    "for i in range(0,num-1):\n",
    "    ak=0\n",
    "    for j in range(0,i+1):\n",
    "        print(' ',end=' ')\n",
    "    for k in range(0,num-i-1):\n",
    "        print(k+1,end=' ') if k==0 else print(' ',end=' ')\n",
    "        ak+=1\n",
    "    for l in range(0,num-i-2):\n",
    "        print(ak+l+1,end=' ') if l==num-i-3 else print(' ',end=' ')\n",
    "    print('')"
   ]
  },
  {
   "cell_type": "code",
   "execution_count": 35,
   "metadata": {},
   "outputs": [
    {
     "name": "stdout",
     "output_type": "stream",
     "text": [
      "        * \n",
      "      *   * \n",
      "    *       * \n",
      "  *           * \n",
      "*               * \n",
      "  *           * \n",
      "    *       * \n",
      "      *   * \n",
      "        * \n"
     ]
    }
   ],
   "source": [
    "# 22.\n",
    "\n",
    "num=int(input('Enter the number:'))\n",
    "for i in range(0,num):\n",
    "    for j in range(1,num-i):\n",
    "        print(' ',end=' ')\n",
    "    for k in range(0,i+1):\n",
    "        print('*',end=' ') if k==0 else print(' ',end=' ')\n",
    "    for l in range(0,i):\n",
    "        print('*',end=' ') if l==i-1 else print(' ',end=' ')\n",
    "    print('')\n",
    "for i in range(0,num-1):\n",
    "    ak=0\n",
    "    for j in range(0,i+1):\n",
    "        print(' ',end=' ')\n",
    "    for k in range(0,num-i-1):\n",
    "        print('*',end=' ') if k==0 else print(' ',end=' ')\n",
    "        ak+=1\n",
    "    for l in range(0,num-i-2):\n",
    "        print('*',end=' ') if l==num-i-3 else print(' ',end=' ')\n",
    "    print('')"
   ]
  },
  {
   "cell_type": "code",
   "execution_count": 36,
   "metadata": {},
   "outputs": [
    {
     "name": "stdout",
     "output_type": "stream",
     "text": [
      "        A \n",
      "      A   C \n",
      "    A       E \n",
      "  A           G \n",
      "A               I \n",
      "  A           G \n",
      "    A       E \n",
      "      A   C \n",
      "        A \n"
     ]
    }
   ],
   "source": [
    "# 22.\n",
    "\n",
    "num=int(input('Enter the number:'))\n",
    "a=64\n",
    "for i in range(0,num):\n",
    "    for j in range(1,num-i):\n",
    "        print(' ',end=' ')\n",
    "    for k in range(0,i+1):\n",
    "        print(chr(a+k+1),end=' ') if k==0 else print(' ',end=' ')\n",
    "    for l in range(0,i):\n",
    "        print(chr(a+l+i+2),end=' ') if l==i-1 else print(' ',end=' ')\n",
    "    print('')\n",
    "for i in range(0,num-1):\n",
    "    ak=0\n",
    "    for j in range(0,i+1):\n",
    "        print(' ',end=' ')\n",
    "    for k in range(0,num-i-1):\n",
    "        print(chr(a+k+1),end=' ') if k==0 else print(' ',end=' ')\n",
    "        ak+=1\n",
    "    for l in range(0,num-i-2):\n",
    "        print(chr(a+ak+l+1),end=' ') if l==num-i-3 else print(' ',end=' ')\n",
    "    print('')"
   ]
  },
  {
   "cell_type": "code",
   "execution_count": null,
   "metadata": {},
   "outputs": [],
   "source": []
  },
  {
   "cell_type": "code",
   "execution_count": 37,
   "metadata": {},
   "outputs": [
    {
     "name": "stdout",
     "output_type": "stream",
     "text": [
      "*        *\n",
      "**      **\n",
      "***    ***\n",
      "****  ****\n",
      "**********\n",
      "****  ****\n",
      "***    ***\n",
      "**      **\n",
      "*        *\n"
     ]
    }
   ],
   "source": [
    "# 24\n",
    "num=int(input('Enter the number:'))\n",
    "for i in range(0,num):\n",
    "    for j in range(0,i+1):\n",
    "        print('*',end='')\n",
    "    for m in range(1,num-i):\n",
    "        print(' ',end='')\n",
    "    for l in range(1,num-i):\n",
    "        print(' ',end='')\n",
    "    for k in range(0,i+1):\n",
    "        print('*',end='')\n",
    "    print('')\n",
    "for i in range(1,num):\n",
    "    for j in range(0,num-i):\n",
    "        print('*',end='')\n",
    "    for m in range(1,i+1):\n",
    "        print(' ',end='')\n",
    "    for k in range(0,i):\n",
    "        print(' ',end='')\n",
    "    for k in range(0,num-i):\n",
    "        print('*',end='')\n",
    "    print('')"
   ]
  },
  {
   "cell_type": "code",
   "execution_count": 38,
   "metadata": {},
   "outputs": [
    {
     "name": "stdout",
     "output_type": "stream",
     "text": [
      "* * * *   * * * * \n",
      "* * *       * * * \n",
      "* *           * * \n",
      "*               * \n",
      "*               * \n",
      "* *           * * \n",
      "* * *       * * * \n",
      "* * * *   * * * * \n"
     ]
    }
   ],
   "source": [
    "# 25\n",
    "num=int(input('Enter the number:'))\n",
    "for i in range(0,num-1):\n",
    "    for j in range(1,num-i):\n",
    "        print('*',end=' ')\n",
    "    for k in range(0,i+1):\n",
    "        print(' ',end=' ')\n",
    "    for l in range(0,i):\n",
    "        print(' ',end=' ')\n",
    "    for m in range(1,num-i):\n",
    "        print('*',end=' ')\n",
    "    print('')\n",
    "for i in range(0,num-1):\n",
    "    for k in range(0,i+1):\n",
    "        print('*',end=' ')\n",
    "    for j in range(0,num-i-1):\n",
    "        print(' ',end=' ')\n",
    "    for k in range(0,num-i-2):\n",
    "        print(' ',end=' ')\n",
    "    for l in range(0,i+1):\n",
    "        print('*',end=' ')\n",
    "    print('')"
   ]
  },
  {
   "cell_type": "code",
   "execution_count": 39,
   "metadata": {},
   "outputs": [
    {
     "name": "stdout",
     "output_type": "stream",
     "text": [
      "          * \n",
      "        * * * \n",
      "      *   *   * \n",
      "    *     *     * \n",
      "  * * * * * * * * * \n"
     ]
    }
   ],
   "source": [
    "# 26\n",
    "num=int(input('Enter the number:'))\n",
    "for i in range(0,num):\n",
    "    for j in range(i,num):\n",
    "        print(' ',end=' ')\n",
    "    for k in range(0,i+1):\n",
    "        if k==0 or k==i or i==num-1:\n",
    "            print('*',end=' ')\n",
    "        else:\n",
    "            print(' ',end=' ')\n",
    "    for l in range(0,i):\n",
    "        print('*',end=' ') if l==i-1 or i==num-1 else print(' ',end=' ')\n",
    "    print(\"\")"
   ]
  }
 ],
 "metadata": {
  "kernelspec": {
   "display_name": "Python 3",
   "language": "python",
   "name": "python3"
  },
  "language_info": {
   "codemirror_mode": {
    "name": "ipython",
    "version": 3
   },
   "file_extension": ".py",
   "mimetype": "text/x-python",
   "name": "python",
   "nbconvert_exporter": "python",
   "pygments_lexer": "ipython3",
   "version": "3.13.1"
  }
 },
 "nbformat": 4,
 "nbformat_minor": 2
}
