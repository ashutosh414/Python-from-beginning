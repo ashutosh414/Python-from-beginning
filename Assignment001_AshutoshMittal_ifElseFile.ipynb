{
 "cells": [
  {
   "cell_type": "code",
   "execution_count": 1,
   "metadata": {},
   "outputs": [
    {
     "name": "stdout",
     "output_type": "stream",
     "text": [
      "The number is Even\n"
     ]
    }
   ],
   "source": [
    "# Q1 Write a program that takes an integer input from the user and checks whether the number is odd or even.\n",
    "num=int(input(\"Enter the number\"))\n",
    "if(num%2==0):\n",
    "    print(\"The number is Even\")\n",
    "else:\n",
    "    print(\"The number is Odd.\")"
   ]
  },
  {
   "cell_type": "code",
   "execution_count": 4,
   "metadata": {},
   "outputs": [
    {
     "name": "stdout",
     "output_type": "stream",
     "text": [
      "max = 30\n"
     ]
    }
   ],
   "source": [
    "# Q2 Write a program that takes three numbers as input and prints the largest of the three.\n",
    "\n",
    "a=int(input(\"Enter the number\"))\n",
    "b=int(input(\"Enter the number\"))\n",
    "c=int(input(\"Enter the number\"))\n",
    "if(a>b):\n",
    "    if(a>c):\n",
    "        print(f'max = {a}')\n",
    "    else:\n",
    "        print(f'max = {c}')\n",
    "elif(b>c):\n",
    "    print(f'max = {b}')\n",
    "else:\n",
    "    print(f'max = {c}')\n"
   ]
  },
  {
   "cell_type": "code",
   "execution_count": 9,
   "metadata": {},
   "outputs": [
    {
     "name": "stdout",
     "output_type": "stream",
     "text": [
      "Not a Leap Year\n"
     ]
    }
   ],
   "source": [
    "# Q3 Write a program to check if a given year is a leap year. A leap year is divisible by 4 but not by 100\n",
    "# unless it is also divisible by 400.\n",
    "\n",
    "year=int(input(\"Enter the year\"))\n",
    "\n",
    "if(year%400==0):\n",
    "    print('Leap Year')\n",
    "elif(year%100==0):\n",
    "    print('Not a Leap Year')\n",
    "elif(year%4==0):\n",
    "    print('Leap year')\n",
    "else:\n",
    "    print('Not a Leap Year')"
   ]
  },
  {
   "cell_type": "code",
   "execution_count": 11,
   "metadata": {},
   "outputs": [
    {
     "name": "stdout",
     "output_type": "stream",
     "text": [
      "Grade C\n"
     ]
    }
   ],
   "source": [
    "# Q4 Write a program that takes a percentage (integer) as input and prints the corresponding grade based\n",
    "# on the following criteria:\n",
    "# >= 90: Grade A\n",
    "# >= 80: Grade B\n",
    "# >= 70: Grade C\n",
    "# >= 60: Grade D\n",
    "# < 60: Grade F\n",
    "\n",
    "grade=int(input(\"Enter the grade\"))\n",
    "if(grade>=90):\n",
    "    print('Grade A')\n",
    "elif(grade>=80):\n",
    "    print('Grade B')\n",
    "elif(grade>=70):\n",
    "    print('Grade C')\n",
    "elif(grade>=60):\n",
    "    print('Grade D')\n",
    "elif(grade<60):\n",
    "    print('Grade F')\n"
   ]
  },
  {
   "cell_type": "code",
   "execution_count": 12,
   "metadata": {},
   "outputs": [
    {
     "name": "stdout",
     "output_type": "stream",
     "text": [
      "The charecter is Consonant\n"
     ]
    }
   ],
   "source": [
    "# Q5 Write a program that checks if a given letter is a vowel (a, e, i, o, u) or a consonant.\n",
    "char=year=input(\"Enter the year\")\n",
    "if (char == 'a' and char == 'e' and char == 'o' and char == 'i' and char == 'u'):\n",
    "    print(\"the character is Vowel\")\n",
    "else:\n",
    "    print('The charecter is Consonant')\n",
    "\n",
    "# Another Method \n",
    "\n",
    "if (char in ['a','e','i','o','u']):\n",
    "    print('Vowel')\n",
    "else:\n",
    "    print('Consonatnt')\n"
   ]
  },
  {
   "cell_type": "code",
   "execution_count": 13,
   "metadata": {},
   "outputs": [
    {
     "name": "stdout",
     "output_type": "stream",
     "text": [
      "10 + 20 = 30\n"
     ]
    }
   ],
   "source": [
    "# Q6 Write a basic calculator program that takes two numbers and an operator (+, -, *, /) as input and\n",
    "# performs the specified operation. Print the result based on the operation.\n",
    "\n",
    "num1=int(input(\"Enter the num1\"))\n",
    "num2=int(input(\"Enter the num2\"))\n",
    "op=input(\"Enter the operator\")\n",
    "\n",
    "if(op=='+'):\n",
    "    print(f'{num1} {op} {num2} = {num1+num2}')\n",
    "elif(op=='-'):\n",
    "    print(f'{num1} {op} {num2} = {num1-num2}')\n",
    "elif(op=='*'):\n",
    "    print(f'{num1} {op} {num2} = {num1*num2}')\n",
    "elif(op=='/'):\n",
    "    print(f'{num1} {op} {num2} = {num1/num2}')\n",
    "else:\n",
    "    print('Wrong Input')"
   ]
  },
  {
   "cell_type": "code",
   "execution_count": 14,
   "metadata": {},
   "outputs": [
    {
     "name": "stdout",
     "output_type": "stream",
     "text": [
      "12 is Positive\n"
     ]
    }
   ],
   "source": [
    "# Q7 Write a program that takes a number as input and checks whether it is positive, negative, or zero.\n",
    "\n",
    "num=int(input(\"Enter the num1\"))\n",
    "if(num==0):\n",
    "    print(f'{num} is zero')\n",
    "elif(num>=0):\n",
    "    print(f'{num} is Positive Number')\n",
    "elif(num<0):\n",
    "    print(f'{num} is Negative Number')\n",
    "else:\n",
    "    print(\"Wrong Input\")"
   ]
  },
  {
   "cell_type": "code",
   "execution_count": 3,
   "metadata": {},
   "outputs": [
    {
     "name": "stdout",
     "output_type": "stream",
     "text": [
      "Login Not Successful.\n"
     ]
    }
   ],
   "source": [
    "# Q8 Write a program that checks if a username and password entered by the user match the pre-set values\n",
    "# username = \"admin\" and password = \"1234\". If both match, print \"Login Successful\", otherwise print\n",
    "# \"Login Failed\".\n",
    "\n",
    "username='admin'\n",
    "password='1234'\n",
    "\n",
    "newUserName=input(\"Enter the Username\")\n",
    "newPassword=input(\"Enter the Password\")\n",
    "\n",
    "if(newUserName==username and newPassword==password):\n",
    "    print('Login Successful')\n",
    "else:\n",
    "    print(\"Login Not Successful.\")\n",
    "\n"
   ]
  },
  {
   "cell_type": "code",
   "execution_count": 5,
   "metadata": {},
   "outputs": [
    {
     "name": "stdout",
     "output_type": "stream",
     "text": [
      "The triangle is Valid\n"
     ]
    }
   ],
   "source": [
    "# Q9 Write a program that takes three sides of a triangle as input and checks if those sides form a valid\n",
    "# triangle. A triangle is valid if the sum of any two sides is greater than the third side.\n",
    "# Check conditions like a + b > c, b + c > a, and a + c > b.\n",
    "\n",
    "a=int(input(\"Enter the side1\"))\n",
    "b=int(input(\"Enter the side2\"))\n",
    "c=int(input(\"Enter the side3\"))\n",
    "\n",
    "if(a + b > c and b + c > a and a + c > b):\n",
    "    print(\"The triangle is Valid\")\n",
    "else:\n",
    "    print(\"The triangle is not valid.\")"
   ]
  },
  {
   "cell_type": "code",
   "execution_count": null,
   "metadata": {},
   "outputs": [
    {
     "name": "stdout",
     "output_type": "stream",
     "text": [
      "Overweight\n"
     ]
    }
   ],
   "source": [
    "# Q10 Write a program that calculates the Body Mass Index (BMI) based on user input for weight (in\n",
    "# kilograms) and height (in meters). Then categorize the BMI into:\n",
    "# Underweight (BMI < 18.5)\n",
    "# Normal weight (18.5 <= BMI < 24.9)\n",
    "# Overweight (25 <= BMI < 29.9)\n",
    "# Obesity (BMI >= 30)\n",
    "# Use the formula: BMI = weight / (height ** 2)\n",
    "\n",
    "weight=float(input(\"Enter the body weight in Kg\"))\n",
    "height=float(input(\"Enter the body height in meter\"))\n",
    "bmi=weight/(height**2)\n",
    "\n",
    "if(bmi>=30):\n",
    "    print('Obesity')\n",
    "elif(bmi>=25):\n",
    "    print('Overweight')\n",
    "elif(bmi>=18.5):\n",
    "    print('Normal weight')\n",
    "elif(bmi<18.5):\n",
    "    print('Underweight')\n",
    "else:\n",
    "    print('Invaild Input')"
   ]
  },
  {
   "cell_type": "code",
   "execution_count": null,
   "metadata": {},
   "outputs": [
    {
     "name": "stdout",
     "output_type": "stream",
     "text": [
      "final price after discount is 570.0\n"
     ]
    }
   ],
   "source": [
    "# Q11 Write a program that calculates the discount for a product based on its price:\n",
    "# If price is greater than 1000, discount is 10%\n",
    "# If price is between 500 and 1000, discount is 5%\n",
    "# Otherwise, no discount\n",
    "# Print the final price after applying the discount.\n",
    "\n",
    "amount=int(input(\"Enter the Amount\"))\n",
    "if(amount>1000):\n",
    "    productAfterDiscount=amount*0.9\n",
    "elif(amount>500):\n",
    "    productAfterDiscount=amount*0.95\n",
    "else:\n",
    "    productAfterDiscount=amount\n",
    "print(f'final price after discount is {productAfterDiscount}')"
   ]
  },
  {
   "cell_type": "code",
   "execution_count": 18,
   "metadata": {},
   "outputs": [
    {
     "name": "stdout",
     "output_type": "stream",
     "text": [
      "30 days in the January\n"
     ]
    }
   ],
   "source": [
    "# Q12 Write a program that takes the name of a month as input and prints the number of days in that\n",
    "# month. Consider leap years for February.\n",
    "\n",
    "monthName=input('Enter the Month\\'s Name')\n",
    "formatmonthName=monthName.capitalize()\n",
    "if(formatmonthName in ['January','March','May','July','August','October','December']):\n",
    "    print(f'30 days in the {formatmonthName}')\n",
    "elif(formatmonthName in ['April','June''September','November']):\n",
    "    print(f'30 days in the {formatmonthName}')\n",
    "elif(formatmonthName in ['February']):\n",
    "    print(f'29 days in the {formatmonthName}')\n",
    "else:\n",
    "    print('Wrong Input')"
   ]
  },
  {
   "cell_type": "code",
   "execution_count": 21,
   "metadata": {},
   "outputs": [
    {
     "name": "stdout",
     "output_type": "stream",
     "text": [
      "\n",
      "    1. Check balance\n",
      "    2. Deposit money\n",
      "    3. Withdraw money\n",
      "    0. Exit\n",
      "the Balance is 1000\n",
      "\n",
      "    1. Check balance\n",
      "    2. Deposit money\n",
      "    3. Withdraw money\n",
      "    0. Exit\n",
      "\n",
      "    1. Check balance\n",
      "    2. Deposit money\n",
      "    3. Withdraw money\n",
      "    0. Exit\n",
      "the Balance is 1100\n",
      "\n",
      "    1. Check balance\n",
      "    2. Deposit money\n",
      "    3. Withdraw money\n",
      "    0. Exit\n",
      "the Balance is 1100\n",
      "\n",
      "    1. Check balance\n",
      "    2. Deposit money\n",
      "    3. Withdraw money\n",
      "    0. Exit\n",
      "\n",
      "    1. Check balance\n",
      "    2. Deposit money\n",
      "    3. Withdraw money\n",
      "    0. Exit\n",
      "the Balance is 1200\n",
      "\n",
      "    1. Check balance\n",
      "    2. Deposit money\n",
      "    3. Withdraw money\n",
      "    0. Exit\n",
      "\n",
      "    1. Check balance\n",
      "    2. Deposit money\n",
      "    3. Withdraw money\n",
      "    0. Exit\n",
      "the Balance is 1199\n",
      "\n",
      "    1. Check balance\n",
      "    2. Deposit money\n",
      "    3. Withdraw money\n",
      "    0. Exit\n"
     ]
    }
   ],
   "source": [
    "# Q13 Write a program that simulates a simple ATM. The user should be able to:\n",
    "# Check balance\n",
    "# Deposit money\n",
    "# Withdraw money (ensure the balance doesn't go negative) Use an if-else structure to handle the user's choices.\n",
    "\n",
    "balance=1000\n",
    "option=1\n",
    "while(option):\n",
    "    print('''\n",
    "    1. Check balance\n",
    "    2. Deposit money\n",
    "    3. Withdraw money\n",
    "    0. Exit''')\n",
    "    option=int(input('Enter : '))\n",
    "\n",
    "    if(option == 1):\n",
    "        print(f'the Balance is {balance}')\n",
    "    elif(option ==2):\n",
    "        credit=int(input('Enter Deposit Amount : '))\n",
    "        if credit>0:\n",
    "            balance=balance+credit\n",
    "        else:\n",
    "            print('Error in credit amount')\n",
    "    elif(option ==3):\n",
    "        debit=int(input('Enter Withdrawl Amount : '))\n",
    "        if debit<=balance:\n",
    "            balance=balance-debit\n",
    "        else:\n",
    "            print('invalid input')\n",
    "\n"
   ]
  },
  {
   "cell_type": "code",
   "execution_count": 23,
   "metadata": {},
   "outputs": [
    {
     "name": "stdout",
     "output_type": "stream",
     "text": [
      "Child\n"
     ]
    }
   ],
   "source": [
    "# Q14 Write a program that categorizes a given age into different groups:\n",
    "# Infant (0-1 year)\n",
    "# Toddler (2-4 years)\n",
    "# Child (5-12 years)\n",
    "# Teenager (13-19 years)\n",
    "# Adult (20-59 years)\n",
    "# Senior (60 years and above)\n",
    "\n",
    "age=int(input(\"Enter the age\"))\n",
    "if(age>=60):\n",
    "    print('Senior')\n",
    "elif(age>=20):\n",
    "    print('Adult')\n",
    "elif(age>=13):\n",
    "    print(\"Teenager\")\n",
    "elif(age>=5):\n",
    "    print(\"Child\")\n",
    "elif(age>=2):\n",
    "    print(\"Toddler\")\n",
    "elif(age>=0):\n",
    "    print(\"Infant\")\n",
    "else:\n",
    "    print(\"Invalid Input\")"
   ]
  },
  {
   "cell_type": "code",
   "execution_count": 25,
   "metadata": {},
   "outputs": [
    {
     "name": "stdout",
     "output_type": "stream",
     "text": [
      "Thursday\n"
     ]
    }
   ],
   "source": [
    "# Q15 Write a program that takes an integer (1-7) as input and prints the corresponding day of the week (1\n",
    "# for Monday, 2 for Tuesday, etc.).\n",
    "\n",
    "weeks=['Monday','Tuesday','Wedneday','Thursday','Friday','Saturday','Sunday']\n",
    "weekday=int(input('Enter the week day'))\n",
    "\n",
    "if(weekday>1 and weekday<=7):\n",
    "    print(weeks[weekday-1])\n",
    "else:\n",
    "    print('Invalid Input')"
   ]
  }
 ],
 "metadata": {
  "kernelspec": {
   "display_name": "Python 3",
   "language": "python",
   "name": "python3"
  },
  "language_info": {
   "codemirror_mode": {
    "name": "ipython",
    "version": 3
   },
   "file_extension": ".py",
   "mimetype": "text/x-python",
   "name": "python",
   "nbconvert_exporter": "python",
   "pygments_lexer": "ipython3",
   "version": "3.13.1"
  }
 },
 "nbformat": 4,
 "nbformat_minor": 2
}
