{
 "cells": [
  {
   "cell_type": "code",
   "execution_count": 19,
   "metadata": {},
   "outputs": [
    {
     "name": "stdout",
     "output_type": "stream",
     "text": [
      "min = 21\n",
      "hello\n"
     ]
    }
   ],
   "source": [
    "#find minimum value from 3 input\n",
    "\n",
    "a,b,c=100,21,200 #dynamic data typed programming\n",
    "if(a<b):\n",
    "    if(a<c):\n",
    "        print(f'min = {a}')\n",
    "    else:\n",
    "        print(f'min = {c}')\n",
    "elif(b<c):\n",
    "    print(f'min = {b}')\n",
    "else:\n",
    "    print(f'min = {c}')\n",
    "\n",
    "# %%\n",
    "print(\"hello\")\n",
    "\n"
   ]
  },
  {
   "cell_type": "code",
   "execution_count": 9,
   "metadata": {},
   "outputs": [
    {
     "name": "stdout",
     "output_type": "stream",
     "text": [
      "BYE\n"
     ]
    }
   ],
   "source": [
    "# find a variable is multiplle of 2,6 tru hi and false print bye\n",
    "num=77\n",
    "if(num%2==0 and num%6==0):\n",
    "    print('HI')\n",
    "else:\n",
    "    print('BYE')"
   ]
  },
  {
   "cell_type": "code",
   "execution_count": 11,
   "metadata": {},
   "outputs": [
    {
     "name": "stdout",
     "output_type": "stream",
     "text": [
      "Mature\n"
     ]
    }
   ],
   "source": [
    "# take a variable 'age'\n",
    "# if age>10 child\n",
    "# age>18 adult\n",
    "# age>30 mature\n",
    "# age> 60 old citizen\n",
    "# infant\n",
    "\n",
    "age=int(input(\"enter the age\"))\n",
    "if(age>10 and age<=18):\n",
    "    print('child')\n",
    "elif(age>18 and age<=30):\n",
    "    print('Adult')\n",
    "elif(age>30 and age<=60):\n",
    "    print(\"Mature\")\n",
    "elif(age>60):\n",
    "    print(\"Old Citizen\")\n",
    "else:\n",
    "    print(\"Infant\")"
   ]
  },
  {
   "cell_type": "code",
   "execution_count": 12,
   "metadata": {},
   "outputs": [
    {
     "name": "stdout",
     "output_type": "stream",
     "text": [
      "Adult\n"
     ]
    }
   ],
   "source": [
    "# take a variable 'age'\n",
    "# if age>10 child\n",
    "# age>18 adult\n",
    "# age>30 mature\n",
    "# age> 60 old citizen\n",
    "# infant\n",
    "\n",
    "age=int(input(\"enter the age\"))\n",
    "if(age>60):\n",
    "    print('Old Citizen')\n",
    "elif(age>30):\n",
    "    print('Mature')\n",
    "elif(age>18):\n",
    "    print(\"Adult\")\n",
    "elif(age>10):\n",
    "    print(\"child\")\n",
    "else:\n",
    "    print(\"Infant\")"
   ]
  },
  {
   "cell_type": "code",
   "execution_count": 15,
   "metadata": {},
   "outputs": [
    {
     "name": "stdout",
     "output_type": "stream",
     "text": [
      "Aadhaar card created\n",
      "Aadhaar card and pan card are linked\n"
     ]
    }
   ],
   "source": [
    "age=int(input(\"Enter the age\"))\n",
    "if(age>5):\n",
    "    print(\"Aadhaar card created\")\n",
    "    if(age>18):\n",
    "        print(\"Aadhaar card and pan card are linked\")\n",
    "    else:\n",
    "        print(\"Aadhaar card and pan card not linked\")\n",
    "else:\n",
    "    print(\"age is small\")"
   ]
  },
  {
   "cell_type": "code",
   "execution_count": 18,
   "metadata": {},
   "outputs": [
    {
     "name": "stdout",
     "output_type": "stream",
     "text": [
      "num is divisival by 2\n",
      "num is divisival by 6\n"
     ]
    }
   ],
   "source": [
    "num=12\n",
    "if(num%2==0):\n",
    "    print('num is divisival by 2')\n",
    "    if(num%3==0):\n",
    "        print('num is divisival by 6')\n",
    "    else:\n",
    "        print('num is not divisival by 6')\n",
    "else:\n",
    "    print(\"not divisible by 2\")"
   ]
  },
  {
   "cell_type": "code",
   "execution_count": null,
   "metadata": {},
   "outputs": [],
   "source": []
  }
 ],
 "metadata": {
  "kernelspec": {
   "display_name": "Python 3",
   "language": "python",
   "name": "python3"
  },
  "language_info": {
   "codemirror_mode": {
    "name": "ipython",
    "version": 3
   },
   "file_extension": ".py",
   "mimetype": "text/x-python",
   "name": "python",
   "nbconvert_exporter": "python",
   "pygments_lexer": "ipython3",
   "version": "3.13.1"
  }
 },
 "nbformat": 4,
 "nbformat_minor": 2
}
