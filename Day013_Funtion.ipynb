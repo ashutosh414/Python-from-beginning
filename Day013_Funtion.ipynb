{
 "cells": [
  {
   "cell_type": "code",
   "execution_count": 1,
   "metadata": {},
   "outputs": [
    {
     "name": "stdout",
     "output_type": "stream",
     "text": [
      "() <class 'tuple'>\n",
      "(10, 20) <class 'tuple'>\n",
      "(10, 20, 'abc') <class 'tuple'>\n"
     ]
    }
   ],
   "source": [
    "# variable length argument  (*var) --> *args\n",
    "\n",
    "def func(*data):\n",
    "    print(data, type(data))\n",
    "\n",
    "func()\n",
    "func(10,20)\n",
    "func(10,20,'abc')"
   ]
  },
  {
   "cell_type": "code",
   "execution_count": 2,
   "metadata": {},
   "outputs": [
    {
     "name": "stdout",
     "output_type": "stream",
     "text": [
      "{'eid': 10, 'salary': 20} <class 'dict'>\n",
      "{} <class 'dict'>\n"
     ]
    }
   ],
   "source": [
    "# Keyword variable length argument  (**var)  --> **kwargs\n",
    "\n",
    "def func(**data):\n",
    "    print(data, type(data))\n",
    "\n",
    "func(eid=10 , salary = 20)\n",
    "func()"
   ]
  },
  {
   "cell_type": "markdown",
   "metadata": {},
   "source": [
    "Characteristics of First-Class Functions\n",
    "\n",
    "Assigned to Variables: We can assign functions to variables.\n",
    "\n",
    "Passed as Arguments: We can pass functions as arguments to other functions.\n",
    "\n",
    "Returned from Functions: Functions can return other functions.\n",
    "\n",
    "Stored in Data Structures: Functions can be stored in data structures such as lists, dictionaries, etc."
   ]
  },
  {
   "cell_type": "code",
   "execution_count": 4,
   "metadata": {},
   "outputs": [
    {
     "name": "stdout",
     "output_type": "stream",
     "text": [
      "First Class funtion\n",
      "First Class funtion\n"
     ]
    }
   ],
   "source": [
    "def func():\n",
    "    print('First Class funtion')\n",
    "\n",
    "x=func  #We have assign funtion to a variable.\n",
    "func()\n",
    "x()"
   ]
  },
  {
   "cell_type": "code",
   "execution_count": 6,
   "metadata": {},
   "outputs": [
    {
     "name": "stdout",
     "output_type": "stream",
     "text": [
      "cube 1000\n"
     ]
    }
   ],
   "source": [
    "def square(num):\n",
    "    return (num**2)\n",
    "\n",
    "def cube(x,y):\n",
    "    print(\"cube\" ,x * y(x))\n",
    "\n",
    "cube(10,square)\n",
    "\n"
   ]
  },
  {
   "cell_type": "code",
   "execution_count": null,
   "metadata": {},
   "outputs": [],
   "source": [
    "A1 \n",
    "ashutosh\n",
    "prakul \n",
    "gurushevk\n",
    "hem\n",
    "\n",
    "https://leetcode.com/problems/3sum/description/\n",
    "2sum 2\n",
    "https://leetcode.com/problems/best-time-to-buy-and-sell-stock/description/"
   ]
  }
 ],
 "metadata": {
  "kernelspec": {
   "display_name": "Python 3",
   "language": "python",
   "name": "python3"
  },
  "language_info": {
   "codemirror_mode": {
    "name": "ipython",
    "version": 3
   },
   "file_extension": ".py",
   "mimetype": "text/x-python",
   "name": "python",
   "nbconvert_exporter": "python",
   "pygments_lexer": "ipython3",
   "version": "3.13.1"
  }
 },
 "nbformat": 4,
 "nbformat_minor": 2
}
