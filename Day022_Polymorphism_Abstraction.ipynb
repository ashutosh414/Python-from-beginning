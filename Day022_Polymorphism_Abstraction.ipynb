{
 "cells": [
  {
   "cell_type": "code",
   "execution_count": 4,
   "metadata": {},
   "outputs": [
    {
     "name": "stdout",
     "output_type": "stream",
     "text": [
      "Vechile is moving\n",
      "car is movie on 4 wheels\n",
      "Vechile is moving\n",
      "Bike is moving on 2 wheels\n"
     ]
    }
   ],
   "source": [
    "class Vechile:\n",
    "    def move(self):\n",
    "        print('Vechile is moving')\n",
    "\n",
    "class Car(Vechile):\n",
    "    def move(self):\n",
    "        print('car is movie on 4 wheels')\n",
    "\n",
    "class Bike(Vechile):\n",
    "    def move(self):\n",
    "        super().move()\n",
    "        print('Bike is moving on 2 wheels')\n",
    "\n",
    "vechile=Vechile()\n",
    "car =Car()\n",
    "bike =Bike()\n",
    "\n",
    "vechile.move()\n",
    "car.move()\n",
    "bike.move()\n"
   ]
  },
  {
   "cell_type": "code",
   "execution_count": null,
   "metadata": {},
   "outputs": [],
   "source": [
    "# Overloading allows the same funtion or a operator to behave differeently based on the\n",
    "# number or type of argument.\n",
    "# It allows the same funtion to work differnt type of inputs.\n"
   ]
  },
  {
   "cell_type": "code",
   "execution_count": 6,
   "metadata": {},
   "outputs": [
    {
     "name": "stdout",
     "output_type": "stream",
     "text": [
      "Hello, Guest!\n",
      "Hello, Raj!\n"
     ]
    }
   ],
   "source": [
    "def greet(name='Guest'):\n",
    "    print(f'Hello, {name}!')\n",
    "\n",
    "greet()\n",
    "greet('Raj')"
   ]
  },
  {
   "cell_type": "code",
   "execution_count": null,
   "metadata": {},
   "outputs": [],
   "source": [
    "# Recursion in python => recursion in python refers to a process where a funtion called itself to solve smaller instances of the same problem.\n",
    "# In OOPs recursion can be used within class mthod for repetative class.\n",
    "\n",
    "# Key features of recursion\n",
    "\n",
    "# Base Case => A codition that stops the recursion to prevent infinitive call \n",
    "# Recursive case => THe part where the function calles itself with a modify argument."
   ]
  },
  {
   "cell_type": "code",
   "execution_count": 8,
   "metadata": {},
   "outputs": [
    {
     "name": "stdout",
     "output_type": "stream",
     "text": [
      "120\n"
     ]
    }
   ],
   "source": [
    "class factorialCaculator:\n",
    "    def calculate_fatorial(self,n):\n",
    "        if n==0 or n==1:\n",
    "            return 1\n",
    "        else:\n",
    "            return n * self.calculate_fatorial(n-1)\n",
    "f=factorialCaculator()\n",
    "print(f.calculate_fatorial(5))"
   ]
  },
  {
   "cell_type": "code",
   "execution_count": null,
   "metadata": {},
   "outputs": [],
   "source": [
    "# Abestraction is a concept in a OOPs which hides unnessary details from users and only show the essential features of object. \n",
    "# It allows us to focus on what an object does rather then how it does it.\n",
    "#  Using @Abstractmethod this is a decorator that defines the method in the abstract class but does not proovide its implementation.\n",
    "# To use abstraction python abc (absract based class) module it typically used.\n"
   ]
  },
  {
   "cell_type": "code",
   "execution_count": 14,
   "metadata": {},
   "outputs": [
    {
     "name": "stdout",
     "output_type": "stream",
     "text": [
      "Circle Area: 78.5\n",
      "Circle Perimeter: 31.400000000000002\n"
     ]
    }
   ],
   "source": [
    "# Abstract class\n",
    "from abc import ABC, abstractmethod\n",
    "class Shape(ABC):\n",
    "    @abstractmethod\n",
    "    def area(self):\n",
    "        pass  # Abstract method, no implementation\n",
    "\n",
    "    @abstractmethod\n",
    "    def perimeter(self):\n",
    "        pass  # Abstract method, no implementation\n",
    "\n",
    "# Concrete class for Circle\n",
    "class Circle(Shape):\n",
    "    def __init__(self, radius):\n",
    "        self.radius = radius\n",
    "\n",
    "    def area(self):\n",
    "        return 3.14 * self.radius * self.radius\n",
    "\n",
    "    def perimeter(self):\n",
    "        return 2 * 3.14 * self.radius\n",
    "circle = Circle(5)\n",
    "print(\"Circle Area:\", circle.area())         \n",
    "print(\"Circle Perimeter:\", circle.perimeter())"
   ]
  },
  {
   "cell_type": "code",
   "execution_count": 14,
   "metadata": {},
   "outputs": [
    {
     "name": "stdout",
     "output_type": "stream",
     "text": [
      "Alice\n",
      "25\n"
     ]
    }
   ],
   "source": [
    "class Parent:\n",
    "    def __init__(self, name):\n",
    "        self._name = name\n",
    "\n",
    "class Child(Parent):\n",
    "    def __init__(self, name, age):\n",
    "        super().__init__(name)  # Calls Parent's __init__\n",
    "        self.age = age\n",
    "        print(self._name)\n",
    "\n",
    "child = Child(\"Alice\", 25)\n",
    "# print(child.name)  # Output: Alice\n",
    "print(child.age)   # Output: 25"
   ]
  },
  {
   "cell_type": "code",
   "execution_count": null,
   "metadata": {},
   "outputs": [
    {
     "name": "stdout",
     "output_type": "stream",
     "text": [
      "Good morning\n",
      "(10, 20)\n",
      "10 + 20  =  30\n",
      "good Byy..\n"
     ]
    }
   ],
   "source": [
    "# Decorators\n",
    "def greet(fx):\n",
    "    def mfx(*args):\n",
    "        print('Good morning')\n",
    "        print(args)\n",
    "        fx(*args)\n",
    "        print('good Byy..')\n",
    "    return mfx\n",
    "@greet\n",
    "def add(a,b):\n",
    "    print(a,'+',b ,' = ',a+b)\n",
    "\n",
    "add(10,20)"
   ]
  },
  {
   "cell_type": "code",
   "execution_count": null,
   "metadata": {},
   "outputs": [
    {
     "name": "stdout",
     "output_type": "stream",
     "text": [
      "100\n",
      "the value is 56\n"
     ]
    },
    {
     "ename": "AttributeError",
     "evalue": "property 'tenTime_value' of 'Student' object has no setter",
     "output_type": "error",
     "traceback": [
      "\u001b[1;31m---------------------------------------------------------------------------\u001b[0m",
      "\u001b[1;31mAttributeError\u001b[0m                            Traceback (most recent call last)",
      "Cell \u001b[1;32mIn[17], line 21\u001b[0m\n\u001b[0;32m     18\u001b[0m c\u001b[38;5;241m.\u001b[39mvalue\u001b[38;5;241m=\u001b[39m\u001b[38;5;241m56\u001b[39m\n\u001b[0;32m     19\u001b[0m c\u001b[38;5;241m.\u001b[39mshow()\n\u001b[1;32m---> 21\u001b[0m \u001b[43mc\u001b[49m\u001b[38;5;241;43m.\u001b[39;49m\u001b[43mtenTime_value\u001b[49m\u001b[38;5;241m=\u001b[39m \u001b[38;5;241m45\u001b[39m\n\u001b[0;32m     22\u001b[0m \u001b[38;5;28mprint\u001b[39m(c\u001b[38;5;241m.\u001b[39mtenTime_value())\n",
      "\u001b[1;31mAttributeError\u001b[0m: property 'tenTime_value' of 'Student' object has no setter"
     ]
    }
   ],
   "source": [
    "# Getter and Setter \n",
    "\n",
    "class Student():\n",
    "    def __init__(self,value):\n",
    "        self.value=value\n",
    "\n",
    "    def show(self):\n",
    "        print(f'the value is {self.value}')\n",
    "\n",
    "    @property\n",
    "    def tenTime_value(self):\n",
    "        return 10 * self.value\n",
    "    \n",
    "c=Student(10)\n",
    "print(c.tenTime_value)\n",
    "# here c.tenTime_value calling as 'Attribute' not as 'method'. \n",
    "# but we can not change value of the c.tenTime_value like c.value\n",
    "c.value=56\n",
    "c.show()\n",
    "\n",
    "c.tenTime_value= 45\n",
    "print(c.tenTime_value())\n",
    "\n",
    "# So we Use setter to set the value \n",
    "# in next tab"
   ]
  },
  {
   "cell_type": "code",
   "execution_count": null,
   "metadata": {},
   "outputs": [
    {
     "name": "stdout",
     "output_type": "stream",
     "text": [
      "10\n",
      "the value is 56\n",
      "45\n"
     ]
    }
   ],
   "source": [
    "# Getter and Setter \n",
    "\n",
    "class Student():\n",
    "    def __init__(self,value):\n",
    "        self.value=value\n",
    "\n",
    "    def show(self):\n",
    "        print(f'the value is {self.value}')\n",
    "\n",
    "    @property\n",
    "    def tenTime_value(self):\n",
    "        return self.value\n",
    "    \n",
    "    @tenTime_value.setter\n",
    "    def tenTime_value(self,newValue):\n",
    "        self.value=newValue\n",
    "    \n",
    "c=Student(10)\n",
    "print(c.tenTime_value)\n",
    "# here c.tenTime_value calling as 'Attribute' not as 'method'. \n",
    "# but we can not change value of the c.tenTime_value like c.value\n",
    "c.value=56\n",
    "c.show()\n",
    "\n",
    "c.tenTime_value= 45\n",
    "print(c.tenTime_value)\n",
    "\n",
    "# So we Use setter to set the value "
   ]
  },
  {
   "cell_type": "code",
   "execution_count": 35,
   "metadata": {},
   "outputs": [
    {
     "name": "stdout",
     "output_type": "stream",
     "text": [
      "10\n",
      "Helloa\n"
     ]
    }
   ],
   "source": [
    "class Parent:\n",
    "    def __init__(self,n,v):\n",
    "        self.name,self.value=n,v\n",
    "        # 4\n",
    "    def show(self):\n",
    "        print('Helloa')\n",
    "\n",
    "class ChildB(Parent):\n",
    "    def __init__(self,a,b):\n",
    "        super().__init__(a,b)\n",
    "    #     2\n",
    "    # def show(self):\n",
    "    #     print('Hellob')\n",
    "\n",
    "class ChildC(Parent):\n",
    "    def __init__(self,a,b):\n",
    "        super().__init__(a,b)\n",
    "    #     3.\n",
    "    # def show(self):\n",
    "    #     print('Helloc')\n",
    "\n",
    "class ChildD(ChildB,ChildC):\n",
    "    def __init__(self,a,b):\n",
    "        super().__init__(a,b)\n",
    "        # 1\n",
    "    # def show(self):\n",
    "    #     print('Hellod')\n",
    "d=ChildD(10,20)\n",
    "print(d.name)\n",
    "d.show()"
   ]
  },
  {
   "cell_type": "code",
   "execution_count": 38,
   "metadata": {},
   "outputs": [
    {
     "name": "stdout",
     "output_type": "stream",
     "text": [
      "10\n",
      "20\n",
      "Hellobb 10 and 20\n"
     ]
    }
   ],
   "source": [
    "class Parent:\n",
    "    def __init__(self,n,v):\n",
    "        self.name,self.value=n,v\n",
    "        # 4\n",
    "    def show(self):\n",
    "        print('Helloa')\n",
    "\n",
    "class ChildB(Parent):\n",
    "    # def __init__(self,a,b):\n",
    "    #     super().__init__(a,b)\n",
    "    #     2\n",
    "    def show(self):\n",
    "        print(f'Hellobb {self.name} and {self.value}')\n",
    "\n",
    "d=ChildB(10,20)\n",
    "print(d.name)\n",
    "print(d.value)\n",
    "d.show()"
   ]
  },
  {
   "cell_type": "code",
   "execution_count": 41,
   "metadata": {},
   "outputs": [
    {
     "name": "stdout",
     "output_type": "stream",
     "text": [
      "10\n",
      "20\n",
      "Hellobb 10 and 20\n",
      "Hellobb 10 and 20 and 30\n"
     ]
    }
   ],
   "source": [
    "class Parent:\n",
    "    def __init__(self,n,v):\n",
    "        self.name,self.value=n,v\n",
    "        # 4\n",
    "    def show(self):\n",
    "        print(f'Hellobb {self.name} and {self.value}')\n",
    "        \n",
    "class ChildB(Parent):\n",
    "    def __init__(self,a,b,c):\n",
    "        super().__init__(a,b)\n",
    "        self.id=c\n",
    "    #     2\n",
    "    def show(self):\n",
    "        super().show()\n",
    "        print(f'Hellobb {self.name} and {self.value} and {self.id}')\n",
    "\n",
    "d=ChildB(10,20,30)\n",
    "print(d.name)\n",
    "print(d.value)\n",
    "d.show()"
   ]
  },
  {
   "cell_type": "code",
   "execution_count": 43,
   "metadata": {},
   "outputs": [
    {
     "name": "stdout",
     "output_type": "stream",
     "text": [
      "20\n",
      "20\n",
      "30\n"
     ]
    }
   ],
   "source": [
    "class calculator:\n",
    "    def __init__(self,v):\n",
    "        self.value=v\n",
    "    def addNum(self,value):\n",
    "        self.value+=value\n",
    "        return self.value\n",
    "    \n",
    "    @staticmethod\n",
    "    def add(a,b):\n",
    "        return a+b\n",
    "    \n",
    "c=calculator(10)\n",
    "print(c.addNum(10))\n",
    "print(c.value)\n",
    "print(c.add(10,20))"
   ]
  },
  {
   "cell_type": "code",
   "execution_count": 48,
   "metadata": {},
   "outputs": [
    {
     "name": "stdout",
     "output_type": "stream",
     "text": [
      "4\n",
      "4\n"
     ]
    }
   ],
   "source": [
    "# Instance variable and class variable\n",
    "\n",
    "class Company:\n",
    "    No_of_Employee=0\n",
    "\n",
    "    def __init__(self,n):\n",
    "        self.name=n\n",
    "        Company.No_of_Employee+=1\n",
    "    \n",
    "    def empLeft(self):\n",
    "        Company.No_of_Employee-=1\n",
    "\n",
    "e1=Company('A')\n",
    "e2=Company('B')\n",
    "e3=Company('C')\n",
    "e4=Company('D')\n",
    "print(e1.No_of_Employee)\n",
    "print(e4.No_of_Employee)"
   ]
  },
  {
   "cell_type": "code",
   "execution_count": null,
   "metadata": {},
   "outputs": [],
   "source": []
  }
 ],
 "metadata": {
  "kernelspec": {
   "display_name": "Python 3",
   "language": "python",
   "name": "python3"
  },
  "language_info": {
   "codemirror_mode": {
    "name": "ipython",
    "version": 3
   },
   "file_extension": ".py",
   "mimetype": "text/x-python",
   "name": "python",
   "nbconvert_exporter": "python",
   "pygments_lexer": "ipython3",
   "version": "3.13.1"
  }
 },
 "nbformat": 4,
 "nbformat_minor": 2
}
