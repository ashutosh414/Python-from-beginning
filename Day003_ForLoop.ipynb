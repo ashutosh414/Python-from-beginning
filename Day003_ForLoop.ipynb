{
 "cells": [
  {
   "cell_type": "code",
   "execution_count": 8,
   "metadata": {},
   "outputs": [
    {
     "name": "stdout",
     "output_type": "stream",
     "text": [
      "0 a\n",
      "4 e\n",
      "10 i\n",
      "12 u\n",
      "13 o\n",
      "14 o\n",
      "0 a\n",
      "4 e\n",
      "10 i\n",
      "12 u\n",
      "13 o\n",
      "14 o\n",
      "a\n",
      "e\n",
      "i\n",
      "u\n",
      "o\n",
      "o\n"
     ]
    }
   ],
   "source": [
    "#take a string and print all the vowels\n",
    "\n",
    "data='abcdefdfhjiduoofdv'\n",
    "for i in range(0,len(data)):\n",
    "    if('a'==data[i] or 'e'==data[i] or 'i'==data[i] or 'o'==data[i] or 'u'==data[i]):\n",
    "        print(i,data[i])\n",
    "\n",
    "#method 2\n",
    "\n",
    "data='abcdefdfhjiduoofdv'\n",
    "for i in range(0,len(data)):\n",
    "    if(data[i] in 'aeiou'):\n",
    "        print(i,data[i])\n",
    "\n",
    "#method 3\n",
    "\n",
    "for i in data:\n",
    "    if(i in 'aeiou'):\n",
    "        print(i)"
   ]
  },
  {
   "cell_type": "code",
   "execution_count": 14,
   "metadata": {},
   "outputs": [
    {
     "name": "stdout",
     "output_type": "stream",
     "text": [
      "total length =  18\n",
      "consonent =  12\n",
      "vovel =  6\n"
     ]
    }
   ],
   "source": [
    "#take a string and count all the consonent and vowel\n",
    "\n",
    "data='abcdefdfhjiduoofdv'\n",
    "countV=0\n",
    "countC=0\n",
    "for i in data:\n",
    "    if(i not in 'aeiou'):\n",
    "        countC+=1\n",
    "    else:\n",
    "        countV+=1\n",
    "print('total length = ',len(data))\n",
    "print('consonent = ',countC)\n",
    "print('vowel = ',countV)"
   ]
  },
  {
   "cell_type": "code",
   "execution_count": 23,
   "metadata": {},
   "outputs": [
    {
     "name": "stdout",
     "output_type": "stream",
     "text": [
      "abcdefdfh"
     ]
    }
   ],
   "source": [
    "for i in range(0,len(data)//2):\n",
    "    print(data[i],end='')\n",
    "\n",
    "print(data[:len(data)//2])"
   ]
  },
  {
   "cell_type": "code",
   "execution_count": 28,
   "metadata": {},
   "outputs": [
    {
     "name": "stdout",
     "output_type": "stream",
     "text": [
      "1,2,4,5,7,8,10,11,13,14,16,17,19,"
     ]
    }
   ],
   "source": [
    "for i in range(1,20):\n",
    "    if(i%3==0):\n",
    "        continue\n",
    "    else:\n",
    "        print(i,end=',')"
   ]
  },
  {
   "cell_type": "code",
   "execution_count": 46,
   "metadata": {},
   "outputs": [
    {
     "name": "stdout",
     "output_type": "stream",
     "text": [
      "Prime Number\n"
     ]
    }
   ],
   "source": [
    "#Check the number is Prime Number or Not\n",
    "data=7\n",
    "flag=0\n",
    "for i in range(2,data):\n",
    "    if(data%i==0):\n",
    "        flag=1\n",
    "        break\n",
    "if(flag):\n",
    "    print('Not a Prime Number')\n",
    "else:\n",
    "    print('Prime Number')"
   ]
  },
  {
   "cell_type": "code",
   "execution_count": 55,
   "metadata": {},
   "outputs": [
    {
     "name": "stdout",
     "output_type": "stream",
     "text": [
      "Prime Number: 2\n",
      "Prime Number: 3\n",
      "Prime Number: 5\n",
      "Prime Number: 7\n",
      "Prime Number: 11\n",
      "Prime Number: 13\n",
      "Prime Number: 17\n",
      "Prime Number: 19\n",
      "Prime Number: 23\n",
      "Prime Number: 29\n"
     ]
    }
   ],
   "source": [
    "#find 10 prime number\n",
    "data=2\n",
    "flag=0\n",
    "count=0\n",
    "limit=10\n",
    "while (count<limit):\n",
    "    flag=0\n",
    "    for i in range(2,data):\n",
    "        if(data%i==0):\n",
    "            flag=1\n",
    "            break\n",
    "    if(flag==0):\n",
    "        count+=1\n",
    "        print('Prime Number:',data)\n",
    "    data+=1"
   ]
  },
  {
   "cell_type": "code",
   "execution_count": 44,
   "metadata": {},
   "outputs": [
    {
     "name": "stdout",
     "output_type": "stream",
     "text": [
      "3\n",
      "6\n",
      "9\n",
      "12\n",
      "15\n"
     ]
    }
   ],
   "source": [
    "#to find starting 5 divisible by 3\n",
    "count=0\n",
    "num=3\n",
    "while(count<5):\n",
    "    if(num%3==0):\n",
    "        print(num)\n",
    "        count+=1\n",
    "    num+=1\n"
   ]
  }
 ],
 "metadata": {
  "kernelspec": {
   "display_name": "Python 3",
   "language": "python",
   "name": "python3"
  },
  "language_info": {
   "codemirror_mode": {
    "name": "ipython",
    "version": 3
   },
   "file_extension": ".py",
   "mimetype": "text/x-python",
   "name": "python",
   "nbconvert_exporter": "python",
   "pygments_lexer": "ipython3",
   "version": "3.13.1"
  }
 },
 "nbformat": 4,
 "nbformat_minor": 2
}
