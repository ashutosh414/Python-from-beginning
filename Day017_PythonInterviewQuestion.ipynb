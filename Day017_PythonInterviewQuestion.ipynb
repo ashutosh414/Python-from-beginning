{
 "cells": [
  {
   "cell_type": "markdown",
   "metadata": {},
   "source": [
    "1. What is __init__?\n",
    "__init__ is a contructor method in Python and is automatically called to allocate memory when a new object/instance is created. All classes have a __init__ method associated with them. It helps in distinguishing methods and attributes of a class from local variables."
   ]
  },
  {
   "cell_type": "markdown",
   "metadata": {},
   "source": [
    "2. What is the difference between Python Arrays and lists?\n",
    "Arrays in python can only contain elements of same data types i.e., data type of array should be homogeneous. It is a thin wrapper around C language arrays and consumes far less memory than lists.\n",
    "Lists in python can contain elements of different data types i.e., data type of lists can be heterogeneous. It has the disadvantage of consuming large memory.\n",
    "\n",
    "\n",
    "\n",
    "import array\n",
    "a = array.array('i', [1, 2, 3])\n",
    "for i in a:\n",
    "    print(i, end=' ')    #OUTPUT: 1 2 3\n",
    "a = array.array('i', [1, 2, 'string'])    #OUTPUT: TypeError: an integer is required (got type str)\n",
    "a = [1, 2, 'string']\n",
    "for i in a:\n",
    "   print(i, end=' ')    #OUTPUT: 1 2 string"
   ]
  },
  {
   "cell_type": "markdown",
   "metadata": {},
   "source": [
    "3. Explain how can you make a Python Script executable on Unix?\n",
    "Script file must begin with #!/usr/bin/env python"
   ]
  },
  {
   "cell_type": "markdown",
   "metadata": {},
   "source": [
    "4. What is slicing in Python?\n",
    "As the name suggests, ‘slicing’ is taking parts of.\n",
    "Syntax for slicing is [start : stop : step]\n",
    "start is the starting index from where to slice a list or tuple\n",
    "stop is the ending index or where to sop.\n",
    "step is the number of steps to jump.\n",
    "Default value for start is 0, stop is number of items, step is 1.\n",
    "Slicing can be done on strings, arrays, lists, and tuples.\n",
    "numbers = [1, 2, 3, 4, 5, 6, 7, 8, 9, 10]\n",
    "print(numbers[1 : : 2])  #output : [2, 4, 6, 8, 10]"
   ]
  },
  {
   "cell_type": "markdown",
   "metadata": {},
   "source": [
    "5. What is docstring in Python?\n",
    "Documentation string or docstring is a multiline string used to document a specific code segment.\n",
    "The docstring should describe what the function or method does."
   ]
  },
  {
   "cell_type": "markdown",
   "metadata": {},
   "source": [
    "6. What are unit tests in Python?\n",
    "Unit test is a unit testing framework of Python.\n",
    "Unit testing means testing different components of software separately. Can you think about why unit testing is important? Imagine a scenario, you are building software that uses three components namely A, B, and C. Now, suppose your software breaks at a point time. How will you find which component was responsible for breaking the software? Maybe it was component A that failed, which in turn failed component B, and this actually failed the software. There can be many such combinations.\n",
    "This is why it is necessary to test each and every component properly so that we know which component might be highly responsible for the failure of the software."
   ]
  },
  {
   "cell_type": "markdown",
   "metadata": {},
   "source": [
    "What is break, continue and pass in Python?\n",
    "\n",
    "Break\tThe break statement terminates the loop immediately and the control flows to the statement after the body of the loop.\n",
    "\n",
    "\n",
    "Continue\tThe continue statement terminates the current iteration of the statement, skips the rest of the code in the current iteration and the control flows to the next iteration of the loop.\n",
    "\n",
    "\n",
    "Pass\tAs explained above, the pass keyword in Python is generally used to fill up empty blocks and is similar to an empty statement represented by a semi-colon in languages such as Java, C++, Javascript, etc."
   ]
  },
  {
   "cell_type": "markdown",
   "metadata": {},
   "source": [
    "8. What is the use of self in Python?\n",
    "Self is used to represent the instance of the class. With this keyword, you can access the attributes and methods of the class in python. It binds the attributes with the given arguments. self is used in different places and often thought to be a keyword. But unlike in C++, self is not a keyword in Python."
   ]
  },
  {
   "cell_type": "markdown",
   "metadata": {},
   "source": [
    "9. What are global, protected and private attributes in Python?\n",
    "Global variables are public variables that are defined in the global scope. To use the variable in the global scope inside a function, we use the global keyword.\n",
    "Protected attributes are attributes defined with an underscore prefixed to their identifier eg. _sara. They can still be accessed and modified from outside the class they are defined in but a responsible developer should refrain from doing so.\n",
    "Private attributes are attributes with double underscore prefixed to their identifier eg. __ansh. They cannot be accessed or modified from the outside directly and will result in an AttributeError if such an attempt is made."
   ]
  },
  {
   "cell_type": "markdown",
   "metadata": {},
   "source": []
  },
  {
   "cell_type": "code",
   "execution_count": 1,
   "metadata": {},
   "outputs": [
    {
     "ename": "SyntaxError",
     "evalue": "invalid syntax (2132374906.py, line 1)",
     "output_type": "error",
     "traceback": [
      "\u001b[1;36m  Cell \u001b[1;32mIn[1], line 1\u001b[1;36m\u001b[0m\n\u001b[1;33m    int i =10\u001b[0m\n\u001b[1;37m        ^\u001b[0m\n\u001b[1;31mSyntaxError\u001b[0m\u001b[1;31m:\u001b[0m invalid syntax\n"
     ]
    }
   ],
   "source": [
    "# python is a high-level programming language that is widely used in \n",
    "# the field of data science and machine learning. \n",
    "# It is known for its simplicity and readability,\n",
    "#  making it an ideal language for beginners to learn.\n",
    "#  Python has a large number of libraries and frameworks that make it\n",
    "# easy to perform complex tasks such as data analysis, visualization,\n",
    "# and machine learning. Some popular libraries for data science in\n",
    "# Python include NumPy, pandas, Matplotlib, and scikit-learn.\n",
    "# Python is also widely used in web development, automation, and\n",
    "# scientific computing. \n",
    "# Overall, Python is a versatile language that is well-suited\n",
    "# for a wide range of applications.\n",
    "# ```\n",
    "# ```python\n"
   ]
  },
  {
   "cell_type": "code",
   "execution_count": null,
   "metadata": {},
   "outputs": [],
   "source": [
    "frozenset1 = frozenset([1, 2, 3, 4, 5])"
   ]
  },
  {
   "cell_type": "code",
   "execution_count": 2,
   "metadata": {},
   "outputs": [
    {
     "data": {
      "text/plain": [
       "tuple"
      ]
     },
     "execution_count": 2,
     "metadata": {},
     "output_type": "execute_result"
    }
   ],
   "source": [
    "x=1,2,5,'hhell'\n",
    "type(x)"
   ]
  },
  {
   "cell_type": "code",
   "execution_count": 3,
   "metadata": {},
   "outputs": [
    {
     "name": "stdout",
     "output_type": "stream",
     "text": [
      "529344067295497451\n"
     ]
    }
   ],
   "source": [
    "my_tuple = (1, 2, 3)\n",
    "print(hash(my_tuple))"
   ]
  },
  {
   "cell_type": "code",
   "execution_count": 4,
   "metadata": {},
   "outputs": [
    {
     "name": "stdout",
     "output_type": "stream",
     "text": [
      "Tuple creation time: 0.05970900000829715\n",
      "List creation time: 0.40063150000059977\n"
     ]
    }
   ],
   "source": [
    "import timeit\n",
    "\n",
    "# Timing tuple creation\n",
    "tuple_time = timeit.timeit(\"(1, 2, 3, 4, 5)\", number=1000000)\n",
    "\n",
    "# Timing list creation\n",
    "list_time = timeit.timeit(\"[1, 2, 3, 4, 5]\", number=1000000)\n",
    "\n",
    "print(f\"Tuple creation time: {tuple_time}\")\n",
    "print(f\"List creation time: {list_time}\")"
   ]
  },
  {
   "cell_type": "code",
   "execution_count": 6,
   "metadata": {},
   "outputs": [
    {
     "name": "stdout",
     "output_type": "stream",
     "text": [
      "10\n",
      "20\n",
      "abc\n",
      "(10, 20, 'abc') <class 'tuple'>\n"
     ]
    }
   ],
   "source": [
    "def func(*data):\n",
    "    print(data[0])\n",
    "    print(data[1])\n",
    "    print(data[2])\n",
    "    print(data, type(data))\n",
    "\n",
    "# func()\n",
    "# func(10,20)\n",
    "func(10,20,'abc')"
   ]
  },
  {
   "cell_type": "code",
   "execution_count": 7,
   "metadata": {},
   "outputs": [
    {
     "name": "stdout",
     "output_type": "stream",
     "text": [
      "0\n",
      "1\n",
      "2\n",
      "3\n",
      "4\n",
      "5\n",
      "6\n",
      "7\n",
      "8\n",
      "9\n",
      "9\n"
     ]
    }
   ],
   "source": [
    "for i in range(10):\n",
    "    print(i)\n",
    "print(i)"
   ]
  },
  {
   "cell_type": "code",
   "execution_count": 10,
   "metadata": {},
   "outputs": [
    {
     "name": "stdout",
     "output_type": "stream",
     "text": [
      "[1, 2, 3, 4, 5, 6, 7, 8, 9]\n"
     ]
    }
   ],
   "source": [
    "# Flattening a Multi-Dimention list\n",
    "mylist=[[1,2,3],[4,5,6],[7,8,9]]\n",
    "y=[j for x in mylist for j in x]\n",
    "print(y)"
   ]
  },
  {
   "cell_type": "code",
   "execution_count": 13,
   "metadata": {},
   "outputs": [
    {
     "data": {
      "text/plain": [
       "int"
      ]
     },
     "execution_count": 13,
     "metadata": {},
     "output_type": "execute_result"
    }
   ],
   "source": [
    "mul = lambda a, b : a * b\n",
    "y=mul(2, 5)\n",
    "type(y)"
   ]
  },
  {
   "cell_type": "code",
   "execution_count": 27,
   "metadata": {},
   "outputs": [
    {
     "ename": "StopIteration",
     "evalue": "",
     "output_type": "error",
     "traceback": [
      "\u001b[1;31m---------------------------------------------------------------------------\u001b[0m",
      "\u001b[1;31mStopIteration\u001b[0m                             Traceback (most recent call last)",
      "Cell \u001b[1;32mIn[27], line 8\u001b[0m\n\u001b[0;32m      6\u001b[0m ot_list\u001b[38;5;241m=\u001b[39m\u001b[38;5;28mlist\u001b[39m(out)\n\u001b[0;32m      7\u001b[0m \u001b[38;5;28;01mfor\u001b[39;00m i \u001b[38;5;129;01min\u001b[39;00m \u001b[38;5;28mrange\u001b[39m(\u001b[38;5;28mlen\u001b[39m(y)):\n\u001b[1;32m----> 8\u001b[0m     \u001b[38;5;28mprint\u001b[39m(\u001b[38;5;28;43mnext\u001b[39;49m\u001b[43m(\u001b[49m\u001b[43mout\u001b[49m\u001b[43m)\u001b[49m)\n\u001b[0;32m     10\u001b[0m \u001b[38;5;28mprint\u001b[39m(\u001b[38;5;124m'\u001b[39m\u001b[38;5;124mout_list:\u001b[39m\u001b[38;5;124m'\u001b[39m,ot_list)\n",
      "\u001b[1;31mStopIteration\u001b[0m: "
     ]
    }
   ],
   "source": [
    "def func(num):\n",
    "    return num*5\n",
    "\n",
    "y=[10,29,67]\n",
    "out=map(func, y)\n",
    "ot_list=list(out)\n",
    "for i in range(len(y)):\n",
    "    print(next(out))\n",
    "\n",
    "print('out_list:',ot_list)"
   ]
  },
  {
   "cell_type": "code",
   "execution_count": 37,
   "metadata": {},
   "outputs": [
    {
     "name": "stdout",
     "output_type": "stream",
     "text": [
      "Help on method_descriptor:\n",
      "\n",
      "update(self, /, *others) unbound builtins.set method\n",
      "    Update the set, adding elements from all others.\n",
      "\n"
     ]
    }
   ],
   "source": [
    "help(set.update)"
   ]
  },
  {
   "cell_type": "code",
   "execution_count": 1,
   "metadata": {},
   "outputs": [
    {
     "name": "stdout",
     "output_type": "stream",
     "text": [
      "Hello My name is Ashutosh.I live in India. <class 'str'>\n"
     ]
    }
   ],
   "source": [
    "fileobj=open('Day014_readfile.txt','r')\n",
    "fileobj_data=fileobj.read()\n",
    "print(fileobj_data,type(fileobj_data))\n",
    "fileobj.close()"
   ]
  },
  {
   "cell_type": "code",
   "execution_count": 44,
   "metadata": {},
   "outputs": [
    {
     "name": "stdout",
     "output_type": "stream",
     "text": [
      "[2, 4, 6] <class 'filter'>\n"
     ]
    }
   ],
   "source": [
    "y=[1,2,3,4,5,6]\n",
    "output= filter(lambda num :num%2==0 , y)\n",
    "print(list(output),type(output))"
   ]
  },
  {
   "cell_type": "code",
   "execution_count": 5,
   "metadata": {},
   "outputs": [
    {
     "name": "stdout",
     "output_type": "stream",
     "text": [
      "****\n",
      "-*-*\n",
      "--**\n",
      "---*\n"
     ]
    }
   ],
   "source": [
    "n=4\n",
    "for i in range(0,n):\n",
    "    for j in range(0,i):\n",
    "        print('-',end='')\n",
    "    for k in range(i,n):\n",
    "        if k==n-1 or k==i or i==0:\n",
    "            print('*',end='')\n",
    "        else:\n",
    "            print('-',end='')\n",
    "    print('')"
   ]
  },
  {
   "cell_type": "code",
   "execution_count": 7,
   "metadata": {},
   "outputs": [
    {
     "name": "stdout",
     "output_type": "stream",
     "text": [
      "1 2 3 4 \n",
      " 2 3 4 \n",
      "  3 4 \n",
      "   4 \n"
     ]
    }
   ],
   "source": [
    "for i in range(1,n+1):\n",
    "    for k in range(1,n+1):\n",
    "        if k>=i:\n",
    "            print(k,end=' ')\n",
    "        else:\n",
    "            print(' ',end='')\n",
    "    print('')"
   ]
  },
  {
   "cell_type": "code",
   "execution_count": 16,
   "metadata": {},
   "outputs": [
    {
     "name": "stdout",
     "output_type": "stream",
     "text": [
      "{'a': 3, 'ab': 2, 'aba': 2, 'abab': 1, 'ababa': 1, 'b': 2, 'ba': 2, 'bab': 1, 'baba': 1}\n"
     ]
    }
   ],
   "source": [
    "str='ababa'\n",
    "len1,mydict=len(str),{}\n",
    "for i in range(len1):\n",
    "    x=str[i]\n",
    "    if x in mydict:\n",
    "        mydict[x]+=1\n",
    "    else:\n",
    "        mydict[x]=1\n",
    "    for j in range(i+1,len1):\n",
    "        y=str[i:j+1]\n",
    "        if y in mydict:\n",
    "            mydict[y]+=1\n",
    "        else:\n",
    "            mydict[y]=1\n",
    "\n",
    "print(mydict)"
   ]
  },
  {
   "cell_type": "code",
   "execution_count": 18,
   "metadata": {},
   "outputs": [
    {
     "name": "stdout",
     "output_type": "stream",
     "text": [
      "{141: True}\n"
     ]
    }
   ],
   "source": [
    "# palindrom check\n",
    "def func(num):\n",
    "    copynum=num\n",
    "    output=0\n",
    "    while num>0:\n",
    "        output=output*10+num%10\n",
    "        num=num//10\n",
    "    mydict={}\n",
    "\n",
    "    if copynum==output:\n",
    "        mydict[copynum]=True\n",
    "    else:\n",
    "        mydict[copynum]=False\n",
    "    return mydict\n",
    "    \n",
    "num=141\n",
    "output=func(num)\n",
    "print(output)"
   ]
  },
  {
   "cell_type": "code",
   "execution_count": 30,
   "metadata": {},
   "outputs": [
    {
     "name": "stdout",
     "output_type": "stream",
     "text": [
      "a\n"
     ]
    }
   ],
   "source": [
    "# difference between generator and funtions   \n",
    "# Generator function contains one or more yield statement.\n",
    "# When called, it returns an object (iterator) but does not start execution\n",
    "# immediately.\n",
    "# Methods like __iter__() and __next__() are implemented automatically.\n",
    "# Once the function yields, the function is paused and the control is transferred\n",
    "# to the caller.\n",
    "# Local variables and their states are remembered between successive calls.\n",
    "# Finally, when the function terminates, StopIteration is raised automatically\n",
    "# on further calls.\n",
    "# Here is an example to illustrate all of the points stated above.\n",
    "# A simple generator function\n",
    "def my_gen():\n",
    "    n = 1\n",
    "    print('This is printed first')\n",
    "    # Generator function contains yield statements\n",
    "    yield n\n",
    "\n",
    "    n += 1\n",
    "    print('This is printed second')\n",
    "    yield n\n",
    "\n",
    "    n += 1\n",
    "    print('This is printed at last')\n",
    "    yield n\n",
    "print(chr(97))\n"
   ]
  },
  {
   "cell_type": "code",
   "execution_count": null,
   "metadata": {},
   "outputs": [],
   "source": []
  }
 ],
 "metadata": {
  "kernelspec": {
   "display_name": "Python 3",
   "language": "python",
   "name": "python3"
  },
  "language_info": {
   "codemirror_mode": {
    "name": "ipython",
    "version": 3
   },
   "file_extension": ".py",
   "mimetype": "text/x-python",
   "name": "python",
   "nbconvert_exporter": "python",
   "pygments_lexer": "ipython3",
   "version": "3.13.1"
  }
 },
 "nbformat": 4,
 "nbformat_minor": 2
}
