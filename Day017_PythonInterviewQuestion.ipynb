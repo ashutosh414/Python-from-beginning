{
 "cells": [
  {
   "cell_type": "markdown",
   "metadata": {},
   "source": [
    "1. What is __init__?\n",
    "__init__ is a contructor method in Python and is automatically called to allocate memory when a new object/instance is created. All classes have a __init__ method associated with them. It helps in distinguishing methods and attributes of a class from local variables."
   ]
  },
  {
   "cell_type": "markdown",
   "metadata": {},
   "source": [
    "2. What is the difference between Python Arrays and lists?\n",
    "Arrays in python can only contain elements of same data types i.e., data type of array should be homogeneous. It is a thin wrapper around C language arrays and consumes far less memory than lists.\n",
    "Lists in python can contain elements of different data types i.e., data type of lists can be heterogeneous. It has the disadvantage of consuming large memory.\n",
    "\n",
    "\n",
    "\n",
    "import array\n",
    "a = array.array('i', [1, 2, 3])\n",
    "for i in a:\n",
    "    print(i, end=' ')    #OUTPUT: 1 2 3\n",
    "a = array.array('i', [1, 2, 'string'])    #OUTPUT: TypeError: an integer is required (got type str)\n",
    "a = [1, 2, 'string']\n",
    "for i in a:\n",
    "   print(i, end=' ')    #OUTPUT: 1 2 string"
   ]
  },
  {
   "cell_type": "markdown",
   "metadata": {},
   "source": [
    "3. Explain how can you make a Python Script executable on Unix?\n",
    "Script file must begin with #!/usr/bin/env python"
   ]
  },
  {
   "cell_type": "markdown",
   "metadata": {},
   "source": [
    "4. What is slicing in Python?\n",
    "As the name suggests, ‘slicing’ is taking parts of.\n",
    "Syntax for slicing is [start : stop : step]\n",
    "start is the starting index from where to slice a list or tuple\n",
    "stop is the ending index or where to sop.\n",
    "step is the number of steps to jump.\n",
    "Default value for start is 0, stop is number of items, step is 1.\n",
    "Slicing can be done on strings, arrays, lists, and tuples.\n",
    "numbers = [1, 2, 3, 4, 5, 6, 7, 8, 9, 10]\n",
    "print(numbers[1 : : 2])  #output : [2, 4, 6, 8, 10]"
   ]
  },
  {
   "cell_type": "markdown",
   "metadata": {},
   "source": [
    "5. What is docstring in Python?\n",
    "Documentation string or docstring is a multiline string used to document a specific code segment.\n",
    "The docstring should describe what the function or method does."
   ]
  },
  {
   "cell_type": "markdown",
   "metadata": {},
   "source": [
    "6. What are unit tests in Python?\n",
    "Unit test is a unit testing framework of Python.\n",
    "Unit testing means testing different components of software separately. Can you think about why unit testing is important? Imagine a scenario, you are building software that uses three components namely A, B, and C. Now, suppose your software breaks at a point time. How will you find which component was responsible for breaking the software? Maybe it was component A that failed, which in turn failed component B, and this actually failed the software. There can be many such combinations.\n",
    "This is why it is necessary to test each and every component properly so that we know which component might be highly responsible for the failure of the software."
   ]
  },
  {
   "cell_type": "markdown",
   "metadata": {},
   "source": [
    "What is break, continue and pass in Python?\n",
    "\n",
    "Break\tThe break statement terminates the loop immediately and the control flows to the statement after the body of the loop.\n",
    "\n",
    "\n",
    "Continue\tThe continue statement terminates the current iteration of the statement, skips the rest of the code in the current iteration and the control flows to the next iteration of the loop.\n",
    "\n",
    "\n",
    "Pass\tAs explained above, the pass keyword in Python is generally used to fill up empty blocks and is similar to an empty statement represented by a semi-colon in languages such as Java, C++, Javascript, etc."
   ]
  },
  {
   "cell_type": "markdown",
   "metadata": {},
   "source": [
    "8. What is the use of self in Python?\n",
    "Self is used to represent the instance of the class. With this keyword, you can access the attributes and methods of the class in python. It binds the attributes with the given arguments. self is used in different places and often thought to be a keyword. But unlike in C++, self is not a keyword in Python."
   ]
  },
  {
   "cell_type": "markdown",
   "metadata": {},
   "source": [
    "9. What are global, protected and private attributes in Python?\n",
    "Global variables are public variables that are defined in the global scope. To use the variable in the global scope inside a function, we use the global keyword.\n",
    "Protected attributes are attributes defined with an underscore prefixed to their identifier eg. _sara. They can still be accessed and modified from outside the class they are defined in but a responsible developer should refrain from doing so.\n",
    "Private attributes are attributes with double underscore prefixed to their identifier eg. __ansh. They cannot be accessed or modified from the outside directly and will result in an AttributeError if such an attempt is made."
   ]
  },
  {
   "cell_type": "markdown",
   "metadata": {},
   "source": []
  }
 ],
 "metadata": {
  "language_info": {
   "name": "python"
  }
 },
 "nbformat": 4,
 "nbformat_minor": 2
}
